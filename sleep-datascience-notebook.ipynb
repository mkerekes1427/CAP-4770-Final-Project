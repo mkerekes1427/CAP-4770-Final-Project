{
 "cells": [
  {
   "cell_type": "code",
   "execution_count": 1,
   "id": "7ecf31ce",
   "metadata": {
    "_cell_guid": "b1076dfc-b9ad-4769-8c92-a6c4dae69d19",
    "_uuid": "8f2839f25d086af736a60e9eeb907d3b93b6e0e5",
    "execution": {
     "iopub.execute_input": "2022-03-28T23:45:20.735358Z",
     "iopub.status.busy": "2022-03-28T23:45:20.734671Z",
     "iopub.status.idle": "2022-03-28T23:45:21.723496Z",
     "shell.execute_reply": "2022-03-28T23:45:21.722561Z",
     "shell.execute_reply.started": "2022-03-28T23:20:32.361619Z"
    },
    "papermill": {
     "duration": 1.038348,
     "end_time": "2022-03-28T23:45:21.723692",
     "exception": false,
     "start_time": "2022-03-28T23:45:20.685344",
     "status": "completed"
    },
    "tags": []
   },
   "outputs": [
    {
     "name": "stdout",
     "output_type": "stream",
     "text": [
      "/kaggle/input/human-stress-detection-in-and-through-sleep/SaYoPillow.csv\n",
      "/kaggle/input/human-stress-detection-in-and-through-sleep/IEEE-TCE_2020-08-0175_SaYoPillow.pdf\n",
      "/kaggle/input/human-stress-detection-in-and-through-sleep/readme.docx\n"
     ]
    }
   ],
   "source": [
    "# This Python 3 environment comes with many helpful analytics libraries installed\n",
    "# It is defined by the kaggle/python Docker image: https://github.com/kaggle/docker-python\n",
    "# For example, here's several helpful packages to load\n",
    "\n",
    "import time\n",
    "import warnings\n",
    "import numpy as np # linear algebra\n",
    "import pandas as pd # data processing, CSV file I/O (e.g. pd.read_csv)\n",
    "import seaborn as sns\n",
    "import matplotlib.pyplot as plt\n",
    "\n",
    "# Input data files are available in the read-only \"../input/\" directory\n",
    "# For example, running this (by clicking run or pressing Shift+Enter) will list all files under the input directory\n",
    "\n",
    "import os\n",
    "for dirname, _, filenames in os.walk('/kaggle/input'):\n",
    "    for filename in filenames:\n",
    "        print(os.path.join(dirname, filename))\n",
    "\n",
    "# You can write up to 20GB to the current directory (/kaggle/working/) that gets preserved as output when you create a version using \"Save & Run All\" \n",
    "# You can also write temporary files to /kaggle/temp/, but they won't be saved outside of the current session\n",
    "\n",
    "warnings.filterwarnings(\"ignore\")"
   ]
  },
  {
   "cell_type": "markdown",
   "id": "41b3f511",
   "metadata": {
    "papermill": {
     "duration": 0.036613,
     "end_time": "2022-03-28T23:45:21.797049",
     "exception": false,
     "start_time": "2022-03-28T23:45:21.760436",
     "status": "completed"
    },
    "tags": []
   },
   "source": [
    "# Read Data in and do head"
   ]
  },
  {
   "cell_type": "code",
   "execution_count": 2,
   "id": "0c589a3a",
   "metadata": {
    "execution": {
     "iopub.execute_input": "2022-03-28T23:45:21.877303Z",
     "iopub.status.busy": "2022-03-28T23:45:21.876523Z",
     "iopub.status.idle": "2022-03-28T23:45:21.916893Z",
     "shell.execute_reply": "2022-03-28T23:45:21.917430Z",
     "shell.execute_reply.started": "2022-03-28T23:20:32.522148Z"
    },
    "papermill": {
     "duration": 0.082937,
     "end_time": "2022-03-28T23:45:21.917596",
     "exception": false,
     "start_time": "2022-03-28T23:45:21.834659",
     "status": "completed"
    },
    "tags": []
   },
   "outputs": [
    {
     "data": {
      "text/html": [
       "<div>\n",
       "<style scoped>\n",
       "    .dataframe tbody tr th:only-of-type {\n",
       "        vertical-align: middle;\n",
       "    }\n",
       "\n",
       "    .dataframe tbody tr th {\n",
       "        vertical-align: top;\n",
       "    }\n",
       "\n",
       "    .dataframe thead th {\n",
       "        text-align: right;\n",
       "    }\n",
       "</style>\n",
       "<table border=\"1\" class=\"dataframe\">\n",
       "  <thead>\n",
       "    <tr style=\"text-align: right;\">\n",
       "      <th></th>\n",
       "      <th>sr</th>\n",
       "      <th>rr</th>\n",
       "      <th>t</th>\n",
       "      <th>lm</th>\n",
       "      <th>bo</th>\n",
       "      <th>rem</th>\n",
       "      <th>sr.1</th>\n",
       "      <th>hr</th>\n",
       "      <th>sl</th>\n",
       "    </tr>\n",
       "  </thead>\n",
       "  <tbody>\n",
       "    <tr>\n",
       "      <th>0</th>\n",
       "      <td>93.80</td>\n",
       "      <td>25.680</td>\n",
       "      <td>91.840</td>\n",
       "      <td>16.600</td>\n",
       "      <td>89.840</td>\n",
       "      <td>99.60</td>\n",
       "      <td>1.840</td>\n",
       "      <td>74.20</td>\n",
       "      <td>3</td>\n",
       "    </tr>\n",
       "    <tr>\n",
       "      <th>1</th>\n",
       "      <td>91.64</td>\n",
       "      <td>25.104</td>\n",
       "      <td>91.552</td>\n",
       "      <td>15.880</td>\n",
       "      <td>89.552</td>\n",
       "      <td>98.88</td>\n",
       "      <td>1.552</td>\n",
       "      <td>72.76</td>\n",
       "      <td>3</td>\n",
       "    </tr>\n",
       "    <tr>\n",
       "      <th>2</th>\n",
       "      <td>60.00</td>\n",
       "      <td>20.000</td>\n",
       "      <td>96.000</td>\n",
       "      <td>10.000</td>\n",
       "      <td>95.000</td>\n",
       "      <td>85.00</td>\n",
       "      <td>7.000</td>\n",
       "      <td>60.00</td>\n",
       "      <td>1</td>\n",
       "    </tr>\n",
       "    <tr>\n",
       "      <th>3</th>\n",
       "      <td>85.76</td>\n",
       "      <td>23.536</td>\n",
       "      <td>90.768</td>\n",
       "      <td>13.920</td>\n",
       "      <td>88.768</td>\n",
       "      <td>96.92</td>\n",
       "      <td>0.768</td>\n",
       "      <td>68.84</td>\n",
       "      <td>3</td>\n",
       "    </tr>\n",
       "    <tr>\n",
       "      <th>4</th>\n",
       "      <td>48.12</td>\n",
       "      <td>17.248</td>\n",
       "      <td>97.872</td>\n",
       "      <td>6.496</td>\n",
       "      <td>96.248</td>\n",
       "      <td>72.48</td>\n",
       "      <td>8.248</td>\n",
       "      <td>53.12</td>\n",
       "      <td>0</td>\n",
       "    </tr>\n",
       "  </tbody>\n",
       "</table>\n",
       "</div>"
      ],
      "text/plain": [
       "      sr      rr       t      lm      bo    rem   sr.1     hr  sl\n",
       "0  93.80  25.680  91.840  16.600  89.840  99.60  1.840  74.20   3\n",
       "1  91.64  25.104  91.552  15.880  89.552  98.88  1.552  72.76   3\n",
       "2  60.00  20.000  96.000  10.000  95.000  85.00  7.000  60.00   1\n",
       "3  85.76  23.536  90.768  13.920  88.768  96.92  0.768  68.84   3\n",
       "4  48.12  17.248  97.872   6.496  96.248  72.48  8.248  53.12   0"
      ]
     },
     "execution_count": 2,
     "metadata": {},
     "output_type": "execute_result"
    }
   ],
   "source": [
    "np.random.seed(42)\n",
    "dataset = pd.read_csv(\"../input/human-stress-detection-in-and-through-sleep/SaYoPillow.csv\")\n",
    "\n",
    "dataset.head()"
   ]
  },
  {
   "cell_type": "markdown",
   "id": "1874c9cf",
   "metadata": {
    "papermill": {
     "duration": 0.038073,
     "end_time": "2022-03-28T23:45:21.993919",
     "exception": false,
     "start_time": "2022-03-28T23:45:21.955846",
     "status": "completed"
    },
    "tags": []
   },
   "source": [
    "# Change names of columns\n"
   ]
  },
  {
   "cell_type": "code",
   "execution_count": 3,
   "id": "278da350",
   "metadata": {
    "execution": {
     "iopub.execute_input": "2022-03-28T23:45:22.075903Z",
     "iopub.status.busy": "2022-03-28T23:45:22.075213Z",
     "iopub.status.idle": "2022-03-28T23:45:22.096541Z",
     "shell.execute_reply": "2022-03-28T23:45:22.095901Z",
     "shell.execute_reply.started": "2022-03-28T23:20:32.648352Z"
    },
    "papermill": {
     "duration": 0.062528,
     "end_time": "2022-03-28T23:45:22.096677",
     "exception": false,
     "start_time": "2022-03-28T23:45:22.034149",
     "status": "completed"
    },
    "tags": []
   },
   "outputs": [
    {
     "data": {
      "text/html": [
       "<div>\n",
       "<style scoped>\n",
       "    .dataframe tbody tr th:only-of-type {\n",
       "        vertical-align: middle;\n",
       "    }\n",
       "\n",
       "    .dataframe tbody tr th {\n",
       "        vertical-align: top;\n",
       "    }\n",
       "\n",
       "    .dataframe thead th {\n",
       "        text-align: right;\n",
       "    }\n",
       "</style>\n",
       "<table border=\"1\" class=\"dataframe\">\n",
       "  <thead>\n",
       "    <tr style=\"text-align: right;\">\n",
       "      <th></th>\n",
       "      <th>Snoring Rate</th>\n",
       "      <th>Respiration Rate</th>\n",
       "      <th>Body Temp</th>\n",
       "      <th>Limb Movement</th>\n",
       "      <th>Blood Oxygen</th>\n",
       "      <th>Eye Movement</th>\n",
       "      <th>Sleeping Hours</th>\n",
       "      <th>Heart Rate</th>\n",
       "      <th>Stress Level</th>\n",
       "    </tr>\n",
       "  </thead>\n",
       "  <tbody>\n",
       "    <tr>\n",
       "      <th>0</th>\n",
       "      <td>93.80</td>\n",
       "      <td>25.680</td>\n",
       "      <td>91.840</td>\n",
       "      <td>16.600</td>\n",
       "      <td>89.840</td>\n",
       "      <td>99.60</td>\n",
       "      <td>1.840</td>\n",
       "      <td>74.20</td>\n",
       "      <td>3</td>\n",
       "    </tr>\n",
       "    <tr>\n",
       "      <th>1</th>\n",
       "      <td>91.64</td>\n",
       "      <td>25.104</td>\n",
       "      <td>91.552</td>\n",
       "      <td>15.880</td>\n",
       "      <td>89.552</td>\n",
       "      <td>98.88</td>\n",
       "      <td>1.552</td>\n",
       "      <td>72.76</td>\n",
       "      <td>3</td>\n",
       "    </tr>\n",
       "    <tr>\n",
       "      <th>2</th>\n",
       "      <td>60.00</td>\n",
       "      <td>20.000</td>\n",
       "      <td>96.000</td>\n",
       "      <td>10.000</td>\n",
       "      <td>95.000</td>\n",
       "      <td>85.00</td>\n",
       "      <td>7.000</td>\n",
       "      <td>60.00</td>\n",
       "      <td>1</td>\n",
       "    </tr>\n",
       "    <tr>\n",
       "      <th>3</th>\n",
       "      <td>85.76</td>\n",
       "      <td>23.536</td>\n",
       "      <td>90.768</td>\n",
       "      <td>13.920</td>\n",
       "      <td>88.768</td>\n",
       "      <td>96.92</td>\n",
       "      <td>0.768</td>\n",
       "      <td>68.84</td>\n",
       "      <td>3</td>\n",
       "    </tr>\n",
       "    <tr>\n",
       "      <th>4</th>\n",
       "      <td>48.12</td>\n",
       "      <td>17.248</td>\n",
       "      <td>97.872</td>\n",
       "      <td>6.496</td>\n",
       "      <td>96.248</td>\n",
       "      <td>72.48</td>\n",
       "      <td>8.248</td>\n",
       "      <td>53.12</td>\n",
       "      <td>0</td>\n",
       "    </tr>\n",
       "  </tbody>\n",
       "</table>\n",
       "</div>"
      ],
      "text/plain": [
       "   Snoring Rate  Respiration Rate  Body Temp  Limb Movement  Blood Oxygen  \\\n",
       "0         93.80            25.680     91.840         16.600        89.840   \n",
       "1         91.64            25.104     91.552         15.880        89.552   \n",
       "2         60.00            20.000     96.000         10.000        95.000   \n",
       "3         85.76            23.536     90.768         13.920        88.768   \n",
       "4         48.12            17.248     97.872          6.496        96.248   \n",
       "\n",
       "   Eye Movement  Sleeping Hours  Heart Rate  Stress Level  \n",
       "0         99.60           1.840       74.20             3  \n",
       "1         98.88           1.552       72.76             3  \n",
       "2         85.00           7.000       60.00             1  \n",
       "3         96.92           0.768       68.84             3  \n",
       "4         72.48           8.248       53.12             0  "
      ]
     },
     "execution_count": 3,
     "metadata": {},
     "output_type": "execute_result"
    }
   ],
   "source": [
    "dataset = dataset.rename(columns={\"sr\" : \"Snoring Rate\", \"rr\" : \"Respiration Rate\", \"t\": \"Body Temp\", \"lm\" : \"Limb Movement\",\n",
    "                       \"bo\" : \"Blood Oxygen\", \"rem\" : \"Eye Movement\", \"sr.1\" : \"Sleeping Hours\", \"hr\" : \"Heart Rate\", \"sl\" : \"Stress Level\"})\n",
    "\n",
    "dataset.head()"
   ]
  },
  {
   "cell_type": "markdown",
   "id": "597d89c4",
   "metadata": {
    "papermill": {
     "duration": 0.038163,
     "end_time": "2022-03-28T23:45:22.172713",
     "exception": false,
     "start_time": "2022-03-28T23:45:22.134550",
     "status": "completed"
    },
    "tags": []
   },
   "source": [
    "# Show distribution of the categories"
   ]
  },
  {
   "cell_type": "code",
   "execution_count": 4,
   "id": "c04d4aee",
   "metadata": {
    "execution": {
     "iopub.execute_input": "2022-03-28T23:45:22.262378Z",
     "iopub.status.busy": "2022-03-28T23:45:22.261703Z",
     "iopub.status.idle": "2022-03-28T23:45:22.510306Z",
     "shell.execute_reply": "2022-03-28T23:45:22.510780Z",
     "shell.execute_reply.started": "2022-03-28T23:20:32.764789Z"
    },
    "papermill": {
     "duration": 0.300404,
     "end_time": "2022-03-28T23:45:22.510964",
     "exception": false,
     "start_time": "2022-03-28T23:45:22.210560",
     "status": "completed"
    },
    "tags": []
   },
   "outputs": [
    {
     "data": {
      "text/plain": [
       "Text(0, 0.5, 'Counts')"
      ]
     },
     "execution_count": 4,
     "metadata": {},
     "output_type": "execute_result"
    },
    {
     "data": {
      "image/png": "[encoded data removed]",
      "text/plain": [
       "<Figure size 432x432 with 1 Axes>"
      ]
     },
     "metadata": {
      "needs_background": "light"
     },
     "output_type": "display_data"
    }
   ],
   "source": [
    "stress_0 = dataset[dataset[\"Stress Level\"] == 0]\n",
    "stress_1 = dataset[dataset[\"Stress Level\"] == 1]\n",
    "stress_2 = dataset[dataset[\"Stress Level\"] == 2]\n",
    "stress_3 = dataset[dataset[\"Stress Level\"] == 3]\n",
    "stress_4 = dataset[dataset[\"Stress Level\"] == 4]\n",
    "\n",
    "stress_level_categories = [\"Level 0\", \"Level 1\", \"Level 2\", \"Level 3\", \"Level 4\"]\n",
    "\n",
    "stress_level_distribution = [len(stress_0), len(stress_1), len(stress_2), len(stress_3), len(stress_4)]\n",
    "\n",
    "plt.figure(figsize=[6, 6])\n",
    "sns.barplot(x=stress_level_categories, y=stress_level_distribution)\n",
    "\n",
    "plt.title(\"Stress Level Categories and Their Counts\")\n",
    "plt.ylabel(\"Counts\")"
   ]
  },
  {
   "cell_type": "markdown",
   "id": "aa60065c",
   "metadata": {
    "papermill": {
     "duration": 0.037482,
     "end_time": "2022-03-28T23:45:22.587121",
     "exception": false,
     "start_time": "2022-03-28T23:45:22.549639",
     "status": "completed"
    },
    "tags": []
   },
   "source": [
    "# Exploratory Data Analysis (plot average sleep for each category with seaborn barplot)"
   ]
  },
  {
   "cell_type": "code",
   "execution_count": 5,
   "id": "d8b2a245",
   "metadata": {
    "execution": {
     "iopub.execute_input": "2022-03-28T23:45:22.667549Z",
     "iopub.status.busy": "2022-03-28T23:45:22.666596Z",
     "iopub.status.idle": "2022-03-28T23:45:22.882996Z",
     "shell.execute_reply": "2022-03-28T23:45:22.883479Z",
     "shell.execute_reply.started": "2022-03-28T23:20:33.121758Z"
    },
    "papermill": {
     "duration": 0.258748,
     "end_time": "2022-03-28T23:45:22.883670",
     "exception": false,
     "start_time": "2022-03-28T23:45:22.624922",
     "status": "completed"
    },
    "tags": []
   },
   "outputs": [
    {
     "data": {
      "text/plain": [
       "Text(0, 0.5, 'Average Hours of Sleep')"
      ]
     },
     "execution_count": 5,
     "metadata": {},
     "output_type": "execute_result"
    },
    {
     "data": {
      "image/png": "[encoded data removed]",
      "text/plain": [
       "<Figure size 504x432 with 1 Axes>"
      ]
     },
     "metadata": {
      "needs_background": "light"
     },
     "output_type": "display_data"
    }
   ],
   "source": [
    "stress_0_sleep = np.mean(stress_0[\"Sleeping Hours\"])\n",
    "stress_1_sleep = np.mean(stress_1[\"Sleeping Hours\"])\n",
    "stress_2_sleep = np.mean(stress_2[\"Sleeping Hours\"])\n",
    "stress_3_sleep = np.mean(stress_3[\"Sleeping Hours\"])\n",
    "stress_4_sleep = np.mean(stress_4[\"Sleeping Hours\"])\n",
    "\n",
    "sleep_per_stress_level = [stress_0_sleep, stress_1_sleep, stress_2_sleep, stress_3_sleep, stress_4_sleep]\n",
    "\n",
    "plt.figure(figsize=[7, 6])\n",
    "plt.title(\"Average Hours Slept and Stress\")\n",
    "sns.barplot(x=stress_level_categories, y=sleep_per_stress_level)\n",
    "\n",
    "plt.ylabel(\"Average Hours of Sleep\")"
   ]
  },
  {
   "cell_type": "markdown",
   "id": "730a7460",
   "metadata": {
    "papermill": {
     "duration": 0.039604,
     "end_time": "2022-03-28T23:45:22.962813",
     "exception": false,
     "start_time": "2022-03-28T23:45:22.923209",
     "status": "completed"
    },
    "tags": []
   },
   "source": [
    "# Correlation heatmap sns.heatmap(df.corr())"
   ]
  },
  {
   "cell_type": "code",
   "execution_count": 6,
   "id": "ecd1bfb0",
   "metadata": {
    "execution": {
     "iopub.execute_input": "2022-03-28T23:45:23.046735Z",
     "iopub.status.busy": "2022-03-28T23:45:23.045794Z",
     "iopub.status.idle": "2022-03-28T23:45:23.771574Z",
     "shell.execute_reply": "2022-03-28T23:45:23.771040Z",
     "shell.execute_reply.started": "2022-03-28T23:20:33.363100Z"
    },
    "papermill": {
     "duration": 0.76828,
     "end_time": "2022-03-28T23:45:23.771708",
     "exception": false,
     "start_time": "2022-03-28T23:45:23.003428",
     "status": "completed"
    },
    "tags": []
   },
   "outputs": [
    {
     "data": {
      "text/plain": [
       "<AxesSubplot:>"
      ]
     },
     "execution_count": 6,
     "metadata": {},
     "output_type": "execute_result"
    },
    {
     "data": {
      "image/png": "[encoded data removed]",
      "text/plain": [
       "<Figure size 504x432 with 2 Axes>"
      ]
     },
     "metadata": {
      "needs_background": "light"
     },
     "output_type": "display_data"
    }
   ],
   "source": [
    "plt.figure(figsize=[7, 6])\n",
    "sns.heatmap(dataset.corr(), annot=True)"
   ]
  },
  {
   "cell_type": "markdown",
   "id": "54397f5a",
   "metadata": {
    "papermill": {
     "duration": 0.040934,
     "end_time": "2022-03-28T23:45:23.854740",
     "exception": false,
     "start_time": "2022-03-28T23:45:23.813806",
     "status": "completed"
    },
    "tags": []
   },
   "source": [
    "# Snoring rate, limb movement, and sleeping hours have the highest correlations, including both positive and negative. The paper mentioned snoring rate being an important feature to use."
   ]
  },
  {
   "cell_type": "code",
   "execution_count": 7,
   "id": "45767c30",
   "metadata": {
    "execution": {
     "iopub.execute_input": "2022-03-28T23:45:23.953402Z",
     "iopub.status.busy": "2022-03-28T23:45:23.952492Z",
     "iopub.status.idle": "2022-03-28T23:45:24.208957Z",
     "shell.execute_reply": "2022-03-28T23:45:24.209486Z",
     "shell.execute_reply.started": "2022-03-28T23:20:34.127089Z"
    },
    "papermill": {
     "duration": 0.31343,
     "end_time": "2022-03-28T23:45:24.209645",
     "exception": false,
     "start_time": "2022-03-28T23:45:23.896215",
     "status": "completed"
    },
    "tags": []
   },
   "outputs": [
    {
     "data": {
      "text/plain": [
       "<AxesSubplot:xlabel='Limb Movement', ylabel='Density'>"
      ]
     },
     "execution_count": 7,
     "metadata": {},
     "output_type": "execute_result"
    },
    {
     "data": {
      "image/png": "[encoded data removed]",
      "text/plain": [
       "<Figure size 504x432 with 1 Axes>"
      ]
     },
     "metadata": {
      "needs_background": "light"
     },
     "output_type": "display_data"
    }
   ],
   "source": [
    "plt.figure(figsize=(7, 6))\n",
    "sns.kdeplot(data=dataset, x=\"Limb Movement\", hue=\"Stress Level\")"
   ]
  },
  {
   "cell_type": "markdown",
   "id": "b6650130",
   "metadata": {
    "papermill": {
     "duration": 0.042391,
     "end_time": "2022-03-28T23:45:24.295684",
     "exception": false,
     "start_time": "2022-03-28T23:45:24.253293",
     "status": "completed"
    },
    "tags": []
   },
   "source": [
    "# KDEPLOT shows high limb movement equals high stress."
   ]
  },
  {
   "cell_type": "code",
   "execution_count": 8,
   "id": "688571e1",
   "metadata": {
    "execution": {
     "iopub.execute_input": "2022-03-28T23:45:24.384621Z",
     "iopub.status.busy": "2022-03-28T23:45:24.383682Z",
     "iopub.status.idle": "2022-03-28T23:45:24.535833Z",
     "shell.execute_reply": "2022-03-28T23:45:24.536346Z",
     "shell.execute_reply.started": "2022-03-28T23:20:34.440637Z"
    },
    "papermill": {
     "duration": 0.198397,
     "end_time": "2022-03-28T23:45:24.536544",
     "exception": false,
     "start_time": "2022-03-28T23:45:24.338147",
     "status": "completed"
    },
    "tags": []
   },
   "outputs": [
    {
     "data": {
      "text/plain": [
       "Text(0, 0.5, 'Body Temperature (F)')"
      ]
     },
     "execution_count": 8,
     "metadata": {},
     "output_type": "execute_result"
    },
    {
     "data": {
      "image/png": "[encoded data removed]",
      "text/plain": [
       "<Figure size 504x432 with 1 Axes>"
      ]
     },
     "metadata": {
      "needs_background": "light"
     },
     "output_type": "display_data"
    }
   ],
   "source": [
    "body_temps = [stress_0[\"Body Temp\"].mean(), stress_1[\"Body Temp\"].mean(), stress_2[\"Body Temp\"].mean(), stress_3[\"Body Temp\"].mean(), stress_4[\"Body Temp\"].mean()]\n",
    "\n",
    "\n",
    "plt.figure(figsize=[7, 6])\n",
    "plt.title(\"Body Temps and Stress Levels\")\n",
    "sns.barplot(x=stress_level_categories, y=body_temps)\n",
    "plt.ylabel(\"Body Temperature (F)\")"
   ]
  },
  {
   "cell_type": "markdown",
   "id": "68c6195d",
   "metadata": {
    "papermill": {
     "duration": 0.043629,
     "end_time": "2022-03-28T23:45:24.623540",
     "exception": false,
     "start_time": "2022-03-28T23:45:24.579911",
     "status": "completed"
    },
    "tags": []
   },
   "source": [
    "# As stress increases, body temperature descreases."
   ]
  },
  {
   "cell_type": "markdown",
   "id": "da4207e4",
   "metadata": {
    "papermill": {
     "duration": 0.043958,
     "end_time": "2022-03-28T23:45:24.712617",
     "exception": false,
     "start_time": "2022-03-28T23:45:24.668659",
     "status": "completed"
    },
    "tags": []
   },
   "source": [
    "# "
   ]
  },
  {
   "cell_type": "markdown",
   "id": "773b32b4",
   "metadata": {
    "papermill": {
     "duration": 0.045236,
     "end_time": "2022-03-28T23:45:24.801414",
     "exception": false,
     "start_time": "2022-03-28T23:45:24.756178",
     "status": "completed"
    },
    "tags": []
   },
   "source": [
    "# train test split to get X_train, X_test, y_train, y_test. Check distribution after split."
   ]
  },
  {
   "cell_type": "code",
   "execution_count": 9,
   "id": "6523c24a",
   "metadata": {
    "execution": {
     "iopub.execute_input": "2022-03-28T23:45:24.893369Z",
     "iopub.status.busy": "2022-03-28T23:45:24.892400Z",
     "iopub.status.idle": "2022-03-28T23:45:25.060354Z",
     "shell.execute_reply": "2022-03-28T23:45:25.059829Z",
     "shell.execute_reply.started": "2022-03-28T23:20:34.658993Z"
    },
    "papermill": {
     "duration": 0.214729,
     "end_time": "2022-03-28T23:45:25.060493",
     "exception": false,
     "start_time": "2022-03-28T23:45:24.845764",
     "status": "completed"
    },
    "tags": []
   },
   "outputs": [],
   "source": [
    "from sklearn.model_selection import train_test_split\n",
    "\n",
    "np_dataset = dataset.to_numpy()\n",
    "all_x = np_dataset[:,0:8]\n",
    "all_y = np_dataset[:,8]\n",
    "\n",
    "train_x, test_x, train_y, test_y = train_test_split(all_x, all_y, test_size=.33)"
   ]
  },
  {
   "cell_type": "markdown",
   "id": "de81ad22",
   "metadata": {
    "papermill": {
     "duration": 0.042737,
     "end_time": "2022-03-28T23:45:25.146355",
     "exception": false,
     "start_time": "2022-03-28T23:45:25.103618",
     "status": "completed"
    },
    "tags": []
   },
   "source": [
    "# Train RandomForest Classifier"
   ]
  },
  {
   "cell_type": "code",
   "execution_count": 10,
   "id": "c019080d",
   "metadata": {
    "execution": {
     "iopub.execute_input": "2022-03-28T23:45:25.238611Z",
     "iopub.status.busy": "2022-03-28T23:45:25.237947Z",
     "iopub.status.idle": "2022-03-28T23:45:25.588529Z",
     "shell.execute_reply": "2022-03-28T23:45:25.589059Z",
     "shell.execute_reply.started": "2022-03-28T23:20:34.667808Z"
    },
    "papermill": {
     "duration": 0.398906,
     "end_time": "2022-03-28T23:45:25.589228",
     "exception": false,
     "start_time": "2022-03-28T23:45:25.190322",
     "status": "completed"
    },
    "tags": []
   },
   "outputs": [],
   "source": [
    "from sklearn.ensemble import RandomForestClassifier\n",
    "\n",
    "rf_start = time.time()\n",
    "RFmodel = RandomForestClassifier()\n",
    "RFmodel.fit(train_x, train_y)\n",
    "rf_stop = time.time()"
   ]
  },
  {
   "cell_type": "markdown",
   "id": "c333c839",
   "metadata": {
    "papermill": {
     "duration": 0.044864,
     "end_time": "2022-03-28T23:45:25.678506",
     "exception": false,
     "start_time": "2022-03-28T23:45:25.633642",
     "status": "completed"
    },
    "tags": []
   },
   "source": [
    "# Train Gradient Boosting Classifier"
   ]
  },
  {
   "cell_type": "code",
   "execution_count": 11,
   "id": "7bf94e4d",
   "metadata": {
    "execution": {
     "iopub.execute_input": "2022-03-28T23:45:25.773675Z",
     "iopub.status.busy": "2022-03-28T23:45:25.773046Z",
     "iopub.status.idle": "2022-03-28T23:45:26.260571Z",
     "shell.execute_reply": "2022-03-28T23:45:26.259923Z",
     "shell.execute_reply.started": "2022-03-28T23:20:34.858569Z"
    },
    "papermill": {
     "duration": 0.537261,
     "end_time": "2022-03-28T23:45:26.260705",
     "exception": false,
     "start_time": "2022-03-28T23:45:25.723444",
     "status": "completed"
    },
    "tags": []
   },
   "outputs": [],
   "source": [
    "from sklearn.ensemble import GradientBoostingClassifier\n",
    "\n",
    "gbc_start = time.time()\n",
    "GBCmodel = GradientBoostingClassifier()\n",
    "GBCmodel.fit(train_x, train_y)\n",
    "gbc_stop = time.time()"
   ]
  },
  {
   "cell_type": "markdown",
   "id": "fd127c75",
   "metadata": {
    "papermill": {
     "duration": 0.042768,
     "end_time": "2022-03-28T23:45:26.347356",
     "exception": false,
     "start_time": "2022-03-28T23:45:26.304588",
     "status": "completed"
    },
    "tags": []
   },
   "source": [
    "# Train XGBoost Classifier"
   ]
  },
  {
   "cell_type": "code",
   "execution_count": 12,
   "id": "ff9ad53d",
   "metadata": {
    "execution": {
     "iopub.execute_input": "2022-03-28T23:45:26.440721Z",
     "iopub.status.busy": "2022-03-28T23:45:26.440027Z",
     "iopub.status.idle": "2022-03-28T23:45:27.079292Z",
     "shell.execute_reply": "2022-03-28T23:45:27.078768Z",
     "shell.execute_reply.started": "2022-03-28T23:20:35.371552Z"
    },
    "papermill": {
     "duration": 0.688815,
     "end_time": "2022-03-28T23:45:27.079442",
     "exception": false,
     "start_time": "2022-03-28T23:45:26.390627",
     "status": "completed"
    },
    "tags": []
   },
   "outputs": [
    {
     "name": "stdout",
     "output_type": "stream",
     "text": [
      "[23:45:26] WARNING: ../src/learner.cc:1115: Starting in XGBoost 1.3.0, the default evaluation metric used with the objective 'multi:softprob' was changed from 'merror' to 'mlogloss'. Explicitly set eval_metric if you'd like to restore the old behavior.\n"
     ]
    }
   ],
   "source": [
    "import xgboost as xgb\n",
    "\n",
    "xgb_start = time.time()\n",
    "XGBmodel = xgb.XGBClassifier()\n",
    "XGBmodel.fit(train_x, train_y)\n",
    "xgb_stop = time.time()"
   ]
  },
  {
   "cell_type": "markdown",
   "id": "c82ee873",
   "metadata": {
    "papermill": {
     "duration": 0.04424,
     "end_time": "2022-03-28T23:45:27.167818",
     "exception": false,
     "start_time": "2022-03-28T23:45:27.123578",
     "status": "completed"
    },
    "tags": []
   },
   "source": [
    "# train test each model (if we have time try MLP)"
   ]
  },
  {
   "cell_type": "code",
   "execution_count": 13,
   "id": "69a0b2da",
   "metadata": {
    "execution": {
     "iopub.execute_input": "2022-03-28T23:45:27.262230Z",
     "iopub.status.busy": "2022-03-28T23:45:27.261361Z",
     "iopub.status.idle": "2022-03-28T23:45:27.714592Z",
     "shell.execute_reply": "2022-03-28T23:45:27.713930Z",
     "shell.execute_reply.started": "2022-03-28T23:20:35.907458Z"
    },
    "papermill": {
     "duration": 0.502605,
     "end_time": "2022-03-28T23:45:27.714733",
     "exception": false,
     "start_time": "2022-03-28T23:45:27.212128",
     "status": "completed"
    },
    "tags": []
   },
   "outputs": [],
   "source": [
    "from sklearn.neural_network import MLPClassifier\n",
    "\n",
    "mlp_start = time.time()\n",
    "mlp_class = MLPClassifier()\n",
    "mlp_class.fit(train_x, train_y)\n",
    "mlp_stop = time.time()"
   ]
  },
  {
   "cell_type": "markdown",
   "id": "9839a2d7",
   "metadata": {
    "papermill": {
     "duration": 0.045105,
     "end_time": "2022-03-28T23:45:27.805215",
     "exception": false,
     "start_time": "2022-03-28T23:45:27.760110",
     "status": "completed"
    },
    "tags": []
   },
   "source": [
    "# cross validation of models"
   ]
  },
  {
   "cell_type": "code",
   "execution_count": 14,
   "id": "8cd54beb",
   "metadata": {
    "execution": {
     "iopub.execute_input": "2022-03-28T23:45:27.899540Z",
     "iopub.status.busy": "2022-03-28T23:45:27.898848Z",
     "iopub.status.idle": "2022-03-28T23:45:43.052524Z",
     "shell.execute_reply": "2022-03-28T23:45:43.051953Z",
     "shell.execute_reply.started": "2022-03-28T23:20:36.367949Z"
    },
    "papermill": {
     "duration": 15.2034,
     "end_time": "2022-03-28T23:45:43.052689",
     "exception": false,
     "start_time": "2022-03-28T23:45:27.849289",
     "status": "completed"
    },
    "tags": []
   },
   "outputs": [
    {
     "name": "stdout",
     "output_type": "stream",
     "text": [
      "[23:45:34] WARNING: ../src/learner.cc:1115: Starting in XGBoost 1.3.0, the default evaluation metric used with the objective 'multi:softprob' was changed from 'merror' to 'mlogloss'. Explicitly set eval_metric if you'd like to restore the old behavior.\n",
      "[23:45:34] WARNING: ../src/learner.cc:1115: Starting in XGBoost 1.3.0, the default evaluation metric used with the objective 'multi:softprob' was changed from 'merror' to 'mlogloss'. Explicitly set eval_metric if you'd like to restore the old behavior.\n",
      "[23:45:35] WARNING: ../src/learner.cc:1115: Starting in XGBoost 1.3.0, the default evaluation metric used with the objective 'multi:softprob' was changed from 'merror' to 'mlogloss'. Explicitly set eval_metric if you'd like to restore the old behavior.\n",
      "[23:45:35] WARNING: ../src/learner.cc:1115: Starting in XGBoost 1.3.0, the default evaluation metric used with the objective 'multi:softprob' was changed from 'merror' to 'mlogloss'. Explicitly set eval_metric if you'd like to restore the old behavior.\n",
      "[23:45:36] WARNING: ../src/learner.cc:1115: Starting in XGBoost 1.3.0, the default evaluation metric used with the objective 'multi:softprob' was changed from 'merror' to 'mlogloss'. Explicitly set eval_metric if you'd like to restore the old behavior.\n",
      "[23:45:36] WARNING: ../src/learner.cc:1115: Starting in XGBoost 1.3.0, the default evaluation metric used with the objective 'multi:softprob' was changed from 'merror' to 'mlogloss'. Explicitly set eval_metric if you'd like to restore the old behavior.\n",
      "[23:45:37] WARNING: ../src/learner.cc:1115: Starting in XGBoost 1.3.0, the default evaluation metric used with the objective 'multi:softprob' was changed from 'merror' to 'mlogloss'. Explicitly set eval_metric if you'd like to restore the old behavior.\n",
      "[23:45:38] WARNING: ../src/learner.cc:1115: Starting in XGBoost 1.3.0, the default evaluation metric used with the objective 'multi:softprob' was changed from 'merror' to 'mlogloss'. Explicitly set eval_metric if you'd like to restore the old behavior.\n",
      "[23:45:38] WARNING: ../src/learner.cc:1115: Starting in XGBoost 1.3.0, the default evaluation metric used with the objective 'multi:softprob' was changed from 'merror' to 'mlogloss'. Explicitly set eval_metric if you'd like to restore the old behavior.\n",
      "[23:45:39] WARNING: ../src/learner.cc:1115: Starting in XGBoost 1.3.0, the default evaluation metric used with the objective 'multi:softprob' was changed from 'merror' to 'mlogloss'. Explicitly set eval_metric if you'd like to restore the old behavior.\n"
     ]
    }
   ],
   "source": [
    "from sklearn.model_selection import cross_validate\n",
    "\n",
    "rf_cross_val = cross_validate(estimator=RFmodel, X=train_x, y=train_y, cv=10)\n",
    "gbc_cross_val = cross_validate(estimator=GBCmodel, X=train_x, y=train_y, cv=10)\n",
    "xgb_cross_val = cross_validate(estimator=XGBmodel, X=train_x, y=train_y, cv=10)\n",
    "mlp_cross_val = cross_validate(estimator=mlp_class, X=train_x, y=train_y, cv=10)"
   ]
  },
  {
   "cell_type": "markdown",
   "id": "e7ee55e6",
   "metadata": {
    "papermill": {
     "duration": 0.048429,
     "end_time": "2022-03-28T23:45:43.150902",
     "exception": false,
     "start_time": "2022-03-28T23:45:43.102473",
     "status": "completed"
    },
    "tags": []
   },
   "source": [
    "# make predictions"
   ]
  },
  {
   "cell_type": "code",
   "execution_count": 15,
   "id": "4fae7737",
   "metadata": {
    "execution": {
     "iopub.execute_input": "2022-03-28T23:45:43.252860Z",
     "iopub.status.busy": "2022-03-28T23:45:43.252204Z",
     "iopub.status.idle": "2022-03-28T23:45:43.276920Z",
     "shell.execute_reply": "2022-03-28T23:45:43.277465Z",
     "shell.execute_reply.started": "2022-03-28T23:20:50.895294Z"
    },
    "papermill": {
     "duration": 0.077903,
     "end_time": "2022-03-28T23:45:43.277662",
     "exception": false,
     "start_time": "2022-03-28T23:45:43.199759",
     "status": "completed"
    },
    "tags": []
   },
   "outputs": [],
   "source": [
    "RF_pred_y = RFmodel.predict(test_x)\n",
    "GBC_pred_y = GBCmodel.predict(test_x)\n",
    "XGB_pred_y = XGBmodel.predict(test_x)\n",
    "\n",
    "RF_acc =  rf_cross_val[\"test_score\"].mean() * 100\n",
    "GBC_acc =  gbc_cross_val[\"test_score\"].mean() * 100\n",
    "XGB_acc =  xgb_cross_val[\"test_score\"].mean() * 100\n",
    "MLP_acc = mlp_cross_val[\"test_score\"].mean() * 100"
   ]
  },
  {
   "cell_type": "markdown",
   "id": "502ab8f8",
   "metadata": {
    "papermill": {
     "duration": 0.048719,
     "end_time": "2022-03-28T23:45:43.377691",
     "exception": false,
     "start_time": "2022-03-28T23:45:43.328972",
     "status": "completed"
    },
    "tags": []
   },
   "source": [
    "# evaluation metrics and run time evaluation"
   ]
  },
  {
   "cell_type": "code",
   "execution_count": null,
   "id": "0b5e78d9",
   "metadata": {
    "papermill": {
     "duration": 0.04879,
     "end_time": "2022-03-28T23:45:43.475500",
     "exception": false,
     "start_time": "2022-03-28T23:45:43.426710",
     "status": "completed"
    },
    "tags": []
   },
   "outputs": [],
   "source": []
  },
  {
   "cell_type": "markdown",
   "id": "d967b95e",
   "metadata": {
    "papermill": {
     "duration": 0.048507,
     "end_time": "2022-03-28T23:45:43.573231",
     "exception": false,
     "start_time": "2022-03-28T23:45:43.524724",
     "status": "completed"
    },
    "tags": []
   },
   "source": [
    "# baseline of mode and random off of entire datset"
   ]
  },
  {
   "cell_type": "code",
   "execution_count": 16,
   "id": "b9994b76",
   "metadata": {
    "execution": {
     "iopub.execute_input": "2022-03-28T23:45:43.680806Z",
     "iopub.status.busy": "2022-03-28T23:45:43.679782Z",
     "iopub.status.idle": "2022-03-28T23:45:43.788470Z",
     "shell.execute_reply": "2022-03-28T23:45:43.787713Z",
     "shell.execute_reply.started": "2022-03-28T23:20:50.928905Z"
    },
    "papermill": {
     "duration": 0.165474,
     "end_time": "2022-03-28T23:45:43.788612",
     "exception": false,
     "start_time": "2022-03-28T23:45:43.623138",
     "status": "completed"
    },
    "tags": []
   },
   "outputs": [],
   "source": [
    "import random\n",
    "from scipy import stats\n",
    "\n",
    "random.randint(0,4)\n",
    "y_shape = np.array(all_y.shape)\n",
    "\n",
    "random_guess_baseline = np.sum(all_y == [random.randint(0,4) for i in range(all_y.shape[0])]) / all_y.shape[0] * 100\n",
    "mode_baseline = np.sum(all_y == [stats.mode(train_y)[0][0] for i in range(all_y.shape[0])]) / all_y.shape[0] * 100\n",
    "median_baseline = np.sum(all_y == [np.median(train_y) for i in range(all_y.shape[0])]) / all_y.shape[0] * 100"
   ]
  },
  {
   "cell_type": "code",
   "execution_count": 17,
   "id": "a5008d68",
   "metadata": {
    "execution": {
     "iopub.execute_input": "2022-03-28T23:45:43.891234Z",
     "iopub.status.busy": "2022-03-28T23:45:43.890216Z",
     "iopub.status.idle": "2022-03-28T23:45:43.894486Z",
     "shell.execute_reply": "2022-03-28T23:45:43.894914Z",
     "shell.execute_reply.started": "2022-03-28T23:20:51.050511Z"
    },
    "papermill": {
     "duration": 0.056382,
     "end_time": "2022-03-28T23:45:43.895094",
     "exception": false,
     "start_time": "2022-03-28T23:45:43.838712",
     "status": "completed"
    },
    "tags": []
   },
   "outputs": [],
   "source": [
    "models = [\"Random Forest Classifier\", \"Gradient Boosting Classifier\", \"XGBoost Classifier\", \"MLP Classifier\", \"Random guessing\",\"Mode guessing\",\"Median guessing\"]\n",
    "accuracies = [RF_acc, GBC_acc, XGB_acc, MLP_acc, random_guess_baseline, mode_baseline, median_baseline]"
   ]
  },
  {
   "cell_type": "markdown",
   "id": "216c7527",
   "metadata": {
    "papermill": {
     "duration": 0.04899,
     "end_time": "2022-03-28T23:45:43.992502",
     "exception": false,
     "start_time": "2022-03-28T23:45:43.943512",
     "status": "completed"
    },
    "tags": []
   },
   "source": [
    "# plot Accuracies"
   ]
  },
  {
   "cell_type": "code",
   "execution_count": 18,
   "id": "45bb116a",
   "metadata": {
    "execution": {
     "iopub.execute_input": "2022-03-28T23:45:44.094854Z",
     "iopub.status.busy": "2022-03-28T23:45:44.093804Z",
     "iopub.status.idle": "2022-03-28T23:45:44.350122Z",
     "shell.execute_reply": "2022-03-28T23:45:44.350624Z",
     "shell.execute_reply.started": "2022-03-28T23:25:21.813488Z"
    },
    "papermill": {
     "duration": 0.309082,
     "end_time": "2022-03-28T23:45:44.350794",
     "exception": false,
     "start_time": "2022-03-28T23:45:44.041712",
     "status": "completed"
    },
    "tags": []
   },
   "outputs": [
    {
     "data": {
      "image/png": "[encoded data removed]",
      "text/plain": [
       "<Figure size 1512x648 with 1 Axes>"
      ]
     },
     "metadata": {
      "needs_background": "light"
     },
     "output_type": "display_data"
    }
   ],
   "source": [
    "plt.figure(figsize=[21, 9])\n",
    "sns.barplot(x=models, y=accuracies)\n",
    "plt.title(\"Accuracy on testing data\", fontsize=30)\n",
    "plt.ylabel(\"Accuracy\", fontsize=22)\n",
    "plt.xlabel(\"Model\", fontsize=22)\n",
    "xlocs=[i+1 for i in range(0,10)]\n",
    "for i, j in enumerate(accuracies):\n",
    "    acc_pct = \"{:.2f}\".format(j)\n",
    "    plt.text(xlocs[i] - 1.1, j+1, str(acc_pct)+'%')"
   ]
  },
  {
   "cell_type": "markdown",
   "id": "d7ab5a2c",
   "metadata": {
    "papermill": {
     "duration": 0.050017,
     "end_time": "2022-03-28T23:45:44.450860",
     "exception": false,
     "start_time": "2022-03-28T23:45:44.400843",
     "status": "completed"
    },
    "tags": []
   },
   "source": [
    "# learning curve for each model? If curve needs data, maybe add synthetic data?"
   ]
  },
  {
   "cell_type": "code",
   "execution_count": null,
   "id": "97b2be79",
   "metadata": {
    "papermill": {
     "duration": 0.050105,
     "end_time": "2022-03-28T23:45:44.551593",
     "exception": false,
     "start_time": "2022-03-28T23:45:44.501488",
     "status": "completed"
    },
    "tags": []
   },
   "outputs": [],
   "source": []
  },
  {
   "cell_type": "markdown",
   "id": "364cf73f",
   "metadata": {
    "papermill": {
     "duration": 0.04946,
     "end_time": "2022-03-28T23:45:44.651534",
     "exception": false,
     "start_time": "2022-03-28T23:45:44.602074",
     "status": "completed"
    },
    "tags": []
   },
   "source": [
    "# Hyperparameter Tuning"
   ]
  },
  {
   "cell_type": "code",
   "execution_count": null,
   "id": "c51f6a14",
   "metadata": {
    "papermill": {
     "duration": 0.05017,
     "end_time": "2022-03-28T23:45:44.752493",
     "exception": false,
     "start_time": "2022-03-28T23:45:44.702323",
     "status": "completed"
    },
    "tags": []
   },
   "outputs": [],
   "source": []
  },
  {
   "cell_type": "markdown",
   "id": "9cb0d468",
   "metadata": {
    "papermill": {
     "duration": 0.051214,
     "end_time": "2022-03-28T23:45:44.854500",
     "exception": false,
     "start_time": "2022-03-28T23:45:44.803286",
     "status": "completed"
    },
    "tags": []
   },
   "source": [
    "# Figure out best model and do confusion matrix"
   ]
  },
  {
   "cell_type": "code",
   "execution_count": null,
   "id": "a1a61967",
   "metadata": {
    "papermill": {
     "duration": 0.050676,
     "end_time": "2022-03-28T23:45:44.955460",
     "exception": false,
     "start_time": "2022-03-28T23:45:44.904784",
     "status": "completed"
    },
    "tags": []
   },
   "outputs": [],
   "source": []
  },
  {
   "cell_type": "markdown",
   "id": "b7098c1d",
   "metadata": {
    "papermill": {
     "duration": 0.050634,
     "end_time": "2022-03-28T23:45:45.056686",
     "exception": false,
     "start_time": "2022-03-28T23:45:45.006052",
     "status": "completed"
    },
    "tags": []
   },
   "source": [
    "# Feature importance to see what sleep features matter"
   ]
  },
  {
   "cell_type": "code",
   "execution_count": null,
   "id": "1ff92a44",
   "metadata": {
    "papermill": {
     "duration": 0.0498,
     "end_time": "2022-03-28T23:45:45.157447",
     "exception": false,
     "start_time": "2022-03-28T23:45:45.107647",
     "status": "completed"
    },
    "tags": []
   },
   "outputs": [],
   "source": []
  }
 ],
 "metadata": {
  "kernelspec": {
   "display_name": "Python 3",
   "language": "python",
   "name": "python3"
  },
  "language_info": {
   "codemirror_mode": {
    "name": "ipython",
    "version": 3
   },
   "file_extension": ".py",
   "mimetype": "text/x-python",
   "name": "python",
   "nbconvert_exporter": "python",
   "pygments_lexer": "ipython3",
   "version": "3.7.12"
  },
  "papermill": {
   "default_parameters": {},
   "duration": 34.648608,
   "end_time": "2022-03-28T23:45:45.918183",
   "environment_variables": {},
   "exception": null,
   "input_path": "__notebook__.ipynb",
   "output_path": "__notebook__.ipynb",
   "parameters": {},
   "start_time": "2022-03-28T23:45:11.269575",
   "version": "2.3.3"
  }
 },
 "nbformat": 4,
 "nbformat_minor": 5
}
