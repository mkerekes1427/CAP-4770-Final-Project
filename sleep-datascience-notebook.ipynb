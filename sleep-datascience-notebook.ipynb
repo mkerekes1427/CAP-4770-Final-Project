{
 "cells": [
  {
   "cell_type": "code",
   "execution_count": 1,
   "id": "71ea9520",
   "metadata": {
    "_cell_guid": "b1076dfc-b9ad-4769-8c92-a6c4dae69d19",
    "_uuid": "8f2839f25d086af736a60e9eeb907d3b93b6e0e5",
    "execution": {
     "iopub.execute_input": "2022-03-24T21:39:52.943474Z",
     "iopub.status.busy": "2022-03-24T21:39:52.942239Z",
     "iopub.status.idle": "2022-03-24T21:39:54.076218Z",
     "shell.execute_reply": "2022-03-24T21:39:54.074417Z"
    },
    "papermill": {
     "duration": 1.168312,
     "end_time": "2022-03-24T21:39:54.076541",
     "exception": false,
     "start_time": "2022-03-24T21:39:52.908229",
     "status": "completed"
    },
    "tags": []
   },
   "outputs": [],
   "source": [
    "# This Python 3 environment comes with many helpful analytics libraries installed\n",
    "# It is defined by the kaggle/python Docker image: https://github.com/kaggle/docker-python\n",
    "# For example, here's several helpful packages to load\n",
    "\n",
    "import numpy as np # linear algebra\n",
    "import pandas as pd # data processing, CSV file I/O (e.g. pd.read_csv)\n",
    "import seaborn as sns\n",
    "import matplotlib.pyplot as plt\n",
    "\n",
    "# Input data files are available in the read-only \"../input/\" directory\n",
    "# For example, running this (by clicking run or pressing Shift+Enter) will list all files under the input directory\n",
    "\n",
    "import os\n",
    "for dirname, _, filenames in os.walk('/kaggle/input'):\n",
    "    for filename in filenames:\n",
    "        print(os.path.join(dirname, filename))\n",
    "\n",
    "# You can write up to 20GB to the current directory (/kaggle/working/) that gets preserved as output when you create a version using \"Save & Run All\" \n",
    "# You can also write temporary files to /kaggle/temp/, but they won't be saved outside of the current session"
   ]
  },
  {
   "cell_type": "markdown",
   "id": "28ba0ae9",
   "metadata": {
    "papermill": {
     "duration": 0.027949,
     "end_time": "2022-03-24T21:39:54.135466",
     "exception": false,
     "start_time": "2022-03-24T21:39:54.107517",
     "status": "completed"
    },
    "tags": []
   },
   "source": [
    "# Read Data in and do head"
   ]
  },
  {
   "cell_type": "code",
   "execution_count": null,
   "id": "d681208e",
   "metadata": {
    "papermill": {
     "duration": 0.028033,
     "end_time": "2022-03-24T21:39:54.191936",
     "exception": false,
     "start_time": "2022-03-24T21:39:54.163903",
     "status": "completed"
    },
    "tags": []
   },
   "outputs": [],
   "source": []
  },
  {
   "cell_type": "markdown",
   "id": "7384232b",
   "metadata": {
    "papermill": {
     "duration": 0.028148,
     "end_time": "2022-03-24T21:39:54.248723",
     "exception": false,
     "start_time": "2022-03-24T21:39:54.220575",
     "status": "completed"
    },
    "tags": []
   },
   "source": [
    "# Show distribution of the categories"
   ]
  },
  {
   "cell_type": "code",
   "execution_count": null,
   "id": "933da1ba",
   "metadata": {
    "papermill": {
     "duration": 0.028034,
     "end_time": "2022-03-24T21:39:54.306273",
     "exception": false,
     "start_time": "2022-03-24T21:39:54.278239",
     "status": "completed"
    },
    "tags": []
   },
   "outputs": [],
   "source": []
  },
  {
   "cell_type": "markdown",
   "id": "7fa0011e",
   "metadata": {
    "papermill": {
     "duration": 0.028347,
     "end_time": "2022-03-24T21:39:54.363061",
     "exception": false,
     "start_time": "2022-03-24T21:39:54.334714",
     "status": "completed"
    },
    "tags": []
   },
   "source": [
    "# Exploratory Data Analysis (plot average sleep for each category with seaborn barplot)"
   ]
  },
  {
   "cell_type": "code",
   "execution_count": null,
   "id": "3bf95685",
   "metadata": {
    "papermill": {
     "duration": 0.027695,
     "end_time": "2022-03-24T21:39:54.420680",
     "exception": false,
     "start_time": "2022-03-24T21:39:54.392985",
     "status": "completed"
    },
    "tags": []
   },
   "outputs": [],
   "source": []
  },
  {
   "cell_type": "markdown",
   "id": "1cfad4de",
   "metadata": {
    "papermill": {
     "duration": 0.02733,
     "end_time": "2022-03-24T21:39:54.476192",
     "exception": false,
     "start_time": "2022-03-24T21:39:54.448862",
     "status": "completed"
    },
    "tags": []
   },
   "source": [
    "# Correlation heatmap sns.heatmap(df.corr())"
   ]
  },
  {
   "cell_type": "code",
   "execution_count": null,
   "id": "70b4672e",
   "metadata": {
    "papermill": {
     "duration": 0.027428,
     "end_time": "2022-03-24T21:39:54.531328",
     "exception": false,
     "start_time": "2022-03-24T21:39:54.503900",
     "status": "completed"
    },
    "tags": []
   },
   "outputs": [],
   "source": []
  },
  {
   "cell_type": "markdown",
   "id": "3996c305",
   "metadata": {
    "papermill": {
     "duration": 0.02773,
     "end_time": "2022-03-24T21:39:54.586935",
     "exception": false,
     "start_time": "2022-03-24T21:39:54.559205",
     "status": "completed"
    },
    "tags": []
   },
   "source": [
    "# Narrow down what features we want through correlation and other exploratory data analysis, comparing features across stress level categories."
   ]
  },
  {
   "cell_type": "code",
   "execution_count": null,
   "id": "9efdc1c2",
   "metadata": {
    "papermill": {
     "duration": 0.033321,
     "end_time": "2022-03-24T21:39:54.648246",
     "exception": false,
     "start_time": "2022-03-24T21:39:54.614925",
     "status": "completed"
    },
    "tags": []
   },
   "outputs": [],
   "source": []
  },
  {
   "cell_type": "markdown",
   "id": "67f03cda",
   "metadata": {
    "papermill": {
     "duration": 0.028006,
     "end_time": "2022-03-24T21:39:54.704542",
     "exception": false,
     "start_time": "2022-03-24T21:39:54.676536",
     "status": "completed"
    },
    "tags": []
   },
   "source": [
    "# train test split to get X_train, X_test, y_train, y_test. Check distribution after split."
   ]
  },
  {
   "cell_type": "code",
   "execution_count": null,
   "id": "658da88b",
   "metadata": {
    "papermill": {
     "duration": 0.028575,
     "end_time": "2022-03-24T21:39:54.761427",
     "exception": false,
     "start_time": "2022-03-24T21:39:54.732852",
     "status": "completed"
    },
    "tags": []
   },
   "outputs": [],
   "source": []
  },
  {
   "cell_type": "markdown",
   "id": "c3cb1cfa",
   "metadata": {
    "papermill": {
     "duration": 0.027181,
     "end_time": "2022-03-24T21:39:54.816393",
     "exception": false,
     "start_time": "2022-03-24T21:39:54.789212",
     "status": "completed"
    },
    "tags": []
   },
   "source": [
    "# train test each model (if we have time try MLP)"
   ]
  },
  {
   "cell_type": "code",
   "execution_count": null,
   "id": "5bb2e5db",
   "metadata": {
    "papermill": {
     "duration": 0.027878,
     "end_time": "2022-03-24T21:39:54.871819",
     "exception": false,
     "start_time": "2022-03-24T21:39:54.843941",
     "status": "completed"
    },
    "tags": []
   },
   "outputs": [],
   "source": []
  },
  {
   "cell_type": "markdown",
   "id": "03cd7165",
   "metadata": {
    "papermill": {
     "duration": 0.027789,
     "end_time": "2022-03-24T21:39:54.927772",
     "exception": false,
     "start_time": "2022-03-24T21:39:54.899983",
     "status": "completed"
    },
    "tags": []
   },
   "source": [
    "# cross validation of models"
   ]
  },
  {
   "cell_type": "code",
   "execution_count": null,
   "id": "b42ed046",
   "metadata": {
    "papermill": {
     "duration": 0.027874,
     "end_time": "2022-03-24T21:39:54.983589",
     "exception": false,
     "start_time": "2022-03-24T21:39:54.955715",
     "status": "completed"
    },
    "tags": []
   },
   "outputs": [],
   "source": []
  },
  {
   "cell_type": "markdown",
   "id": "7c39a877",
   "metadata": {
    "papermill": {
     "duration": 0.027734,
     "end_time": "2022-03-24T21:39:55.039516",
     "exception": false,
     "start_time": "2022-03-24T21:39:55.011782",
     "status": "completed"
    },
    "tags": []
   },
   "source": [
    "# evaluation metrics and run time evaluation"
   ]
  },
  {
   "cell_type": "code",
   "execution_count": null,
   "id": "7aaeace9",
   "metadata": {
    "papermill": {
     "duration": 0.02808,
     "end_time": "2022-03-24T21:39:55.095586",
     "exception": false,
     "start_time": "2022-03-24T21:39:55.067506",
     "status": "completed"
    },
    "tags": []
   },
   "outputs": [],
   "source": []
  },
  {
   "cell_type": "markdown",
   "id": "8ea6a454",
   "metadata": {
    "papermill": {
     "duration": 0.027612,
     "end_time": "2022-03-24T21:39:55.151332",
     "exception": false,
     "start_time": "2022-03-24T21:39:55.123720",
     "status": "completed"
    },
    "tags": []
   },
   "source": [
    "# baseline of mode and random off of entire datset"
   ]
  },
  {
   "cell_type": "code",
   "execution_count": null,
   "id": "65b4803e",
   "metadata": {
    "papermill": {
     "duration": 0.027489,
     "end_time": "2022-03-24T21:39:55.206796",
     "exception": false,
     "start_time": "2022-03-24T21:39:55.179307",
     "status": "completed"
    },
    "tags": []
   },
   "outputs": [],
   "source": []
  },
  {
   "cell_type": "markdown",
   "id": "1df92b3b",
   "metadata": {
    "papermill": {
     "duration": 0.027724,
     "end_time": "2022-03-24T21:39:55.262461",
     "exception": false,
     "start_time": "2022-03-24T21:39:55.234737",
     "status": "completed"
    },
    "tags": []
   },
   "source": [
    "# create a small dataframe with model name that shows accuracy, precision, recall, runtime"
   ]
  },
  {
   "cell_type": "code",
   "execution_count": null,
   "id": "cfc05952",
   "metadata": {
    "papermill": {
     "duration": 0.027508,
     "end_time": "2022-03-24T21:39:55.317926",
     "exception": false,
     "start_time": "2022-03-24T21:39:55.290418",
     "status": "completed"
    },
    "tags": []
   },
   "outputs": [],
   "source": []
  },
  {
   "cell_type": "markdown",
   "id": "c405f826",
   "metadata": {
    "papermill": {
     "duration": 0.02807,
     "end_time": "2022-03-24T21:39:55.374494",
     "exception": false,
     "start_time": "2022-03-24T21:39:55.346424",
     "status": "completed"
    },
    "tags": []
   },
   "source": [
    "# learning curve for each model? If curve needs data, maybe add synthetic data?"
   ]
  },
  {
   "cell_type": "code",
   "execution_count": null,
   "id": "8f06f5e5",
   "metadata": {
    "papermill": {
     "duration": 0.027312,
     "end_time": "2022-03-24T21:39:55.431750",
     "exception": false,
     "start_time": "2022-03-24T21:39:55.404438",
     "status": "completed"
    },
    "tags": []
   },
   "outputs": [],
   "source": []
  },
  {
   "cell_type": "markdown",
   "id": "034386aa",
   "metadata": {
    "papermill": {
     "duration": 0.028037,
     "end_time": "2022-03-24T21:39:55.487691",
     "exception": false,
     "start_time": "2022-03-24T21:39:55.459654",
     "status": "completed"
    },
    "tags": []
   },
   "source": [
    "# Hyperparameter Tuning"
   ]
  },
  {
   "cell_type": "code",
   "execution_count": null,
   "id": "251c9235",
   "metadata": {
    "papermill": {
     "duration": 0.028089,
     "end_time": "2022-03-24T21:39:55.544323",
     "exception": false,
     "start_time": "2022-03-24T21:39:55.516234",
     "status": "completed"
    },
    "tags": []
   },
   "outputs": [],
   "source": []
  },
  {
   "cell_type": "markdown",
   "id": "784590c4",
   "metadata": {
    "papermill": {
     "duration": 0.027791,
     "end_time": "2022-03-24T21:39:55.600481",
     "exception": false,
     "start_time": "2022-03-24T21:39:55.572690",
     "status": "completed"
    },
    "tags": []
   },
   "source": [
    "# Figure out best model and do confusion matrix"
   ]
  },
  {
   "cell_type": "code",
   "execution_count": null,
   "id": "e9c8fc47",
   "metadata": {
    "papermill": {
     "duration": 0.02772,
     "end_time": "2022-03-24T21:39:55.656499",
     "exception": false,
     "start_time": "2022-03-24T21:39:55.628779",
     "status": "completed"
    },
    "tags": []
   },
   "outputs": [],
   "source": []
  },
  {
   "cell_type": "markdown",
   "id": "41213cc5",
   "metadata": {
    "papermill": {
     "duration": 0.027488,
     "end_time": "2022-03-24T21:39:55.711457",
     "exception": false,
     "start_time": "2022-03-24T21:39:55.683969",
     "status": "completed"
    },
    "tags": []
   },
   "source": [
    "# Feature importance to see what sleep features matter"
   ]
  },
  {
   "cell_type": "code",
   "execution_count": null,
   "id": "cba63cb6",
   "metadata": {
    "papermill": {
     "duration": 0.027633,
     "end_time": "2022-03-24T21:39:55.768002",
     "exception": false,
     "start_time": "2022-03-24T21:39:55.740369",
     "status": "completed"
    },
    "tags": []
   },
   "outputs": [],
   "source": []
  }
 ],
 "metadata": {
  "kernelspec": {
   "display_name": "Python 3",
   "language": "python",
   "name": "python3"
  },
  "language_info": {
   "codemirror_mode": {
    "name": "ipython",
    "version": 3
   },
   "file_extension": ".py",
   "mimetype": "text/x-python",
   "name": "python",
   "nbconvert_exporter": "python",
   "pygments_lexer": "ipython3",
   "version": "3.7.12"
  },
  "papermill": {
   "default_parameters": {},
   "duration": 15.060709,
   "end_time": "2022-03-24T21:39:56.711225",
   "environment_variables": {},
   "exception": null,
   "input_path": "__notebook__.ipynb",
   "output_path": "__notebook__.ipynb",
   "parameters": {},
   "start_time": "2022-03-24T21:39:41.650516",
   "version": "2.3.3"
  }
 },
 "nbformat": 4,
 "nbformat_minor": 5
}
