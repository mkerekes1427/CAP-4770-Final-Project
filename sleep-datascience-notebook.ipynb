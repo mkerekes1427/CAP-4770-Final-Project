{
 "cells": [
  {
   "cell_type": "code",
   "execution_count": 1,
   "id": "a4a7975d",
   "metadata": {
    "_cell_guid": "b1076dfc-b9ad-4769-8c92-a6c4dae69d19",
    "_uuid": "8f2839f25d086af736a60e9eeb907d3b93b6e0e5",
    "execution": {
     "iopub.execute_input": "2022-03-26T14:26:02.237834Z",
     "iopub.status.busy": "2022-03-26T14:26:02.236671Z",
     "iopub.status.idle": "2022-03-26T14:26:03.301242Z",
     "shell.execute_reply": "2022-03-26T14:26:03.301768Z",
     "shell.execute_reply.started": "2022-03-26T14:09:23.847472Z"
    },
    "papermill": {
     "duration": 1.099268,
     "end_time": "2022-03-26T14:26:03.302097",
     "exception": false,
     "start_time": "2022-03-26T14:26:02.202829",
     "status": "completed"
    },
    "tags": []
   },
   "outputs": [
    {
     "name": "stdout",
     "output_type": "stream",
     "text": [
      "/kaggle/input/human-stress-detection-in-and-through-sleep/SaYoPillow.csv\n",
      "/kaggle/input/human-stress-detection-in-and-through-sleep/IEEE-TCE_2020-08-0175_SaYoPillow.pdf\n",
      "/kaggle/input/human-stress-detection-in-and-through-sleep/readme.docx\n"
     ]
    }
   ],
   "source": [
    "# This Python 3 environment comes with many helpful analytics libraries installed\n",
    "# It is defined by the kaggle/python Docker image: https://github.com/kaggle/docker-python\n",
    "# For example, here's several helpful packages to load\n",
    "\n",
    "import numpy as np # linear algebra\n",
    "import pandas as pd # data processing, CSV file I/O (e.g. pd.read_csv)\n",
    "import seaborn as sns\n",
    "import matplotlib.pyplot as plt\n",
    "\n",
    "# Input data files are available in the read-only \"../input/\" directory\n",
    "# For example, running this (by clicking run or pressing Shift+Enter) will list all files under the input directory\n",
    "\n",
    "import os\n",
    "for dirname, _, filenames in os.walk('/kaggle/input'):\n",
    "    for filename in filenames:\n",
    "        print(os.path.join(dirname, filename))\n",
    "\n",
    "# You can write up to 20GB to the current directory (/kaggle/working/) that gets preserved as output when you create a version using \"Save & Run All\" \n",
    "# You can also write temporary files to /kaggle/temp/, but they won't be saved outside of the current session"
   ]
  },
  {
   "cell_type": "markdown",
   "id": "515039e0",
   "metadata": {
    "papermill": {
     "duration": 0.029556,
     "end_time": "2022-03-26T14:26:03.362577",
     "exception": false,
     "start_time": "2022-03-26T14:26:03.333021",
     "status": "completed"
    },
    "tags": []
   },
   "source": [
    "# Read Data in and do head"
   ]
  },
  {
   "cell_type": "code",
   "execution_count": 2,
   "id": "f148f58b",
   "metadata": {
    "execution": {
     "iopub.execute_input": "2022-03-26T14:26:03.426641Z",
     "iopub.status.busy": "2022-03-26T14:26:03.425951Z",
     "iopub.status.idle": "2022-03-26T14:26:03.460628Z",
     "shell.execute_reply": "2022-03-26T14:26:03.461146Z",
     "shell.execute_reply.started": "2022-03-26T14:09:25.385826Z"
    },
    "papermill": {
     "duration": 0.069099,
     "end_time": "2022-03-26T14:26:03.461335",
     "exception": false,
     "start_time": "2022-03-26T14:26:03.392236",
     "status": "completed"
    },
    "tags": []
   },
   "outputs": [
    {
     "data": {
      "text/html": [
       "<div>\n",
       "<style scoped>\n",
       "    .dataframe tbody tr th:only-of-type {\n",
       "        vertical-align: middle;\n",
       "    }\n",
       "\n",
       "    .dataframe tbody tr th {\n",
       "        vertical-align: top;\n",
       "    }\n",
       "\n",
       "    .dataframe thead th {\n",
       "        text-align: right;\n",
       "    }\n",
       "</style>\n",
       "<table border=\"1\" class=\"dataframe\">\n",
       "  <thead>\n",
       "    <tr style=\"text-align: right;\">\n",
       "      <th></th>\n",
       "      <th>sr</th>\n",
       "      <th>rr</th>\n",
       "      <th>t</th>\n",
       "      <th>lm</th>\n",
       "      <th>bo</th>\n",
       "      <th>rem</th>\n",
       "      <th>sr.1</th>\n",
       "      <th>hr</th>\n",
       "      <th>sl</th>\n",
       "    </tr>\n",
       "  </thead>\n",
       "  <tbody>\n",
       "    <tr>\n",
       "      <th>0</th>\n",
       "      <td>93.80</td>\n",
       "      <td>25.680</td>\n",
       "      <td>91.840</td>\n",
       "      <td>16.600</td>\n",
       "      <td>89.840</td>\n",
       "      <td>99.60</td>\n",
       "      <td>1.840</td>\n",
       "      <td>74.20</td>\n",
       "      <td>3</td>\n",
       "    </tr>\n",
       "    <tr>\n",
       "      <th>1</th>\n",
       "      <td>91.64</td>\n",
       "      <td>25.104</td>\n",
       "      <td>91.552</td>\n",
       "      <td>15.880</td>\n",
       "      <td>89.552</td>\n",
       "      <td>98.88</td>\n",
       "      <td>1.552</td>\n",
       "      <td>72.76</td>\n",
       "      <td>3</td>\n",
       "    </tr>\n",
       "    <tr>\n",
       "      <th>2</th>\n",
       "      <td>60.00</td>\n",
       "      <td>20.000</td>\n",
       "      <td>96.000</td>\n",
       "      <td>10.000</td>\n",
       "      <td>95.000</td>\n",
       "      <td>85.00</td>\n",
       "      <td>7.000</td>\n",
       "      <td>60.00</td>\n",
       "      <td>1</td>\n",
       "    </tr>\n",
       "    <tr>\n",
       "      <th>3</th>\n",
       "      <td>85.76</td>\n",
       "      <td>23.536</td>\n",
       "      <td>90.768</td>\n",
       "      <td>13.920</td>\n",
       "      <td>88.768</td>\n",
       "      <td>96.92</td>\n",
       "      <td>0.768</td>\n",
       "      <td>68.84</td>\n",
       "      <td>3</td>\n",
       "    </tr>\n",
       "    <tr>\n",
       "      <th>4</th>\n",
       "      <td>48.12</td>\n",
       "      <td>17.248</td>\n",
       "      <td>97.872</td>\n",
       "      <td>6.496</td>\n",
       "      <td>96.248</td>\n",
       "      <td>72.48</td>\n",
       "      <td>8.248</td>\n",
       "      <td>53.12</td>\n",
       "      <td>0</td>\n",
       "    </tr>\n",
       "  </tbody>\n",
       "</table>\n",
       "</div>"
      ],
      "text/plain": [
       "      sr      rr       t      lm      bo    rem   sr.1     hr  sl\n",
       "0  93.80  25.680  91.840  16.600  89.840  99.60  1.840  74.20   3\n",
       "1  91.64  25.104  91.552  15.880  89.552  98.88  1.552  72.76   3\n",
       "2  60.00  20.000  96.000  10.000  95.000  85.00  7.000  60.00   1\n",
       "3  85.76  23.536  90.768  13.920  88.768  96.92  0.768  68.84   3\n",
       "4  48.12  17.248  97.872   6.496  96.248  72.48  8.248  53.12   0"
      ]
     },
     "execution_count": 2,
     "metadata": {},
     "output_type": "execute_result"
    }
   ],
   "source": [
    "dataset = pd.read_csv(\"../input/human-stress-detection-in-and-through-sleep/SaYoPillow.csv\")\n",
    "\n",
    "dataset.head()"
   ]
  },
  {
   "cell_type": "markdown",
   "id": "053a4087",
   "metadata": {
    "papermill": {
     "duration": 0.028963,
     "end_time": "2022-03-26T14:26:03.519836",
     "exception": false,
     "start_time": "2022-03-26T14:26:03.490873",
     "status": "completed"
    },
    "tags": []
   },
   "source": [
    "# Change names of columns"
   ]
  },
  {
   "cell_type": "code",
   "execution_count": 3,
   "id": "4329d907",
   "metadata": {
    "execution": {
     "iopub.execute_input": "2022-03-26T14:26:03.581781Z",
     "iopub.status.busy": "2022-03-26T14:26:03.581061Z",
     "iopub.status.idle": "2022-03-26T14:26:03.601770Z",
     "shell.execute_reply": "2022-03-26T14:26:03.602373Z",
     "shell.execute_reply.started": "2022-03-26T14:09:25.432350Z"
    },
    "papermill": {
     "duration": 0.053471,
     "end_time": "2022-03-26T14:26:03.602558",
     "exception": false,
     "start_time": "2022-03-26T14:26:03.549087",
     "status": "completed"
    },
    "tags": []
   },
   "outputs": [
    {
     "data": {
      "text/html": [
       "<div>\n",
       "<style scoped>\n",
       "    .dataframe tbody tr th:only-of-type {\n",
       "        vertical-align: middle;\n",
       "    }\n",
       "\n",
       "    .dataframe tbody tr th {\n",
       "        vertical-align: top;\n",
       "    }\n",
       "\n",
       "    .dataframe thead th {\n",
       "        text-align: right;\n",
       "    }\n",
       "</style>\n",
       "<table border=\"1\" class=\"dataframe\">\n",
       "  <thead>\n",
       "    <tr style=\"text-align: right;\">\n",
       "      <th></th>\n",
       "      <th>Snoring Rate</th>\n",
       "      <th>Respiration Rate</th>\n",
       "      <th>Body Temp</th>\n",
       "      <th>Limb Movement</th>\n",
       "      <th>Blood Oxygen</th>\n",
       "      <th>Eye Movement</th>\n",
       "      <th>Sleeping Hours</th>\n",
       "      <th>Heart Rate</th>\n",
       "      <th>Stress Level</th>\n",
       "    </tr>\n",
       "  </thead>\n",
       "  <tbody>\n",
       "    <tr>\n",
       "      <th>0</th>\n",
       "      <td>93.80</td>\n",
       "      <td>25.680</td>\n",
       "      <td>91.840</td>\n",
       "      <td>16.600</td>\n",
       "      <td>89.840</td>\n",
       "      <td>99.60</td>\n",
       "      <td>1.840</td>\n",
       "      <td>74.20</td>\n",
       "      <td>3</td>\n",
       "    </tr>\n",
       "    <tr>\n",
       "      <th>1</th>\n",
       "      <td>91.64</td>\n",
       "      <td>25.104</td>\n",
       "      <td>91.552</td>\n",
       "      <td>15.880</td>\n",
       "      <td>89.552</td>\n",
       "      <td>98.88</td>\n",
       "      <td>1.552</td>\n",
       "      <td>72.76</td>\n",
       "      <td>3</td>\n",
       "    </tr>\n",
       "    <tr>\n",
       "      <th>2</th>\n",
       "      <td>60.00</td>\n",
       "      <td>20.000</td>\n",
       "      <td>96.000</td>\n",
       "      <td>10.000</td>\n",
       "      <td>95.000</td>\n",
       "      <td>85.00</td>\n",
       "      <td>7.000</td>\n",
       "      <td>60.00</td>\n",
       "      <td>1</td>\n",
       "    </tr>\n",
       "    <tr>\n",
       "      <th>3</th>\n",
       "      <td>85.76</td>\n",
       "      <td>23.536</td>\n",
       "      <td>90.768</td>\n",
       "      <td>13.920</td>\n",
       "      <td>88.768</td>\n",
       "      <td>96.92</td>\n",
       "      <td>0.768</td>\n",
       "      <td>68.84</td>\n",
       "      <td>3</td>\n",
       "    </tr>\n",
       "    <tr>\n",
       "      <th>4</th>\n",
       "      <td>48.12</td>\n",
       "      <td>17.248</td>\n",
       "      <td>97.872</td>\n",
       "      <td>6.496</td>\n",
       "      <td>96.248</td>\n",
       "      <td>72.48</td>\n",
       "      <td>8.248</td>\n",
       "      <td>53.12</td>\n",
       "      <td>0</td>\n",
       "    </tr>\n",
       "  </tbody>\n",
       "</table>\n",
       "</div>"
      ],
      "text/plain": [
       "   Snoring Rate  Respiration Rate  Body Temp  Limb Movement  Blood Oxygen  \\\n",
       "0         93.80            25.680     91.840         16.600        89.840   \n",
       "1         91.64            25.104     91.552         15.880        89.552   \n",
       "2         60.00            20.000     96.000         10.000        95.000   \n",
       "3         85.76            23.536     90.768         13.920        88.768   \n",
       "4         48.12            17.248     97.872          6.496        96.248   \n",
       "\n",
       "   Eye Movement  Sleeping Hours  Heart Rate  Stress Level  \n",
       "0         99.60           1.840       74.20             3  \n",
       "1         98.88           1.552       72.76             3  \n",
       "2         85.00           7.000       60.00             1  \n",
       "3         96.92           0.768       68.84             3  \n",
       "4         72.48           8.248       53.12             0  "
      ]
     },
     "execution_count": 3,
     "metadata": {},
     "output_type": "execute_result"
    }
   ],
   "source": [
    "dataset = dataset.rename(columns={\"sr\" : \"Snoring Rate\", \"rr\" : \"Respiration Rate\", \"t\": \"Body Temp\", \"lm\" : \"Limb Movement\",\n",
    "                       \"bo\" : \"Blood Oxygen\", \"rem\" : \"Eye Movement\", \"sr.1\" : \"Sleeping Hours\", \"hr\" : \"Heart Rate\", \"sl\" : \"Stress Level\"})\n",
    "\n",
    "dataset.head()"
   ]
  },
  {
   "cell_type": "markdown",
   "id": "defb7e99",
   "metadata": {
    "papermill": {
     "duration": 0.029453,
     "end_time": "2022-03-26T14:26:03.662526",
     "exception": false,
     "start_time": "2022-03-26T14:26:03.633073",
     "status": "completed"
    },
    "tags": []
   },
   "source": [
    "# Show distribution of the categories"
   ]
  },
  {
   "cell_type": "code",
   "execution_count": 4,
   "id": "ff302f06",
   "metadata": {
    "execution": {
     "iopub.execute_input": "2022-03-26T14:26:03.731855Z",
     "iopub.status.busy": "2022-03-26T14:26:03.725016Z",
     "iopub.status.idle": "2022-03-26T14:26:03.990901Z",
     "shell.execute_reply": "2022-03-26T14:26:03.990260Z",
     "shell.execute_reply.started": "2022-03-26T14:09:25.461491Z"
    },
    "papermill": {
     "duration": 0.298582,
     "end_time": "2022-03-26T14:26:03.991066",
     "exception": false,
     "start_time": "2022-03-26T14:26:03.692484",
     "status": "completed"
    },
    "tags": []
   },
   "outputs": [
    {
     "data": {
      "text/plain": [
       "Text(0, 0.5, 'Counts')"
      ]
     },
     "execution_count": 4,
     "metadata": {},
     "output_type": "execute_result"
    },
    {
     "data": {
      "image/png": "[encoded data removed]",
      "text/plain": [
       "<Figure size 432x432 with 1 Axes>"
      ]
     },
     "metadata": {
      "needs_background": "light"
     },
     "output_type": "display_data"
    }
   ],
   "source": [
    "stress_0 = dataset[dataset[\"Stress Level\"] == 0]\n",
    "stress_1 = dataset[dataset[\"Stress Level\"] == 1]\n",
    "stress_2 = dataset[dataset[\"Stress Level\"] == 2]\n",
    "stress_3 = dataset[dataset[\"Stress Level\"] == 3]\n",
    "stress_4 = dataset[dataset[\"Stress Level\"] == 4]\n",
    "\n",
    "stress_level_categories = [\"Level 0\", \"Level 1\", \"Level 2\", \"Level 3\", \"Level 4\"]\n",
    "\n",
    "stress_level_distribution = [len(stress_0), len(stress_1), len(stress_2), len(stress_3), len(stress_4)]\n",
    "\n",
    "plt.figure(figsize=[6, 6])\n",
    "sns.barplot(x=stress_level_categories, y=stress_level_distribution)\n",
    "\n",
    "plt.title(\"Stress Level Categories and Their Counts\")\n",
    "plt.ylabel(\"Counts\")"
   ]
  },
  {
   "cell_type": "markdown",
   "id": "57b3d47c",
   "metadata": {
    "papermill": {
     "duration": 0.030655,
     "end_time": "2022-03-26T14:26:04.054774",
     "exception": false,
     "start_time": "2022-03-26T14:26:04.024119",
     "status": "completed"
    },
    "tags": []
   },
   "source": [
    "# Exploratory Data Analysis (plot average sleep for each category with seaborn barplot)"
   ]
  },
  {
   "cell_type": "code",
   "execution_count": 5,
   "id": "1ee7d5c6",
   "metadata": {
    "execution": {
     "iopub.execute_input": "2022-03-26T14:26:04.122701Z",
     "iopub.status.busy": "2022-03-26T14:26:04.121818Z",
     "iopub.status.idle": "2022-03-26T14:26:04.124532Z",
     "shell.execute_reply": "2022-03-26T14:26:04.124971Z",
     "shell.execute_reply.started": "2022-03-26T14:09:25.734404Z"
    },
    "papermill": {
     "duration": 0.039237,
     "end_time": "2022-03-26T14:26:04.125160",
     "exception": false,
     "start_time": "2022-03-26T14:26:04.085923",
     "status": "completed"
    },
    "tags": []
   },
   "outputs": [],
   "source": [
    "x = np.mean(stress_4[\"Sleeping Hours\"])"
   ]
  },
  {
   "cell_type": "markdown",
   "id": "a7eb4c7e",
   "metadata": {
    "papermill": {
     "duration": 0.030867,
     "end_time": "2022-03-26T14:26:04.187139",
     "exception": false,
     "start_time": "2022-03-26T14:26:04.156272",
     "status": "completed"
    },
    "tags": []
   },
   "source": [
    "# Correlation heatmap sns.heatmap(df.corr())"
   ]
  },
  {
   "cell_type": "code",
   "execution_count": 6,
   "id": "a084a5a4",
   "metadata": {
    "execution": {
     "iopub.execute_input": "2022-03-26T14:26:04.253777Z",
     "iopub.status.busy": "2022-03-26T14:26:04.252755Z",
     "iopub.status.idle": "2022-03-26T14:26:05.003565Z",
     "shell.execute_reply": "2022-03-26T14:26:05.002817Z",
     "shell.execute_reply.started": "2022-03-26T14:11:59.689564Z"
    },
    "papermill": {
     "duration": 0.785039,
     "end_time": "2022-03-26T14:26:05.003775",
     "exception": false,
     "start_time": "2022-03-26T14:26:04.218736",
     "status": "completed"
    },
    "tags": []
   },
   "outputs": [
    {
     "data": {
      "text/plain": [
       "<AxesSubplot:>"
      ]
     },
     "execution_count": 6,
     "metadata": {},
     "output_type": "execute_result"
    },
    {
     "data": {
      "image/png": "[encoded data removed]",
      "text/plain": [
       "<Figure size 504x432 with 2 Axes>"
      ]
     },
     "metadata": {
      "needs_background": "light"
     },
     "output_type": "display_data"
    }
   ],
   "source": [
    "plt.figure(figsize=[7, 6])\n",
    "sns.heatmap(dataset.corr(), annot=True)"
   ]
  },
  {
   "cell_type": "markdown",
   "id": "edbd208e",
   "metadata": {
    "papermill": {
     "duration": 0.03397,
     "end_time": "2022-03-26T14:26:05.072390",
     "exception": false,
     "start_time": "2022-03-26T14:26:05.038420",
     "status": "completed"
    },
    "tags": []
   },
   "source": [
    "# Snoring rate, limb movement, and sleeping hours have the highest correlations, including both positive and negative."
   ]
  },
  {
   "cell_type": "code",
   "execution_count": 7,
   "id": "2b79ef60",
   "metadata": {
    "execution": {
     "iopub.execute_input": "2022-03-26T14:26:05.145680Z",
     "iopub.status.busy": "2022-03-26T14:26:05.144951Z",
     "iopub.status.idle": "2022-03-26T14:26:05.470939Z",
     "shell.execute_reply": "2022-03-26T14:26:05.471475Z",
     "shell.execute_reply.started": "2022-03-26T14:18:38.697199Z"
    },
    "papermill": {
     "duration": 0.363902,
     "end_time": "2022-03-26T14:26:05.471661",
     "exception": false,
     "start_time": "2022-03-26T14:26:05.107759",
     "status": "completed"
    },
    "tags": []
   },
   "outputs": [
    {
     "data": {
      "text/plain": [
       "<AxesSubplot:xlabel='Limb Movement', ylabel='Density'>"
      ]
     },
     "execution_count": 7,
     "metadata": {},
     "output_type": "execute_result"
    },
    {
     "data": {
      "image/png": "[encoded data removed]",
      "text/plain": [
       "<Figure size 504x432 with 1 Axes>"
      ]
     },
     "metadata": {
      "needs_background": "light"
     },
     "output_type": "display_data"
    }
   ],
   "source": [
    "plt.figure(figsize=(7, 6))\n",
    "sns.kdeplot(data=dataset, x=\"Limb Movement\", hue=\"Stress Level\")"
   ]
  },
  {
   "cell_type": "markdown",
   "id": "bea666bb",
   "metadata": {
    "papermill": {
     "duration": 0.035686,
     "end_time": "2022-03-26T14:26:05.543772",
     "exception": false,
     "start_time": "2022-03-26T14:26:05.508086",
     "status": "completed"
    },
    "tags": []
   },
   "source": [
    "# KDEPLOT shows high limb movement equals high stress."
   ]
  },
  {
   "cell_type": "code",
   "execution_count": 8,
   "id": "88cc2bf0",
   "metadata": {
    "execution": {
     "iopub.execute_input": "2022-03-26T14:26:05.622133Z",
     "iopub.status.busy": "2022-03-26T14:26:05.621021Z",
     "iopub.status.idle": "2022-03-26T14:26:05.837355Z",
     "shell.execute_reply": "2022-03-26T14:26:05.837855Z",
     "shell.execute_reply.started": "2022-03-26T14:24:27.316615Z"
    },
    "papermill": {
     "duration": 0.258627,
     "end_time": "2022-03-26T14:26:05.838046",
     "exception": false,
     "start_time": "2022-03-26T14:26:05.579419",
     "status": "completed"
    },
    "tags": []
   },
   "outputs": [
    {
     "data": {
      "text/plain": [
       "Text(0, 0.5, 'Body Temperature (F)')"
      ]
     },
     "execution_count": 8,
     "metadata": {},
     "output_type": "execute_result"
    },
    {
     "data": {
      "image/png": "[encoded data removed]",
      "text/plain": [
       "<Figure size 504x432 with 1 Axes>"
      ]
     },
     "metadata": {
      "needs_background": "light"
     },
     "output_type": "display_data"
    }
   ],
   "source": [
    "body_temps = [stress_0[\"Body Temp\"].mean(), stress_1[\"Body Temp\"].mean(), stress_2[\"Body Temp\"].mean(), stress_3[\"Body Temp\"].mean(), stress_4[\"Body Temp\"].mean()]\n",
    "\n",
    "\n",
    "plt.figure(figsize=[7, 6])\n",
    "plt.title(\"Body Temps and Stress Levels\")\n",
    "sns.barplot(x=stress_level_categories, y=body_temps)\n",
    "plt.ylabel(\"Body Temperature (F)\")"
   ]
  },
  {
   "cell_type": "markdown",
   "id": "42bfa3be",
   "metadata": {
    "papermill": {
     "duration": 0.036495,
     "end_time": "2022-03-26T14:26:05.911138",
     "exception": false,
     "start_time": "2022-03-26T14:26:05.874643",
     "status": "completed"
    },
    "tags": []
   },
   "source": [
    "# As stress increases, body temperature descreases."
   ]
  },
  {
   "cell_type": "markdown",
   "id": "753bfc83",
   "metadata": {
    "papermill": {
     "duration": 0.036508,
     "end_time": "2022-03-26T14:26:05.984442",
     "exception": false,
     "start_time": "2022-03-26T14:26:05.947934",
     "status": "completed"
    },
    "tags": []
   },
   "source": [
    "# Narrow down what features we want through correlation and other exploratory data analysis, comparing features across stress level categories."
   ]
  },
  {
   "cell_type": "code",
   "execution_count": null,
   "id": "480f0982",
   "metadata": {
    "papermill": {
     "duration": 0.037092,
     "end_time": "2022-03-26T14:26:06.058267",
     "exception": false,
     "start_time": "2022-03-26T14:26:06.021175",
     "status": "completed"
    },
    "tags": []
   },
   "outputs": [],
   "source": []
  },
  {
   "cell_type": "markdown",
   "id": "3bed99ad",
   "metadata": {
    "papermill": {
     "duration": 0.036306,
     "end_time": "2022-03-26T14:26:06.131001",
     "exception": false,
     "start_time": "2022-03-26T14:26:06.094695",
     "status": "completed"
    },
    "tags": []
   },
   "source": [
    "# train test split to get X_train, X_test, y_train, y_test. Check distribution after split."
   ]
  },
  {
   "cell_type": "code",
   "execution_count": null,
   "id": "aae9cb87",
   "metadata": {
    "papermill": {
     "duration": 0.036108,
     "end_time": "2022-03-26T14:26:06.203604",
     "exception": false,
     "start_time": "2022-03-26T14:26:06.167496",
     "status": "completed"
    },
    "tags": []
   },
   "outputs": [],
   "source": []
  },
  {
   "cell_type": "markdown",
   "id": "e3735c75",
   "metadata": {
    "papermill": {
     "duration": 0.037235,
     "end_time": "2022-03-26T14:26:06.277905",
     "exception": false,
     "start_time": "2022-03-26T14:26:06.240670",
     "status": "completed"
    },
    "tags": []
   },
   "source": [
    "# train test each model (if we have time try MLP)"
   ]
  },
  {
   "cell_type": "code",
   "execution_count": null,
   "id": "9b4caea0",
   "metadata": {
    "papermill": {
     "duration": 0.036688,
     "end_time": "2022-03-26T14:26:06.352626",
     "exception": false,
     "start_time": "2022-03-26T14:26:06.315938",
     "status": "completed"
    },
    "tags": []
   },
   "outputs": [],
   "source": []
  },
  {
   "cell_type": "markdown",
   "id": "9c982173",
   "metadata": {
    "papermill": {
     "duration": 0.036497,
     "end_time": "2022-03-26T14:26:06.426127",
     "exception": false,
     "start_time": "2022-03-26T14:26:06.389630",
     "status": "completed"
    },
    "tags": []
   },
   "source": [
    "# cross validation of models"
   ]
  },
  {
   "cell_type": "code",
   "execution_count": null,
   "id": "6e0a68d1",
   "metadata": {
    "papermill": {
     "duration": 0.03656,
     "end_time": "2022-03-26T14:26:06.499221",
     "exception": false,
     "start_time": "2022-03-26T14:26:06.462661",
     "status": "completed"
    },
    "tags": []
   },
   "outputs": [],
   "source": []
  },
  {
   "cell_type": "markdown",
   "id": "edc9edbc",
   "metadata": {
    "papermill": {
     "duration": 0.03624,
     "end_time": "2022-03-26T14:26:06.571926",
     "exception": false,
     "start_time": "2022-03-26T14:26:06.535686",
     "status": "completed"
    },
    "tags": []
   },
   "source": [
    "# evaluation metrics and run time evaluation"
   ]
  },
  {
   "cell_type": "code",
   "execution_count": null,
   "id": "3fa40b89",
   "metadata": {
    "papermill": {
     "duration": 0.037486,
     "end_time": "2022-03-26T14:26:06.646697",
     "exception": false,
     "start_time": "2022-03-26T14:26:06.609211",
     "status": "completed"
    },
    "tags": []
   },
   "outputs": [],
   "source": []
  },
  {
   "cell_type": "markdown",
   "id": "44577c11",
   "metadata": {
    "papermill": {
     "duration": 0.0362,
     "end_time": "2022-03-26T14:26:06.719492",
     "exception": false,
     "start_time": "2022-03-26T14:26:06.683292",
     "status": "completed"
    },
    "tags": []
   },
   "source": [
    "# baseline of mode and random off of entire datset"
   ]
  },
  {
   "cell_type": "code",
   "execution_count": null,
   "id": "ef4b04ef",
   "metadata": {
    "papermill": {
     "duration": 0.036254,
     "end_time": "2022-03-26T14:26:06.792400",
     "exception": false,
     "start_time": "2022-03-26T14:26:06.756146",
     "status": "completed"
    },
    "tags": []
   },
   "outputs": [],
   "source": []
  },
  {
   "cell_type": "markdown",
   "id": "9a007e3e",
   "metadata": {
    "papermill": {
     "duration": 0.036075,
     "end_time": "2022-03-26T14:26:06.864891",
     "exception": false,
     "start_time": "2022-03-26T14:26:06.828816",
     "status": "completed"
    },
    "tags": []
   },
   "source": [
    "# create a small dataframe with model name that shows accuracy, precision, recall, runtime"
   ]
  },
  {
   "cell_type": "code",
   "execution_count": null,
   "id": "72c3319c",
   "metadata": {
    "papermill": {
     "duration": 0.036424,
     "end_time": "2022-03-26T14:26:06.937848",
     "exception": false,
     "start_time": "2022-03-26T14:26:06.901424",
     "status": "completed"
    },
    "tags": []
   },
   "outputs": [],
   "source": []
  },
  {
   "cell_type": "markdown",
   "id": "90964bdf",
   "metadata": {
    "papermill": {
     "duration": 0.037306,
     "end_time": "2022-03-26T14:26:07.012440",
     "exception": false,
     "start_time": "2022-03-26T14:26:06.975134",
     "status": "completed"
    },
    "tags": []
   },
   "source": [
    "# learning curve for each model? If curve needs data, maybe add synthetic data?"
   ]
  },
  {
   "cell_type": "code",
   "execution_count": null,
   "id": "298c2f5b",
   "metadata": {
    "papermill": {
     "duration": 0.036304,
     "end_time": "2022-03-26T14:26:07.085504",
     "exception": false,
     "start_time": "2022-03-26T14:26:07.049200",
     "status": "completed"
    },
    "tags": []
   },
   "outputs": [],
   "source": []
  },
  {
   "cell_type": "markdown",
   "id": "b865ad3e",
   "metadata": {
    "papermill": {
     "duration": 0.036213,
     "end_time": "2022-03-26T14:26:07.158303",
     "exception": false,
     "start_time": "2022-03-26T14:26:07.122090",
     "status": "completed"
    },
    "tags": []
   },
   "source": [
    "# Hyperparameter Tuning"
   ]
  },
  {
   "cell_type": "code",
   "execution_count": null,
   "id": "e724d72c",
   "metadata": {
    "papermill": {
     "duration": 0.035961,
     "end_time": "2022-03-26T14:26:07.231157",
     "exception": false,
     "start_time": "2022-03-26T14:26:07.195196",
     "status": "completed"
    },
    "tags": []
   },
   "outputs": [],
   "source": []
  },
  {
   "cell_type": "markdown",
   "id": "67f4e93f",
   "metadata": {
    "papermill": {
     "duration": 0.036199,
     "end_time": "2022-03-26T14:26:07.303762",
     "exception": false,
     "start_time": "2022-03-26T14:26:07.267563",
     "status": "completed"
    },
    "tags": []
   },
   "source": [
    "# Figure out best model and do confusion matrix"
   ]
  },
  {
   "cell_type": "code",
   "execution_count": null,
   "id": "40a4acd8",
   "metadata": {
    "papermill": {
     "duration": 0.036322,
     "end_time": "2022-03-26T14:26:07.376582",
     "exception": false,
     "start_time": "2022-03-26T14:26:07.340260",
     "status": "completed"
    },
    "tags": []
   },
   "outputs": [],
   "source": []
  },
  {
   "cell_type": "markdown",
   "id": "e3b0539b",
   "metadata": {
    "papermill": {
     "duration": 0.036158,
     "end_time": "2022-03-26T14:26:07.449383",
     "exception": false,
     "start_time": "2022-03-26T14:26:07.413225",
     "status": "completed"
    },
    "tags": []
   },
   "source": [
    "# Feature importance to see what sleep features matter"
   ]
  },
  {
   "cell_type": "code",
   "execution_count": null,
   "id": "1490276c",
   "metadata": {
    "papermill": {
     "duration": 0.036152,
     "end_time": "2022-03-26T14:26:07.522118",
     "exception": false,
     "start_time": "2022-03-26T14:26:07.485966",
     "status": "completed"
    },
    "tags": []
   },
   "outputs": [],
   "source": []
  }
 ],
 "metadata": {
  "kernelspec": {
   "display_name": "Python 3",
   "language": "python",
   "name": "python3"
  },
  "language_info": {
   "codemirror_mode": {
    "name": "ipython",
    "version": 3
   },
   "file_extension": ".py",
   "mimetype": "text/x-python",
   "name": "python",
   "nbconvert_exporter": "python",
   "pygments_lexer": "ipython3",
   "version": "3.7.12"
  },
  "papermill": {
   "default_parameters": {},
   "duration": 16.312213,
   "end_time": "2022-03-26T14:26:08.371140",
   "environment_variables": {},
   "exception": null,
   "input_path": "__notebook__.ipynb",
   "output_path": "__notebook__.ipynb",
   "parameters": {},
   "start_time": "2022-03-26T14:25:52.058927",
   "version": "2.3.3"
  }
 },
 "nbformat": 4,
 "nbformat_minor": 5
}
