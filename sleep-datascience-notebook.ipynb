{
 "cells": [
  {
   "cell_type": "code",
   "execution_count": 1,
   "id": "062f9250",
   "metadata": {
    "_cell_guid": "b1076dfc-b9ad-4769-8c92-a6c4dae69d19",
    "_uuid": "8f2839f25d086af736a60e9eeb907d3b93b6e0e5",
    "execution": {
     "iopub.execute_input": "2022-03-28T23:31:12.523511Z",
     "iopub.status.busy": "2022-03-28T23:31:12.522761Z",
     "iopub.status.idle": "2022-03-28T23:31:13.572153Z",
     "shell.execute_reply": "2022-03-28T23:31:13.573231Z",
     "shell.execute_reply.started": "2022-03-28T23:20:32.361619Z"
    },
    "papermill": {
     "duration": 1.101911,
     "end_time": "2022-03-28T23:31:13.573721",
     "exception": false,
     "start_time": "2022-03-28T23:31:12.471810",
     "status": "completed"
    },
    "tags": []
   },
   "outputs": [
    {
     "name": "stdout",
     "output_type": "stream",
     "text": [
      "/kaggle/input/human-stress-detection-in-and-through-sleep/SaYoPillow.csv\n",
      "/kaggle/input/human-stress-detection-in-and-through-sleep/IEEE-TCE_2020-08-0175_SaYoPillow.pdf\n",
      "/kaggle/input/human-stress-detection-in-and-through-sleep/readme.docx\n"
     ]
    }
   ],
   "source": [
    "# This Python 3 environment comes with many helpful analytics libraries installed\n",
    "# It is defined by the kaggle/python Docker image: https://github.com/kaggle/docker-python\n",
    "# For example, here's several helpful packages to load\n",
    "\n",
    "import time\n",
    "import warnings\n",
    "import numpy as np # linear algebra\n",
    "import pandas as pd # data processing, CSV file I/O (e.g. pd.read_csv)\n",
    "import seaborn as sns\n",
    "import matplotlib.pyplot as plt\n",
    "\n",
    "# Input data files are available in the read-only \"../input/\" directory\n",
    "# For example, running this (by clicking run or pressing Shift+Enter) will list all files under the input directory\n",
    "\n",
    "import os\n",
    "for dirname, _, filenames in os.walk('/kaggle/input'):\n",
    "    for filename in filenames:\n",
    "        print(os.path.join(dirname, filename))\n",
    "\n",
    "# You can write up to 20GB to the current directory (/kaggle/working/) that gets preserved as output when you create a version using \"Save & Run All\" \n",
    "# You can also write temporary files to /kaggle/temp/, but they won't be saved outside of the current session\n",
    "\n",
    "warnings.filterwarnings(\"ignore\")"
   ]
  },
  {
   "cell_type": "markdown",
   "id": "afcc88fb",
   "metadata": {
    "papermill": {
     "duration": 0.037556,
     "end_time": "2022-03-28T23:31:13.652097",
     "exception": false,
     "start_time": "2022-03-28T23:31:13.614541",
     "status": "completed"
    },
    "tags": []
   },
   "source": [
    "# Read Data in and do head"
   ]
  },
  {
   "cell_type": "code",
   "execution_count": 2,
   "id": "878d9d00",
   "metadata": {
    "execution": {
     "iopub.execute_input": "2022-03-28T23:31:13.733416Z",
     "iopub.status.busy": "2022-03-28T23:31:13.732704Z",
     "iopub.status.idle": "2022-03-28T23:31:13.766713Z",
     "shell.execute_reply": "2022-03-28T23:31:13.767260Z",
     "shell.execute_reply.started": "2022-03-28T23:20:32.522148Z"
    },
    "papermill": {
     "duration": 0.077639,
     "end_time": "2022-03-28T23:31:13.767448",
     "exception": false,
     "start_time": "2022-03-28T23:31:13.689809",
     "status": "completed"
    },
    "tags": []
   },
   "outputs": [
    {
     "data": {
      "text/html": [
       "<div>\n",
       "<style scoped>\n",
       "    .dataframe tbody tr th:only-of-type {\n",
       "        vertical-align: middle;\n",
       "    }\n",
       "\n",
       "    .dataframe tbody tr th {\n",
       "        vertical-align: top;\n",
       "    }\n",
       "\n",
       "    .dataframe thead th {\n",
       "        text-align: right;\n",
       "    }\n",
       "</style>\n",
       "<table border=\"1\" class=\"dataframe\">\n",
       "  <thead>\n",
       "    <tr style=\"text-align: right;\">\n",
       "      <th></th>\n",
       "      <th>sr</th>\n",
       "      <th>rr</th>\n",
       "      <th>t</th>\n",
       "      <th>lm</th>\n",
       "      <th>bo</th>\n",
       "      <th>rem</th>\n",
       "      <th>sr.1</th>\n",
       "      <th>hr</th>\n",
       "      <th>sl</th>\n",
       "    </tr>\n",
       "  </thead>\n",
       "  <tbody>\n",
       "    <tr>\n",
       "      <th>0</th>\n",
       "      <td>93.80</td>\n",
       "      <td>25.680</td>\n",
       "      <td>91.840</td>\n",
       "      <td>16.600</td>\n",
       "      <td>89.840</td>\n",
       "      <td>99.60</td>\n",
       "      <td>1.840</td>\n",
       "      <td>74.20</td>\n",
       "      <td>3</td>\n",
       "    </tr>\n",
       "    <tr>\n",
       "      <th>1</th>\n",
       "      <td>91.64</td>\n",
       "      <td>25.104</td>\n",
       "      <td>91.552</td>\n",
       "      <td>15.880</td>\n",
       "      <td>89.552</td>\n",
       "      <td>98.88</td>\n",
       "      <td>1.552</td>\n",
       "      <td>72.76</td>\n",
       "      <td>3</td>\n",
       "    </tr>\n",
       "    <tr>\n",
       "      <th>2</th>\n",
       "      <td>60.00</td>\n",
       "      <td>20.000</td>\n",
       "      <td>96.000</td>\n",
       "      <td>10.000</td>\n",
       "      <td>95.000</td>\n",
       "      <td>85.00</td>\n",
       "      <td>7.000</td>\n",
       "      <td>60.00</td>\n",
       "      <td>1</td>\n",
       "    </tr>\n",
       "    <tr>\n",
       "      <th>3</th>\n",
       "      <td>85.76</td>\n",
       "      <td>23.536</td>\n",
       "      <td>90.768</td>\n",
       "      <td>13.920</td>\n",
       "      <td>88.768</td>\n",
       "      <td>96.92</td>\n",
       "      <td>0.768</td>\n",
       "      <td>68.84</td>\n",
       "      <td>3</td>\n",
       "    </tr>\n",
       "    <tr>\n",
       "      <th>4</th>\n",
       "      <td>48.12</td>\n",
       "      <td>17.248</td>\n",
       "      <td>97.872</td>\n",
       "      <td>6.496</td>\n",
       "      <td>96.248</td>\n",
       "      <td>72.48</td>\n",
       "      <td>8.248</td>\n",
       "      <td>53.12</td>\n",
       "      <td>0</td>\n",
       "    </tr>\n",
       "  </tbody>\n",
       "</table>\n",
       "</div>"
      ],
      "text/plain": [
       "      sr      rr       t      lm      bo    rem   sr.1     hr  sl\n",
       "0  93.80  25.680  91.840  16.600  89.840  99.60  1.840  74.20   3\n",
       "1  91.64  25.104  91.552  15.880  89.552  98.88  1.552  72.76   3\n",
       "2  60.00  20.000  96.000  10.000  95.000  85.00  7.000  60.00   1\n",
       "3  85.76  23.536  90.768  13.920  88.768  96.92  0.768  68.84   3\n",
       "4  48.12  17.248  97.872   6.496  96.248  72.48  8.248  53.12   0"
      ]
     },
     "execution_count": 2,
     "metadata": {},
     "output_type": "execute_result"
    }
   ],
   "source": [
    "np.random.seed(42)\n",
    "dataset = pd.read_csv(\"../input/human-stress-detection-in-and-through-sleep/SaYoPillow.csv\")\n",
    "\n",
    "dataset.head()"
   ]
  },
  {
   "cell_type": "markdown",
   "id": "4506d2d3",
   "metadata": {
    "papermill": {
     "duration": 0.04013,
     "end_time": "2022-03-28T23:31:13.846733",
     "exception": false,
     "start_time": "2022-03-28T23:31:13.806603",
     "status": "completed"
    },
    "tags": []
   },
   "source": [
    "# Change names of columns\n"
   ]
  },
  {
   "cell_type": "code",
   "execution_count": 3,
   "id": "909ca97f",
   "metadata": {
    "execution": {
     "iopub.execute_input": "2022-03-28T23:31:13.929276Z",
     "iopub.status.busy": "2022-03-28T23:31:13.928565Z",
     "iopub.status.idle": "2022-03-28T23:31:13.948702Z",
     "shell.execute_reply": "2022-03-28T23:31:13.949214Z",
     "shell.execute_reply.started": "2022-03-28T23:20:32.648352Z"
    },
    "papermill": {
     "duration": 0.062192,
     "end_time": "2022-03-28T23:31:13.949397",
     "exception": false,
     "start_time": "2022-03-28T23:31:13.887205",
     "status": "completed"
    },
    "tags": []
   },
   "outputs": [
    {
     "data": {
      "text/html": [
       "<div>\n",
       "<style scoped>\n",
       "    .dataframe tbody tr th:only-of-type {\n",
       "        vertical-align: middle;\n",
       "    }\n",
       "\n",
       "    .dataframe tbody tr th {\n",
       "        vertical-align: top;\n",
       "    }\n",
       "\n",
       "    .dataframe thead th {\n",
       "        text-align: right;\n",
       "    }\n",
       "</style>\n",
       "<table border=\"1\" class=\"dataframe\">\n",
       "  <thead>\n",
       "    <tr style=\"text-align: right;\">\n",
       "      <th></th>\n",
       "      <th>Snoring Rate</th>\n",
       "      <th>Respiration Rate</th>\n",
       "      <th>Body Temp</th>\n",
       "      <th>Limb Movement</th>\n",
       "      <th>Blood Oxygen</th>\n",
       "      <th>Eye Movement</th>\n",
       "      <th>Sleeping Hours</th>\n",
       "      <th>Heart Rate</th>\n",
       "      <th>Stress Level</th>\n",
       "    </tr>\n",
       "  </thead>\n",
       "  <tbody>\n",
       "    <tr>\n",
       "      <th>0</th>\n",
       "      <td>93.80</td>\n",
       "      <td>25.680</td>\n",
       "      <td>91.840</td>\n",
       "      <td>16.600</td>\n",
       "      <td>89.840</td>\n",
       "      <td>99.60</td>\n",
       "      <td>1.840</td>\n",
       "      <td>74.20</td>\n",
       "      <td>3</td>\n",
       "    </tr>\n",
       "    <tr>\n",
       "      <th>1</th>\n",
       "      <td>91.64</td>\n",
       "      <td>25.104</td>\n",
       "      <td>91.552</td>\n",
       "      <td>15.880</td>\n",
       "      <td>89.552</td>\n",
       "      <td>98.88</td>\n",
       "      <td>1.552</td>\n",
       "      <td>72.76</td>\n",
       "      <td>3</td>\n",
       "    </tr>\n",
       "    <tr>\n",
       "      <th>2</th>\n",
       "      <td>60.00</td>\n",
       "      <td>20.000</td>\n",
       "      <td>96.000</td>\n",
       "      <td>10.000</td>\n",
       "      <td>95.000</td>\n",
       "      <td>85.00</td>\n",
       "      <td>7.000</td>\n",
       "      <td>60.00</td>\n",
       "      <td>1</td>\n",
       "    </tr>\n",
       "    <tr>\n",
       "      <th>3</th>\n",
       "      <td>85.76</td>\n",
       "      <td>23.536</td>\n",
       "      <td>90.768</td>\n",
       "      <td>13.920</td>\n",
       "      <td>88.768</td>\n",
       "      <td>96.92</td>\n",
       "      <td>0.768</td>\n",
       "      <td>68.84</td>\n",
       "      <td>3</td>\n",
       "    </tr>\n",
       "    <tr>\n",
       "      <th>4</th>\n",
       "      <td>48.12</td>\n",
       "      <td>17.248</td>\n",
       "      <td>97.872</td>\n",
       "      <td>6.496</td>\n",
       "      <td>96.248</td>\n",
       "      <td>72.48</td>\n",
       "      <td>8.248</td>\n",
       "      <td>53.12</td>\n",
       "      <td>0</td>\n",
       "    </tr>\n",
       "  </tbody>\n",
       "</table>\n",
       "</div>"
      ],
      "text/plain": [
       "   Snoring Rate  Respiration Rate  Body Temp  Limb Movement  Blood Oxygen  \\\n",
       "0         93.80            25.680     91.840         16.600        89.840   \n",
       "1         91.64            25.104     91.552         15.880        89.552   \n",
       "2         60.00            20.000     96.000         10.000        95.000   \n",
       "3         85.76            23.536     90.768         13.920        88.768   \n",
       "4         48.12            17.248     97.872          6.496        96.248   \n",
       "\n",
       "   Eye Movement  Sleeping Hours  Heart Rate  Stress Level  \n",
       "0         99.60           1.840       74.20             3  \n",
       "1         98.88           1.552       72.76             3  \n",
       "2         85.00           7.000       60.00             1  \n",
       "3         96.92           0.768       68.84             3  \n",
       "4         72.48           8.248       53.12             0  "
      ]
     },
     "execution_count": 3,
     "metadata": {},
     "output_type": "execute_result"
    }
   ],
   "source": [
    "dataset = dataset.rename(columns={\"sr\" : \"Snoring Rate\", \"rr\" : \"Respiration Rate\", \"t\": \"Body Temp\", \"lm\" : \"Limb Movement\",\n",
    "                       \"bo\" : \"Blood Oxygen\", \"rem\" : \"Eye Movement\", \"sr.1\" : \"Sleeping Hours\", \"hr\" : \"Heart Rate\", \"sl\" : \"Stress Level\"})\n",
    "\n",
    "dataset.head()"
   ]
  },
  {
   "cell_type": "markdown",
   "id": "572fe736",
   "metadata": {
    "papermill": {
     "duration": 0.038888,
     "end_time": "2022-03-28T23:31:14.029206",
     "exception": false,
     "start_time": "2022-03-28T23:31:13.990318",
     "status": "completed"
    },
    "tags": []
   },
   "source": [
    "# Show distribution of the categories"
   ]
  },
  {
   "cell_type": "code",
   "execution_count": 4,
   "id": "8c8b4db1",
   "metadata": {
    "execution": {
     "iopub.execute_input": "2022-03-28T23:31:14.115567Z",
     "iopub.status.busy": "2022-03-28T23:31:14.114470Z",
     "iopub.status.idle": "2022-03-28T23:31:14.333185Z",
     "shell.execute_reply": "2022-03-28T23:31:14.333674Z",
     "shell.execute_reply.started": "2022-03-28T23:20:32.764789Z"
    },
    "papermill": {
     "duration": 0.264914,
     "end_time": "2022-03-28T23:31:14.333881",
     "exception": false,
     "start_time": "2022-03-28T23:31:14.068967",
     "status": "completed"
    },
    "tags": []
   },
   "outputs": [
    {
     "data": {
      "text/plain": [
       "Text(0, 0.5, 'Counts')"
      ]
     },
     "execution_count": 4,
     "metadata": {},
     "output_type": "execute_result"
    },
    {
     "data": {
      "image/png": "[encoded data removed]",
      "text/plain": [
       "<Figure size 432x432 with 1 Axes>"
      ]
     },
     "metadata": {
      "needs_background": "light"
     },
     "output_type": "display_data"
    }
   ],
   "source": [
    "stress_0 = dataset[dataset[\"Stress Level\"] == 0]\n",
    "stress_1 = dataset[dataset[\"Stress Level\"] == 1]\n",
    "stress_2 = dataset[dataset[\"Stress Level\"] == 2]\n",
    "stress_3 = dataset[dataset[\"Stress Level\"] == 3]\n",
    "stress_4 = dataset[dataset[\"Stress Level\"] == 4]\n",
    "\n",
    "stress_level_categories = [\"Level 0\", \"Level 1\", \"Level 2\", \"Level 3\", \"Level 4\"]\n",
    "\n",
    "stress_level_distribution = [len(stress_0), len(stress_1), len(stress_2), len(stress_3), len(stress_4)]\n",
    "\n",
    "plt.figure(figsize=[6, 6])\n",
    "sns.barplot(x=stress_level_categories, y=stress_level_distribution)\n",
    "\n",
    "plt.title(\"Stress Level Categories and Their Counts\")\n",
    "plt.ylabel(\"Counts\")"
   ]
  },
  {
   "cell_type": "markdown",
   "id": "deece1b7",
   "metadata": {
    "papermill": {
     "duration": 0.041863,
     "end_time": "2022-03-28T23:31:14.419043",
     "exception": false,
     "start_time": "2022-03-28T23:31:14.377180",
     "status": "completed"
    },
    "tags": []
   },
   "source": [
    "# Exploratory Data Analysis (plot average sleep for each category with seaborn barplot)"
   ]
  },
  {
   "cell_type": "code",
   "execution_count": 5,
   "id": "8b6feedb",
   "metadata": {
    "execution": {
     "iopub.execute_input": "2022-03-28T23:31:14.513578Z",
     "iopub.status.busy": "2022-03-28T23:31:14.512438Z",
     "iopub.status.idle": "2022-03-28T23:31:14.697290Z",
     "shell.execute_reply": "2022-03-28T23:31:14.696600Z",
     "shell.execute_reply.started": "2022-03-28T23:20:33.121758Z"
    },
    "papermill": {
     "duration": 0.233841,
     "end_time": "2022-03-28T23:31:14.697454",
     "exception": false,
     "start_time": "2022-03-28T23:31:14.463613",
     "status": "completed"
    },
    "tags": []
   },
   "outputs": [
    {
     "data": {
      "text/plain": [
       "Text(0, 0.5, 'Average Hours of Sleep')"
      ]
     },
     "execution_count": 5,
     "metadata": {},
     "output_type": "execute_result"
    },
    {
     "data": {
      "image/png": "[encoded data removed]",
      "text/plain": [
       "<Figure size 504x432 with 1 Axes>"
      ]
     },
     "metadata": {
      "needs_background": "light"
     },
     "output_type": "display_data"
    }
   ],
   "source": [
    "stress_0_sleep = np.mean(stress_0[\"Sleeping Hours\"])\n",
    "stress_1_sleep = np.mean(stress_1[\"Sleeping Hours\"])\n",
    "stress_2_sleep = np.mean(stress_2[\"Sleeping Hours\"])\n",
    "stress_3_sleep = np.mean(stress_3[\"Sleeping Hours\"])\n",
    "stress_4_sleep = np.mean(stress_4[\"Sleeping Hours\"])\n",
    "\n",
    "sleep_per_stress_level = [stress_0_sleep, stress_1_sleep, stress_2_sleep, stress_3_sleep, stress_4_sleep]\n",
    "\n",
    "plt.figure(figsize=[7, 6])\n",
    "plt.title(\"Average Hours Slept and Stress\")\n",
    "sns.barplot(x=stress_level_categories, y=sleep_per_stress_level)\n",
    "\n",
    "plt.ylabel(\"Average Hours of Sleep\")"
   ]
  },
  {
   "cell_type": "markdown",
   "id": "a70e16ec",
   "metadata": {
    "papermill": {
     "duration": 0.042133,
     "end_time": "2022-03-28T23:31:14.782143",
     "exception": false,
     "start_time": "2022-03-28T23:31:14.740010",
     "status": "completed"
    },
    "tags": []
   },
   "source": [
    "# Correlation heatmap sns.heatmap(df.corr())"
   ]
  },
  {
   "cell_type": "code",
   "execution_count": 6,
   "id": "42d4bf43",
   "metadata": {
    "execution": {
     "iopub.execute_input": "2022-03-28T23:31:14.873782Z",
     "iopub.status.busy": "2022-03-28T23:31:14.873068Z",
     "iopub.status.idle": "2022-03-28T23:31:15.616962Z",
     "shell.execute_reply": "2022-03-28T23:31:15.617480Z",
     "shell.execute_reply.started": "2022-03-28T23:20:33.363100Z"
    },
    "papermill": {
     "duration": 0.79323,
     "end_time": "2022-03-28T23:31:15.617678",
     "exception": false,
     "start_time": "2022-03-28T23:31:14.824448",
     "status": "completed"
    },
    "tags": []
   },
   "outputs": [
    {
     "data": {
      "text/plain": [
       "<AxesSubplot:>"
      ]
     },
     "execution_count": 6,
     "metadata": {},
     "output_type": "execute_result"
    },
    {
     "data": {
      "image/png": "[encoded data removed]",
      "text/plain": [
       "<Figure size 504x432 with 2 Axes>"
      ]
     },
     "metadata": {
      "needs_background": "light"
     },
     "output_type": "display_data"
    }
   ],
   "source": [
    "plt.figure(figsize=[7, 6])\n",
    "sns.heatmap(dataset.corr(), annot=True)"
   ]
  },
  {
   "cell_type": "markdown",
   "id": "9b33d04d",
   "metadata": {
    "papermill": {
     "duration": 0.043898,
     "end_time": "2022-03-28T23:31:15.707806",
     "exception": false,
     "start_time": "2022-03-28T23:31:15.663908",
     "status": "completed"
    },
    "tags": []
   },
   "source": [
    "# Snoring rate, limb movement, and sleeping hours have the highest correlations, including both positive and negative. The paper mentioned snoring rate being an important feature to use."
   ]
  },
  {
   "cell_type": "code",
   "execution_count": 7,
   "id": "bb7d0809",
   "metadata": {
    "execution": {
     "iopub.execute_input": "2022-03-28T23:31:15.801568Z",
     "iopub.status.busy": "2022-03-28T23:31:15.800802Z",
     "iopub.status.idle": "2022-03-28T23:31:16.091752Z",
     "shell.execute_reply": "2022-03-28T23:31:16.092317Z",
     "shell.execute_reply.started": "2022-03-28T23:20:34.127089Z"
    },
    "papermill": {
     "duration": 0.341009,
     "end_time": "2022-03-28T23:31:16.092503",
     "exception": false,
     "start_time": "2022-03-28T23:31:15.751494",
     "status": "completed"
    },
    "tags": []
   },
   "outputs": [
    {
     "data": {
      "text/plain": [
       "<AxesSubplot:xlabel='Limb Movement', ylabel='Density'>"
      ]
     },
     "execution_count": 7,
     "metadata": {},
     "output_type": "execute_result"
    },
    {
     "data": {
      "image/png": "[encoded data removed]",
      "text/plain": [
       "<Figure size 504x432 with 1 Axes>"
      ]
     },
     "metadata": {
      "needs_background": "light"
     },
     "output_type": "display_data"
    }
   ],
   "source": [
    "plt.figure(figsize=(7, 6))\n",
    "sns.kdeplot(data=dataset, x=\"Limb Movement\", hue=\"Stress Level\")"
   ]
  },
  {
   "cell_type": "markdown",
   "id": "722a54d1",
   "metadata": {
    "papermill": {
     "duration": 0.045011,
     "end_time": "2022-03-28T23:31:16.183068",
     "exception": false,
     "start_time": "2022-03-28T23:31:16.138057",
     "status": "completed"
    },
    "tags": []
   },
   "source": [
    "# KDEPLOT shows high limb movement equals high stress."
   ]
  },
  {
   "cell_type": "code",
   "execution_count": 8,
   "id": "151b97d1",
   "metadata": {
    "execution": {
     "iopub.execute_input": "2022-03-28T23:31:16.308575Z",
     "iopub.status.busy": "2022-03-28T23:31:16.291360Z",
     "iopub.status.idle": "2022-03-28T23:31:16.452191Z",
     "shell.execute_reply": "2022-03-28T23:31:16.452713Z",
     "shell.execute_reply.started": "2022-03-28T23:20:34.440637Z"
    },
    "papermill": {
     "duration": 0.22454,
     "end_time": "2022-03-28T23:31:16.452944",
     "exception": false,
     "start_time": "2022-03-28T23:31:16.228404",
     "status": "completed"
    },
    "tags": []
   },
   "outputs": [
    {
     "data": {
      "text/plain": [
       "Text(0, 0.5, 'Body Temperature (F)')"
      ]
     },
     "execution_count": 8,
     "metadata": {},
     "output_type": "execute_result"
    },
    {
     "data": {
      "image/png": "[encoded data removed]",
      "text/plain": [
       "<Figure size 504x432 with 1 Axes>"
      ]
     },
     "metadata": {
      "needs_background": "light"
     },
     "output_type": "display_data"
    }
   ],
   "source": [
    "body_temps = [stress_0[\"Body Temp\"].mean(), stress_1[\"Body Temp\"].mean(), stress_2[\"Body Temp\"].mean(), stress_3[\"Body Temp\"].mean(), stress_4[\"Body Temp\"].mean()]\n",
    "\n",
    "\n",
    "plt.figure(figsize=[7, 6])\n",
    "plt.title(\"Body Temps and Stress Levels\")\n",
    "sns.barplot(x=stress_level_categories, y=body_temps)\n",
    "plt.ylabel(\"Body Temperature (F)\")"
   ]
  },
  {
   "cell_type": "markdown",
   "id": "850d5c5a",
   "metadata": {
    "papermill": {
     "duration": 0.046486,
     "end_time": "2022-03-28T23:31:16.546232",
     "exception": false,
     "start_time": "2022-03-28T23:31:16.499746",
     "status": "completed"
    },
    "tags": []
   },
   "source": [
    "# As stress increases, body temperature descreases."
   ]
  },
  {
   "cell_type": "markdown",
   "id": "5fb48e52",
   "metadata": {
    "papermill": {
     "duration": 0.049591,
     "end_time": "2022-03-28T23:31:16.643882",
     "exception": false,
     "start_time": "2022-03-28T23:31:16.594291",
     "status": "completed"
    },
    "tags": []
   },
   "source": [
    "# "
   ]
  },
  {
   "cell_type": "markdown",
   "id": "91d09616",
   "metadata": {
    "papermill": {
     "duration": 0.04655,
     "end_time": "2022-03-28T23:31:16.738896",
     "exception": false,
     "start_time": "2022-03-28T23:31:16.692346",
     "status": "completed"
    },
    "tags": []
   },
   "source": [
    "# train test split to get X_train, X_test, y_train, y_test. Check distribution after split."
   ]
  },
  {
   "cell_type": "code",
   "execution_count": 9,
   "id": "db6708ab",
   "metadata": {
    "execution": {
     "iopub.execute_input": "2022-03-28T23:31:16.838932Z",
     "iopub.status.busy": "2022-03-28T23:31:16.835566Z",
     "iopub.status.idle": "2022-03-28T23:31:17.027696Z",
     "shell.execute_reply": "2022-03-28T23:31:17.028261Z",
     "shell.execute_reply.started": "2022-03-28T23:20:34.658993Z"
    },
    "papermill": {
     "duration": 0.24269,
     "end_time": "2022-03-28T23:31:17.028440",
     "exception": false,
     "start_time": "2022-03-28T23:31:16.785750",
     "status": "completed"
    },
    "tags": []
   },
   "outputs": [],
   "source": [
    "from sklearn.model_selection import train_test_split\n",
    "\n",
    "np_dataset = dataset.to_numpy()\n",
    "all_x = np_dataset[:,0:8]\n",
    "all_y = np_dataset[:,8]\n",
    "\n",
    "train_x, test_x, train_y, test_y = train_test_split(all_x, all_y, test_size=.33)"
   ]
  },
  {
   "cell_type": "markdown",
   "id": "bed06296",
   "metadata": {
    "papermill": {
     "duration": 0.047137,
     "end_time": "2022-03-28T23:31:17.122400",
     "exception": false,
     "start_time": "2022-03-28T23:31:17.075263",
     "status": "completed"
    },
    "tags": []
   },
   "source": [
    "# Train RandomForest Classifier"
   ]
  },
  {
   "cell_type": "code",
   "execution_count": 10,
   "id": "aee00d7b",
   "metadata": {
    "execution": {
     "iopub.execute_input": "2022-03-28T23:31:17.220455Z",
     "iopub.status.busy": "2022-03-28T23:31:17.219454Z",
     "iopub.status.idle": "2022-03-28T23:31:17.638619Z",
     "shell.execute_reply": "2022-03-28T23:31:17.638024Z",
     "shell.execute_reply.started": "2022-03-28T23:20:34.667808Z"
    },
    "papermill": {
     "duration": 0.46954,
     "end_time": "2022-03-28T23:31:17.638769",
     "exception": false,
     "start_time": "2022-03-28T23:31:17.169229",
     "status": "completed"
    },
    "tags": []
   },
   "outputs": [],
   "source": [
    "from sklearn.ensemble import RandomForestClassifier\n",
    "\n",
    "rf_start = time.time()\n",
    "RFmodel = RandomForestClassifier()\n",
    "RFmodel.fit(train_x, train_y)\n",
    "rf_stop = time.time()"
   ]
  },
  {
   "cell_type": "markdown",
   "id": "21d96bb7",
   "metadata": {
    "papermill": {
     "duration": 0.047804,
     "end_time": "2022-03-28T23:31:17.734258",
     "exception": false,
     "start_time": "2022-03-28T23:31:17.686454",
     "status": "completed"
    },
    "tags": []
   },
   "source": [
    "# Train Gradient Boosting Classifier"
   ]
  },
  {
   "cell_type": "code",
   "execution_count": 11,
   "id": "c387b3a3",
   "metadata": {
    "execution": {
     "iopub.execute_input": "2022-03-28T23:31:17.831822Z",
     "iopub.status.busy": "2022-03-28T23:31:17.830764Z",
     "iopub.status.idle": "2022-03-28T23:31:18.335967Z",
     "shell.execute_reply": "2022-03-28T23:31:18.334725Z",
     "shell.execute_reply.started": "2022-03-28T23:20:34.858569Z"
    },
    "papermill": {
     "duration": 0.555202,
     "end_time": "2022-03-28T23:31:18.336127",
     "exception": false,
     "start_time": "2022-03-28T23:31:17.780925",
     "status": "completed"
    },
    "tags": []
   },
   "outputs": [],
   "source": [
    "from sklearn.ensemble import GradientBoostingClassifier\n",
    "\n",
    "gbc_start = time.time()\n",
    "GBCmodel = GradientBoostingClassifier()\n",
    "GBCmodel.fit(train_x, train_y)\n",
    "gbc_stop = time.time()"
   ]
  },
  {
   "cell_type": "markdown",
   "id": "58cd5162",
   "metadata": {
    "papermill": {
     "duration": 0.04654,
     "end_time": "2022-03-28T23:31:18.429243",
     "exception": false,
     "start_time": "2022-03-28T23:31:18.382703",
     "status": "completed"
    },
    "tags": []
   },
   "source": [
    "# Train XGBoost Classifier"
   ]
  },
  {
   "cell_type": "code",
   "execution_count": 12,
   "id": "b15dc2be",
   "metadata": {
    "execution": {
     "iopub.execute_input": "2022-03-28T23:31:18.528940Z",
     "iopub.status.busy": "2022-03-28T23:31:18.528099Z",
     "iopub.status.idle": "2022-03-28T23:31:19.186416Z",
     "shell.execute_reply": "2022-03-28T23:31:19.185811Z",
     "shell.execute_reply.started": "2022-03-28T23:20:35.371552Z"
    },
    "papermill": {
     "duration": 0.71053,
     "end_time": "2022-03-28T23:31:19.186585",
     "exception": false,
     "start_time": "2022-03-28T23:31:18.476055",
     "status": "completed"
    },
    "tags": []
   },
   "outputs": [
    {
     "name": "stdout",
     "output_type": "stream",
     "text": [
      "[23:31:18] WARNING: ../src/learner.cc:1115: Starting in XGBoost 1.3.0, the default evaluation metric used with the objective 'multi:softprob' was changed from 'merror' to 'mlogloss'. Explicitly set eval_metric if you'd like to restore the old behavior.\n"
     ]
    }
   ],
   "source": [
    "import xgboost as xgb\n",
    "\n",
    "xgb_start = time.time()\n",
    "XGBmodel = xgb.XGBClassifier()\n",
    "XGBmodel.fit(train_x, train_y)\n",
    "xgb_stop = time.time()"
   ]
  },
  {
   "cell_type": "markdown",
   "id": "bbcdfcb5",
   "metadata": {
    "papermill": {
     "duration": 0.047115,
     "end_time": "2022-03-28T23:31:19.281667",
     "exception": false,
     "start_time": "2022-03-28T23:31:19.234552",
     "status": "completed"
    },
    "tags": []
   },
   "source": [
    "# train test each model (if we have time try MLP)"
   ]
  },
  {
   "cell_type": "code",
   "execution_count": 13,
   "id": "b2fdf7ff",
   "metadata": {
    "execution": {
     "iopub.execute_input": "2022-03-28T23:31:19.383494Z",
     "iopub.status.busy": "2022-03-28T23:31:19.382500Z",
     "iopub.status.idle": "2022-03-28T23:31:19.840198Z",
     "shell.execute_reply": "2022-03-28T23:31:19.840674Z",
     "shell.execute_reply.started": "2022-03-28T23:20:35.907458Z"
    },
    "papermill": {
     "duration": 0.511613,
     "end_time": "2022-03-28T23:31:19.840876",
     "exception": false,
     "start_time": "2022-03-28T23:31:19.329263",
     "status": "completed"
    },
    "tags": []
   },
   "outputs": [],
   "source": [
    "from sklearn.neural_network import MLPClassifier\n",
    "\n",
    "mlp_start = time.time()\n",
    "mlp_class = MLPClassifier()\n",
    "mlp_class.fit(train_x, train_y)\n",
    "mlp_stop = time.time()"
   ]
  },
  {
   "cell_type": "markdown",
   "id": "d9196c57",
   "metadata": {
    "papermill": {
     "duration": 0.046929,
     "end_time": "2022-03-28T23:31:19.935250",
     "exception": false,
     "start_time": "2022-03-28T23:31:19.888321",
     "status": "completed"
    },
    "tags": []
   },
   "source": [
    "# cross validation of models"
   ]
  },
  {
   "cell_type": "code",
   "execution_count": 14,
   "id": "2a169654",
   "metadata": {
    "execution": {
     "iopub.execute_input": "2022-03-28T23:31:20.036712Z",
     "iopub.status.busy": "2022-03-28T23:31:20.036016Z",
     "iopub.status.idle": "2022-03-28T23:31:35.532994Z",
     "shell.execute_reply": "2022-03-28T23:31:35.533521Z",
     "shell.execute_reply.started": "2022-03-28T23:20:36.367949Z"
    },
    "papermill": {
     "duration": 15.55114,
     "end_time": "2022-03-28T23:31:35.533697",
     "exception": false,
     "start_time": "2022-03-28T23:31:19.982557",
     "status": "completed"
    },
    "tags": []
   },
   "outputs": [
    {
     "name": "stdout",
     "output_type": "stream",
     "text": [
      "[23:31:26] WARNING: ../src/learner.cc:1115: Starting in XGBoost 1.3.0, the default evaluation metric used with the objective 'multi:softprob' was changed from 'merror' to 'mlogloss'. Explicitly set eval_metric if you'd like to restore the old behavior.\n",
      "[23:31:27] WARNING: ../src/learner.cc:1115: Starting in XGBoost 1.3.0, the default evaluation metric used with the objective 'multi:softprob' was changed from 'merror' to 'mlogloss'. Explicitly set eval_metric if you'd like to restore the old behavior.\n",
      "[23:31:27] WARNING: ../src/learner.cc:1115: Starting in XGBoost 1.3.0, the default evaluation metric used with the objective 'multi:softprob' was changed from 'merror' to 'mlogloss'. Explicitly set eval_metric if you'd like to restore the old behavior.\n",
      "[23:31:28] WARNING: ../src/learner.cc:1115: Starting in XGBoost 1.3.0, the default evaluation metric used with the objective 'multi:softprob' was changed from 'merror' to 'mlogloss'. Explicitly set eval_metric if you'd like to restore the old behavior.\n",
      "[23:31:29] WARNING: ../src/learner.cc:1115: Starting in XGBoost 1.3.0, the default evaluation metric used with the objective 'multi:softprob' was changed from 'merror' to 'mlogloss'. Explicitly set eval_metric if you'd like to restore the old behavior.\n",
      "[23:31:29] WARNING: ../src/learner.cc:1115: Starting in XGBoost 1.3.0, the default evaluation metric used with the objective 'multi:softprob' was changed from 'merror' to 'mlogloss'. Explicitly set eval_metric if you'd like to restore the old behavior.\n",
      "[23:31:30] WARNING: ../src/learner.cc:1115: Starting in XGBoost 1.3.0, the default evaluation metric used with the objective 'multi:softprob' was changed from 'merror' to 'mlogloss'. Explicitly set eval_metric if you'd like to restore the old behavior.\n",
      "[23:31:30] WARNING: ../src/learner.cc:1115: Starting in XGBoost 1.3.0, the default evaluation metric used with the objective 'multi:softprob' was changed from 'merror' to 'mlogloss'. Explicitly set eval_metric if you'd like to restore the old behavior.\n",
      "[23:31:31] WARNING: ../src/learner.cc:1115: Starting in XGBoost 1.3.0, the default evaluation metric used with the objective 'multi:softprob' was changed from 'merror' to 'mlogloss'. Explicitly set eval_metric if you'd like to restore the old behavior.\n",
      "[23:31:31] WARNING: ../src/learner.cc:1115: Starting in XGBoost 1.3.0, the default evaluation metric used with the objective 'multi:softprob' was changed from 'merror' to 'mlogloss'. Explicitly set eval_metric if you'd like to restore the old behavior.\n"
     ]
    }
   ],
   "source": [
    "from sklearn.model_selection import cross_validate\n",
    "\n",
    "rf_cross_val = cross_validate(estimator=RFmodel, X=train_x, y=train_y, cv=10)\n",
    "gbc_cross_val = cross_validate(estimator=GBCmodel, X=train_x, y=train_y, cv=10)\n",
    "xgb_cross_val = cross_validate(estimator=XGBmodel, X=train_x, y=train_y, cv=10)\n",
    "mlp_cross_val = cross_validate(estimator=mlp_class, X=train_x, y=train_y, cv=10)"
   ]
  },
  {
   "cell_type": "markdown",
   "id": "f5096592",
   "metadata": {
    "papermill": {
     "duration": 0.050681,
     "end_time": "2022-03-28T23:31:35.635739",
     "exception": false,
     "start_time": "2022-03-28T23:31:35.585058",
     "status": "completed"
    },
    "tags": []
   },
   "source": [
    "# make predictions"
   ]
  },
  {
   "cell_type": "code",
   "execution_count": 15,
   "id": "2679fea1",
   "metadata": {
    "execution": {
     "iopub.execute_input": "2022-03-28T23:31:35.745048Z",
     "iopub.status.busy": "2022-03-28T23:31:35.740551Z",
     "iopub.status.idle": "2022-03-28T23:31:35.770627Z",
     "shell.execute_reply": "2022-03-28T23:31:35.770014Z",
     "shell.execute_reply.started": "2022-03-28T23:20:50.895294Z"
    },
    "papermill": {
     "duration": 0.084108,
     "end_time": "2022-03-28T23:31:35.770800",
     "exception": false,
     "start_time": "2022-03-28T23:31:35.686692",
     "status": "completed"
    },
    "tags": []
   },
   "outputs": [],
   "source": [
    "RF_pred_y = RFmodel.predict(test_x)\n",
    "GBC_pred_y = GBCmodel.predict(test_x)\n",
    "XGB_pred_y = XGBmodel.predict(test_x)\n",
    "\n",
    "RF_acc =  rf_cross_val[\"test_score\"].mean() * 100\n",
    "GBC_acc =  gbc_cross_val[\"test_score\"].mean() * 100\n",
    "XGB_acc =  xgb_cross_val[\"test_score\"].mean() * 100\n",
    "MLP_acc = mlp_cross_val[\"test_score\"].mean() * 100"
   ]
  },
  {
   "cell_type": "markdown",
   "id": "a94d49db",
   "metadata": {
    "papermill": {
     "duration": 0.050423,
     "end_time": "2022-03-28T23:31:35.873777",
     "exception": false,
     "start_time": "2022-03-28T23:31:35.823354",
     "status": "completed"
    },
    "tags": []
   },
   "source": [
    "# evaluation metrics and run time evaluation"
   ]
  },
  {
   "cell_type": "code",
   "execution_count": null,
   "id": "fbe68306",
   "metadata": {
    "papermill": {
     "duration": 0.050484,
     "end_time": "2022-03-28T23:31:35.977544",
     "exception": false,
     "start_time": "2022-03-28T23:31:35.927060",
     "status": "completed"
    },
    "tags": []
   },
   "outputs": [],
   "source": []
  },
  {
   "cell_type": "markdown",
   "id": "0d1965a6",
   "metadata": {
    "papermill": {
     "duration": 0.050583,
     "end_time": "2022-03-28T23:31:36.079120",
     "exception": false,
     "start_time": "2022-03-28T23:31:36.028537",
     "status": "completed"
    },
    "tags": []
   },
   "source": [
    "# baseline of mode and random off of entire datset"
   ]
  },
  {
   "cell_type": "code",
   "execution_count": 16,
   "id": "80b787b2",
   "metadata": {
    "execution": {
     "iopub.execute_input": "2022-03-28T23:31:36.193299Z",
     "iopub.status.busy": "2022-03-28T23:31:36.192580Z",
     "iopub.status.idle": "2022-03-28T23:31:36.300185Z",
     "shell.execute_reply": "2022-03-28T23:31:36.299361Z",
     "shell.execute_reply.started": "2022-03-28T23:20:50.928905Z"
    },
    "papermill": {
     "duration": 0.168902,
     "end_time": "2022-03-28T23:31:36.300339",
     "exception": false,
     "start_time": "2022-03-28T23:31:36.131437",
     "status": "completed"
    },
    "tags": []
   },
   "outputs": [],
   "source": [
    "import random\n",
    "from scipy import stats\n",
    "\n",
    "random.randint(0,4)\n",
    "y_shape = np.array(all_y.shape)\n",
    "\n",
    "random_guess_baseline = np.sum(all_y == [random.randint(0,4) for i in range(all_y.shape[0])]) / all_y.shape[0] * 100\n",
    "mode_baseline = np.sum(all_y == [stats.mode(train_y)[0][0] for i in range(all_y.shape[0])]) / all_y.shape[0] * 100\n",
    "median_baseline = np.sum(all_y == [np.median(train_y) for i in range(all_y.shape[0])]) / all_y.shape[0] * 100"
   ]
  },
  {
   "cell_type": "code",
   "execution_count": 17,
   "id": "8b0962c8",
   "metadata": {
    "execution": {
     "iopub.execute_input": "2022-03-28T23:31:36.408572Z",
     "iopub.status.busy": "2022-03-28T23:31:36.407851Z",
     "iopub.status.idle": "2022-03-28T23:31:36.411235Z",
     "shell.execute_reply": "2022-03-28T23:31:36.410688Z",
     "shell.execute_reply.started": "2022-03-28T23:20:51.050511Z"
    },
    "papermill": {
     "duration": 0.059174,
     "end_time": "2022-03-28T23:31:36.411386",
     "exception": false,
     "start_time": "2022-03-28T23:31:36.352212",
     "status": "completed"
    },
    "tags": []
   },
   "outputs": [],
   "source": [
    "models = [\"Random Forest Classifier\", \"Gradient Boosting Classifier\", \"XGBoost Classifier\", \"MLP Classifier\", \"Random guessing\",\"Mode guessing\",\"Median guessing\"]\n",
    "accuracies = [RF_acc, GBC_acc, XGB_acc, MLP_acc, random_guess_baseline, mode_baseline, median_baseline]"
   ]
  },
  {
   "cell_type": "markdown",
   "id": "d96a907a",
   "metadata": {
    "papermill": {
     "duration": 0.050557,
     "end_time": "2022-03-28T23:31:36.514170",
     "exception": false,
     "start_time": "2022-03-28T23:31:36.463613",
     "status": "completed"
    },
    "tags": []
   },
   "source": [
    "# plot Accuracies"
   ]
  },
  {
   "cell_type": "code",
   "execution_count": 18,
   "id": "f22869e7",
   "metadata": {
    "execution": {
     "iopub.execute_input": "2022-03-28T23:31:36.651277Z",
     "iopub.status.busy": "2022-03-28T23:31:36.624442Z",
     "iopub.status.idle": "2022-03-28T23:31:36.883783Z",
     "shell.execute_reply": "2022-03-28T23:31:36.883261Z",
     "shell.execute_reply.started": "2022-03-28T23:25:21.813488Z"
    },
    "papermill": {
     "duration": 0.318687,
     "end_time": "2022-03-28T23:31:36.883970",
     "exception": false,
     "start_time": "2022-03-28T23:31:36.565283",
     "status": "completed"
    },
    "tags": []
   },
   "outputs": [
    {
     "data": {
      "image/png": "[encoded data removed]",
      "text/plain": [
       "<Figure size 1512x648 with 1 Axes>"
      ]
     },
     "metadata": {
      "needs_background": "light"
     },
     "output_type": "display_data"
    }
   ],
   "source": [
    "plt.figure(figsize=[21, 9])\n",
    "sns.barplot(x=models, y=accuracies)\n",
    "plt.title(\"Accuracy on testing data\", fontsize=30)\n",
    "plt.ylabel(\"Accuracy\", fontsize=22)\n",
    "plt.xlabel(\"Model\", fontsize=22)\n",
    "xlocs=[i+1 for i in range(0,10)]\n",
    "for i, j in enumerate(accuracies):\n",
    "    acc_pct = \"{:.2f}\".format(j)\n",
    "    plt.text(xlocs[i] - 1.1, j+1, str(acc_pct)+'%')"
   ]
  },
  {
   "cell_type": "markdown",
   "id": "c20034b9",
   "metadata": {
    "papermill": {
     "duration": 0.052512,
     "end_time": "2022-03-28T23:31:36.990446",
     "exception": false,
     "start_time": "2022-03-28T23:31:36.937934",
     "status": "completed"
    },
    "tags": []
   },
   "source": [
    "# create a small dataframe with model name that shows accuracy, precision, recall, runtime"
   ]
  },
  {
   "cell_type": "code",
   "execution_count": null,
   "id": "76e9303f",
   "metadata": {
    "papermill": {
     "duration": 0.05246,
     "end_time": "2022-03-28T23:31:37.096260",
     "exception": false,
     "start_time": "2022-03-28T23:31:37.043800",
     "status": "completed"
    },
    "tags": []
   },
   "outputs": [],
   "source": []
  },
  {
   "cell_type": "markdown",
   "id": "ad0bc4bd",
   "metadata": {
    "papermill": {
     "duration": 0.052372,
     "end_time": "2022-03-28T23:31:37.201271",
     "exception": false,
     "start_time": "2022-03-28T23:31:37.148899",
     "status": "completed"
    },
    "tags": []
   },
   "source": [
    "# learning curve for each model? If curve needs data, maybe add synthetic data?"
   ]
  },
  {
   "cell_type": "code",
   "execution_count": null,
   "id": "dee6f8cb",
   "metadata": {
    "papermill": {
     "duration": 0.052264,
     "end_time": "2022-03-28T23:31:37.305833",
     "exception": false,
     "start_time": "2022-03-28T23:31:37.253569",
     "status": "completed"
    },
    "tags": []
   },
   "outputs": [],
   "source": []
  },
  {
   "cell_type": "markdown",
   "id": "185b67b4",
   "metadata": {
    "papermill": {
     "duration": 0.052278,
     "end_time": "2022-03-28T23:31:37.412655",
     "exception": false,
     "start_time": "2022-03-28T23:31:37.360377",
     "status": "completed"
    },
    "tags": []
   },
   "source": [
    "# Hyperparameter Tuning"
   ]
  },
  {
   "cell_type": "code",
   "execution_count": null,
   "id": "68a64898",
   "metadata": {
    "papermill": {
     "duration": 0.052126,
     "end_time": "2022-03-28T23:31:37.517291",
     "exception": false,
     "start_time": "2022-03-28T23:31:37.465165",
     "status": "completed"
    },
    "tags": []
   },
   "outputs": [],
   "source": []
  },
  {
   "cell_type": "markdown",
   "id": "bd912d2b",
   "metadata": {
    "papermill": {
     "duration": 0.052205,
     "end_time": "2022-03-28T23:31:37.623215",
     "exception": false,
     "start_time": "2022-03-28T23:31:37.571010",
     "status": "completed"
    },
    "tags": []
   },
   "source": [
    "# Figure out best model and do confusion matrix"
   ]
  },
  {
   "cell_type": "code",
   "execution_count": null,
   "id": "faaca8c4",
   "metadata": {
    "papermill": {
     "duration": 0.05219,
     "end_time": "2022-03-28T23:31:37.728570",
     "exception": false,
     "start_time": "2022-03-28T23:31:37.676380",
     "status": "completed"
    },
    "tags": []
   },
   "outputs": [],
   "source": []
  },
  {
   "cell_type": "markdown",
   "id": "0378ec7c",
   "metadata": {
    "papermill": {
     "duration": 0.053789,
     "end_time": "2022-03-28T23:31:37.835004",
     "exception": false,
     "start_time": "2022-03-28T23:31:37.781215",
     "status": "completed"
    },
    "tags": []
   },
   "source": [
    "# Feature importance to see what sleep features matter"
   ]
  },
  {
   "cell_type": "code",
   "execution_count": null,
   "id": "91c65504",
   "metadata": {
    "papermill": {
     "duration": 0.059321,
     "end_time": "2022-03-28T23:31:37.947782",
     "exception": false,
     "start_time": "2022-03-28T23:31:37.888461",
     "status": "completed"
    },
    "tags": []
   },
   "outputs": [],
   "source": []
  }
 ],
 "metadata": {
  "kernelspec": {
   "display_name": "Python 3",
   "language": "python",
   "name": "python3"
  },
  "language_info": {
   "codemirror_mode": {
    "name": "ipython",
    "version": 3
   },
   "file_extension": ".py",
   "mimetype": "text/x-python",
   "name": "python",
   "nbconvert_exporter": "python",
   "pygments_lexer": "ipython3",
   "version": "3.7.12"
  },
  "papermill": {
   "default_parameters": {},
   "duration": 36.583888,
   "end_time": "2022-03-28T23:31:38.817482",
   "environment_variables": {},
   "exception": null,
   "input_path": "__notebook__.ipynb",
   "output_path": "__notebook__.ipynb",
   "parameters": {},
   "start_time": "2022-03-28T23:31:02.233594",
   "version": "2.3.3"
  }
 },
 "nbformat": 4,
 "nbformat_minor": 5
}
