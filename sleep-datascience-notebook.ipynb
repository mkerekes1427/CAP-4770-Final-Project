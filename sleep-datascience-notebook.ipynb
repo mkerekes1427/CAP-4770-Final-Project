{
 "cells": [
  {
   "cell_type": "code",
   "execution_count": 1,
   "id": "9cbbf4fd",
   "metadata": {
    "_cell_guid": "b1076dfc-b9ad-4769-8c92-a6c4dae69d19",
    "_uuid": "8f2839f25d086af736a60e9eeb907d3b93b6e0e5",
    "execution": {
     "iopub.execute_input": "2022-03-30T01:03:22.358632Z",
     "iopub.status.busy": "2022-03-30T01:03:22.357435Z",
     "iopub.status.idle": "2022-03-30T01:03:23.408276Z",
     "shell.execute_reply": "2022-03-30T01:03:23.408840Z",
     "shell.execute_reply.started": "2022-03-30T01:00:58.439396Z"
    },
    "papermill": {
     "duration": 1.112372,
     "end_time": "2022-03-30T01:03:23.409136",
     "exception": false,
     "start_time": "2022-03-30T01:03:22.296764",
     "status": "completed"
    },
    "tags": []
   },
   "outputs": [
    {
     "name": "stdout",
     "output_type": "stream",
     "text": [
      "/kaggle/input/human-stress-detection-in-and-through-sleep/SaYoPillow.csv\n",
      "/kaggle/input/human-stress-detection-in-and-through-sleep/IEEE-TCE_2020-08-0175_SaYoPillow.pdf\n",
      "/kaggle/input/human-stress-detection-in-and-through-sleep/readme.docx\n"
     ]
    }
   ],
   "source": [
    "# This Python 3 environment comes with many helpful analytics libraries installed\n",
    "# It is defined by the kaggle/python Docker image: https://github.com/kaggle/docker-python\n",
    "# For example, here's several helpful packages to load\n",
    "\n",
    "import time\n",
    "import warnings\n",
    "import numpy as np # linear algebra\n",
    "import pandas as pd # data processing, CSV file I/O (e.g. pd.read_csv)\n",
    "import seaborn as sns\n",
    "import matplotlib.pyplot as plt\n",
    "\n",
    "# Input data files are available in the read-only \"../input/\" directory\n",
    "# For example, running this (by clicking run or pressing Shift+Enter) will list all files under the input directory\n",
    "\n",
    "import os\n",
    "for dirname, _, filenames in os.walk('/kaggle/input'):\n",
    "    for filename in filenames:\n",
    "        print(os.path.join(dirname, filename))\n",
    "\n",
    "# You can write up to 20GB to the current directory (/kaggle/working/) that gets preserved as output when you create a version using \"Save & Run All\" \n",
    "# You can also write temporary files to /kaggle/temp/, but they won't be saved outside of the current session\n",
    "\n",
    "warnings.filterwarnings(\"ignore\")"
   ]
  },
  {
   "cell_type": "code",
   "execution_count": 2,
   "id": "5c0d89fb",
   "metadata": {
    "execution": {
     "iopub.execute_input": "2022-03-30T01:03:23.527802Z",
     "iopub.status.busy": "2022-03-30T01:03:23.526810Z",
     "iopub.status.idle": "2022-03-30T01:03:38.730728Z",
     "shell.execute_reply": "2022-03-30T01:03:38.729982Z",
     "shell.execute_reply.started": "2022-03-30T01:00:58.524237Z"
    },
    "papermill": {
     "duration": 15.261892,
     "end_time": "2022-03-30T01:03:38.730882",
     "exception": false,
     "start_time": "2022-03-30T01:03:23.468990",
     "status": "completed"
    },
    "tags": []
   },
   "outputs": [
    {
     "name": "stdout",
     "output_type": "stream",
     "text": [
      "Collecting sdv\r\n",
      "  Downloading sdv-0.14.0-py2.py3-none-any.whl (101 kB)\r\n",
      "     |████████████████████████████████| 101 kB 3.0 MB/s            \r\n",
      "\u001b[?25hCollecting graphviz<1,>=0.13.2\r\n",
      "  Downloading graphviz-0.19.1-py3-none-any.whl (46 kB)\r\n",
      "     |████████████████████████████████| 46 kB 2.4 MB/s             \r\n",
      "\u001b[?25hCollecting Faker<10,>=3.0.0\r\n",
      "  Downloading Faker-9.9.1-py3-none-any.whl (1.2 MB)\r\n",
      "     |████████████████████████████████| 1.2 MB 21.1 MB/s            \r\n",
      "\u001b[?25hRequirement already satisfied: tqdm<5,>=4.15 in /opt/conda/lib/python3.7/site-packages (from sdv) (4.62.3)\r\n",
      "Requirement already satisfied: numpy<2,>=1.20.0 in /opt/conda/lib/python3.7/site-packages (from sdv) (1.20.3)\r\n",
      "Collecting rdt<0.7,>=0.6.2\r\n",
      "  Downloading rdt-0.6.4-py2.py3-none-any.whl (45 kB)\r\n",
      "     |████████████████████████████████| 45 kB 2.5 MB/s             \r\n",
      "\u001b[?25hCollecting sdmetrics<0.5,>=0.4.1\r\n",
      "  Downloading sdmetrics-0.4.1-py2.py3-none-any.whl (97 kB)\r\n",
      "     |████████████████████████████████| 97 kB 5.1 MB/s             \r\n",
      "\u001b[?25hCollecting deepecho<0.4,>=0.3.0.post1\r\n",
      "  Downloading deepecho-0.3.0.post1-py2.py3-none-any.whl (26 kB)\r\n",
      "Collecting copulas<0.7,>=0.6.1\r\n",
      "  Downloading copulas-0.6.1-py2.py3-none-any.whl (52 kB)\r\n",
      "     |████████████████████████████████| 52 kB 1.2 MB/s             \r\n",
      "\u001b[?25hCollecting ctgan<0.6,>=0.5.1\r\n",
      "  Downloading ctgan-0.5.1-py2.py3-none-any.whl (24 kB)\r\n",
      "Requirement already satisfied: pandas<2,>=1.1.3 in /opt/conda/lib/python3.7/site-packages (from sdv) (1.3.5)\r\n",
      "Requirement already satisfied: scipy<2,>=1.5.4 in /opt/conda/lib/python3.7/site-packages (from copulas<0.7,>=0.6.1->sdv) (1.7.3)\r\n",
      "Requirement already satisfied: matplotlib<4,>=3.4.0 in /opt/conda/lib/python3.7/site-packages (from copulas<0.7,>=0.6.1->sdv) (3.5.1)\r\n",
      "Requirement already satisfied: torch<2,>=1.8.0 in /opt/conda/lib/python3.7/site-packages (from ctgan<0.6,>=0.5.1->sdv) (1.9.1+cpu)\r\n",
      "Requirement already satisfied: packaging<22,>=20 in /opt/conda/lib/python3.7/site-packages (from ctgan<0.6,>=0.5.1->sdv) (21.3)\r\n",
      "Requirement already satisfied: scikit-learn<2,>=0.24 in /opt/conda/lib/python3.7/site-packages (from ctgan<0.6,>=0.5.1->sdv) (1.0.1)\r\n",
      "Requirement already satisfied: torchvision<1,>=0.9.0 in /opt/conda/lib/python3.7/site-packages (from ctgan<0.6,>=0.5.1->sdv) (0.10.1+cpu)\r\n",
      "Requirement already satisfied: typing-extensions>=3.10.0.2 in /opt/conda/lib/python3.7/site-packages (from Faker<10,>=3.0.0->sdv) (4.1.1)\r\n",
      "Requirement already satisfied: python-dateutil>=2.4 in /opt/conda/lib/python3.7/site-packages (from Faker<10,>=3.0.0->sdv) (2.8.2)\r\n",
      "Requirement already satisfied: text-unidecode==1.3 in /opt/conda/lib/python3.7/site-packages (from Faker<10,>=3.0.0->sdv) (1.3)\r\n",
      "Requirement already satisfied: pytz>=2017.3 in /opt/conda/lib/python3.7/site-packages (from pandas<2,>=1.1.3->sdv) (2021.3)\r\n",
      "Requirement already satisfied: psutil<6,>=5.7 in /opt/conda/lib/python3.7/site-packages (from rdt<0.7,>=0.6.2->sdv) (5.8.0)\r\n",
      "Collecting pyyaml<6,>=5.4.1\r\n",
      "  Downloading PyYAML-5.4.1-cp37-cp37m-manylinux1_x86_64.whl (636 kB)\r\n",
      "     |████████████████████████████████| 636 kB 23.9 MB/s            \r\n",
      "\u001b[?25hCollecting pyts<0.13.0,>=0.12.0\r\n",
      "  Downloading pyts-0.12.0-py3-none-any.whl (2.5 MB)\r\n",
      "     |████████████████████████████████| 2.5 MB 55.1 MB/s            \r\n",
      "\u001b[?25hRequirement already satisfied: pillow>=6.2.0 in /opt/conda/lib/python3.7/site-packages (from matplotlib<4,>=3.4.0->copulas<0.7,>=0.6.1->sdv) (8.2.0)\r\n",
      "Requirement already satisfied: kiwisolver>=1.0.1 in /opt/conda/lib/python3.7/site-packages (from matplotlib<4,>=3.4.0->copulas<0.7,>=0.6.1->sdv) (1.3.2)\r\n",
      "Requirement already satisfied: cycler>=0.10 in /opt/conda/lib/python3.7/site-packages (from matplotlib<4,>=3.4.0->copulas<0.7,>=0.6.1->sdv) (0.11.0)\r\n",
      "Requirement already satisfied: fonttools>=4.22.0 in /opt/conda/lib/python3.7/site-packages (from matplotlib<4,>=3.4.0->copulas<0.7,>=0.6.1->sdv) (4.28.4)\r\n",
      "Requirement already satisfied: pyparsing>=2.2.1 in /opt/conda/lib/python3.7/site-packages (from matplotlib<4,>=3.4.0->copulas<0.7,>=0.6.1->sdv) (3.0.6)\r\n",
      "Requirement already satisfied: six>=1.5 in /opt/conda/lib/python3.7/site-packages (from python-dateutil>=2.4->Faker<10,>=3.0.0->sdv) (1.16.0)\r\n",
      "Requirement already satisfied: numba>=0.48.0 in /opt/conda/lib/python3.7/site-packages (from pyts<0.13.0,>=0.12.0->sdmetrics<0.5,>=0.4.1->sdv) (0.54.1)\r\n",
      "Requirement already satisfied: joblib>=0.12 in /opt/conda/lib/python3.7/site-packages (from pyts<0.13.0,>=0.12.0->sdmetrics<0.5,>=0.4.1->sdv) (1.1.0)\r\n",
      "Requirement already satisfied: threadpoolctl>=2.0.0 in /opt/conda/lib/python3.7/site-packages (from scikit-learn<2,>=0.24->ctgan<0.6,>=0.5.1->sdv) (3.0.0)\r\n",
      "Requirement already satisfied: llvmlite<0.38,>=0.37.0rc1 in /opt/conda/lib/python3.7/site-packages (from numba>=0.48.0->pyts<0.13.0,>=0.12.0->sdmetrics<0.5,>=0.4.1->sdv) (0.37.0)\r\n",
      "Requirement already satisfied: setuptools in /opt/conda/lib/python3.7/site-packages (from numba>=0.48.0->pyts<0.13.0,>=0.12.0->sdmetrics<0.5,>=0.4.1->sdv) (59.5.0)\r\n",
      "Installing collected packages: pyyaml, rdt, pyts, copulas, sdmetrics, graphviz, Faker, deepecho, ctgan, sdv\r\n",
      "  Attempting uninstall: pyyaml\r\n",
      "    Found existing installation: PyYAML 6.0\r\n",
      "    Uninstalling PyYAML-6.0:\r\n",
      "      Successfully uninstalled PyYAML-6.0\r\n",
      "  Attempting uninstall: graphviz\r\n",
      "    Found existing installation: graphviz 0.8.4\r\n",
      "    Uninstalling graphviz-0.8.4:\r\n",
      "      Successfully uninstalled graphviz-0.8.4\r\n",
      "\u001b[31mERROR: pip's dependency resolver does not currently take into account all the packages that are installed. This behaviour is the source of the following dependency conflicts.\r\n",
      "mxnet 1.9.0 requires graphviz<0.9.0,>=0.8.1, but you have graphviz 0.19.1 which is incompatible.\u001b[0m\r\n",
      "Successfully installed Faker-9.9.1 copulas-0.6.1 ctgan-0.5.1 deepecho-0.3.0.post1 graphviz-0.19.1 pyts-0.12.0 pyyaml-5.4.1 rdt-0.6.4 sdmetrics-0.4.1 sdv-0.14.0\r\n",
      "\u001b[33mWARNING: Running pip as the 'root' user can result in broken permissions and conflicting behaviour with the system package manager. It is recommended to use a virtual environment instead: https://pip.pypa.io/warnings/venv\u001b[0m\r\n"
     ]
    }
   ],
   "source": [
    "!pip install sdv"
   ]
  },
  {
   "cell_type": "markdown",
   "id": "efd40045",
   "metadata": {
    "papermill": {
     "duration": 0.068806,
     "end_time": "2022-03-30T01:03:38.871583",
     "exception": false,
     "start_time": "2022-03-30T01:03:38.802777",
     "status": "completed"
    },
    "tags": []
   },
   "source": [
    "# Read Data in and do head"
   ]
  },
  {
   "cell_type": "code",
   "execution_count": 3,
   "id": "9e586647",
   "metadata": {
    "execution": {
     "iopub.execute_input": "2022-03-30T01:03:39.016348Z",
     "iopub.status.busy": "2022-03-30T01:03:39.015591Z",
     "iopub.status.idle": "2022-03-30T01:03:39.051953Z",
     "shell.execute_reply": "2022-03-30T01:03:39.052462Z",
     "shell.execute_reply.started": "2022-03-30T01:01:07.782525Z"
    },
    "papermill": {
     "duration": 0.112627,
     "end_time": "2022-03-30T01:03:39.052627",
     "exception": false,
     "start_time": "2022-03-30T01:03:38.940000",
     "status": "completed"
    },
    "tags": []
   },
   "outputs": [
    {
     "data": {
      "text/html": [
       "<div>\n",
       "<style scoped>\n",
       "    .dataframe tbody tr th:only-of-type {\n",
       "        vertical-align: middle;\n",
       "    }\n",
       "\n",
       "    .dataframe tbody tr th {\n",
       "        vertical-align: top;\n",
       "    }\n",
       "\n",
       "    .dataframe thead th {\n",
       "        text-align: right;\n",
       "    }\n",
       "</style>\n",
       "<table border=\"1\" class=\"dataframe\">\n",
       "  <thead>\n",
       "    <tr style=\"text-align: right;\">\n",
       "      <th></th>\n",
       "      <th>sr</th>\n",
       "      <th>rr</th>\n",
       "      <th>t</th>\n",
       "      <th>lm</th>\n",
       "      <th>bo</th>\n",
       "      <th>rem</th>\n",
       "      <th>sr.1</th>\n",
       "      <th>hr</th>\n",
       "      <th>sl</th>\n",
       "    </tr>\n",
       "  </thead>\n",
       "  <tbody>\n",
       "    <tr>\n",
       "      <th>0</th>\n",
       "      <td>93.80</td>\n",
       "      <td>25.680</td>\n",
       "      <td>91.840</td>\n",
       "      <td>16.600</td>\n",
       "      <td>89.840</td>\n",
       "      <td>99.60</td>\n",
       "      <td>1.840</td>\n",
       "      <td>74.20</td>\n",
       "      <td>3</td>\n",
       "    </tr>\n",
       "    <tr>\n",
       "      <th>1</th>\n",
       "      <td>91.64</td>\n",
       "      <td>25.104</td>\n",
       "      <td>91.552</td>\n",
       "      <td>15.880</td>\n",
       "      <td>89.552</td>\n",
       "      <td>98.88</td>\n",
       "      <td>1.552</td>\n",
       "      <td>72.76</td>\n",
       "      <td>3</td>\n",
       "    </tr>\n",
       "    <tr>\n",
       "      <th>2</th>\n",
       "      <td>60.00</td>\n",
       "      <td>20.000</td>\n",
       "      <td>96.000</td>\n",
       "      <td>10.000</td>\n",
       "      <td>95.000</td>\n",
       "      <td>85.00</td>\n",
       "      <td>7.000</td>\n",
       "      <td>60.00</td>\n",
       "      <td>1</td>\n",
       "    </tr>\n",
       "    <tr>\n",
       "      <th>3</th>\n",
       "      <td>85.76</td>\n",
       "      <td>23.536</td>\n",
       "      <td>90.768</td>\n",
       "      <td>13.920</td>\n",
       "      <td>88.768</td>\n",
       "      <td>96.92</td>\n",
       "      <td>0.768</td>\n",
       "      <td>68.84</td>\n",
       "      <td>3</td>\n",
       "    </tr>\n",
       "    <tr>\n",
       "      <th>4</th>\n",
       "      <td>48.12</td>\n",
       "      <td>17.248</td>\n",
       "      <td>97.872</td>\n",
       "      <td>6.496</td>\n",
       "      <td>96.248</td>\n",
       "      <td>72.48</td>\n",
       "      <td>8.248</td>\n",
       "      <td>53.12</td>\n",
       "      <td>0</td>\n",
       "    </tr>\n",
       "  </tbody>\n",
       "</table>\n",
       "</div>"
      ],
      "text/plain": [
       "      sr      rr       t      lm      bo    rem   sr.1     hr  sl\n",
       "0  93.80  25.680  91.840  16.600  89.840  99.60  1.840  74.20   3\n",
       "1  91.64  25.104  91.552  15.880  89.552  98.88  1.552  72.76   3\n",
       "2  60.00  20.000  96.000  10.000  95.000  85.00  7.000  60.00   1\n",
       "3  85.76  23.536  90.768  13.920  88.768  96.92  0.768  68.84   3\n",
       "4  48.12  17.248  97.872   6.496  96.248  72.48  8.248  53.12   0"
      ]
     },
     "execution_count": 3,
     "metadata": {},
     "output_type": "execute_result"
    }
   ],
   "source": [
    "np.random.seed(42)\n",
    "dataset = pd.read_csv(\"../input/human-stress-detection-in-and-through-sleep/SaYoPillow.csv\")\n",
    "\n",
    "dataset.head()"
   ]
  },
  {
   "cell_type": "markdown",
   "id": "5ae31bc6",
   "metadata": {
    "papermill": {
     "duration": 0.069003,
     "end_time": "2022-03-30T01:03:39.192984",
     "exception": false,
     "start_time": "2022-03-30T01:03:39.123981",
     "status": "completed"
    },
    "tags": []
   },
   "source": [
    "# Change names of columns\n"
   ]
  },
  {
   "cell_type": "code",
   "execution_count": 4,
   "id": "e82164a4",
   "metadata": {
    "execution": {
     "iopub.execute_input": "2022-03-30T01:03:39.342674Z",
     "iopub.status.busy": "2022-03-30T01:03:39.341927Z",
     "iopub.status.idle": "2022-03-30T01:03:39.356529Z",
     "shell.execute_reply": "2022-03-30T01:03:39.355908Z",
     "shell.execute_reply.started": "2022-03-30T01:01:07.811278Z"
    },
    "papermill": {
     "duration": 0.093893,
     "end_time": "2022-03-30T01:03:39.356682",
     "exception": false,
     "start_time": "2022-03-30T01:03:39.262789",
     "status": "completed"
    },
    "tags": []
   },
   "outputs": [
    {
     "data": {
      "text/html": [
       "<div>\n",
       "<style scoped>\n",
       "    .dataframe tbody tr th:only-of-type {\n",
       "        vertical-align: middle;\n",
       "    }\n",
       "\n",
       "    .dataframe tbody tr th {\n",
       "        vertical-align: top;\n",
       "    }\n",
       "\n",
       "    .dataframe thead th {\n",
       "        text-align: right;\n",
       "    }\n",
       "</style>\n",
       "<table border=\"1\" class=\"dataframe\">\n",
       "  <thead>\n",
       "    <tr style=\"text-align: right;\">\n",
       "      <th></th>\n",
       "      <th>Snoring Range</th>\n",
       "      <th>Respiration Rate</th>\n",
       "      <th>Body Temp</th>\n",
       "      <th>Limb Movement</th>\n",
       "      <th>Blood Oxygen</th>\n",
       "      <th>Eye Movement</th>\n",
       "      <th>Sleeping Hours</th>\n",
       "      <th>Heart Rate</th>\n",
       "      <th>Stress Level</th>\n",
       "    </tr>\n",
       "  </thead>\n",
       "  <tbody>\n",
       "    <tr>\n",
       "      <th>0</th>\n",
       "      <td>93.80</td>\n",
       "      <td>25.680</td>\n",
       "      <td>91.840</td>\n",
       "      <td>16.600</td>\n",
       "      <td>89.840</td>\n",
       "      <td>99.60</td>\n",
       "      <td>1.840</td>\n",
       "      <td>74.20</td>\n",
       "      <td>3</td>\n",
       "    </tr>\n",
       "    <tr>\n",
       "      <th>1</th>\n",
       "      <td>91.64</td>\n",
       "      <td>25.104</td>\n",
       "      <td>91.552</td>\n",
       "      <td>15.880</td>\n",
       "      <td>89.552</td>\n",
       "      <td>98.88</td>\n",
       "      <td>1.552</td>\n",
       "      <td>72.76</td>\n",
       "      <td>3</td>\n",
       "    </tr>\n",
       "    <tr>\n",
       "      <th>2</th>\n",
       "      <td>60.00</td>\n",
       "      <td>20.000</td>\n",
       "      <td>96.000</td>\n",
       "      <td>10.000</td>\n",
       "      <td>95.000</td>\n",
       "      <td>85.00</td>\n",
       "      <td>7.000</td>\n",
       "      <td>60.00</td>\n",
       "      <td>1</td>\n",
       "    </tr>\n",
       "    <tr>\n",
       "      <th>3</th>\n",
       "      <td>85.76</td>\n",
       "      <td>23.536</td>\n",
       "      <td>90.768</td>\n",
       "      <td>13.920</td>\n",
       "      <td>88.768</td>\n",
       "      <td>96.92</td>\n",
       "      <td>0.768</td>\n",
       "      <td>68.84</td>\n",
       "      <td>3</td>\n",
       "    </tr>\n",
       "    <tr>\n",
       "      <th>4</th>\n",
       "      <td>48.12</td>\n",
       "      <td>17.248</td>\n",
       "      <td>97.872</td>\n",
       "      <td>6.496</td>\n",
       "      <td>96.248</td>\n",
       "      <td>72.48</td>\n",
       "      <td>8.248</td>\n",
       "      <td>53.12</td>\n",
       "      <td>0</td>\n",
       "    </tr>\n",
       "  </tbody>\n",
       "</table>\n",
       "</div>"
      ],
      "text/plain": [
       "   Snoring Range  Respiration Rate  Body Temp  Limb Movement  Blood Oxygen  \\\n",
       "0          93.80            25.680     91.840         16.600        89.840   \n",
       "1          91.64            25.104     91.552         15.880        89.552   \n",
       "2          60.00            20.000     96.000         10.000        95.000   \n",
       "3          85.76            23.536     90.768         13.920        88.768   \n",
       "4          48.12            17.248     97.872          6.496        96.248   \n",
       "\n",
       "   Eye Movement  Sleeping Hours  Heart Rate  Stress Level  \n",
       "0         99.60           1.840       74.20             3  \n",
       "1         98.88           1.552       72.76             3  \n",
       "2         85.00           7.000       60.00             1  \n",
       "3         96.92           0.768       68.84             3  \n",
       "4         72.48           8.248       53.12             0  "
      ]
     },
     "execution_count": 4,
     "metadata": {},
     "output_type": "execute_result"
    }
   ],
   "source": [
    "dataset = dataset.rename(columns={\"sr\" : \"Snoring Range\", \"rr\" : \"Respiration Rate\", \"t\": \"Body Temp\", \"lm\" : \"Limb Movement\",\n",
    "                       \"bo\" : \"Blood Oxygen\", \"rem\" : \"Eye Movement\", \"sr.1\" : \"Sleeping Hours\", \"hr\" : \"Heart Rate\", \"sl\" : \"Stress Level\"})\n",
    "\n",
    "dataset.head()"
   ]
  },
  {
   "cell_type": "markdown",
   "id": "cc11fbf4",
   "metadata": {
    "papermill": {
     "duration": 0.069583,
     "end_time": "2022-03-30T01:03:39.497975",
     "exception": false,
     "start_time": "2022-03-30T01:03:39.428392",
     "status": "completed"
    },
    "tags": []
   },
   "source": [
    "# Show distribution of the categories"
   ]
  },
  {
   "cell_type": "code",
   "execution_count": 5,
   "id": "ea5fb917",
   "metadata": {
    "execution": {
     "iopub.execute_input": "2022-03-30T01:03:39.645515Z",
     "iopub.status.busy": "2022-03-30T01:03:39.644787Z",
     "iopub.status.idle": "2022-03-30T01:03:39.907475Z",
     "shell.execute_reply": "2022-03-30T01:03:39.906777Z",
     "shell.execute_reply.started": "2022-03-30T01:01:07.836794Z"
    },
    "papermill": {
     "duration": 0.336229,
     "end_time": "2022-03-30T01:03:39.907633",
     "exception": false,
     "start_time": "2022-03-30T01:03:39.571404",
     "status": "completed"
    },
    "tags": []
   },
   "outputs": [
    {
     "data": {
      "text/plain": [
       "Text(0, 0.5, 'Counts')"
      ]
     },
     "execution_count": 5,
     "metadata": {},
     "output_type": "execute_result"
    },
    {
     "data": {
      "image/png": "[encoded data removed]",
      "text/plain": [
       "<Figure size 432x432 with 1 Axes>"
      ]
     },
     "metadata": {
      "needs_background": "light"
     },
     "output_type": "display_data"
    }
   ],
   "source": [
    "stress_0 = dataset[dataset[\"Stress Level\"] == 0]\n",
    "stress_1 = dataset[dataset[\"Stress Level\"] == 1]\n",
    "stress_2 = dataset[dataset[\"Stress Level\"] == 2]\n",
    "stress_3 = dataset[dataset[\"Stress Level\"] == 3]\n",
    "stress_4 = dataset[dataset[\"Stress Level\"] == 4]\n",
    "\n",
    "stress_level_categories = [\"Level 0\", \"Level 1\", \"Level 2\", \"Level 3\", \"Level 4\"]\n",
    "\n",
    "stress_level_distribution = [len(stress_0), len(stress_1), len(stress_2), len(stress_3), len(stress_4)]\n",
    "\n",
    "plt.figure(figsize=[6, 6])\n",
    "sns.barplot(x=stress_level_categories, y=stress_level_distribution)\n",
    "\n",
    "plt.title(\"Stress Level Categories and Their Counts\")\n",
    "plt.ylabel(\"Counts\")"
   ]
  },
  {
   "cell_type": "markdown",
   "id": "6d1a9527",
   "metadata": {
    "papermill": {
     "duration": 0.072318,
     "end_time": "2022-03-30T01:03:40.053381",
     "exception": false,
     "start_time": "2022-03-30T01:03:39.981063",
     "status": "completed"
    },
    "tags": []
   },
   "source": [
    "# Exploratory Data Analysis (plot average sleep for each category with seaborn barplot)"
   ]
  },
  {
   "cell_type": "code",
   "execution_count": 6,
   "id": "7e13f06a",
   "metadata": {
    "execution": {
     "iopub.execute_input": "2022-03-30T01:03:40.204864Z",
     "iopub.status.busy": "2022-03-30T01:03:40.203982Z",
     "iopub.status.idle": "2022-03-30T01:03:40.423376Z",
     "shell.execute_reply": "2022-03-30T01:03:40.423882Z",
     "shell.execute_reply.started": "2022-03-30T01:01:08.069458Z"
    },
    "papermill": {
     "duration": 0.299155,
     "end_time": "2022-03-30T01:03:40.424060",
     "exception": false,
     "start_time": "2022-03-30T01:03:40.124905",
     "status": "completed"
    },
    "tags": []
   },
   "outputs": [
    {
     "data": {
      "text/plain": [
       "Text(0, 0.5, 'Average Hours of Sleep')"
      ]
     },
     "execution_count": 6,
     "metadata": {},
     "output_type": "execute_result"
    },
    {
     "data": {
      "image/png": "[encoded data removed]",
      "text/plain": [
       "<Figure size 504x432 with 1 Axes>"
      ]
     },
     "metadata": {
      "needs_background": "light"
     },
     "output_type": "display_data"
    }
   ],
   "source": [
    "stress_0_sleep = np.mean(stress_0[\"Sleeping Hours\"])\n",
    "stress_1_sleep = np.mean(stress_1[\"Sleeping Hours\"])\n",
    "stress_2_sleep = np.mean(stress_2[\"Sleeping Hours\"])\n",
    "stress_3_sleep = np.mean(stress_3[\"Sleeping Hours\"])\n",
    "stress_4_sleep = np.mean(stress_4[\"Sleeping Hours\"])\n",
    "\n",
    "sleep_per_stress_level = [stress_0_sleep, stress_1_sleep, stress_2_sleep, stress_3_sleep, stress_4_sleep]\n",
    "\n",
    "plt.figure(figsize=[7, 6])\n",
    "plt.title(\"Average Hours Slept and Stress\")\n",
    "sns.barplot(x=stress_level_categories, y=sleep_per_stress_level)\n",
    "\n",
    "plt.ylabel(\"Average Hours of Sleep\")"
   ]
  },
  {
   "cell_type": "markdown",
   "id": "bc04f60f",
   "metadata": {
    "papermill": {
     "duration": 0.073262,
     "end_time": "2022-03-30T01:03:40.570900",
     "exception": false,
     "start_time": "2022-03-30T01:03:40.497638",
     "status": "completed"
    },
    "tags": []
   },
   "source": [
    "# Correlation heatmap sns.heatmap(df.corr())"
   ]
  },
  {
   "cell_type": "code",
   "execution_count": 7,
   "id": "83fb2f32",
   "metadata": {
    "execution": {
     "iopub.execute_input": "2022-03-30T01:03:40.719533Z",
     "iopub.status.busy": "2022-03-30T01:03:40.718806Z",
     "iopub.status.idle": "2022-03-30T01:03:41.462159Z",
     "shell.execute_reply": "2022-03-30T01:03:41.462686Z",
     "shell.execute_reply.started": "2022-03-30T01:01:08.303499Z"
    },
    "papermill": {
     "duration": 0.819444,
     "end_time": "2022-03-30T01:03:41.462867",
     "exception": false,
     "start_time": "2022-03-30T01:03:40.643423",
     "status": "completed"
    },
    "tags": []
   },
   "outputs": [
    {
     "data": {
      "text/plain": [
       "<AxesSubplot:>"
      ]
     },
     "execution_count": 7,
     "metadata": {},
     "output_type": "execute_result"
    },
    {
     "data": {
      "image/png": "[encoded data removed]",
      "text/plain": [
       "<Figure size 504x432 with 2 Axes>"
      ]
     },
     "metadata": {
      "needs_background": "light"
     },
     "output_type": "display_data"
    }
   ],
   "source": [
    "plt.figure(figsize=[7, 6])\n",
    "sns.heatmap(dataset.corr(), annot=True)"
   ]
  },
  {
   "cell_type": "markdown",
   "id": "03bf5b02",
   "metadata": {
    "papermill": {
     "duration": 0.078727,
     "end_time": "2022-03-30T01:03:41.617688",
     "exception": false,
     "start_time": "2022-03-30T01:03:41.538961",
     "status": "completed"
    },
    "tags": []
   },
   "source": [
    "# Snoring range, limb movement, and sleeping hours have the highest correlations, including both positive and negative. The paper mentioned snoring range being an important feature to use."
   ]
  },
  {
   "cell_type": "code",
   "execution_count": 8,
   "id": "55e28980",
   "metadata": {
    "execution": {
     "iopub.execute_input": "2022-03-30T01:03:41.776778Z",
     "iopub.status.busy": "2022-03-30T01:03:41.776121Z",
     "iopub.status.idle": "2022-03-30T01:03:42.097189Z",
     "shell.execute_reply": "2022-03-30T01:03:42.096642Z",
     "shell.execute_reply.started": "2022-03-30T01:01:09.049197Z"
    },
    "papermill": {
     "duration": 0.39991,
     "end_time": "2022-03-30T01:03:42.097372",
     "exception": false,
     "start_time": "2022-03-30T01:03:41.697462",
     "status": "completed"
    },
    "tags": []
   },
   "outputs": [
    {
     "data": {
      "text/plain": [
       "<AxesSubplot:xlabel='Limb Movement', ylabel='Density'>"
      ]
     },
     "execution_count": 8,
     "metadata": {},
     "output_type": "execute_result"
    },
    {
     "data": {
      "image/png": "[encoded data removed]",
      "text/plain": [
       "<Figure size 504x432 with 1 Axes>"
      ]
     },
     "metadata": {
      "needs_background": "light"
     },
     "output_type": "display_data"
    }
   ],
   "source": [
    "plt.figure(figsize=(7, 6))\n",
    "sns.kdeplot(data=dataset, x=\"Limb Movement\", hue=\"Stress Level\")"
   ]
  },
  {
   "cell_type": "markdown",
   "id": "ac00c95d",
   "metadata": {
    "papermill": {
     "duration": 0.076027,
     "end_time": "2022-03-30T01:03:42.249780",
     "exception": false,
     "start_time": "2022-03-30T01:03:42.173753",
     "status": "completed"
    },
    "tags": []
   },
   "source": [
    "# KDEPLOT shows high limb movement equals high stress."
   ]
  },
  {
   "cell_type": "code",
   "execution_count": 9,
   "id": "ba0b4b65",
   "metadata": {
    "execution": {
     "iopub.execute_input": "2022-03-30T01:03:42.421226Z",
     "iopub.status.busy": "2022-03-30T01:03:42.420068Z",
     "iopub.status.idle": "2022-03-30T01:03:42.641483Z",
     "shell.execute_reply": "2022-03-30T01:03:42.642222Z",
     "shell.execute_reply.started": "2022-03-30T01:01:09.354907Z"
    },
    "papermill": {
     "duration": 0.310116,
     "end_time": "2022-03-30T01:03:42.642482",
     "exception": false,
     "start_time": "2022-03-30T01:03:42.332366",
     "status": "completed"
    },
    "tags": []
   },
   "outputs": [
    {
     "data": {
      "text/plain": [
       "Text(0, 0.5, 'Body Temperature (F)')"
      ]
     },
     "execution_count": 9,
     "metadata": {},
     "output_type": "execute_result"
    },
    {
     "data": {
      "image/png": "[encoded data removed]",
      "text/plain": [
       "<Figure size 504x432 with 1 Axes>"
      ]
     },
     "metadata": {
      "needs_background": "light"
     },
     "output_type": "display_data"
    }
   ],
   "source": [
    "body_temps = [stress_0[\"Body Temp\"].mean(), stress_1[\"Body Temp\"].mean(), stress_2[\"Body Temp\"].mean(), stress_3[\"Body Temp\"].mean(), stress_4[\"Body Temp\"].mean()]\n",
    "\n",
    "\n",
    "plt.figure(figsize=[7, 6])\n",
    "plt.title(\"Body Temps and Stress Levels\")\n",
    "sns.barplot(x=stress_level_categories, y=body_temps)\n",
    "plt.ylabel(\"Body Temperature (F)\")"
   ]
  },
  {
   "cell_type": "markdown",
   "id": "f76f6db0",
   "metadata": {
    "papermill": {
     "duration": 0.089189,
     "end_time": "2022-03-30T01:03:42.828545",
     "exception": false,
     "start_time": "2022-03-30T01:03:42.739356",
     "status": "completed"
    },
    "tags": []
   },
   "source": [
    "# As stress increases, body temperature descreases."
   ]
  },
  {
   "cell_type": "markdown",
   "id": "0b4a1463",
   "metadata": {
    "papermill": {
     "duration": 0.080354,
     "end_time": "2022-03-30T01:03:42.990545",
     "exception": false,
     "start_time": "2022-03-30T01:03:42.910191",
     "status": "completed"
    },
    "tags": []
   },
   "source": [
    "# "
   ]
  },
  {
   "cell_type": "markdown",
   "id": "588ee33e",
   "metadata": {
    "papermill": {
     "duration": 0.07955,
     "end_time": "2022-03-30T01:03:43.154111",
     "exception": false,
     "start_time": "2022-03-30T01:03:43.074561",
     "status": "completed"
    },
    "tags": []
   },
   "source": [
    "# train test split to get X_train, X_test, y_train, y_test. Check distribution after split."
   ]
  },
  {
   "cell_type": "code",
   "execution_count": 10,
   "id": "4475e672",
   "metadata": {
    "execution": {
     "iopub.execute_input": "2022-03-30T01:03:43.320115Z",
     "iopub.status.busy": "2022-03-30T01:03:43.319431Z",
     "iopub.status.idle": "2022-03-30T01:03:43.500369Z",
     "shell.execute_reply": "2022-03-30T01:03:43.499306Z",
     "shell.execute_reply.started": "2022-03-30T01:01:09.568260Z"
    },
    "papermill": {
     "duration": 0.263614,
     "end_time": "2022-03-30T01:03:43.500521",
     "exception": false,
     "start_time": "2022-03-30T01:03:43.236907",
     "status": "completed"
    },
    "tags": []
   },
   "outputs": [],
   "source": [
    "from sklearn.model_selection import train_test_split\n",
    "\n",
    "np_dataset = dataset.to_numpy()\n",
    "all_x = np_dataset[:,0:8]\n",
    "all_y = np_dataset[:,8]\n",
    "\n",
    "train_x, test_x, train_y, test_y = train_test_split(all_x, all_y, test_size=.33, random_state=1)"
   ]
  },
  {
   "cell_type": "markdown",
   "id": "10bb0f8a",
   "metadata": {
    "papermill": {
     "duration": 0.095986,
     "end_time": "2022-03-30T01:03:43.682294",
     "exception": false,
     "start_time": "2022-03-30T01:03:43.586308",
     "status": "completed"
    },
    "tags": []
   },
   "source": [
    "# Train RandomForest Classifier and Predict"
   ]
  },
  {
   "cell_type": "code",
   "execution_count": 11,
   "id": "4c04deed",
   "metadata": {
    "execution": {
     "iopub.execute_input": "2022-03-30T01:03:43.841069Z",
     "iopub.status.busy": "2022-03-30T01:03:43.840437Z",
     "iopub.status.idle": "2022-03-30T01:03:44.230902Z",
     "shell.execute_reply": "2022-03-30T01:03:44.230215Z",
     "shell.execute_reply.started": "2022-03-30T01:01:09.579756Z"
    },
    "papermill": {
     "duration": 0.470706,
     "end_time": "2022-03-30T01:03:44.231053",
     "exception": false,
     "start_time": "2022-03-30T01:03:43.760347",
     "status": "completed"
    },
    "tags": []
   },
   "outputs": [],
   "source": [
    "from sklearn.ensemble import RandomForestClassifier\n",
    "\n",
    "rf_start = time.time()\n",
    "RFmodel = RandomForestClassifier(random_state=1)\n",
    "RFmodel.fit(train_x, train_y)\n",
    "RF_pred_y = RFmodel.predict(test_x)\n",
    "rf_stop = time.time()"
   ]
  },
  {
   "cell_type": "markdown",
   "id": "ae4b8374",
   "metadata": {
    "papermill": {
     "duration": 0.07768,
     "end_time": "2022-03-30T01:03:44.386408",
     "exception": false,
     "start_time": "2022-03-30T01:03:44.308728",
     "status": "completed"
    },
    "tags": []
   },
   "source": [
    "# Train Gradient Boosting Classifier and Predict"
   ]
  },
  {
   "cell_type": "code",
   "execution_count": 12,
   "id": "9547a122",
   "metadata": {
    "execution": {
     "iopub.execute_input": "2022-03-30T01:03:44.545981Z",
     "iopub.status.busy": "2022-03-30T01:03:44.544968Z",
     "iopub.status.idle": "2022-03-30T01:03:45.083990Z",
     "shell.execute_reply": "2022-03-30T01:03:45.083365Z",
     "shell.execute_reply.started": "2022-03-30T01:01:09.781908Z"
    },
    "papermill": {
     "duration": 0.620104,
     "end_time": "2022-03-30T01:03:45.084139",
     "exception": false,
     "start_time": "2022-03-30T01:03:44.464035",
     "status": "completed"
    },
    "tags": []
   },
   "outputs": [],
   "source": [
    "from sklearn.ensemble import GradientBoostingClassifier\n",
    "\n",
    "gbc_start = time.time()\n",
    "GBCmodel = GradientBoostingClassifier(random_state=1)\n",
    "GBCmodel.fit(train_x, train_y)\n",
    "GBC_pred_y = GBCmodel.predict(test_x)\n",
    "gbc_stop = time.time()"
   ]
  },
  {
   "cell_type": "markdown",
   "id": "a3dd9404",
   "metadata": {
    "papermill": {
     "duration": 0.077459,
     "end_time": "2022-03-30T01:03:45.240666",
     "exception": false,
     "start_time": "2022-03-30T01:03:45.163207",
     "status": "completed"
    },
    "tags": []
   },
   "source": [
    "# Train XGBoost Classifier and Predict"
   ]
  },
  {
   "cell_type": "code",
   "execution_count": 13,
   "id": "cae95997",
   "metadata": {
    "execution": {
     "iopub.execute_input": "2022-03-30T01:03:45.402589Z",
     "iopub.status.busy": "2022-03-30T01:03:45.401732Z",
     "iopub.status.idle": "2022-03-30T01:03:46.066304Z",
     "shell.execute_reply": "2022-03-30T01:03:46.066921Z",
     "shell.execute_reply.started": "2022-03-30T01:01:10.324436Z"
    },
    "papermill": {
     "duration": 0.748715,
     "end_time": "2022-03-30T01:03:46.067121",
     "exception": false,
     "start_time": "2022-03-30T01:03:45.318406",
     "status": "completed"
    },
    "tags": []
   },
   "outputs": [
    {
     "name": "stdout",
     "output_type": "stream",
     "text": [
      "[01:03:45] WARNING: ../src/learner.cc:1115: Starting in XGBoost 1.3.0, the default evaluation metric used with the objective 'multi:softprob' was changed from 'merror' to 'mlogloss'. Explicitly set eval_metric if you'd like to restore the old behavior.\n"
     ]
    }
   ],
   "source": [
    "import xgboost as xgb\n",
    "\n",
    "xgb_start = time.time()\n",
    "XGBmodel = xgb.XGBClassifier(random_state=1)\n",
    "XGBmodel.fit(train_x, train_y)\n",
    "XGB_pred_y = XGBmodel.predict(test_x)\n",
    "xgb_stop = time.time()"
   ]
  },
  {
   "cell_type": "markdown",
   "id": "9b85c640",
   "metadata": {
    "papermill": {
     "duration": 0.078098,
     "end_time": "2022-03-30T01:03:46.226731",
     "exception": false,
     "start_time": "2022-03-30T01:03:46.148633",
     "status": "completed"
    },
    "tags": []
   },
   "source": [
    "# Train MLP and Predict"
   ]
  },
  {
   "cell_type": "code",
   "execution_count": 14,
   "id": "1fc67c23",
   "metadata": {
    "execution": {
     "iopub.execute_input": "2022-03-30T01:03:46.390173Z",
     "iopub.status.busy": "2022-03-30T01:03:46.389520Z",
     "iopub.status.idle": "2022-03-30T01:03:46.839810Z",
     "shell.execute_reply": "2022-03-30T01:03:46.839251Z",
     "shell.execute_reply.started": "2022-03-30T01:01:10.764864Z"
    },
    "papermill": {
     "duration": 0.534139,
     "end_time": "2022-03-30T01:03:46.839975",
     "exception": false,
     "start_time": "2022-03-30T01:03:46.305836",
     "status": "completed"
    },
    "tags": []
   },
   "outputs": [],
   "source": [
    "from sklearn.neural_network import MLPClassifier\n",
    "\n",
    "mlp_start = time.time()\n",
    "mlp_class = MLPClassifier(random_state=1)\n",
    "mlp_class.fit(train_x, train_y)\n",
    "MLP_pred_y = mlp_class.predict(test_x)\n",
    "mlp_stop = time.time()"
   ]
  },
  {
   "cell_type": "markdown",
   "id": "1eec1e73",
   "metadata": {
    "papermill": {
     "duration": 0.078381,
     "end_time": "2022-03-30T01:03:46.998066",
     "exception": false,
     "start_time": "2022-03-30T01:03:46.919685",
     "status": "completed"
    },
    "tags": []
   },
   "source": [
    "# cross validation of models"
   ]
  },
  {
   "cell_type": "code",
   "execution_count": 15,
   "id": "a2cfd8b6",
   "metadata": {
    "execution": {
     "iopub.execute_input": "2022-03-30T01:03:47.159781Z",
     "iopub.status.busy": "2022-03-30T01:03:47.159119Z",
     "iopub.status.idle": "2022-03-30T01:03:58.661860Z",
     "shell.execute_reply": "2022-03-30T01:03:58.661297Z",
     "shell.execute_reply.started": "2022-03-30T01:01:11.223757Z"
    },
    "papermill": {
     "duration": 11.583974,
     "end_time": "2022-03-30T01:03:58.662069",
     "exception": false,
     "start_time": "2022-03-30T01:03:47.078095",
     "status": "completed"
    },
    "tags": []
   },
   "outputs": [
    {
     "name": "stdout",
     "output_type": "stream",
     "text": [
      "[01:03:52] WARNING: ../src/learner.cc:1115: Starting in XGBoost 1.3.0, the default evaluation metric used with the objective 'multi:softprob' was changed from 'merror' to 'mlogloss'. Explicitly set eval_metric if you'd like to restore the old behavior.\n",
      "[01:03:52] WARNING: ../src/learner.cc:1115: Starting in XGBoost 1.3.0, the default evaluation metric used with the objective 'multi:softprob' was changed from 'merror' to 'mlogloss'. Explicitly set eval_metric if you'd like to restore the old behavior.\n",
      "[01:03:53] WARNING: ../src/learner.cc:1115: Starting in XGBoost 1.3.0, the default evaluation metric used with the objective 'multi:softprob' was changed from 'merror' to 'mlogloss'. Explicitly set eval_metric if you'd like to restore the old behavior.\n",
      "[01:03:53] WARNING: ../src/learner.cc:1115: Starting in XGBoost 1.3.0, the default evaluation metric used with the objective 'multi:softprob' was changed from 'merror' to 'mlogloss'. Explicitly set eval_metric if you'd like to restore the old behavior.\n",
      "[01:03:54] WARNING: ../src/learner.cc:1115: Starting in XGBoost 1.3.0, the default evaluation metric used with the objective 'multi:softprob' was changed from 'merror' to 'mlogloss'. Explicitly set eval_metric if you'd like to restore the old behavior.\n",
      "[01:03:54] WARNING: ../src/learner.cc:1115: Starting in XGBoost 1.3.0, the default evaluation metric used with the objective 'multi:softprob' was changed from 'merror' to 'mlogloss'. Explicitly set eval_metric if you'd like to restore the old behavior.\n",
      "[01:03:55] WARNING: ../src/learner.cc:1115: Starting in XGBoost 1.3.0, the default evaluation metric used with the objective 'multi:softprob' was changed from 'merror' to 'mlogloss'. Explicitly set eval_metric if you'd like to restore the old behavior.\n",
      "[01:03:55] WARNING: ../src/learner.cc:1115: Starting in XGBoost 1.3.0, the default evaluation metric used with the objective 'multi:softprob' was changed from 'merror' to 'mlogloss'. Explicitly set eval_metric if you'd like to restore the old behavior.\n",
      "[01:03:56] WARNING: ../src/learner.cc:1115: Starting in XGBoost 1.3.0, the default evaluation metric used with the objective 'multi:softprob' was changed from 'merror' to 'mlogloss'. Explicitly set eval_metric if you'd like to restore the old behavior.\n",
      "[01:03:56] WARNING: ../src/learner.cc:1115: Starting in XGBoost 1.3.0, the default evaluation metric used with the objective 'multi:softprob' was changed from 'merror' to 'mlogloss'. Explicitly set eval_metric if you'd like to restore the old behavior.\n"
     ]
    }
   ],
   "source": [
    "from sklearn.model_selection import cross_validate\n",
    "\n",
    "rf_cross_val = cross_validate(estimator=RFmodel, X=test_x, y=test_y, cv=10)\n",
    "gbc_cross_val = cross_validate(estimator=GBCmodel, X=test_x, y=test_y, cv=10)\n",
    "xgb_cross_val = cross_validate(estimator=XGBmodel, X=test_x, y=test_y, cv=10)\n",
    "mlp_cross_val = cross_validate(estimator=mlp_class, X=test_x, y=test_y, cv=10)"
   ]
  },
  {
   "cell_type": "markdown",
   "id": "6f69fd69",
   "metadata": {
    "papermill": {
     "duration": 0.081873,
     "end_time": "2022-03-30T01:03:58.825981",
     "exception": false,
     "start_time": "2022-03-30T01:03:58.744108",
     "status": "completed"
    },
    "tags": []
   },
   "source": [
    "# Accuracies from Cross Validation"
   ]
  },
  {
   "cell_type": "code",
   "execution_count": 16,
   "id": "bcbb4bb2",
   "metadata": {
    "execution": {
     "iopub.execute_input": "2022-03-30T01:03:59.026566Z",
     "iopub.status.busy": "2022-03-30T01:03:59.025527Z",
     "iopub.status.idle": "2022-03-30T01:03:59.028209Z",
     "shell.execute_reply": "2022-03-30T01:03:59.027609Z",
     "shell.execute_reply.started": "2022-03-30T01:01:22.780211Z"
    },
    "papermill": {
     "duration": 0.111546,
     "end_time": "2022-03-30T01:03:59.028370",
     "exception": false,
     "start_time": "2022-03-30T01:03:58.916824",
     "status": "completed"
    },
    "tags": []
   },
   "outputs": [],
   "source": [
    "RF_acc =  rf_cross_val[\"test_score\"].mean() * 100\n",
    "GBC_acc =  gbc_cross_val[\"test_score\"].mean() * 100\n",
    "XGB_acc =  xgb_cross_val[\"test_score\"].mean() * 100\n",
    "MLP_acc = mlp_cross_val[\"test_score\"].mean() * 100"
   ]
  },
  {
   "cell_type": "markdown",
   "id": "bff012af",
   "metadata": {
    "papermill": {
     "duration": 0.081138,
     "end_time": "2022-03-30T01:03:59.191878",
     "exception": false,
     "start_time": "2022-03-30T01:03:59.110740",
     "status": "completed"
    },
    "tags": []
   },
   "source": [
    "# evaluation metrics and run time evaluation"
   ]
  },
  {
   "cell_type": "code",
   "execution_count": 17,
   "id": "54b751f6",
   "metadata": {
    "execution": {
     "iopub.execute_input": "2022-03-30T01:03:59.359196Z",
     "iopub.status.busy": "2022-03-30T01:03:59.358115Z",
     "iopub.status.idle": "2022-03-30T01:03:59.362141Z",
     "shell.execute_reply": "2022-03-30T01:03:59.362781Z",
     "shell.execute_reply.started": "2022-03-30T01:01:22.789009Z"
    },
    "papermill": {
     "duration": 0.089585,
     "end_time": "2022-03-30T01:03:59.362978",
     "exception": false,
     "start_time": "2022-03-30T01:03:59.273393",
     "status": "completed"
    },
    "tags": []
   },
   "outputs": [],
   "source": [
    "from sklearn.metrics import accuracy_score"
   ]
  },
  {
   "cell_type": "markdown",
   "id": "12929a6c",
   "metadata": {
    "papermill": {
     "duration": 0.081266,
     "end_time": "2022-03-30T01:03:59.526126",
     "exception": false,
     "start_time": "2022-03-30T01:03:59.444860",
     "status": "completed"
    },
    "tags": []
   },
   "source": [
    "# baseline of mode and random off of entire datset"
   ]
  },
  {
   "cell_type": "code",
   "execution_count": 18,
   "id": "50995945",
   "metadata": {
    "execution": {
     "iopub.execute_input": "2022-03-30T01:03:59.713494Z",
     "iopub.status.busy": "2022-03-30T01:03:59.712782Z",
     "iopub.status.idle": "2022-03-30T01:03:59.823830Z",
     "shell.execute_reply": "2022-03-30T01:03:59.823227Z",
     "shell.execute_reply.started": "2022-03-30T01:01:22.799783Z"
    },
    "papermill": {
     "duration": 0.213573,
     "end_time": "2022-03-30T01:03:59.823981",
     "exception": false,
     "start_time": "2022-03-30T01:03:59.610408",
     "status": "completed"
    },
    "tags": []
   },
   "outputs": [],
   "source": [
    "import random\n",
    "from scipy import stats\n",
    "\n",
    "random.randint(0,4)\n",
    "y_shape = np.array(all_y.shape)\n",
    "\n",
    "random_guess_baseline = np.sum(all_y == [random.randint(0,4) for i in range(all_y.shape[0])]) / all_y.shape[0] * 100\n",
    "mode_baseline = np.sum(all_y == [stats.mode(train_y)[0][0] for i in range(all_y.shape[0])]) / all_y.shape[0] * 100\n",
    "median_baseline = np.sum(all_y == [np.median(train_y) for i in range(all_y.shape[0])]) / all_y.shape[0] * 100"
   ]
  },
  {
   "cell_type": "code",
   "execution_count": 19,
   "id": "6de34662",
   "metadata": {
    "execution": {
     "iopub.execute_input": "2022-03-30T01:03:59.998016Z",
     "iopub.status.busy": "2022-03-30T01:03:59.997372Z",
     "iopub.status.idle": "2022-03-30T01:03:59.999040Z",
     "shell.execute_reply": "2022-03-30T01:03:59.999617Z",
     "shell.execute_reply.started": "2022-03-30T01:01:22.916011Z"
    },
    "papermill": {
     "duration": 0.091613,
     "end_time": "2022-03-30T01:03:59.999785",
     "exception": false,
     "start_time": "2022-03-30T01:03:59.908172",
     "status": "completed"
    },
    "tags": []
   },
   "outputs": [],
   "source": [
    "models = [\"Random Forest Classifier\", \"Gradient Boosting Classifier\", \"XGBoost Classifier\", \"MLP Classifier\", \"Random guessing\",\"Mode guessing\",\"Median guessing\"]\n",
    "accuracies = [RF_acc, GBC_acc, XGB_acc, MLP_acc, random_guess_baseline, mode_baseline, median_baseline]"
   ]
  },
  {
   "cell_type": "markdown",
   "id": "a2a8e1e4",
   "metadata": {
    "papermill": {
     "duration": 0.080908,
     "end_time": "2022-03-30T01:04:00.162641",
     "exception": false,
     "start_time": "2022-03-30T01:04:00.081733",
     "status": "completed"
    },
    "tags": []
   },
   "source": [
    "# plot Accuracies"
   ]
  },
  {
   "cell_type": "code",
   "execution_count": 20,
   "id": "f7ed10e9",
   "metadata": {
    "execution": {
     "iopub.execute_input": "2022-03-30T01:04:00.328562Z",
     "iopub.status.busy": "2022-03-30T01:04:00.327853Z",
     "iopub.status.idle": "2022-03-30T01:04:00.578514Z",
     "shell.execute_reply": "2022-03-30T01:04:00.579005Z",
     "shell.execute_reply.started": "2022-03-30T01:01:22.922291Z"
    },
    "papermill": {
     "duration": 0.335364,
     "end_time": "2022-03-30T01:04:00.579169",
     "exception": false,
     "start_time": "2022-03-30T01:04:00.243805",
     "status": "completed"
    },
    "tags": []
   },
   "outputs": [
    {
     "data": {
      "image/png": "[encoded data removed]",
      "text/plain": [
       "<Figure size 1512x648 with 1 Axes>"
      ]
     },
     "metadata": {
      "needs_background": "light"
     },
     "output_type": "display_data"
    }
   ],
   "source": [
    "plt.figure(figsize=[21, 9])\n",
    "sns.barplot(x=models, y=accuracies)\n",
    "plt.title(\"Accuracy on testing data\", fontsize=30)\n",
    "plt.ylabel(\"Accuracy\", fontsize=22)\n",
    "plt.xlabel(\"Model\", fontsize=22)\n",
    "xlocs=[i+1 for i in range(0,10)]\n",
    "for i, j in enumerate(accuracies):\n",
    "    acc_pct = \"{:.2f}\".format(j)\n",
    "    plt.text(xlocs[i] - 1.1, j+1, str(acc_pct)+'%')"
   ]
  },
  {
   "cell_type": "markdown",
   "id": "6f9fb35c",
   "metadata": {
    "papermill": {
     "duration": 0.082693,
     "end_time": "2022-03-30T01:04:00.745050",
     "exception": false,
     "start_time": "2022-03-30T01:04:00.662357",
     "status": "completed"
    },
    "tags": []
   },
   "source": [
    "# Feature Importances"
   ]
  },
  {
   "cell_type": "code",
   "execution_count": 21,
   "id": "eadf1c79",
   "metadata": {
    "execution": {
     "iopub.execute_input": "2022-03-30T01:04:00.929047Z",
     "iopub.status.busy": "2022-03-30T01:04:00.928283Z",
     "iopub.status.idle": "2022-03-30T01:04:00.939516Z",
     "shell.execute_reply": "2022-03-30T01:04:00.938943Z",
     "shell.execute_reply.started": "2022-03-30T01:01:23.230302Z"
    },
    "papermill": {
     "duration": 0.109443,
     "end_time": "2022-03-30T01:04:00.939659",
     "exception": false,
     "start_time": "2022-03-30T01:04:00.830216",
     "status": "completed"
    },
    "tags": []
   },
   "outputs": [
    {
     "name": "stdout",
     "output_type": "stream",
     "text": [
      "Random Forest Classifier [0.12009816 0.1074227  0.13918663 0.12101534 0.14847684 0.15918045\n",
      " 0.0812248  0.12339508]\n",
      "Gradient Boost Classifier [0.40068671 0.035758   0.15268775 0.05727186 0.09504286 0.07120886\n",
      " 0.09143125 0.0959127 ]\n",
      "XGBoost Classifier [0.5498198 0.        0.4501802 0.        0.        0.        0.\n",
      " 0.       ]\n"
     ]
    }
   ],
   "source": [
    "print(f'Random Forest Classifier {RFmodel.feature_importances_}')\n",
    "print(f'Gradient Boost Classifier {GBCmodel.feature_importances_}')\n",
    "print(f'XGBoost Classifier {XGBmodel.feature_importances_}')"
   ]
  },
  {
   "cell_type": "markdown",
   "id": "ff4bb3ad",
   "metadata": {
    "papermill": {
     "duration": 0.086695,
     "end_time": "2022-03-30T01:04:01.111298",
     "exception": false,
     "start_time": "2022-03-30T01:04:01.024603",
     "status": "completed"
    },
    "tags": []
   },
   "source": [
    "# Add synthetic data"
   ]
  },
  {
   "cell_type": "code",
   "execution_count": 22,
   "id": "b25519a2",
   "metadata": {
    "execution": {
     "iopub.execute_input": "2022-03-30T01:04:01.284526Z",
     "iopub.status.busy": "2022-03-30T01:04:01.283814Z",
     "iopub.status.idle": "2022-03-30T01:04:20.216481Z",
     "shell.execute_reply": "2022-03-30T01:04:20.215576Z",
     "shell.execute_reply.started": "2022-03-30T01:01:23.258586Z"
    },
    "papermill": {
     "duration": 19.021144,
     "end_time": "2022-03-30T01:04:20.216652",
     "exception": false,
     "start_time": "2022-03-30T01:04:01.195508",
     "status": "completed"
    },
    "tags": []
   },
   "outputs": [],
   "source": [
    "from sdv.tabular import CTGAN\n",
    "\n",
    "synthetic = CTGAN()\n",
    "\n",
    "synthetic.fit(dataset)"
   ]
  },
  {
   "cell_type": "code",
   "execution_count": 23,
   "id": "5813bb54",
   "metadata": {
    "execution": {
     "iopub.execute_input": "2022-03-30T01:04:20.392220Z",
     "iopub.status.busy": "2022-03-30T01:04:20.391237Z",
     "iopub.status.idle": "2022-03-30T01:04:20.453871Z",
     "shell.execute_reply": "2022-03-30T01:04:20.453311Z",
     "shell.execute_reply.started": "2022-03-30T01:01:39.955987Z"
    },
    "papermill": {
     "duration": 0.151133,
     "end_time": "2022-03-30T01:04:20.454018",
     "exception": false,
     "start_time": "2022-03-30T01:04:20.302885",
     "status": "completed"
    },
    "tags": []
   },
   "outputs": [],
   "source": [
    "synth_data = synthetic.sample(num_rows=150)"
   ]
  },
  {
   "cell_type": "code",
   "execution_count": 24,
   "id": "a7124757",
   "metadata": {
    "execution": {
     "iopub.execute_input": "2022-03-30T01:04:20.627691Z",
     "iopub.status.busy": "2022-03-30T01:04:20.626649Z",
     "iopub.status.idle": "2022-03-30T01:04:20.630509Z",
     "shell.execute_reply": "2022-03-30T01:04:20.629907Z",
     "shell.execute_reply.started": "2022-03-30T01:01:40.023215Z"
    },
    "papermill": {
     "duration": 0.092178,
     "end_time": "2022-03-30T01:04:20.630658",
     "exception": false,
     "start_time": "2022-03-30T01:04:20.538480",
     "status": "completed"
    },
    "tags": []
   },
   "outputs": [],
   "source": [
    "dataset_list = [dataset, synth_data]\n",
    "combined_synth_data = pd.concat(dataset_list)"
   ]
  },
  {
   "cell_type": "markdown",
   "id": "238d4440",
   "metadata": {
    "papermill": {
     "duration": 0.082852,
     "end_time": "2022-03-30T01:04:20.797819",
     "exception": false,
     "start_time": "2022-03-30T01:04:20.714967",
     "status": "completed"
    },
    "tags": []
   },
   "source": [
    "# Only features will be Limb Movement, Snoring Range, and Sleep Hours. (See note below correlation heatmap.)"
   ]
  },
  {
   "cell_type": "code",
   "execution_count": 25,
   "id": "848654ef",
   "metadata": {
    "execution": {
     "iopub.execute_input": "2022-03-30T01:04:20.972555Z",
     "iopub.status.busy": "2022-03-30T01:04:20.971638Z",
     "iopub.status.idle": "2022-03-30T01:04:20.975412Z",
     "shell.execute_reply": "2022-03-30T01:04:20.974828Z",
     "shell.execute_reply.started": "2022-03-30T01:01:40.030697Z"
    },
    "papermill": {
     "duration": 0.093871,
     "end_time": "2022-03-30T01:04:20.975578",
     "exception": false,
     "start_time": "2022-03-30T01:04:20.881707",
     "status": "completed"
    },
    "tags": []
   },
   "outputs": [],
   "source": [
    "non_features = [\"Respiration Rate\", \"Body Temp\", \"Heart Rate\", \"Blood Oxygen\", \"Eye Movement\"]\n",
    "combined_synth_data.drop(non_features, axis=1, inplace=True)"
   ]
  },
  {
   "cell_type": "code",
   "execution_count": 26,
   "id": "af4666fc",
   "metadata": {
    "execution": {
     "iopub.execute_input": "2022-03-30T01:04:21.151442Z",
     "iopub.status.busy": "2022-03-30T01:04:21.150754Z",
     "iopub.status.idle": "2022-03-30T01:04:21.153686Z",
     "shell.execute_reply": "2022-03-30T01:04:21.153191Z",
     "shell.execute_reply.started": "2022-03-30T01:01:40.044689Z"
    },
    "papermill": {
     "duration": 0.094673,
     "end_time": "2022-03-30T01:04:21.153826",
     "exception": false,
     "start_time": "2022-03-30T01:04:21.059153",
     "status": "completed"
    },
    "tags": []
   },
   "outputs": [],
   "source": [
    "synth_features = combined_synth_data.columns[:-1]\n",
    "\n",
    "x_train, x_test, y_train, y_test = train_test_split(combined_synth_data[synth_features], combined_synth_data[\"Stress Level\"], random_state=1)"
   ]
  },
  {
   "cell_type": "markdown",
   "id": "0e5e548a",
   "metadata": {
    "papermill": {
     "duration": 0.083128,
     "end_time": "2022-03-30T01:04:21.320698",
     "exception": false,
     "start_time": "2022-03-30T01:04:21.237570",
     "status": "completed"
    },
    "tags": []
   },
   "source": [
    "# Training and predicting with Random Forest"
   ]
  },
  {
   "cell_type": "code",
   "execution_count": 27,
   "id": "b70aca2b",
   "metadata": {
    "execution": {
     "iopub.execute_input": "2022-03-30T01:04:21.494846Z",
     "iopub.status.busy": "2022-03-30T01:04:21.490626Z",
     "iopub.status.idle": "2022-03-30T01:04:21.709921Z",
     "shell.execute_reply": "2022-03-30T01:04:21.709357Z",
     "shell.execute_reply.started": "2022-03-30T01:01:40.057914Z"
    },
    "papermill": {
     "duration": 0.305663,
     "end_time": "2022-03-30T01:04:21.710076",
     "exception": false,
     "start_time": "2022-03-30T01:04:21.404413",
     "status": "completed"
    },
    "tags": []
   },
   "outputs": [],
   "source": [
    "rf_start = time.time()\n",
    "RFmodel.fit(x_train, y_train)\n",
    "synth_rf_preds = RFmodel.predict(x_test)\n",
    "rf_stop = time.time()"
   ]
  },
  {
   "cell_type": "markdown",
   "id": "2b0dd6db",
   "metadata": {
    "papermill": {
     "duration": 0.083096,
     "end_time": "2022-03-30T01:04:21.876825",
     "exception": false,
     "start_time": "2022-03-30T01:04:21.793729",
     "status": "completed"
    },
    "tags": []
   },
   "source": [
    "# Training and predicting with Gradient Boosting Classifier"
   ]
  },
  {
   "cell_type": "code",
   "execution_count": 28,
   "id": "7a1b9e71",
   "metadata": {
    "execution": {
     "iopub.execute_input": "2022-03-30T01:04:22.052154Z",
     "iopub.status.busy": "2022-03-30T01:04:22.051473Z",
     "iopub.status.idle": "2022-03-30T01:04:22.657077Z",
     "shell.execute_reply": "2022-03-30T01:04:22.656486Z",
     "shell.execute_reply.started": "2022-03-30T01:01:40.279345Z"
    },
    "papermill": {
     "duration": 0.696438,
     "end_time": "2022-03-30T01:04:22.657221",
     "exception": false,
     "start_time": "2022-03-30T01:04:21.960783",
     "status": "completed"
    },
    "tags": []
   },
   "outputs": [],
   "source": [
    "gbc_start = time.time()\n",
    "GBCmodel.fit(x_train, y_train)\n",
    "synth_gbc_preds = GBCmodel.predict(x_test)\n",
    "gbc_stop = time.time()"
   ]
  },
  {
   "cell_type": "markdown",
   "id": "ba2dbeea",
   "metadata": {
    "papermill": {
     "duration": 0.083936,
     "end_time": "2022-03-30T01:04:22.825398",
     "exception": false,
     "start_time": "2022-03-30T01:04:22.741462",
     "status": "completed"
    },
    "tags": []
   },
   "source": [
    "# Training and predicting with XGBoost Classifer"
   ]
  },
  {
   "cell_type": "code",
   "execution_count": 29,
   "id": "d0e93e78",
   "metadata": {
    "execution": {
     "iopub.execute_input": "2022-03-30T01:04:22.998362Z",
     "iopub.status.busy": "2022-03-30T01:04:22.997701Z",
     "iopub.status.idle": "2022-03-30T01:04:23.434218Z",
     "shell.execute_reply": "2022-03-30T01:04:23.434781Z",
     "shell.execute_reply.started": "2022-03-30T01:01:40.902199Z"
    },
    "papermill": {
     "duration": 0.525956,
     "end_time": "2022-03-30T01:04:23.434999",
     "exception": false,
     "start_time": "2022-03-30T01:04:22.909043",
     "status": "completed"
    },
    "tags": []
   },
   "outputs": [
    {
     "name": "stdout",
     "output_type": "stream",
     "text": [
      "[01:04:23] WARNING: ../src/learner.cc:1115: Starting in XGBoost 1.3.0, the default evaluation metric used with the objective 'multi:softprob' was changed from 'merror' to 'mlogloss'. Explicitly set eval_metric if you'd like to restore the old behavior.\n"
     ]
    }
   ],
   "source": [
    "xgb_start = time.time()\n",
    "XGBmodel.fit(x_train, y_train)\n",
    "synth_xgb_preds = XGBmodel.predict(x_test)\n",
    "xgb_stop = time.time()"
   ]
  },
  {
   "cell_type": "markdown",
   "id": "3ea807d9",
   "metadata": {
    "papermill": {
     "duration": 0.085826,
     "end_time": "2022-03-30T01:04:23.606798",
     "exception": false,
     "start_time": "2022-03-30T01:04:23.520972",
     "status": "completed"
    },
    "tags": []
   },
   "source": [
    "# Training and predicting with MLP"
   ]
  },
  {
   "cell_type": "code",
   "execution_count": 30,
   "id": "dff60562",
   "metadata": {
    "execution": {
     "iopub.execute_input": "2022-03-30T01:04:23.783985Z",
     "iopub.status.busy": "2022-03-30T01:04:23.783226Z",
     "iopub.status.idle": "2022-03-30T01:04:24.291019Z",
     "shell.execute_reply": "2022-03-30T01:04:24.290457Z",
     "shell.execute_reply.started": "2022-03-30T01:01:41.350047Z"
    },
    "papermill": {
     "duration": 0.60028,
     "end_time": "2022-03-30T01:04:24.291174",
     "exception": false,
     "start_time": "2022-03-30T01:04:23.690894",
     "status": "completed"
    },
    "tags": []
   },
   "outputs": [],
   "source": [
    "mlp_start = time.time()\n",
    "mlp_class.fit(x_train, y_train)\n",
    "synth_mlp_preds = mlp_class.predict(x_test)\n",
    "mlp_stop = time.time()"
   ]
  },
  {
   "cell_type": "markdown",
   "id": "bf23a349",
   "metadata": {
    "papermill": {
     "duration": 0.083799,
     "end_time": "2022-03-30T01:04:24.458745",
     "exception": false,
     "start_time": "2022-03-30T01:04:24.374946",
     "status": "completed"
    },
    "tags": []
   },
   "source": [
    "# Cross Validation of the 4 models on the synthetic data"
   ]
  },
  {
   "cell_type": "code",
   "execution_count": 31,
   "id": "a9bca304",
   "metadata": {
    "execution": {
     "iopub.execute_input": "2022-03-30T01:04:24.633773Z",
     "iopub.status.busy": "2022-03-30T01:04:24.629432Z",
     "iopub.status.idle": "2022-03-30T01:04:35.532947Z",
     "shell.execute_reply": "2022-03-30T01:04:35.532262Z",
     "shell.execute_reply.started": "2022-03-30T01:01:41.865439Z"
    },
    "papermill": {
     "duration": 10.990193,
     "end_time": "2022-03-30T01:04:35.533104",
     "exception": false,
     "start_time": "2022-03-30T01:04:24.542911",
     "status": "completed"
    },
    "tags": []
   },
   "outputs": [
    {
     "name": "stdout",
     "output_type": "stream",
     "text": [
      "[01:04:30] WARNING: ../src/learner.cc:1115: Starting in XGBoost 1.3.0, the default evaluation metric used with the objective 'multi:softprob' was changed from 'merror' to 'mlogloss'. Explicitly set eval_metric if you'd like to restore the old behavior.\n",
      "[01:04:30] WARNING: ../src/learner.cc:1115: Starting in XGBoost 1.3.0, the default evaluation metric used with the objective 'multi:softprob' was changed from 'merror' to 'mlogloss'. Explicitly set eval_metric if you'd like to restore the old behavior.\n",
      "[01:04:31] WARNING: ../src/learner.cc:1115: Starting in XGBoost 1.3.0, the default evaluation metric used with the objective 'multi:softprob' was changed from 'merror' to 'mlogloss'. Explicitly set eval_metric if you'd like to restore the old behavior.\n",
      "[01:04:31] WARNING: ../src/learner.cc:1115: Starting in XGBoost 1.3.0, the default evaluation metric used with the objective 'multi:softprob' was changed from 'merror' to 'mlogloss'. Explicitly set eval_metric if you'd like to restore the old behavior.\n",
      "[01:04:31] WARNING: ../src/learner.cc:1115: Starting in XGBoost 1.3.0, the default evaluation metric used with the objective 'multi:softprob' was changed from 'merror' to 'mlogloss'. Explicitly set eval_metric if you'd like to restore the old behavior.\n",
      "[01:04:32] WARNING: ../src/learner.cc:1115: Starting in XGBoost 1.3.0, the default evaluation metric used with the objective 'multi:softprob' was changed from 'merror' to 'mlogloss'. Explicitly set eval_metric if you'd like to restore the old behavior.\n",
      "[01:04:32] WARNING: ../src/learner.cc:1115: Starting in XGBoost 1.3.0, the default evaluation metric used with the objective 'multi:softprob' was changed from 'merror' to 'mlogloss'. Explicitly set eval_metric if you'd like to restore the old behavior.\n",
      "[01:04:32] WARNING: ../src/learner.cc:1115: Starting in XGBoost 1.3.0, the default evaluation metric used with the objective 'multi:softprob' was changed from 'merror' to 'mlogloss'. Explicitly set eval_metric if you'd like to restore the old behavior.\n",
      "[01:04:33] WARNING: ../src/learner.cc:1115: Starting in XGBoost 1.3.0, the default evaluation metric used with the objective 'multi:softprob' was changed from 'merror' to 'mlogloss'. Explicitly set eval_metric if you'd like to restore the old behavior.\n",
      "[01:04:33] WARNING: ../src/learner.cc:1115: Starting in XGBoost 1.3.0, the default evaluation metric used with the objective 'multi:softprob' was changed from 'merror' to 'mlogloss'. Explicitly set eval_metric if you'd like to restore the old behavior.\n"
     ]
    }
   ],
   "source": [
    "rf_cross_val = cross_validate(estimator=RFmodel, X=x_test, y=y_test, cv=10)\n",
    "gbc_cross_val = cross_validate(estimator=GBCmodel, X=x_test, y=y_test, cv=10)\n",
    "xgb_cross_val = cross_validate(estimator=XGBmodel, X=x_test, y=y_test, cv=10)\n",
    "mlp_cross_val = cross_validate(estimator=mlp_class, X=x_test, y=y_test, cv=10)"
   ]
  },
  {
   "cell_type": "markdown",
   "id": "a2090073",
   "metadata": {
    "papermill": {
     "duration": 0.08703,
     "end_time": "2022-03-30T01:04:35.709845",
     "exception": false,
     "start_time": "2022-03-30T01:04:35.622815",
     "status": "completed"
    },
    "tags": []
   },
   "source": [
    "# Show table of models, accuracies, and runtimes"
   ]
  },
  {
   "cell_type": "code",
   "execution_count": 32,
   "id": "2aa616a2",
   "metadata": {
    "execution": {
     "iopub.execute_input": "2022-03-30T01:04:35.888161Z",
     "iopub.status.busy": "2022-03-30T01:04:35.887504Z",
     "iopub.status.idle": "2022-03-30T01:04:35.901681Z",
     "shell.execute_reply": "2022-03-30T01:04:35.902238Z",
     "shell.execute_reply.started": "2022-03-30T01:01:52.695175Z"
    },
    "papermill": {
     "duration": 0.104874,
     "end_time": "2022-03-30T01:04:35.902420",
     "exception": false,
     "start_time": "2022-03-30T01:04:35.797546",
     "status": "completed"
    },
    "tags": []
   },
   "outputs": [
    {
     "data": {
      "text/html": [
       "<div>\n",
       "<style scoped>\n",
       "    .dataframe tbody tr th:only-of-type {\n",
       "        vertical-align: middle;\n",
       "    }\n",
       "\n",
       "    .dataframe tbody tr th {\n",
       "        vertical-align: top;\n",
       "    }\n",
       "\n",
       "    .dataframe thead th {\n",
       "        text-align: right;\n",
       "    }\n",
       "</style>\n",
       "<table border=\"1\" class=\"dataframe\">\n",
       "  <thead>\n",
       "    <tr style=\"text-align: right;\">\n",
       "      <th></th>\n",
       "      <th>Model</th>\n",
       "      <th>Accuracies %</th>\n",
       "      <th>Run Time (ms)</th>\n",
       "    </tr>\n",
       "  </thead>\n",
       "  <tbody>\n",
       "    <tr>\n",
       "      <th>0</th>\n",
       "      <td>Random Forest Classifier</td>\n",
       "      <td>83.08</td>\n",
       "      <td>213.66</td>\n",
       "    </tr>\n",
       "    <tr>\n",
       "      <th>1</th>\n",
       "      <td>Gradient Boost Classifier</td>\n",
       "      <td>80.03</td>\n",
       "      <td>604.98</td>\n",
       "    </tr>\n",
       "    <tr>\n",
       "      <th>2</th>\n",
       "      <td>XGBoost Classifier</td>\n",
       "      <td>81.55</td>\n",
       "      <td>434.18</td>\n",
       "    </tr>\n",
       "    <tr>\n",
       "      <th>3</th>\n",
       "      <td>MLP Classifier</td>\n",
       "      <td>72.74</td>\n",
       "      <td>506.63</td>\n",
       "    </tr>\n",
       "  </tbody>\n",
       "</table>\n",
       "</div>"
      ],
      "text/plain": [
       "                       Model  Accuracies %  Run Time (ms)\n",
       "0   Random Forest Classifier         83.08         213.66\n",
       "1  Gradient Boost Classifier         80.03         604.98\n",
       "2         XGBoost Classifier         81.55         434.18\n",
       "3             MLP Classifier         72.74         506.63"
      ]
     },
     "execution_count": 32,
     "metadata": {},
     "output_type": "execute_result"
    }
   ],
   "source": [
    "\n",
    "acc_runtime_table = pd.DataFrame({\n",
    "    \n",
    "    \"Model\" : [\"Random Forest Classifier\", \"Gradient Boost Classifier\", \"XGBoost Classifier\", \"MLP Classifier\"],\n",
    "    \"Accuracies %\" : [round(rf_cross_val[\"test_score\"].mean() * 100, 2), round(gbc_cross_val[\"test_score\"].mean() * 100, 2), round(xgb_cross_val[\"test_score\"].mean() * 100, 2), round(mlp_cross_val[\"test_score\"].mean() * 100, 2)],\n",
    "    \"Run Time (ms)\" : [round((rf_stop - rf_start) * 1000, 2), round((gbc_stop - gbc_start) * 1000, 2), round((xgb_stop - xgb_start) * 1000, 2), round((mlp_stop - mlp_start) * 1000, 2)]\n",
    "})\n",
    "\n",
    "acc_runtime_table"
   ]
  },
  {
   "cell_type": "markdown",
   "id": "ffe9b7bc",
   "metadata": {
    "papermill": {
     "duration": 0.088235,
     "end_time": "2022-03-30T01:04:36.080477",
     "exception": false,
     "start_time": "2022-03-30T01:04:35.992242",
     "status": "completed"
    },
    "tags": []
   },
   "source": [
    "# RandomForest was fastest and scored highly. MLP scored inconsistently but was consistently the least accurate."
   ]
  },
  {
   "cell_type": "markdown",
   "id": "e515f1a0",
   "metadata": {
    "papermill": {
     "duration": 0.087612,
     "end_time": "2022-03-30T01:04:36.257495",
     "exception": false,
     "start_time": "2022-03-30T01:04:36.169883",
     "status": "completed"
    },
    "tags": []
   },
   "source": [
    "# Hyperparameter Tuning"
   ]
  },
  {
   "cell_type": "code",
   "execution_count": null,
   "id": "608fedac",
   "metadata": {
    "papermill": {
     "duration": 0.087922,
     "end_time": "2022-03-30T01:04:36.433563",
     "exception": false,
     "start_time": "2022-03-30T01:04:36.345641",
     "status": "completed"
    },
    "tags": []
   },
   "outputs": [],
   "source": []
  },
  {
   "cell_type": "code",
   "execution_count": null,
   "id": "8413c73a",
   "metadata": {
    "papermill": {
     "duration": 0.087954,
     "end_time": "2022-03-30T01:04:36.610273",
     "exception": false,
     "start_time": "2022-03-30T01:04:36.522319",
     "status": "completed"
    },
    "tags": []
   },
   "outputs": [],
   "source": []
  },
  {
   "cell_type": "code",
   "execution_count": null,
   "id": "8b9807b4",
   "metadata": {
    "papermill": {
     "duration": 0.08806,
     "end_time": "2022-03-30T01:04:36.786140",
     "exception": false,
     "start_time": "2022-03-30T01:04:36.698080",
     "status": "completed"
    },
    "tags": []
   },
   "outputs": [],
   "source": []
  },
  {
   "cell_type": "code",
   "execution_count": null,
   "id": "df417686",
   "metadata": {
    "papermill": {
     "duration": 0.089507,
     "end_time": "2022-03-30T01:04:36.963422",
     "exception": false,
     "start_time": "2022-03-30T01:04:36.873915",
     "status": "completed"
    },
    "tags": []
   },
   "outputs": [],
   "source": []
  },
  {
   "cell_type": "markdown",
   "id": "1d932e78",
   "metadata": {
    "papermill": {
     "duration": 0.089365,
     "end_time": "2022-03-30T01:04:37.142436",
     "exception": false,
     "start_time": "2022-03-30T01:04:37.053071",
     "status": "completed"
    },
    "tags": []
   },
   "source": [
    "# Figure out best model and do confusion matrix"
   ]
  },
  {
   "cell_type": "code",
   "execution_count": null,
   "id": "26a22f8a",
   "metadata": {
    "papermill": {
     "duration": 0.087776,
     "end_time": "2022-03-30T01:04:37.318972",
     "exception": false,
     "start_time": "2022-03-30T01:04:37.231196",
     "status": "completed"
    },
    "tags": []
   },
   "outputs": [],
   "source": []
  },
  {
   "cell_type": "markdown",
   "id": "e4b020bb",
   "metadata": {
    "papermill": {
     "duration": 0.087416,
     "end_time": "2022-03-30T01:04:37.494296",
     "exception": false,
     "start_time": "2022-03-30T01:04:37.406880",
     "status": "completed"
    },
    "tags": []
   },
   "source": [
    "# Feature importance to see what sleep features matter"
   ]
  },
  {
   "cell_type": "code",
   "execution_count": null,
   "id": "b647aca2",
   "metadata": {
    "papermill": {
     "duration": 0.087419,
     "end_time": "2022-03-30T01:04:37.672223",
     "exception": false,
     "start_time": "2022-03-30T01:04:37.584804",
     "status": "completed"
    },
    "tags": []
   },
   "outputs": [],
   "source": []
  }
 ],
 "metadata": {
  "kernelspec": {
   "display_name": "Python 3",
   "language": "python",
   "name": "python3"
  },
  "language_info": {
   "codemirror_mode": {
    "name": "ipython",
    "version": 3
   },
   "file_extension": ".py",
   "mimetype": "text/x-python",
   "name": "python",
   "nbconvert_exporter": "python",
   "pygments_lexer": "ipython3",
   "version": "3.7.12"
  },
  "papermill": {
   "default_parameters": {},
   "duration": 86.376931,
   "end_time": "2022-03-30T01:04:38.770859",
   "environment_variables": {},
   "exception": null,
   "input_path": "__notebook__.ipynb",
   "output_path": "__notebook__.ipynb",
   "parameters": {},
   "start_time": "2022-03-30T01:03:12.393928",
   "version": "2.3.3"
  }
 },
 "nbformat": 4,
 "nbformat_minor": 5
}
