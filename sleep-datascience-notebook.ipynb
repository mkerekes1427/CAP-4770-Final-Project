{
 "cells": [
  {
   "cell_type": "code",
   "execution_count": 1,
   "id": "0b64b710",
   "metadata": {
    "_cell_guid": "b1076dfc-b9ad-4769-8c92-a6c4dae69d19",
    "_uuid": "8f2839f25d086af736a60e9eeb907d3b93b6e0e5",
    "execution": {
     "iopub.execute_input": "2022-04-01T22:53:37.600109Z",
     "iopub.status.busy": "2022-04-01T22:53:37.595594Z",
     "iopub.status.idle": "2022-04-01T22:53:38.794677Z",
     "shell.execute_reply": "2022-04-01T22:53:38.794004Z",
     "shell.execute_reply.started": "2022-04-01T22:39:01.679418Z"
    },
    "papermill": {
     "duration": 1.25604,
     "end_time": "2022-04-01T22:53:38.794879",
     "exception": false,
     "start_time": "2022-04-01T22:53:37.538839",
     "status": "completed"
    },
    "tags": []
   },
   "outputs": [
    {
     "name": "stdout",
     "output_type": "stream",
     "text": [
      "/kaggle/input/flight-price-prediction/business.csv\n",
      "/kaggle/input/flight-price-prediction/economy.csv\n",
      "/kaggle/input/flight-price-prediction/Clean_Dataset.csv\n"
     ]
    }
   ],
   "source": [
    "# This Python 3 environment comes with many helpful analytics libraries installed\n",
    "# It is defined by the kaggle/python Docker image: https://github.com/kaggle/docker-python\n",
    "# For example, here's several helpful packages to load\n",
    "\n",
    "import time\n",
    "import warnings\n",
    "import numpy as np # linear algebra\n",
    "import pandas as pd # data processing, CSV file I/O (e.g. pd.read_csv)\n",
    "import seaborn as sns\n",
    "import matplotlib.pyplot as plt\n",
    "\n",
    "# Input data files are available in the read-only \"../input/\" directory\n",
    "# For example, running this (by clicking run or pressing Shift+Enter) will list all files under the input directory\n",
    "\n",
    "import os\n",
    "for dirname, _, filenames in os.walk('/kaggle/input'):\n",
    "    for filename in filenames:\n",
    "        print(os.path.join(dirname, filename))\n",
    "\n",
    "# You can write up to 20GB to the current directory (/kaggle/working/) that gets preserved as output when you create a version using \"Save & Run All\" \n",
    "# You can also write temporary files to /kaggle/temp/, but they won't be saved outside of the current session\n",
    "\n",
    "warnings.filterwarnings(\"ignore\")"
   ]
  },
  {
   "cell_type": "markdown",
   "id": "24d76710",
   "metadata": {
    "papermill": {
     "duration": 0.048411,
     "end_time": "2022-04-01T22:53:38.892070",
     "exception": false,
     "start_time": "2022-04-01T22:53:38.843659",
     "status": "completed"
    },
    "tags": []
   },
   "source": [
    "# Read Data in and do head"
   ]
  },
  {
   "cell_type": "code",
   "execution_count": 2,
   "id": "1bdfcc6a",
   "metadata": {
    "execution": {
     "iopub.execute_input": "2022-04-01T22:53:38.990549Z",
     "iopub.status.busy": "2022-04-01T22:53:38.989879Z",
     "iopub.status.idle": "2022-04-01T22:53:39.792114Z",
     "shell.execute_reply": "2022-04-01T22:53:39.792651Z",
     "shell.execute_reply.started": "2022-04-01T22:46:09.509792Z"
    },
    "papermill": {
     "duration": 0.853098,
     "end_time": "2022-04-01T22:53:39.792873",
     "exception": false,
     "start_time": "2022-04-01T22:53:38.939775",
     "status": "completed"
    },
    "tags": []
   },
   "outputs": [
    {
     "data": {
      "text/html": [
       "<div>\n",
       "<style scoped>\n",
       "    .dataframe tbody tr th:only-of-type {\n",
       "        vertical-align: middle;\n",
       "    }\n",
       "\n",
       "    .dataframe tbody tr th {\n",
       "        vertical-align: top;\n",
       "    }\n",
       "\n",
       "    .dataframe thead th {\n",
       "        text-align: right;\n",
       "    }\n",
       "</style>\n",
       "<table border=\"1\" class=\"dataframe\">\n",
       "  <thead>\n",
       "    <tr style=\"text-align: right;\">\n",
       "      <th></th>\n",
       "      <th>airline</th>\n",
       "      <th>flight</th>\n",
       "      <th>source_city</th>\n",
       "      <th>departure_time</th>\n",
       "      <th>stops</th>\n",
       "      <th>arrival_time</th>\n",
       "      <th>destination_city</th>\n",
       "      <th>class</th>\n",
       "      <th>duration</th>\n",
       "      <th>days_left</th>\n",
       "      <th>price</th>\n",
       "    </tr>\n",
       "  </thead>\n",
       "  <tbody>\n",
       "    <tr>\n",
       "      <th>0</th>\n",
       "      <td>SpiceJet</td>\n",
       "      <td>SG-8709</td>\n",
       "      <td>Delhi</td>\n",
       "      <td>Evening</td>\n",
       "      <td>zero</td>\n",
       "      <td>Night</td>\n",
       "      <td>Mumbai</td>\n",
       "      <td>Economy</td>\n",
       "      <td>2.17</td>\n",
       "      <td>1</td>\n",
       "      <td>5953</td>\n",
       "    </tr>\n",
       "    <tr>\n",
       "      <th>1</th>\n",
       "      <td>SpiceJet</td>\n",
       "      <td>SG-8157</td>\n",
       "      <td>Delhi</td>\n",
       "      <td>Early_Morning</td>\n",
       "      <td>zero</td>\n",
       "      <td>Morning</td>\n",
       "      <td>Mumbai</td>\n",
       "      <td>Economy</td>\n",
       "      <td>2.33</td>\n",
       "      <td>1</td>\n",
       "      <td>5953</td>\n",
       "    </tr>\n",
       "    <tr>\n",
       "      <th>2</th>\n",
       "      <td>AirAsia</td>\n",
       "      <td>I5-764</td>\n",
       "      <td>Delhi</td>\n",
       "      <td>Early_Morning</td>\n",
       "      <td>zero</td>\n",
       "      <td>Early_Morning</td>\n",
       "      <td>Mumbai</td>\n",
       "      <td>Economy</td>\n",
       "      <td>2.17</td>\n",
       "      <td>1</td>\n",
       "      <td>5956</td>\n",
       "    </tr>\n",
       "    <tr>\n",
       "      <th>3</th>\n",
       "      <td>Vistara</td>\n",
       "      <td>UK-995</td>\n",
       "      <td>Delhi</td>\n",
       "      <td>Morning</td>\n",
       "      <td>zero</td>\n",
       "      <td>Afternoon</td>\n",
       "      <td>Mumbai</td>\n",
       "      <td>Economy</td>\n",
       "      <td>2.25</td>\n",
       "      <td>1</td>\n",
       "      <td>5955</td>\n",
       "    </tr>\n",
       "    <tr>\n",
       "      <th>4</th>\n",
       "      <td>Vistara</td>\n",
       "      <td>UK-963</td>\n",
       "      <td>Delhi</td>\n",
       "      <td>Morning</td>\n",
       "      <td>zero</td>\n",
       "      <td>Morning</td>\n",
       "      <td>Mumbai</td>\n",
       "      <td>Economy</td>\n",
       "      <td>2.33</td>\n",
       "      <td>1</td>\n",
       "      <td>5955</td>\n",
       "    </tr>\n",
       "  </tbody>\n",
       "</table>\n",
       "</div>"
      ],
      "text/plain": [
       "    airline   flight source_city departure_time stops   arrival_time  \\\n",
       "0  SpiceJet  SG-8709       Delhi        Evening  zero          Night   \n",
       "1  SpiceJet  SG-8157       Delhi  Early_Morning  zero        Morning   \n",
       "2   AirAsia   I5-764       Delhi  Early_Morning  zero  Early_Morning   \n",
       "3   Vistara   UK-995       Delhi        Morning  zero      Afternoon   \n",
       "4   Vistara   UK-963       Delhi        Morning  zero        Morning   \n",
       "\n",
       "  destination_city    class  duration  days_left  price  \n",
       "0           Mumbai  Economy      2.17          1   5953  \n",
       "1           Mumbai  Economy      2.33          1   5953  \n",
       "2           Mumbai  Economy      2.17          1   5956  \n",
       "3           Mumbai  Economy      2.25          1   5955  \n",
       "4           Mumbai  Economy      2.33          1   5955  "
      ]
     },
     "execution_count": 2,
     "metadata": {},
     "output_type": "execute_result"
    }
   ],
   "source": [
    "np.random.seed(42)\n",
    "dataset = pd.read_csv(\"../input/flight-price-prediction/Clean_Dataset.csv\", index_col=0)\n",
    "\n",
    "dataset.head()"
   ]
  },
  {
   "cell_type": "code",
   "execution_count": null,
   "id": "1ae7f388",
   "metadata": {
    "execution": {
     "iopub.execute_input": "2022-04-01T22:42:27.218942Z",
     "iopub.status.busy": "2022-04-01T22:42:27.218621Z",
     "iopub.status.idle": "2022-04-01T22:42:27.337198Z",
     "shell.execute_reply": "2022-04-01T22:42:27.336467Z",
     "shell.execute_reply.started": "2022-04-01T22:42:27.218911Z"
    },
    "papermill": {
     "duration": 0.047232,
     "end_time": "2022-04-01T22:53:39.887963",
     "exception": false,
     "start_time": "2022-04-01T22:53:39.840731",
     "status": "completed"
    },
    "tags": []
   },
   "outputs": [],
   "source": []
  },
  {
   "cell_type": "markdown",
   "id": "3f4c84b9",
   "metadata": {
    "papermill": {
     "duration": 0.047293,
     "end_time": "2022-04-01T22:53:39.982688",
     "exception": false,
     "start_time": "2022-04-01T22:53:39.935395",
     "status": "completed"
    },
    "tags": []
   },
   "source": [
    "# Change names of columns\n"
   ]
  },
  {
   "cell_type": "code",
   "execution_count": 3,
   "id": "13f28a21",
   "metadata": {
    "execution": {
     "iopub.execute_input": "2022-04-01T22:53:40.082887Z",
     "iopub.status.busy": "2022-04-01T22:53:40.081747Z",
     "iopub.status.idle": "2022-04-01T22:53:40.085587Z",
     "shell.execute_reply": "2022-04-01T22:53:40.086204Z",
     "shell.execute_reply.started": "2022-04-01T22:17:49.43752Z"
    },
    "papermill": {
     "duration": 0.055264,
     "end_time": "2022-04-01T22:53:40.086391",
     "exception": false,
     "start_time": "2022-04-01T22:53:40.031127",
     "status": "completed"
    },
    "tags": []
   },
   "outputs": [],
   "source": [
    "#dataset = dataset.rename(columns={\"sr\" : \"Snoring Range\", \"rr\" : \"Respiration Rate\", \"t\": \"Body Temp\", \"lm\" : \"Limb Movement\",\n",
    "                       #\"bo\" : \"Blood Oxygen\", \"rem\" : \"Eye Movement\", \"sr.1\" : \"Sleeping Hours\", \"hr\" : \"Heart Rate\", \"sl\" : \"Stress Level\"})\n",
    "\n",
    "#dataset.head()"
   ]
  },
  {
   "cell_type": "markdown",
   "id": "77e1544c",
   "metadata": {
    "papermill": {
     "duration": 0.046934,
     "end_time": "2022-04-01T22:53:40.182225",
     "exception": false,
     "start_time": "2022-04-01T22:53:40.135291",
     "status": "completed"
    },
    "tags": []
   },
   "source": [
    "# Show distribution of the categories"
   ]
  },
  {
   "cell_type": "code",
   "execution_count": 4,
   "id": "33dba4e4",
   "metadata": {
    "execution": {
     "iopub.execute_input": "2022-04-01T22:53:40.281294Z",
     "iopub.status.busy": "2022-04-01T22:53:40.280269Z",
     "iopub.status.idle": "2022-04-01T22:53:40.284271Z",
     "shell.execute_reply": "2022-04-01T22:53:40.284876Z",
     "shell.execute_reply.started": "2022-04-01T22:17:49.465898Z"
    },
    "papermill": {
     "duration": 0.055454,
     "end_time": "2022-04-01T22:53:40.285054",
     "exception": false,
     "start_time": "2022-04-01T22:53:40.229600",
     "status": "completed"
    },
    "tags": []
   },
   "outputs": [],
   "source": [
    "#stress_0 = dataset[dataset[\"Stress Level\"] == 0]\n",
    "#stress_1 = dataset[dataset[\"Stress Level\"] == 1]\n",
    "#stress_2 = dataset[dataset[\"Stress Level\"] == 2]\n",
    "#stress_3 = dataset[dataset[\"Stress Level\"] == 3]\n",
    "#stress_4 = dataset[dataset[\"Stress Level\"] == 4]\n",
    "\n",
    "#stress_level_categories = [\"Level 0\", \"Level 1\", \"Level 2\", \"Level 3\", \"Level 4\"]\n",
    "\n",
    "#stress_level_distribution = [len(stress_0), len(stress_1), len(stress_2), len(stress_3), len(stress_4)]\n",
    "\n",
    "#plt.figure(figsize=[6, 6])\n",
    "#sns.barplot(x=stress_level_categories, y=stress_level_distribution)\n",
    "\n",
    "#plt.title(\"Stress Level Categories and Their Counts\")\n",
    "#plt.ylabel(\"Counts\")"
   ]
  },
  {
   "cell_type": "markdown",
   "id": "5e7cb4e6",
   "metadata": {
    "papermill": {
     "duration": 0.047507,
     "end_time": "2022-04-01T22:53:40.379849",
     "exception": false,
     "start_time": "2022-04-01T22:53:40.332342",
     "status": "completed"
    },
    "tags": []
   },
   "source": [
    "# Exploratory Data Analysis (plot average sleep for each category with seaborn barplot)"
   ]
  },
  {
   "cell_type": "code",
   "execution_count": 5,
   "id": "118704d6",
   "metadata": {
    "execution": {
     "iopub.execute_input": "2022-04-01T22:53:40.479470Z",
     "iopub.status.busy": "2022-04-01T22:53:40.478444Z",
     "iopub.status.idle": "2022-04-01T22:53:40.482706Z",
     "shell.execute_reply": "2022-04-01T22:53:40.483353Z",
     "shell.execute_reply.started": "2022-04-01T22:17:49.754118Z"
    },
    "papermill": {
     "duration": 0.056329,
     "end_time": "2022-04-01T22:53:40.483535",
     "exception": false,
     "start_time": "2022-04-01T22:53:40.427206",
     "status": "completed"
    },
    "tags": []
   },
   "outputs": [],
   "source": [
    "#stress_0_sleep = np.mean(stress_0[\"Sleeping Hours\"])\n",
    "#stress_1_sleep = np.mean(stress_1[\"Sleeping Hours\"])\n",
    "#stress_2_sleep = np.mean(stress_2[\"Sleeping Hours\"])\n",
    "#stress_3_sleep = np.mean(stress_3[\"Sleeping Hours\"])\n",
    "#stress_4_sleep = np.mean(stress_4[\"Sleeping Hours\"])\n",
    "\n",
    "#sleep_per_stress_level = [stress_0_sleep, stress_1_sleep, stress_2_sleep, stress_3_sleep, stress_4_sleep]\n",
    "\n",
    "#plt.figure(figsize=[7, 6])\n",
    "#plt.title(\"Average Hours Slept and Stress\")\n",
    "#sns.barplot(x=stress_level_categories, y=sleep_per_stress_level)\n",
    "\n",
    "#plt.ylabel(\"Average Hours of Sleep\")"
   ]
  },
  {
   "cell_type": "markdown",
   "id": "bcad15ed",
   "metadata": {
    "papermill": {
     "duration": 0.046702,
     "end_time": "2022-04-01T22:53:40.577453",
     "exception": false,
     "start_time": "2022-04-01T22:53:40.530751",
     "status": "completed"
    },
    "tags": []
   },
   "source": [
    "# Correlation heatmap sns.heatmap(df.corr())"
   ]
  },
  {
   "cell_type": "code",
   "execution_count": 6,
   "id": "144240db",
   "metadata": {
    "execution": {
     "iopub.execute_input": "2022-04-01T22:53:40.675760Z",
     "iopub.status.busy": "2022-04-01T22:53:40.674760Z",
     "iopub.status.idle": "2022-04-01T22:53:40.678258Z",
     "shell.execute_reply": "2022-04-01T22:53:40.678883Z",
     "shell.execute_reply.started": "2022-04-01T22:40:18.683512Z"
    },
    "papermill": {
     "duration": 0.054476,
     "end_time": "2022-04-01T22:53:40.679055",
     "exception": false,
     "start_time": "2022-04-01T22:53:40.624579",
     "status": "completed"
    },
    "tags": []
   },
   "outputs": [],
   "source": [
    "#plt.figure(figsize=[7, 6])\n",
    "#sns.heatmap(dataset.corr(), annot=True)"
   ]
  },
  {
   "cell_type": "markdown",
   "id": "f2626653",
   "metadata": {
    "papermill": {
     "duration": 0.047421,
     "end_time": "2022-04-01T22:53:40.773973",
     "exception": false,
     "start_time": "2022-04-01T22:53:40.726552",
     "status": "completed"
    },
    "tags": []
   },
   "source": [
    "# Snoring range, limb movement, and sleeping hours have the highest correlations, including both positive and negative. The paper mentioned snoring range being an important feature to use."
   ]
  },
  {
   "cell_type": "code",
   "execution_count": 7,
   "id": "5e22133b",
   "metadata": {
    "execution": {
     "iopub.execute_input": "2022-04-01T22:53:40.875011Z",
     "iopub.status.busy": "2022-04-01T22:53:40.874330Z",
     "iopub.status.idle": "2022-04-01T22:53:40.877046Z",
     "shell.execute_reply": "2022-04-01T22:53:40.876374Z",
     "shell.execute_reply.started": "2022-04-01T22:17:50.804656Z"
    },
    "papermill": {
     "duration": 0.054373,
     "end_time": "2022-04-01T22:53:40.877201",
     "exception": false,
     "start_time": "2022-04-01T22:53:40.822828",
     "status": "completed"
    },
    "tags": []
   },
   "outputs": [],
   "source": [
    "#plt.figure(figsize=(7, 6))\n",
    "#sns.kdeplot(data=dataset, x=\"Limb Movement\", hue=\"Stress Level\")"
   ]
  },
  {
   "cell_type": "markdown",
   "id": "52ddc93e",
   "metadata": {
    "papermill": {
     "duration": 0.046877,
     "end_time": "2022-04-01T22:53:40.971711",
     "exception": false,
     "start_time": "2022-04-01T22:53:40.924834",
     "status": "completed"
    },
    "tags": []
   },
   "source": [
    "# KDEPLOT shows high limb movement equals high stress."
   ]
  },
  {
   "cell_type": "code",
   "execution_count": 8,
   "id": "16a10125",
   "metadata": {
    "execution": {
     "iopub.execute_input": "2022-04-01T22:53:41.072164Z",
     "iopub.status.busy": "2022-04-01T22:53:41.071430Z",
     "iopub.status.idle": "2022-04-01T22:53:41.074323Z",
     "shell.execute_reply": "2022-04-01T22:53:41.073742Z",
     "shell.execute_reply.started": "2022-04-01T22:17:51.158113Z"
    },
    "papermill": {
     "duration": 0.055612,
     "end_time": "2022-04-01T22:53:41.074471",
     "exception": false,
     "start_time": "2022-04-01T22:53:41.018859",
     "status": "completed"
    },
    "tags": []
   },
   "outputs": [],
   "source": [
    "#body_temps = [stress_0[\"Body Temp\"].mean(), stress_1[\"Body Temp\"].mean(), stress_2[\"Body Temp\"].mean(), stress_3[\"Body Temp\"].mean(), stress_4[\"Body Temp\"].mean()]\n",
    "\n",
    "\n",
    "#plt.figure(figsize=[7, 6])\n",
    "#plt.title(\"Body Temps and Stress Levels\")\n",
    "#sns.barplot(x=stress_level_categories, y=body_temps)\n",
    "#plt.ylabel(\"Body Temperature (F)\")"
   ]
  },
  {
   "cell_type": "markdown",
   "id": "a08cda76",
   "metadata": {
    "papermill": {
     "duration": 0.047086,
     "end_time": "2022-04-01T22:53:41.168926",
     "exception": false,
     "start_time": "2022-04-01T22:53:41.121840",
     "status": "completed"
    },
    "tags": []
   },
   "source": [
    "# As stress increases, body temperature decreases."
   ]
  },
  {
   "cell_type": "markdown",
   "id": "c6e84d3d",
   "metadata": {
    "papermill": {
     "duration": 0.049462,
     "end_time": "2022-04-01T22:53:41.265898",
     "exception": false,
     "start_time": "2022-04-01T22:53:41.216436",
     "status": "completed"
    },
    "tags": []
   },
   "source": [
    "# "
   ]
  },
  {
   "cell_type": "markdown",
   "id": "4bc8db11",
   "metadata": {
    "papermill": {
     "duration": 0.04651,
     "end_time": "2022-04-01T22:53:41.359991",
     "exception": false,
     "start_time": "2022-04-01T22:53:41.313481",
     "status": "completed"
    },
    "tags": []
   },
   "source": [
    "# train test split to get X_train, X_test, y_train, y_test. Check distribution after split."
   ]
  },
  {
   "cell_type": "code",
   "execution_count": 9,
   "id": "fe434e55",
   "metadata": {
    "execution": {
     "iopub.execute_input": "2022-04-01T22:53:41.459035Z",
     "iopub.status.busy": "2022-04-01T22:53:41.458304Z",
     "iopub.status.idle": "2022-04-01T22:53:41.460954Z",
     "shell.execute_reply": "2022-04-01T22:53:41.461420Z",
     "shell.execute_reply.started": "2022-04-01T22:17:51.424427Z"
    },
    "papermill": {
     "duration": 0.054677,
     "end_time": "2022-04-01T22:53:41.461598",
     "exception": false,
     "start_time": "2022-04-01T22:53:41.406921",
     "status": "completed"
    },
    "tags": []
   },
   "outputs": [],
   "source": [
    "#from sklearn.model_selection import train_test_split\n",
    "\n",
    "#np_dataset = dataset.to_numpy()\n",
    "#all_x = np_dataset[:,0:8]\n",
    "#all_y = np_dataset[:,8]\n",
    "\n",
    "#features = [\"Snoring Rate\",\"Respiration Rate\",\"Body Temp\",\"Limb Movement\",\"Blood Oxygen\",\"Eye Movement\",\"Sleeping Hours\",\"Heart Rate\"]\n",
    "\n",
    "#train_x, test_x, train_y, test_y = train_test_split(all_x, all_y, test_size=.99, random_state=1)"
   ]
  },
  {
   "cell_type": "markdown",
   "id": "ac01288e",
   "metadata": {
    "papermill": {
     "duration": 0.046914,
     "end_time": "2022-04-01T22:53:41.555829",
     "exception": false,
     "start_time": "2022-04-01T22:53:41.508915",
     "status": "completed"
    },
    "tags": []
   },
   "source": [
    "# Train RandomForest Classifier and Predict"
   ]
  },
  {
   "cell_type": "code",
   "execution_count": 10,
   "id": "3d179005",
   "metadata": {
    "execution": {
     "iopub.execute_input": "2022-04-01T22:53:41.656162Z",
     "iopub.status.busy": "2022-04-01T22:53:41.655393Z",
     "iopub.status.idle": "2022-04-01T22:53:41.659542Z",
     "shell.execute_reply": "2022-04-01T22:53:41.660034Z",
     "shell.execute_reply.started": "2022-04-01T22:17:51.438536Z"
    },
    "papermill": {
     "duration": 0.056062,
     "end_time": "2022-04-01T22:53:41.660229",
     "exception": false,
     "start_time": "2022-04-01T22:53:41.604167",
     "status": "completed"
    },
    "tags": []
   },
   "outputs": [],
   "source": [
    "#from sklearn.ensemble import RandomForestClassifier\n",
    "\n",
    "#rf_start = time.time()\n",
    "#RFmodel = RandomForestClassifier(random_state=1)\n",
    "#RFmodel.fit(train_x, train_y)\n",
    "#RF_pred_y = RFmodel.predict(test_x)\n",
    "#rf_stop = time.time()"
   ]
  },
  {
   "cell_type": "markdown",
   "id": "2f0d72cd",
   "metadata": {
    "papermill": {
     "duration": 0.046733,
     "end_time": "2022-04-01T22:53:41.754998",
     "exception": false,
     "start_time": "2022-04-01T22:53:41.708265",
     "status": "completed"
    },
    "tags": []
   },
   "source": [
    "# Train Gradient Boosting Classifier and Predict"
   ]
  },
  {
   "cell_type": "code",
   "execution_count": 11,
   "id": "09641040",
   "metadata": {
    "execution": {
     "iopub.execute_input": "2022-04-01T22:53:41.852328Z",
     "iopub.status.busy": "2022-04-01T22:53:41.851654Z",
     "iopub.status.idle": "2022-04-01T22:53:41.855143Z",
     "shell.execute_reply": "2022-04-01T22:53:41.855806Z",
     "shell.execute_reply.started": "2022-04-01T22:17:51.611701Z"
    },
    "papermill": {
     "duration": 0.053879,
     "end_time": "2022-04-01T22:53:41.855977",
     "exception": false,
     "start_time": "2022-04-01T22:53:41.802098",
     "status": "completed"
    },
    "tags": []
   },
   "outputs": [],
   "source": [
    "#from sklearn.ensemble import GradientBoostingClassifier\n",
    "\n",
    "#gbc_start = time.time()\n",
    "#GBCmodel = GradientBoostingClassifier(random_state=1)\n",
    "#GBCmodel.fit(train_x, train_y)\n",
    "#GBC_pred_y = GBCmodel.predict(test_x)\n",
    "#gbc_stop = time.time()"
   ]
  },
  {
   "cell_type": "markdown",
   "id": "97a47a6f",
   "metadata": {
    "papermill": {
     "duration": 0.047849,
     "end_time": "2022-04-01T22:53:41.951769",
     "exception": false,
     "start_time": "2022-04-01T22:53:41.903920",
     "status": "completed"
    },
    "tags": []
   },
   "source": [
    "# Train XGBoost Classifier and Predict"
   ]
  },
  {
   "cell_type": "code",
   "execution_count": 12,
   "id": "439f0098",
   "metadata": {
    "execution": {
     "iopub.execute_input": "2022-04-01T22:53:42.049882Z",
     "iopub.status.busy": "2022-04-01T22:53:42.049104Z",
     "iopub.status.idle": "2022-04-01T22:53:42.054095Z",
     "shell.execute_reply": "2022-04-01T22:53:42.053509Z",
     "shell.execute_reply.started": "2022-04-01T22:17:51.837064Z"
    },
    "papermill": {
     "duration": 0.055357,
     "end_time": "2022-04-01T22:53:42.054257",
     "exception": false,
     "start_time": "2022-04-01T22:53:41.998900",
     "status": "completed"
    },
    "tags": []
   },
   "outputs": [],
   "source": [
    "#import xgboost as xgb\n",
    "\n",
    "#xgb_start = time.time()\n",
    "#XGBmodel = xgb.XGBClassifier(random_state=1)\n",
    "#XGBmodel.fit(train_x, train_y)\n",
    "#XGB_pred_y = XGBmodel.predict(test_x)\n",
    "#xgb_stop = time.time()"
   ]
  },
  {
   "cell_type": "markdown",
   "id": "7c6cfcd5",
   "metadata": {
    "papermill": {
     "duration": 0.052835,
     "end_time": "2022-04-01T22:53:42.155149",
     "exception": false,
     "start_time": "2022-04-01T22:53:42.102314",
     "status": "completed"
    },
    "tags": []
   },
   "source": [
    "# Train MLP and Predict"
   ]
  },
  {
   "cell_type": "code",
   "execution_count": 13,
   "id": "c67f8314",
   "metadata": {
    "execution": {
     "iopub.execute_input": "2022-04-01T22:53:42.252998Z",
     "iopub.status.busy": "2022-04-01T22:53:42.252328Z",
     "iopub.status.idle": "2022-04-01T22:53:42.255572Z",
     "shell.execute_reply": "2022-04-01T22:53:42.256131Z",
     "shell.execute_reply.started": "2022-04-01T22:17:52.285639Z"
    },
    "papermill": {
     "duration": 0.054086,
     "end_time": "2022-04-01T22:53:42.256318",
     "exception": false,
     "start_time": "2022-04-01T22:53:42.202232",
     "status": "completed"
    },
    "tags": []
   },
   "outputs": [],
   "source": [
    "#from sklearn.neural_network import MLPClassifier\n",
    "\n",
    "#mlp_start = time.time()\n",
    "#mlp_class = MLPClassifier(random_state=1)\n",
    "#mlp_class.fit(train_x, train_y)\n",
    "#MLP_pred_y = mlp_class.predict(test_x)\n",
    "#mlp_stop = time.time()"
   ]
  },
  {
   "cell_type": "markdown",
   "id": "92504da5",
   "metadata": {
    "papermill": {
     "duration": 0.04679,
     "end_time": "2022-04-01T22:53:42.350931",
     "exception": false,
     "start_time": "2022-04-01T22:53:42.304141",
     "status": "completed"
    },
    "tags": []
   },
   "source": [
    "# cross validation of models"
   ]
  },
  {
   "cell_type": "code",
   "execution_count": 14,
   "id": "14de3e36",
   "metadata": {
    "execution": {
     "iopub.execute_input": "2022-04-01T22:53:42.448935Z",
     "iopub.status.busy": "2022-04-01T22:53:42.448212Z",
     "iopub.status.idle": "2022-04-01T22:53:42.452672Z",
     "shell.execute_reply": "2022-04-01T22:53:42.452060Z",
     "shell.execute_reply.started": "2022-04-01T22:17:52.404115Z"
    },
    "papermill": {
     "duration": 0.054825,
     "end_time": "2022-04-01T22:53:42.452848",
     "exception": false,
     "start_time": "2022-04-01T22:53:42.398023",
     "status": "completed"
    },
    "tags": []
   },
   "outputs": [],
   "source": [
    "#from sklearn.model_selection import cross_validate\n",
    "\n",
    "#rf_cross_val = cross_validate(estimator=RFmodel, X=test_x, y=test_y, cv=10)\n",
    "#gbc_cross_val = cross_validate(estimator=GBCmodel, X=test_x, y=test_y, cv=10)\n",
    "#xgb_cross_val = cross_validate(estimator=XGBmodel, X=test_x, y=test_y, cv=10)\n",
    "#mlp_cross_val = cross_validate(estimator=mlp_class, X=test_x, y=test_y, cv=10)"
   ]
  },
  {
   "cell_type": "markdown",
   "id": "d839bc47",
   "metadata": {
    "papermill": {
     "duration": 0.047703,
     "end_time": "2022-04-01T22:53:42.548591",
     "exception": false,
     "start_time": "2022-04-01T22:53:42.500888",
     "status": "completed"
    },
    "tags": []
   },
   "source": [
    "# Accuracies from Cross Validation"
   ]
  },
  {
   "cell_type": "code",
   "execution_count": 15,
   "id": "8fe63102",
   "metadata": {
    "execution": {
     "iopub.execute_input": "2022-04-01T22:53:42.648694Z",
     "iopub.status.busy": "2022-04-01T22:53:42.647988Z",
     "iopub.status.idle": "2022-04-01T22:53:42.651554Z",
     "shell.execute_reply": "2022-04-01T22:53:42.652105Z",
     "shell.execute_reply.started": "2022-04-01T22:18:11.945998Z"
    },
    "papermill": {
     "duration": 0.056202,
     "end_time": "2022-04-01T22:53:42.652303",
     "exception": false,
     "start_time": "2022-04-01T22:53:42.596101",
     "status": "completed"
    },
    "tags": []
   },
   "outputs": [],
   "source": [
    "#RF_acc =  rf_cross_val[\"test_score\"].mean() * 100\n",
    "#GBC_acc =  gbc_cross_val[\"test_score\"].mean() * 100\n",
    "#XGB_acc =  xgb_cross_val[\"test_score\"].mean() * 100\n",
    "#MLP_acc = mlp_cross_val[\"test_score\"].mean() * 100"
   ]
  },
  {
   "cell_type": "code",
   "execution_count": 16,
   "id": "59b81688",
   "metadata": {
    "execution": {
     "iopub.execute_input": "2022-04-01T22:53:42.749952Z",
     "iopub.status.busy": "2022-04-01T22:53:42.749267Z",
     "iopub.status.idle": "2022-04-01T22:53:42.752602Z",
     "shell.execute_reply": "2022-04-01T22:53:42.753150Z",
     "shell.execute_reply.started": "2022-04-01T22:18:11.957055Z"
    },
    "papermill": {
     "duration": 0.053845,
     "end_time": "2022-04-01T22:53:42.753335",
     "exception": false,
     "start_time": "2022-04-01T22:53:42.699490",
     "status": "completed"
    },
    "tags": []
   },
   "outputs": [],
   "source": [
    "#from sklearn.metrics import accuracy_score"
   ]
  },
  {
   "cell_type": "markdown",
   "id": "37b04ba3",
   "metadata": {
    "papermill": {
     "duration": 0.046911,
     "end_time": "2022-04-01T22:53:42.847337",
     "exception": false,
     "start_time": "2022-04-01T22:53:42.800426",
     "status": "completed"
    },
    "tags": []
   },
   "source": [
    "# baseline of mode and random off of entire datset"
   ]
  },
  {
   "cell_type": "code",
   "execution_count": 17,
   "id": "acd0844a",
   "metadata": {
    "execution": {
     "iopub.execute_input": "2022-04-01T22:53:42.947023Z",
     "iopub.status.busy": "2022-04-01T22:53:42.946320Z",
     "iopub.status.idle": "2022-04-01T22:53:42.949494Z",
     "shell.execute_reply": "2022-04-01T22:53:42.950039Z",
     "shell.execute_reply.started": "2022-04-01T22:18:11.980476Z"
    },
    "papermill": {
     "duration": 0.055892,
     "end_time": "2022-04-01T22:53:42.950221",
     "exception": false,
     "start_time": "2022-04-01T22:53:42.894329",
     "status": "completed"
    },
    "tags": []
   },
   "outputs": [],
   "source": [
    "#import random\n",
    "#from scipy import stats\n",
    "\n",
    "#random.randint(0,4)\n",
    "#y_shape = np.array(all_y.shape)\n",
    "\n",
    "#random_guess_baseline = np.sum(all_y == [random.randint(0,4) for i in range(all_y.shape[0])]) / all_y.shape[0] * 100\n",
    "#mode_baseline = np.sum(all_y == [stats.mode(train_y)[0][0] for i in range(all_y.shape[0])]) / all_y.shape[0] * 100\n",
    "#median_baseline = np.sum(all_y == [np.median(train_y) for i in range(all_y.shape[0])]) / all_y.shape[0] * 100"
   ]
  },
  {
   "cell_type": "code",
   "execution_count": 18,
   "id": "9157089d",
   "metadata": {
    "execution": {
     "iopub.execute_input": "2022-04-01T22:53:43.051770Z",
     "iopub.status.busy": "2022-04-01T22:53:43.051056Z",
     "iopub.status.idle": "2022-04-01T22:53:43.054297Z",
     "shell.execute_reply": "2022-04-01T22:53:43.054866Z",
     "shell.execute_reply.started": "2022-04-01T22:18:12.104892Z"
    },
    "papermill": {
     "duration": 0.054778,
     "end_time": "2022-04-01T22:53:43.055040",
     "exception": false,
     "start_time": "2022-04-01T22:53:43.000262",
     "status": "completed"
    },
    "tags": []
   },
   "outputs": [],
   "source": [
    "#models = [\"Random Forest Classifier\", \"Gradient Boosting Classifier\", \"XGBoost Classifier\", \"MLP Classifier\", \"Random guessing\",\"Mode guessing\",\"Median guessing\"]\n",
    "#accuracies = [RF_acc, GBC_acc, XGB_acc, MLP_acc, random_guess_baseline, mode_baseline, median_baseline]"
   ]
  },
  {
   "cell_type": "markdown",
   "id": "90cff4c7",
   "metadata": {
    "papermill": {
     "duration": 0.047057,
     "end_time": "2022-04-01T22:53:43.149300",
     "exception": false,
     "start_time": "2022-04-01T22:53:43.102243",
     "status": "completed"
    },
    "tags": []
   },
   "source": [
    "# plot Accuracies"
   ]
  },
  {
   "cell_type": "code",
   "execution_count": 19,
   "id": "b6871d6a",
   "metadata": {
    "execution": {
     "iopub.execute_input": "2022-04-01T22:53:43.247125Z",
     "iopub.status.busy": "2022-04-01T22:53:43.246433Z",
     "iopub.status.idle": "2022-04-01T22:53:43.249629Z",
     "shell.execute_reply": "2022-04-01T22:53:43.250145Z",
     "shell.execute_reply.started": "2022-04-01T22:18:12.115257Z"
    },
    "papermill": {
     "duration": 0.053954,
     "end_time": "2022-04-01T22:53:43.250329",
     "exception": false,
     "start_time": "2022-04-01T22:53:43.196375",
     "status": "completed"
    },
    "tags": []
   },
   "outputs": [],
   "source": [
    "#plt.figure(figsize=[21, 9])\n",
    "#sns.barplot(x=models, y=accuracies)\n",
    "#plt.title(\"Accuracy on testing data\", fontsize=30)\n",
    "#plt.ylabel(\"Accuracy\", fontsize=22)\n",
    "#plt.xlabel(\"Model\", fontsize=22)\n",
    "#xlocs=[i+1 for i in range(0,10)]\n",
    "#for i, j in enumerate(accuracies):\n",
    " #   acc_pct = \"{:.2f}\".format(j)\n",
    "  #  plt.text(xlocs[i] - 1.1, j+1, str(acc_pct)+'%')"
   ]
  },
  {
   "cell_type": "markdown",
   "id": "faecbc3c",
   "metadata": {
    "papermill": {
     "duration": 0.046826,
     "end_time": "2022-04-01T22:53:43.345118",
     "exception": false,
     "start_time": "2022-04-01T22:53:43.298292",
     "status": "completed"
    },
    "tags": []
   },
   "source": [
    "# Feature Importances"
   ]
  },
  {
   "cell_type": "code",
   "execution_count": 20,
   "id": "1fc05cca",
   "metadata": {
    "execution": {
     "iopub.execute_input": "2022-04-01T22:53:43.442912Z",
     "iopub.status.busy": "2022-04-01T22:53:43.442209Z",
     "iopub.status.idle": "2022-04-01T22:53:43.445214Z",
     "shell.execute_reply": "2022-04-01T22:53:43.445816Z",
     "shell.execute_reply.started": "2022-04-01T22:18:12.509415Z"
    },
    "papermill": {
     "duration": 0.053781,
     "end_time": "2022-04-01T22:53:43.445989",
     "exception": false,
     "start_time": "2022-04-01T22:53:43.392208",
     "status": "completed"
    },
    "tags": []
   },
   "outputs": [],
   "source": [
    "#def toString(list):\n",
    " #   newList = []\n",
    "  #  for i in range(len(list)):\n",
    "   #     a = \"{:.4f}\".format(list[i])\n",
    "    #    if a == \"0.0000\":\n",
    "     #       continue\n",
    "      #  newList.insert(i, round(float(a) * 100, 2))\n",
    "    #return newList"
   ]
  },
  {
   "cell_type": "code",
   "execution_count": 21,
   "id": "f80f8b83",
   "metadata": {
    "execution": {
     "iopub.execute_input": "2022-04-01T22:53:43.543181Z",
     "iopub.status.busy": "2022-04-01T22:53:43.542523Z",
     "iopub.status.idle": "2022-04-01T22:53:43.545483Z",
     "shell.execute_reply": "2022-04-01T22:53:43.546086Z",
     "shell.execute_reply.started": "2022-04-01T22:18:12.518731Z"
    },
    "papermill": {
     "duration": 0.053276,
     "end_time": "2022-04-01T22:53:43.546264",
     "exception": false,
     "start_time": "2022-04-01T22:53:43.492988",
     "status": "completed"
    },
    "tags": []
   },
   "outputs": [],
   "source": [
    "#RF_importance = toString((RFmodel.feature_importances_).tolist())\n",
    "#GBC_importance = toString((GBCmodel.feature_importances_).tolist())\n",
    "#XGB_importance = toString((XGBmodel.feature_importances_).tolist())"
   ]
  },
  {
   "cell_type": "code",
   "execution_count": 22,
   "id": "03607ba9",
   "metadata": {
    "execution": {
     "iopub.execute_input": "2022-04-01T22:53:43.644903Z",
     "iopub.status.busy": "2022-04-01T22:53:43.644238Z",
     "iopub.status.idle": "2022-04-01T22:53:43.647124Z",
     "shell.execute_reply": "2022-04-01T22:53:43.646554Z",
     "shell.execute_reply.started": "2022-04-01T22:18:12.577058Z"
    },
    "papermill": {
     "duration": 0.054025,
     "end_time": "2022-04-01T22:53:43.647278",
     "exception": false,
     "start_time": "2022-04-01T22:53:43.593253",
     "status": "completed"
    },
    "tags": []
   },
   "outputs": [],
   "source": [
    "#fig, ax = plt.subplots(figsize=(5,24))\n",
    "#ax.pie(RF_importance, labels=RF_importance)\n",
    "#plt.title('Random Forest: Feature Importance')\n",
    "#ax.legend(features[:len(RF_importance)], title='Features',loc='center right', bbox_to_anchor=(1, 0, .5, 1))\n",
    "#plt.show()"
   ]
  },
  {
   "cell_type": "code",
   "execution_count": 23,
   "id": "1351388c",
   "metadata": {
    "execution": {
     "iopub.execute_input": "2022-04-01T22:53:43.744406Z",
     "iopub.status.busy": "2022-04-01T22:53:43.743674Z",
     "iopub.status.idle": "2022-04-01T22:53:43.746458Z",
     "shell.execute_reply": "2022-04-01T22:53:43.747096Z",
     "shell.execute_reply.started": "2022-04-01T22:18:12.893903Z"
    },
    "papermill": {
     "duration": 0.053159,
     "end_time": "2022-04-01T22:53:43.747301",
     "exception": false,
     "start_time": "2022-04-01T22:53:43.694142",
     "status": "completed"
    },
    "tags": []
   },
   "outputs": [],
   "source": [
    "#fig, ax = plt.subplots(figsize=(5,24))\n",
    "#ax.pie(GBC_importance, labels=GBC_importance)\n",
    "#plt.title('Gradient Boosting Classifier: Feature Importance')\n",
    "#ax.legend(features[:len(GBC_importance)], title='Features',loc='center right', bbox_to_anchor=(1, 0, .5, 1))\n",
    "#plt.show()"
   ]
  },
  {
   "cell_type": "code",
   "execution_count": 24,
   "id": "11124272",
   "metadata": {
    "execution": {
     "iopub.execute_input": "2022-04-01T22:53:43.851773Z",
     "iopub.status.busy": "2022-04-01T22:53:43.851100Z",
     "iopub.status.idle": "2022-04-01T22:53:43.854213Z",
     "shell.execute_reply": "2022-04-01T22:53:43.854812Z",
     "shell.execute_reply.started": "2022-04-01T22:18:13.180271Z"
    },
    "papermill": {
     "duration": 0.055677,
     "end_time": "2022-04-01T22:53:43.854983",
     "exception": false,
     "start_time": "2022-04-01T22:53:43.799306",
     "status": "completed"
    },
    "tags": []
   },
   "outputs": [],
   "source": [
    "#fig, ax = plt.subplots(figsize=(5,24))\n",
    "#ax.pie(XGB_importance, labels=XGB_importance)\n",
    "#plt.title('XGBoost Classifier: Feature Importance')\n",
    "#ax.legend(features[:len(XGB_importance)], title='Features',loc='center right', bbox_to_anchor=(1, 0, .5, 1))\n",
    "#plt.show()"
   ]
  },
  {
   "cell_type": "markdown",
   "id": "15ad04f3",
   "metadata": {
    "papermill": {
     "duration": 0.048361,
     "end_time": "2022-04-01T22:53:43.950968",
     "exception": false,
     "start_time": "2022-04-01T22:53:43.902607",
     "status": "completed"
    },
    "tags": []
   },
   "source": [
    "# Show table of models, accuracies, and runtimes"
   ]
  },
  {
   "cell_type": "code",
   "execution_count": 25,
   "id": "b7de965d",
   "metadata": {
    "execution": {
     "iopub.execute_input": "2022-04-01T22:53:44.049436Z",
     "iopub.status.busy": "2022-04-01T22:53:44.048598Z",
     "iopub.status.idle": "2022-04-01T22:53:44.051836Z",
     "shell.execute_reply": "2022-04-01T22:53:44.052374Z",
     "shell.execute_reply.started": "2022-04-01T22:18:50.381596Z"
    },
    "papermill": {
     "duration": 0.0546,
     "end_time": "2022-04-01T22:53:44.052565",
     "exception": false,
     "start_time": "2022-04-01T22:53:43.997965",
     "status": "completed"
    },
    "tags": []
   },
   "outputs": [],
   "source": [
    "\n",
    "#acc_runtime_table = pd.DataFrame({\n",
    "    \n",
    " #   \"Model\" : [\"Random Forest Classifier\", \"Gradient Boost Classifier\", \"XGBoost Classifier\", \"MLP Classifier\"],\n",
    "  #  \"Accuracies %\" : [round(rf_cross_val[\"test_score\"].mean() * 100, 2), round(gbc_cross_val[\"test_score\"].mean() * 100, 2), round(xgb_cross_val[\"test_score\"].mean() * 100, 2), round(mlp_cross_val[\"test_score\"].mean() * 100, 2)],\n",
    "   # \"Run Time (ms)\" : [round((rf_stop - rf_start) * 1000, 2), round((gbc_stop - gbc_start) * 1000, 2), round((xgb_stop - xgb_start) * 1000, 2), round((mlp_stop - mlp_start) * 1000, 2)]\n",
    "#})\n",
    "\n",
    "#acc_runtime_table"
   ]
  },
  {
   "cell_type": "markdown",
   "id": "957a9c4c",
   "metadata": {
    "papermill": {
     "duration": 0.047,
     "end_time": "2022-04-01T22:53:44.147504",
     "exception": false,
     "start_time": "2022-04-01T22:53:44.100504",
     "status": "completed"
    },
    "tags": []
   },
   "source": [
    "# Precision and Recall"
   ]
  },
  {
   "cell_type": "code",
   "execution_count": 26,
   "id": "ce4f4d66",
   "metadata": {
    "execution": {
     "iopub.execute_input": "2022-04-01T22:53:44.245546Z",
     "iopub.status.busy": "2022-04-01T22:53:44.244831Z",
     "iopub.status.idle": "2022-04-01T22:53:44.249794Z",
     "shell.execute_reply": "2022-04-01T22:53:44.250346Z",
     "shell.execute_reply.started": "2022-04-01T22:18:50.407806Z"
    },
    "papermill": {
     "duration": 0.055851,
     "end_time": "2022-04-01T22:53:44.250545",
     "exception": false,
     "start_time": "2022-04-01T22:53:44.194694",
     "status": "completed"
    },
    "tags": []
   },
   "outputs": [],
   "source": [
    "#from sklearn.metrics import precision_score\n",
    "#from sklearn.metrics import recall_score\n",
    "\n",
    "#RF_precision =  precision_score(y_test, synth_rf_preds, average='macro') * 100\n",
    "#GBC_precision =  precision_score(y_test, synth_gbc_preds, average='macro') * 100\n",
    "#XGB_precision =  precision_score(y_test, synth_xgb_preds, average='macro') * 100\n",
    "#MLP_precision =  precision_score(y_test, synth_mlp_preds, average='macro') * 100\n",
    "\n",
    "#RF_recall =  recall_score(y_test, synth_rf_preds, average='macro') * 100\n",
    "#GBC_recall =  recall_score(y_test, synth_gbc_preds, average='macro') * 100\n",
    "#XGB_recall =  recall_score(y_test, synth_xgb_preds, average='macro') * 100\n",
    "#MLP_recall =  recall_score(y_test, synth_mlp_preds, average='macro') * 100\n",
    "\n",
    "#names = [\"Random Forest Classifier\", \"Gradient Boosting Classifier\", \"XGBoost Classifier\", \"MLP Classifier\"]\n",
    "#precision = [RF_precision, GBC_precision, XGB_precision, MLP_precision]\n",
    "#recall = [RF_recall, GBC_recall, XGB_recall, MLP_recall]\n",
    "\n",
    "#plt.figure(figsize=[14, 6])\n",
    "#x_axis = np.arange(len(names))\n",
    "#plt.bar(x_axis - 0.2, precision, 0.4, label = 'Precision')\n",
    "#plt.bar(x_axis + 0.2, recall, 0.4, label = 'Recall')\n",
    "#plt.xticks(x_axis, names)\n",
    "#plt.xlabel('Models')\n",
    "#plt.ylabel('Score')\n",
    "#plt.title('Precision and Recall Scores')\n",
    "#plt.legend()\n",
    "#plt.show()\n",
    "\n",
    "#for p, r in zip(precision, recall):\n",
    " #   print('Preicison ', p)\n",
    "  #  print(\"Recall \", r)\n",
    "   # print()"
   ]
  },
  {
   "cell_type": "markdown",
   "id": "94dc22ee",
   "metadata": {
    "papermill": {
     "duration": 0.047443,
     "end_time": "2022-04-01T22:53:44.346380",
     "exception": false,
     "start_time": "2022-04-01T22:53:44.298937",
     "status": "completed"
    },
    "tags": []
   },
   "source": [
    "# RandomForest was fastest and scored high each time. MLP scored inconsistently. "
   ]
  },
  {
   "cell_type": "markdown",
   "id": "9c1191a5",
   "metadata": {
    "papermill": {
     "duration": 0.04693,
     "end_time": "2022-04-01T22:53:44.440904",
     "exception": false,
     "start_time": "2022-04-01T22:53:44.393974",
     "status": "completed"
    },
    "tags": []
   },
   "source": [
    "# Hyperparameter Tuning"
   ]
  },
  {
   "cell_type": "code",
   "execution_count": null,
   "id": "5687540f",
   "metadata": {
    "papermill": {
     "duration": 0.047604,
     "end_time": "2022-04-01T22:53:44.535686",
     "exception": false,
     "start_time": "2022-04-01T22:53:44.488082",
     "status": "completed"
    },
    "tags": []
   },
   "outputs": [],
   "source": []
  },
  {
   "cell_type": "code",
   "execution_count": null,
   "id": "52931b6d",
   "metadata": {
    "papermill": {
     "duration": 0.046539,
     "end_time": "2022-04-01T22:53:44.629449",
     "exception": false,
     "start_time": "2022-04-01T22:53:44.582910",
     "status": "completed"
    },
    "tags": []
   },
   "outputs": [],
   "source": []
  },
  {
   "cell_type": "code",
   "execution_count": null,
   "id": "edf8ce86",
   "metadata": {
    "papermill": {
     "duration": 0.046676,
     "end_time": "2022-04-01T22:53:44.723117",
     "exception": false,
     "start_time": "2022-04-01T22:53:44.676441",
     "status": "completed"
    },
    "tags": []
   },
   "outputs": [],
   "source": []
  },
  {
   "cell_type": "code",
   "execution_count": null,
   "id": "bc568012",
   "metadata": {
    "papermill": {
     "duration": 0.04694,
     "end_time": "2022-04-01T22:53:44.818271",
     "exception": false,
     "start_time": "2022-04-01T22:53:44.771331",
     "status": "completed"
    },
    "tags": []
   },
   "outputs": [],
   "source": []
  },
  {
   "cell_type": "markdown",
   "id": "9581dfb8",
   "metadata": {
    "papermill": {
     "duration": 0.046896,
     "end_time": "2022-04-01T22:53:44.912173",
     "exception": false,
     "start_time": "2022-04-01T22:53:44.865277",
     "status": "completed"
    },
    "tags": []
   },
   "source": [
    "# Figure out best model and do confusion matrix"
   ]
  },
  {
   "cell_type": "code",
   "execution_count": null,
   "id": "e2e030fd",
   "metadata": {
    "papermill": {
     "duration": 0.056902,
     "end_time": "2022-04-01T22:53:45.020487",
     "exception": false,
     "start_time": "2022-04-01T22:53:44.963585",
     "status": "completed"
    },
    "tags": []
   },
   "outputs": [],
   "source": []
  },
  {
   "cell_type": "markdown",
   "id": "2a8e4b45",
   "metadata": {
    "papermill": {
     "duration": 0.046784,
     "end_time": "2022-04-01T22:53:45.114297",
     "exception": false,
     "start_time": "2022-04-01T22:53:45.067513",
     "status": "completed"
    },
    "tags": []
   },
   "source": [
    "# Feature importance to see what sleep features matter"
   ]
  },
  {
   "cell_type": "code",
   "execution_count": null,
   "id": "71ea7e7b",
   "metadata": {
    "papermill": {
     "duration": 0.046698,
     "end_time": "2022-04-01T22:53:45.207987",
     "exception": false,
     "start_time": "2022-04-01T22:53:45.161289",
     "status": "completed"
    },
    "tags": []
   },
   "outputs": [],
   "source": []
  }
 ],
 "metadata": {
  "kernelspec": {
   "display_name": "Python 3",
   "language": "python",
   "name": "python3"
  },
  "language_info": {
   "codemirror_mode": {
    "name": "ipython",
    "version": 3
   },
   "file_extension": ".py",
   "mimetype": "text/x-python",
   "name": "python",
   "nbconvert_exporter": "python",
   "pygments_lexer": "ipython3",
   "version": "3.7.12"
  },
  "papermill": {
   "default_parameters": {},
   "duration": 19.522456,
   "end_time": "2022-04-01T22:53:46.067206",
   "environment_variables": {},
   "exception": null,
   "input_path": "__notebook__.ipynb",
   "output_path": "__notebook__.ipynb",
   "parameters": {},
   "start_time": "2022-04-01T22:53:26.544750",
   "version": "2.3.3"
  }
 },
 "nbformat": 4,
 "nbformat_minor": 5
}
