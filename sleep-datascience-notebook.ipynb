{
 "cells": [
  {
   "cell_type": "code",
   "execution_count": 1,
   "id": "5ae8e3a3",
   "metadata": {
    "_cell_guid": "b1076dfc-b9ad-4769-8c92-a6c4dae69d19",
    "_uuid": "8f2839f25d086af736a60e9eeb907d3b93b6e0e5",
    "execution": {
     "iopub.execute_input": "2022-03-24T22:14:39.597797Z",
     "iopub.status.busy": "2022-03-24T22:14:39.596112Z",
     "iopub.status.idle": "2022-03-24T22:14:40.613152Z",
     "shell.execute_reply": "2022-03-24T22:14:40.613721Z",
     "shell.execute_reply.started": "2022-03-24T21:57:18.635094Z"
    },
    "papermill": {
     "duration": 1.041362,
     "end_time": "2022-03-24T22:14:40.613985",
     "exception": false,
     "start_time": "2022-03-24T22:14:39.572623",
     "status": "completed"
    },
    "tags": []
   },
   "outputs": [
    {
     "name": "stdout",
     "output_type": "stream",
     "text": [
      "/kaggle/input/human-stress-detection-in-and-through-sleep/SaYoPillow.csv\n",
      "/kaggle/input/human-stress-detection-in-and-through-sleep/IEEE-TCE_2020-08-0175_SaYoPillow.pdf\n",
      "/kaggle/input/human-stress-detection-in-and-through-sleep/readme.docx\n"
     ]
    }
   ],
   "source": [
    "# This Python 3 environment comes with many helpful analytics libraries installed\n",
    "# It is defined by the kaggle/python Docker image: https://github.com/kaggle/docker-python\n",
    "# For example, here's several helpful packages to load\n",
    "\n",
    "import numpy as np # linear algebra\n",
    "import pandas as pd # data processing, CSV file I/O (e.g. pd.read_csv)\n",
    "import seaborn as sns\n",
    "import matplotlib.pyplot as plt\n",
    "\n",
    "# Input data files are available in the read-only \"../input/\" directory\n",
    "# For example, running this (by clicking run or pressing Shift+Enter) will list all files under the input directory\n",
    "\n",
    "import os\n",
    "for dirname, _, filenames in os.walk('/kaggle/input'):\n",
    "    for filename in filenames:\n",
    "        print(os.path.join(dirname, filename))\n",
    "\n",
    "# You can write up to 20GB to the current directory (/kaggle/working/) that gets preserved as output when you create a version using \"Save & Run All\" \n",
    "# You can also write temporary files to /kaggle/temp/, but they won't be saved outside of the current session"
   ]
  },
  {
   "cell_type": "markdown",
   "id": "6b7052e4",
   "metadata": {
    "papermill": {
     "duration": 0.018918,
     "end_time": "2022-03-24T22:14:40.652734",
     "exception": false,
     "start_time": "2022-03-24T22:14:40.633816",
     "status": "completed"
    },
    "tags": []
   },
   "source": [
    "# Read Data in and do head"
   ]
  },
  {
   "cell_type": "code",
   "execution_count": 2,
   "id": "8f069bc7",
   "metadata": {
    "execution": {
     "iopub.execute_input": "2022-03-24T22:14:40.694797Z",
     "iopub.status.busy": "2022-03-24T22:14:40.693852Z",
     "iopub.status.idle": "2022-03-24T22:14:40.728559Z",
     "shell.execute_reply": "2022-03-24T22:14:40.729009Z",
     "shell.execute_reply.started": "2022-03-24T21:57:22.377726Z"
    },
    "papermill": {
     "duration": 0.057502,
     "end_time": "2022-03-24T22:14:40.729175",
     "exception": false,
     "start_time": "2022-03-24T22:14:40.671673",
     "status": "completed"
    },
    "tags": []
   },
   "outputs": [
    {
     "data": {
      "text/html": [
       "<div>\n",
       "<style scoped>\n",
       "    .dataframe tbody tr th:only-of-type {\n",
       "        vertical-align: middle;\n",
       "    }\n",
       "\n",
       "    .dataframe tbody tr th {\n",
       "        vertical-align: top;\n",
       "    }\n",
       "\n",
       "    .dataframe thead th {\n",
       "        text-align: right;\n",
       "    }\n",
       "</style>\n",
       "<table border=\"1\" class=\"dataframe\">\n",
       "  <thead>\n",
       "    <tr style=\"text-align: right;\">\n",
       "      <th></th>\n",
       "      <th>sr</th>\n",
       "      <th>rr</th>\n",
       "      <th>t</th>\n",
       "      <th>lm</th>\n",
       "      <th>bo</th>\n",
       "      <th>rem</th>\n",
       "      <th>sr.1</th>\n",
       "      <th>hr</th>\n",
       "      <th>sl</th>\n",
       "    </tr>\n",
       "  </thead>\n",
       "  <tbody>\n",
       "    <tr>\n",
       "      <th>0</th>\n",
       "      <td>93.80</td>\n",
       "      <td>25.680</td>\n",
       "      <td>91.840</td>\n",
       "      <td>16.600</td>\n",
       "      <td>89.840</td>\n",
       "      <td>99.60</td>\n",
       "      <td>1.840</td>\n",
       "      <td>74.20</td>\n",
       "      <td>3</td>\n",
       "    </tr>\n",
       "    <tr>\n",
       "      <th>1</th>\n",
       "      <td>91.64</td>\n",
       "      <td>25.104</td>\n",
       "      <td>91.552</td>\n",
       "      <td>15.880</td>\n",
       "      <td>89.552</td>\n",
       "      <td>98.88</td>\n",
       "      <td>1.552</td>\n",
       "      <td>72.76</td>\n",
       "      <td>3</td>\n",
       "    </tr>\n",
       "    <tr>\n",
       "      <th>2</th>\n",
       "      <td>60.00</td>\n",
       "      <td>20.000</td>\n",
       "      <td>96.000</td>\n",
       "      <td>10.000</td>\n",
       "      <td>95.000</td>\n",
       "      <td>85.00</td>\n",
       "      <td>7.000</td>\n",
       "      <td>60.00</td>\n",
       "      <td>1</td>\n",
       "    </tr>\n",
       "    <tr>\n",
       "      <th>3</th>\n",
       "      <td>85.76</td>\n",
       "      <td>23.536</td>\n",
       "      <td>90.768</td>\n",
       "      <td>13.920</td>\n",
       "      <td>88.768</td>\n",
       "      <td>96.92</td>\n",
       "      <td>0.768</td>\n",
       "      <td>68.84</td>\n",
       "      <td>3</td>\n",
       "    </tr>\n",
       "    <tr>\n",
       "      <th>4</th>\n",
       "      <td>48.12</td>\n",
       "      <td>17.248</td>\n",
       "      <td>97.872</td>\n",
       "      <td>6.496</td>\n",
       "      <td>96.248</td>\n",
       "      <td>72.48</td>\n",
       "      <td>8.248</td>\n",
       "      <td>53.12</td>\n",
       "      <td>0</td>\n",
       "    </tr>\n",
       "  </tbody>\n",
       "</table>\n",
       "</div>"
      ],
      "text/plain": [
       "      sr      rr       t      lm      bo    rem   sr.1     hr  sl\n",
       "0  93.80  25.680  91.840  16.600  89.840  99.60  1.840  74.20   3\n",
       "1  91.64  25.104  91.552  15.880  89.552  98.88  1.552  72.76   3\n",
       "2  60.00  20.000  96.000  10.000  95.000  85.00  7.000  60.00   1\n",
       "3  85.76  23.536  90.768  13.920  88.768  96.92  0.768  68.84   3\n",
       "4  48.12  17.248  97.872   6.496  96.248  72.48  8.248  53.12   0"
      ]
     },
     "execution_count": 2,
     "metadata": {},
     "output_type": "execute_result"
    }
   ],
   "source": [
    "dataset = pd.read_csv(\"../input/human-stress-detection-in-and-through-sleep/SaYoPillow.csv\")\n",
    "\n",
    "dataset.head()"
   ]
  },
  {
   "cell_type": "markdown",
   "id": "117992fc",
   "metadata": {
    "papermill": {
     "duration": 0.02006,
     "end_time": "2022-03-24T22:14:40.768763",
     "exception": false,
     "start_time": "2022-03-24T22:14:40.748703",
     "status": "completed"
    },
    "tags": []
   },
   "source": [
    "# Change names of columns"
   ]
  },
  {
   "cell_type": "code",
   "execution_count": 3,
   "id": "3d450af4",
   "metadata": {
    "execution": {
     "iopub.execute_input": "2022-03-24T22:14:40.826648Z",
     "iopub.status.busy": "2022-03-24T22:14:40.811570Z",
     "iopub.status.idle": "2022-03-24T22:14:40.828802Z",
     "shell.execute_reply": "2022-03-24T22:14:40.829195Z",
     "shell.execute_reply.started": "2022-03-24T22:03:17.912080Z"
    },
    "papermill": {
     "duration": 0.040696,
     "end_time": "2022-03-24T22:14:40.829372",
     "exception": false,
     "start_time": "2022-03-24T22:14:40.788676",
     "status": "completed"
    },
    "tags": []
   },
   "outputs": [
    {
     "data": {
      "text/html": [
       "<div>\n",
       "<style scoped>\n",
       "    .dataframe tbody tr th:only-of-type {\n",
       "        vertical-align: middle;\n",
       "    }\n",
       "\n",
       "    .dataframe tbody tr th {\n",
       "        vertical-align: top;\n",
       "    }\n",
       "\n",
       "    .dataframe thead th {\n",
       "        text-align: right;\n",
       "    }\n",
       "</style>\n",
       "<table border=\"1\" class=\"dataframe\">\n",
       "  <thead>\n",
       "    <tr style=\"text-align: right;\">\n",
       "      <th></th>\n",
       "      <th>Snoring Rate</th>\n",
       "      <th>Respiration Rate</th>\n",
       "      <th>Body Temp</th>\n",
       "      <th>Limb Movement</th>\n",
       "      <th>Blood Oxygen</th>\n",
       "      <th>Eye Movement</th>\n",
       "      <th>Sleeping Hours</th>\n",
       "      <th>Heart Rate</th>\n",
       "      <th>Stress Level</th>\n",
       "    </tr>\n",
       "  </thead>\n",
       "  <tbody>\n",
       "    <tr>\n",
       "      <th>0</th>\n",
       "      <td>93.80</td>\n",
       "      <td>25.680</td>\n",
       "      <td>91.840</td>\n",
       "      <td>16.600</td>\n",
       "      <td>89.840</td>\n",
       "      <td>99.60</td>\n",
       "      <td>1.840</td>\n",
       "      <td>74.20</td>\n",
       "      <td>3</td>\n",
       "    </tr>\n",
       "    <tr>\n",
       "      <th>1</th>\n",
       "      <td>91.64</td>\n",
       "      <td>25.104</td>\n",
       "      <td>91.552</td>\n",
       "      <td>15.880</td>\n",
       "      <td>89.552</td>\n",
       "      <td>98.88</td>\n",
       "      <td>1.552</td>\n",
       "      <td>72.76</td>\n",
       "      <td>3</td>\n",
       "    </tr>\n",
       "    <tr>\n",
       "      <th>2</th>\n",
       "      <td>60.00</td>\n",
       "      <td>20.000</td>\n",
       "      <td>96.000</td>\n",
       "      <td>10.000</td>\n",
       "      <td>95.000</td>\n",
       "      <td>85.00</td>\n",
       "      <td>7.000</td>\n",
       "      <td>60.00</td>\n",
       "      <td>1</td>\n",
       "    </tr>\n",
       "    <tr>\n",
       "      <th>3</th>\n",
       "      <td>85.76</td>\n",
       "      <td>23.536</td>\n",
       "      <td>90.768</td>\n",
       "      <td>13.920</td>\n",
       "      <td>88.768</td>\n",
       "      <td>96.92</td>\n",
       "      <td>0.768</td>\n",
       "      <td>68.84</td>\n",
       "      <td>3</td>\n",
       "    </tr>\n",
       "    <tr>\n",
       "      <th>4</th>\n",
       "      <td>48.12</td>\n",
       "      <td>17.248</td>\n",
       "      <td>97.872</td>\n",
       "      <td>6.496</td>\n",
       "      <td>96.248</td>\n",
       "      <td>72.48</td>\n",
       "      <td>8.248</td>\n",
       "      <td>53.12</td>\n",
       "      <td>0</td>\n",
       "    </tr>\n",
       "  </tbody>\n",
       "</table>\n",
       "</div>"
      ],
      "text/plain": [
       "   Snoring Rate  Respiration Rate  Body Temp  Limb Movement  Blood Oxygen  \\\n",
       "0         93.80            25.680     91.840         16.600        89.840   \n",
       "1         91.64            25.104     91.552         15.880        89.552   \n",
       "2         60.00            20.000     96.000         10.000        95.000   \n",
       "3         85.76            23.536     90.768         13.920        88.768   \n",
       "4         48.12            17.248     97.872          6.496        96.248   \n",
       "\n",
       "   Eye Movement  Sleeping Hours  Heart Rate  Stress Level  \n",
       "0         99.60           1.840       74.20             3  \n",
       "1         98.88           1.552       72.76             3  \n",
       "2         85.00           7.000       60.00             1  \n",
       "3         96.92           0.768       68.84             3  \n",
       "4         72.48           8.248       53.12             0  "
      ]
     },
     "execution_count": 3,
     "metadata": {},
     "output_type": "execute_result"
    }
   ],
   "source": [
    "dataset = dataset.rename(columns={\"sr\" : \"Snoring Rate\", \"rr\" : \"Respiration Rate\", \"t\": \"Body Temp\", \"lm\" : \"Limb Movement\",\n",
    "                       \"bo\" : \"Blood Oxygen\", \"rem\" : \"Eye Movement\", \"sr.1\" : \"Sleeping Hours\", \"hr\" : \"Heart Rate\", \"sl\" : \"Stress Level\"})\n",
    "\n",
    "dataset.head()"
   ]
  },
  {
   "cell_type": "markdown",
   "id": "9f942ff3",
   "metadata": {
    "papermill": {
     "duration": 0.019201,
     "end_time": "2022-03-24T22:14:40.867892",
     "exception": false,
     "start_time": "2022-03-24T22:14:40.848691",
     "status": "completed"
    },
    "tags": []
   },
   "source": [
    "# Show distribution of the categories"
   ]
  },
  {
   "cell_type": "code",
   "execution_count": 4,
   "id": "9049aef0",
   "metadata": {
    "execution": {
     "iopub.execute_input": "2022-03-24T22:14:40.909896Z",
     "iopub.status.busy": "2022-03-24T22:14:40.909296Z",
     "iopub.status.idle": "2022-03-24T22:14:41.148898Z",
     "shell.execute_reply": "2022-03-24T22:14:41.148271Z",
     "shell.execute_reply.started": "2022-03-24T22:09:35.266735Z"
    },
    "papermill": {
     "duration": 0.261578,
     "end_time": "2022-03-24T22:14:41.149088",
     "exception": false,
     "start_time": "2022-03-24T22:14:40.887510",
     "status": "completed"
    },
    "tags": []
   },
   "outputs": [
    {
     "data": {
      "text/plain": [
       "Text(0, 0.5, 'Counts')"
      ]
     },
     "execution_count": 4,
     "metadata": {},
     "output_type": "execute_result"
    },
    {
     "data": {
      "image/png": "[encoded data removed]",
      "text/plain": [
       "<Figure size 432x432 with 1 Axes>"
      ]
     },
     "metadata": {
      "needs_background": "light"
     },
     "output_type": "display_data"
    }
   ],
   "source": [
    "stress_0 = dataset[dataset[\"Stress Level\"] == 0]\n",
    "stress_1 = dataset[dataset[\"Stress Level\"] == 1]\n",
    "stress_2 = dataset[dataset[\"Stress Level\"] == 2]\n",
    "stress_3 = dataset[dataset[\"Stress Level\"] == 3]\n",
    "stress_4 = dataset[dataset[\"Stress Level\"] == 4]\n",
    "\n",
    "stress_level_categories = [\"Level 0\", \"Level 1\", \"Level 2\", \"Level 3\", \"Level 4\"]\n",
    "\n",
    "stress_level_distribution = [len(stress_0), len(stress_1), len(stress_2), len(stress_3), len(stress_4)]\n",
    "\n",
    "plt.figure(figsize=[6, 6])\n",
    "sns.barplot(x=stress_level_categories, y=stress_level_distribution)\n",
    "\n",
    "plt.title(\"Stress Level Categories and Their Counts\")\n",
    "plt.ylabel(\"Counts\")"
   ]
  },
  {
   "cell_type": "markdown",
   "id": "5bf84340",
   "metadata": {
    "papermill": {
     "duration": 0.021711,
     "end_time": "2022-03-24T22:14:41.191696",
     "exception": false,
     "start_time": "2022-03-24T22:14:41.169985",
     "status": "completed"
    },
    "tags": []
   },
   "source": [
    "# Exploratory Data Analysis (plot average sleep for each category with seaborn barplot)"
   ]
  },
  {
   "cell_type": "code",
   "execution_count": 5,
   "id": "c2a1986e",
   "metadata": {
    "execution": {
     "iopub.execute_input": "2022-03-24T22:14:41.235781Z",
     "iopub.status.busy": "2022-03-24T22:14:41.235169Z",
     "iopub.status.idle": "2022-03-24T22:14:41.238697Z",
     "shell.execute_reply": "2022-03-24T22:14:41.239166Z",
     "shell.execute_reply.started": "2022-03-24T22:10:28.655658Z"
    },
    "papermill": {
     "duration": 0.027173,
     "end_time": "2022-03-24T22:14:41.239345",
     "exception": false,
     "start_time": "2022-03-24T22:14:41.212172",
     "status": "completed"
    },
    "tags": []
   },
   "outputs": [],
   "source": [
    "x = np.mean(stress_4[\"Sleeping Hours\"])"
   ]
  },
  {
   "cell_type": "markdown",
   "id": "cbe6120d",
   "metadata": {
    "papermill": {
     "duration": 0.020181,
     "end_time": "2022-03-24T22:14:41.280136",
     "exception": false,
     "start_time": "2022-03-24T22:14:41.259955",
     "status": "completed"
    },
    "tags": []
   },
   "source": [
    "# Correlation heatmap sns.heatmap(df.corr())"
   ]
  },
  {
   "cell_type": "code",
   "execution_count": 6,
   "id": "6218f1d5",
   "metadata": {
    "execution": {
     "iopub.execute_input": "2022-03-24T22:14:41.326325Z",
     "iopub.status.busy": "2022-03-24T22:14:41.323864Z",
     "iopub.status.idle": "2022-03-24T22:14:41.666618Z",
     "shell.execute_reply": "2022-03-24T22:14:41.667407Z",
     "shell.execute_reply.started": "2022-03-24T22:11:40.610195Z"
    },
    "papermill": {
     "duration": 0.366972,
     "end_time": "2022-03-24T22:14:41.667624",
     "exception": false,
     "start_time": "2022-03-24T22:14:41.300652",
     "status": "completed"
    },
    "tags": []
   },
   "outputs": [
    {
     "data": {
      "text/plain": [
       "<AxesSubplot:>"
      ]
     },
     "execution_count": 6,
     "metadata": {},
     "output_type": "execute_result"
    },
    {
     "data": {
      "image/png": "[encoded data removed]",
      "text/plain": [
       "<Figure size 432x288 with 2 Axes>"
      ]
     },
     "metadata": {
      "needs_background": "light"
     },
     "output_type": "display_data"
    }
   ],
   "source": [
    "sns.heatmap(dataset.corr())"
   ]
  },
  {
   "cell_type": "markdown",
   "id": "bb977a9b",
   "metadata": {
    "papermill": {
     "duration": 0.029335,
     "end_time": "2022-03-24T22:14:41.726839",
     "exception": false,
     "start_time": "2022-03-24T22:14:41.697504",
     "status": "completed"
    },
    "tags": []
   },
   "source": [
    "# Narrow down what features we want through correlation and other exploratory data analysis, comparing features across stress level categories."
   ]
  },
  {
   "cell_type": "code",
   "execution_count": null,
   "id": "02ec1df4",
   "metadata": {
    "papermill": {
     "duration": 0.022356,
     "end_time": "2022-03-24T22:14:41.776647",
     "exception": false,
     "start_time": "2022-03-24T22:14:41.754291",
     "status": "completed"
    },
    "tags": []
   },
   "outputs": [],
   "source": []
  },
  {
   "cell_type": "markdown",
   "id": "4032060e",
   "metadata": {
    "papermill": {
     "duration": 0.021908,
     "end_time": "2022-03-24T22:14:41.820774",
     "exception": false,
     "start_time": "2022-03-24T22:14:41.798866",
     "status": "completed"
    },
    "tags": []
   },
   "source": [
    "# train test split to get X_train, X_test, y_train, y_test. Check distribution after split."
   ]
  },
  {
   "cell_type": "code",
   "execution_count": null,
   "id": "6044e8d7",
   "metadata": {
    "papermill": {
     "duration": 0.021636,
     "end_time": "2022-03-24T22:14:41.864930",
     "exception": false,
     "start_time": "2022-03-24T22:14:41.843294",
     "status": "completed"
    },
    "tags": []
   },
   "outputs": [],
   "source": []
  },
  {
   "cell_type": "markdown",
   "id": "621f74b3",
   "metadata": {
    "papermill": {
     "duration": 0.021572,
     "end_time": "2022-03-24T22:14:41.908998",
     "exception": false,
     "start_time": "2022-03-24T22:14:41.887426",
     "status": "completed"
    },
    "tags": []
   },
   "source": [
    "# train test each model (if we have time try MLP)"
   ]
  },
  {
   "cell_type": "code",
   "execution_count": null,
   "id": "7c5faad6",
   "metadata": {
    "papermill": {
     "duration": 0.021851,
     "end_time": "2022-03-24T22:14:41.952718",
     "exception": false,
     "start_time": "2022-03-24T22:14:41.930867",
     "status": "completed"
    },
    "tags": []
   },
   "outputs": [],
   "source": []
  },
  {
   "cell_type": "markdown",
   "id": "16e1e404",
   "metadata": {
    "papermill": {
     "duration": 0.021794,
     "end_time": "2022-03-24T22:14:41.997126",
     "exception": false,
     "start_time": "2022-03-24T22:14:41.975332",
     "status": "completed"
    },
    "tags": []
   },
   "source": [
    "# cross validation of models"
   ]
  },
  {
   "cell_type": "code",
   "execution_count": null,
   "id": "f1d19209",
   "metadata": {
    "papermill": {
     "duration": 0.02169,
     "end_time": "2022-03-24T22:14:42.040675",
     "exception": false,
     "start_time": "2022-03-24T22:14:42.018985",
     "status": "completed"
    },
    "tags": []
   },
   "outputs": [],
   "source": []
  },
  {
   "cell_type": "markdown",
   "id": "7ffeb1bb",
   "metadata": {
    "papermill": {
     "duration": 0.021779,
     "end_time": "2022-03-24T22:14:42.084755",
     "exception": false,
     "start_time": "2022-03-24T22:14:42.062976",
     "status": "completed"
    },
    "tags": []
   },
   "source": [
    "# evaluation metrics and run time evaluation"
   ]
  },
  {
   "cell_type": "code",
   "execution_count": null,
   "id": "b95df4ad",
   "metadata": {
    "papermill": {
     "duration": 0.021559,
     "end_time": "2022-03-24T22:14:42.129010",
     "exception": false,
     "start_time": "2022-03-24T22:14:42.107451",
     "status": "completed"
    },
    "tags": []
   },
   "outputs": [],
   "source": []
  },
  {
   "cell_type": "markdown",
   "id": "9f70991d",
   "metadata": {
    "papermill": {
     "duration": 0.021588,
     "end_time": "2022-03-24T22:14:42.172750",
     "exception": false,
     "start_time": "2022-03-24T22:14:42.151162",
     "status": "completed"
    },
    "tags": []
   },
   "source": [
    "# baseline of mode and random off of entire datset"
   ]
  },
  {
   "cell_type": "code",
   "execution_count": null,
   "id": "2cf707a4",
   "metadata": {
    "papermill": {
     "duration": 0.021818,
     "end_time": "2022-03-24T22:14:42.216566",
     "exception": false,
     "start_time": "2022-03-24T22:14:42.194748",
     "status": "completed"
    },
    "tags": []
   },
   "outputs": [],
   "source": []
  },
  {
   "cell_type": "markdown",
   "id": "2dc023d3",
   "metadata": {
    "papermill": {
     "duration": 0.021288,
     "end_time": "2022-03-24T22:14:42.259640",
     "exception": false,
     "start_time": "2022-03-24T22:14:42.238352",
     "status": "completed"
    },
    "tags": []
   },
   "source": [
    "# create a small dataframe with model name that shows accuracy, precision, recall, runtime"
   ]
  },
  {
   "cell_type": "code",
   "execution_count": null,
   "id": "287aaafc",
   "metadata": {
    "papermill": {
     "duration": 0.021348,
     "end_time": "2022-03-24T22:14:42.302799",
     "exception": false,
     "start_time": "2022-03-24T22:14:42.281451",
     "status": "completed"
    },
    "tags": []
   },
   "outputs": [],
   "source": []
  },
  {
   "cell_type": "markdown",
   "id": "d30fb9f5",
   "metadata": {
    "papermill": {
     "duration": 0.021433,
     "end_time": "2022-03-24T22:14:42.345749",
     "exception": false,
     "start_time": "2022-03-24T22:14:42.324316",
     "status": "completed"
    },
    "tags": []
   },
   "source": [
    "# learning curve for each model? If curve needs data, maybe add synthetic data?"
   ]
  },
  {
   "cell_type": "code",
   "execution_count": null,
   "id": "d7d5449a",
   "metadata": {
    "papermill": {
     "duration": 0.021562,
     "end_time": "2022-03-24T22:14:42.389236",
     "exception": false,
     "start_time": "2022-03-24T22:14:42.367674",
     "status": "completed"
    },
    "tags": []
   },
   "outputs": [],
   "source": []
  },
  {
   "cell_type": "markdown",
   "id": "53352b5e",
   "metadata": {
    "papermill": {
     "duration": 0.021423,
     "end_time": "2022-03-24T22:14:42.432448",
     "exception": false,
     "start_time": "2022-03-24T22:14:42.411025",
     "status": "completed"
    },
    "tags": []
   },
   "source": [
    "# Hyperparameter Tuning"
   ]
  },
  {
   "cell_type": "code",
   "execution_count": null,
   "id": "dda40b6c",
   "metadata": {
    "papermill": {
     "duration": 0.021586,
     "end_time": "2022-03-24T22:14:42.475747",
     "exception": false,
     "start_time": "2022-03-24T22:14:42.454161",
     "status": "completed"
    },
    "tags": []
   },
   "outputs": [],
   "source": []
  },
  {
   "cell_type": "markdown",
   "id": "58a4670b",
   "metadata": {
    "papermill": {
     "duration": 0.021452,
     "end_time": "2022-03-24T22:14:42.518909",
     "exception": false,
     "start_time": "2022-03-24T22:14:42.497457",
     "status": "completed"
    },
    "tags": []
   },
   "source": [
    "# Figure out best model and do confusion matrix"
   ]
  },
  {
   "cell_type": "code",
   "execution_count": null,
   "id": "3d4ba2e7",
   "metadata": {
    "papermill": {
     "duration": 0.021608,
     "end_time": "2022-03-24T22:14:42.562173",
     "exception": false,
     "start_time": "2022-03-24T22:14:42.540565",
     "status": "completed"
    },
    "tags": []
   },
   "outputs": [],
   "source": []
  },
  {
   "cell_type": "markdown",
   "id": "7d318f48",
   "metadata": {
    "papermill": {
     "duration": 0.021516,
     "end_time": "2022-03-24T22:14:42.605359",
     "exception": false,
     "start_time": "2022-03-24T22:14:42.583843",
     "status": "completed"
    },
    "tags": []
   },
   "source": [
    "# Feature importance to see what sleep features matter"
   ]
  },
  {
   "cell_type": "code",
   "execution_count": null,
   "id": "c081de4d",
   "metadata": {
    "papermill": {
     "duration": 0.021218,
     "end_time": "2022-03-24T22:14:42.648375",
     "exception": false,
     "start_time": "2022-03-24T22:14:42.627157",
     "status": "completed"
    },
    "tags": []
   },
   "outputs": [],
   "source": []
  }
 ],
 "metadata": {
  "kernelspec": {
   "display_name": "Python 3",
   "language": "python",
   "name": "python3"
  },
  "language_info": {
   "codemirror_mode": {
    "name": "ipython",
    "version": 3
   },
   "file_extension": ".py",
   "mimetype": "text/x-python",
   "name": "python",
   "nbconvert_exporter": "python",
   "pygments_lexer": "ipython3",
   "version": "3.7.12"
  },
  "papermill": {
   "default_parameters": {},
   "duration": 11.940987,
   "end_time": "2022-03-24T22:14:43.279148",
   "environment_variables": {},
   "exception": null,
   "input_path": "__notebook__.ipynb",
   "output_path": "__notebook__.ipynb",
   "parameters": {},
   "start_time": "2022-03-24T22:14:31.338161",
   "version": "2.3.3"
  }
 },
 "nbformat": 4,
 "nbformat_minor": 5
}
