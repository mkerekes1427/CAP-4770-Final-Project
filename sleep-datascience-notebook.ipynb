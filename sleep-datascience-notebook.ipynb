{
 "cells": [
  {
   "cell_type": "code",
   "execution_count": 1,
   "id": "b0800c36",
   "metadata": {
    "_cell_guid": "b1076dfc-b9ad-4769-8c92-a6c4dae69d19",
    "_uuid": "8f2839f25d086af736a60e9eeb907d3b93b6e0e5",
    "execution": {
     "iopub.execute_input": "2022-03-31T14:26:00.459359Z",
     "iopub.status.busy": "2022-03-31T14:26:00.458728Z",
     "iopub.status.idle": "2022-03-31T14:26:01.569951Z",
     "shell.execute_reply": "2022-03-31T14:26:01.570482Z",
     "shell.execute_reply.started": "2022-03-31T14:20:09.480560Z"
    },
    "papermill": {
     "duration": 1.196653,
     "end_time": "2022-03-31T14:26:01.570751",
     "exception": false,
     "start_time": "2022-03-31T14:26:00.374098",
     "status": "completed"
    },
    "tags": []
   },
   "outputs": [
    {
     "name": "stdout",
     "output_type": "stream",
     "text": [
      "/kaggle/input/human-stress-detection-in-and-through-sleep/SaYoPillow.csv\n",
      "/kaggle/input/human-stress-detection-in-and-through-sleep/IEEE-TCE_2020-08-0175_SaYoPillow.pdf\n",
      "/kaggle/input/human-stress-detection-in-and-through-sleep/readme.docx\n"
     ]
    }
   ],
   "source": [
    "# This Python 3 environment comes with many helpful analytics libraries installed\n",
    "# It is defined by the kaggle/python Docker image: https://github.com/kaggle/docker-python\n",
    "# For example, here's several helpful packages to load\n",
    "\n",
    "import time\n",
    "import warnings\n",
    "import numpy as np # linear algebra\n",
    "import pandas as pd # data processing, CSV file I/O (e.g. pd.read_csv)\n",
    "import seaborn as sns\n",
    "import matplotlib.pyplot as plt\n",
    "\n",
    "# Input data files are available in the read-only \"../input/\" directory\n",
    "# For example, running this (by clicking run or pressing Shift+Enter) will list all files under the input directory\n",
    "\n",
    "import os\n",
    "for dirname, _, filenames in os.walk('/kaggle/input'):\n",
    "    for filename in filenames:\n",
    "        print(os.path.join(dirname, filename))\n",
    "\n",
    "# You can write up to 20GB to the current directory (/kaggle/working/) that gets preserved as output when you create a version using \"Save & Run All\" \n",
    "# You can also write temporary files to /kaggle/temp/, but they won't be saved outside of the current session\n",
    "\n",
    "warnings.filterwarnings(\"ignore\")"
   ]
  },
  {
   "cell_type": "code",
   "execution_count": 2,
   "id": "abb3a6ce",
   "metadata": {
    "execution": {
     "iopub.execute_input": "2022-03-31T14:26:01.727101Z",
     "iopub.status.busy": "2022-03-31T14:26:01.726456Z",
     "iopub.status.idle": "2022-03-31T14:26:19.485679Z",
     "shell.execute_reply": "2022-03-31T14:26:19.485143Z",
     "shell.execute_reply.started": "2022-03-31T14:20:09.502441Z"
    },
    "papermill": {
     "duration": 17.837546,
     "end_time": "2022-03-31T14:26:19.485789",
     "exception": false,
     "start_time": "2022-03-31T14:26:01.648243",
     "status": "completed"
    },
    "tags": []
   },
   "outputs": [
    {
     "name": "stdout",
     "output_type": "stream",
     "text": [
      "Collecting sdv\r\n",
      "  Downloading sdv-0.14.0-py2.py3-none-any.whl (101 kB)\r\n",
      "     |████████████████████████████████| 101 kB 715 kB/s           \r\n",
      "\u001b[?25hCollecting sdmetrics<0.5,>=0.4.1\r\n",
      "  Downloading sdmetrics-0.4.1-py2.py3-none-any.whl (97 kB)\r\n",
      "     |████████████████████████████████| 97 kB 1.6 MB/s            \r\n",
      "\u001b[?25hCollecting Faker<10,>=3.0.0\r\n",
      "  Downloading Faker-9.9.1-py3-none-any.whl (1.2 MB)\r\n",
      "     |████████████████████████████████| 1.2 MB 4.6 MB/s            \r\n",
      "\u001b[?25hCollecting deepecho<0.4,>=0.3.0.post1\r\n",
      "  Downloading deepecho-0.3.0.post1-py2.py3-none-any.whl (26 kB)\r\n",
      "Collecting graphviz<1,>=0.13.2\r\n",
      "  Downloading graphviz-0.19.1-py3-none-any.whl (46 kB)\r\n",
      "     |████████████████████████████████| 46 kB 2.4 MB/s             \r\n",
      "\u001b[?25hCollecting copulas<0.7,>=0.6.1\r\n",
      "  Downloading copulas-0.6.1-py2.py3-none-any.whl (52 kB)\r\n",
      "     |████████████████████████████████| 52 kB 937 kB/s             \r\n",
      "\u001b[?25hCollecting rdt<0.7,>=0.6.2\r\n",
      "  Downloading rdt-0.6.4-py2.py3-none-any.whl (45 kB)\r\n",
      "     |████████████████████████████████| 45 kB 2.0 MB/s             \r\n",
      "\u001b[?25hRequirement already satisfied: pandas<2,>=1.1.3 in /opt/conda/lib/python3.7/site-packages (from sdv) (1.3.5)\r\n",
      "Requirement already satisfied: numpy<2,>=1.20.0 in /opt/conda/lib/python3.7/site-packages (from sdv) (1.20.3)\r\n",
      "Collecting ctgan<0.6,>=0.5.1\r\n",
      "  Downloading ctgan-0.5.1-py2.py3-none-any.whl (24 kB)\r\n",
      "Requirement already satisfied: tqdm<5,>=4.15 in /opt/conda/lib/python3.7/site-packages (from sdv) (4.62.3)\r\n",
      "Requirement already satisfied: scipy<2,>=1.5.4 in /opt/conda/lib/python3.7/site-packages (from copulas<0.7,>=0.6.1->sdv) (1.7.3)\r\n",
      "Requirement already satisfied: matplotlib<4,>=3.4.0 in /opt/conda/lib/python3.7/site-packages (from copulas<0.7,>=0.6.1->sdv) (3.5.1)\r\n",
      "Requirement already satisfied: scikit-learn<2,>=0.24 in /opt/conda/lib/python3.7/site-packages (from ctgan<0.6,>=0.5.1->sdv) (1.0.1)\r\n",
      "Requirement already satisfied: packaging<22,>=20 in /opt/conda/lib/python3.7/site-packages (from ctgan<0.6,>=0.5.1->sdv) (21.3)\r\n",
      "Requirement already satisfied: torchvision<1,>=0.9.0 in /opt/conda/lib/python3.7/site-packages (from ctgan<0.6,>=0.5.1->sdv) (0.10.1+cpu)\r\n",
      "Requirement already satisfied: torch<2,>=1.8.0 in /opt/conda/lib/python3.7/site-packages (from ctgan<0.6,>=0.5.1->sdv) (1.9.1+cpu)\r\n",
      "Requirement already satisfied: python-dateutil>=2.4 in /opt/conda/lib/python3.7/site-packages (from Faker<10,>=3.0.0->sdv) (2.8.2)\r\n",
      "Requirement already satisfied: text-unidecode==1.3 in /opt/conda/lib/python3.7/site-packages (from Faker<10,>=3.0.0->sdv) (1.3)\r\n",
      "Requirement already satisfied: typing-extensions>=3.10.0.2 in /opt/conda/lib/python3.7/site-packages (from Faker<10,>=3.0.0->sdv) (4.1.1)\r\n",
      "Requirement already satisfied: pytz>=2017.3 in /opt/conda/lib/python3.7/site-packages (from pandas<2,>=1.1.3->sdv) (2021.3)\r\n",
      "Collecting pyyaml<6,>=5.4.1\r\n",
      "  Downloading PyYAML-5.4.1-cp37-cp37m-manylinux1_x86_64.whl (636 kB)\r\n",
      "     |████████████████████████████████| 636 kB 34.3 MB/s            \r\n",
      "\u001b[?25hRequirement already satisfied: psutil<6,>=5.7 in /opt/conda/lib/python3.7/site-packages (from rdt<0.7,>=0.6.2->sdv) (5.8.0)\r\n",
      "Collecting pyts<0.13.0,>=0.12.0\r\n",
      "  Downloading pyts-0.12.0-py3-none-any.whl (2.5 MB)\r\n",
      "     |████████████████████████████████| 2.5 MB 69.2 MB/s            \r\n",
      "\u001b[?25hRequirement already satisfied: kiwisolver>=1.0.1 in /opt/conda/lib/python3.7/site-packages (from matplotlib<4,>=3.4.0->copulas<0.7,>=0.6.1->sdv) (1.3.2)\r\n",
      "Requirement already satisfied: pillow>=6.2.0 in /opt/conda/lib/python3.7/site-packages (from matplotlib<4,>=3.4.0->copulas<0.7,>=0.6.1->sdv) (8.2.0)\r\n",
      "Requirement already satisfied: cycler>=0.10 in /opt/conda/lib/python3.7/site-packages (from matplotlib<4,>=3.4.0->copulas<0.7,>=0.6.1->sdv) (0.11.0)\r\n",
      "Requirement already satisfied: pyparsing>=2.2.1 in /opt/conda/lib/python3.7/site-packages (from matplotlib<4,>=3.4.0->copulas<0.7,>=0.6.1->sdv) (3.0.6)\r\n",
      "Requirement already satisfied: fonttools>=4.22.0 in /opt/conda/lib/python3.7/site-packages (from matplotlib<4,>=3.4.0->copulas<0.7,>=0.6.1->sdv) (4.28.4)\r\n",
      "Requirement already satisfied: six>=1.5 in /opt/conda/lib/python3.7/site-packages (from python-dateutil>=2.4->Faker<10,>=3.0.0->sdv) (1.16.0)\r\n",
      "Requirement already satisfied: joblib>=0.12 in /opt/conda/lib/python3.7/site-packages (from pyts<0.13.0,>=0.12.0->sdmetrics<0.5,>=0.4.1->sdv) (1.1.0)\r\n",
      "Requirement already satisfied: numba>=0.48.0 in /opt/conda/lib/python3.7/site-packages (from pyts<0.13.0,>=0.12.0->sdmetrics<0.5,>=0.4.1->sdv) (0.54.1)\r\n",
      "Requirement already satisfied: threadpoolctl>=2.0.0 in /opt/conda/lib/python3.7/site-packages (from scikit-learn<2,>=0.24->ctgan<0.6,>=0.5.1->sdv) (3.0.0)\r\n",
      "Requirement already satisfied: llvmlite<0.38,>=0.37.0rc1 in /opt/conda/lib/python3.7/site-packages (from numba>=0.48.0->pyts<0.13.0,>=0.12.0->sdmetrics<0.5,>=0.4.1->sdv) (0.37.0)\r\n",
      "Requirement already satisfied: setuptools in /opt/conda/lib/python3.7/site-packages (from numba>=0.48.0->pyts<0.13.0,>=0.12.0->sdmetrics<0.5,>=0.4.1->sdv) (59.5.0)\r\n",
      "Installing collected packages: pyyaml, rdt, pyts, copulas, sdmetrics, graphviz, Faker, deepecho, ctgan, sdv\r\n",
      "  Attempting uninstall: pyyaml\r\n",
      "    Found existing installation: PyYAML 6.0\r\n",
      "    Uninstalling PyYAML-6.0:\r\n",
      "      Successfully uninstalled PyYAML-6.0\r\n",
      "  Attempting uninstall: graphviz\r\n",
      "    Found existing installation: graphviz 0.8.4\r\n",
      "    Uninstalling graphviz-0.8.4:\r\n",
      "      Successfully uninstalled graphviz-0.8.4\r\n",
      "\u001b[31mERROR: pip's dependency resolver does not currently take into account all the packages that are installed. This behaviour is the source of the following dependency conflicts.\r\n",
      "mxnet 1.9.0 requires graphviz<0.9.0,>=0.8.1, but you have graphviz 0.19.1 which is incompatible.\u001b[0m\r\n",
      "Successfully installed Faker-9.9.1 copulas-0.6.1 ctgan-0.5.1 deepecho-0.3.0.post1 graphviz-0.19.1 pyts-0.12.0 pyyaml-5.4.1 rdt-0.6.4 sdmetrics-0.4.1 sdv-0.14.0\r\n",
      "\u001b[33mWARNING: Running pip as the 'root' user can result in broken permissions and conflicting behaviour with the system package manager. It is recommended to use a virtual environment instead: https://pip.pypa.io/warnings/venv\u001b[0m\r\n"
     ]
    }
   ],
   "source": [
    "!pip install sdv"
   ]
  },
  {
   "cell_type": "markdown",
   "id": "d43ae9ce",
   "metadata": {
    "papermill": {
     "duration": 0.060999,
     "end_time": "2022-03-31T14:26:19.609585",
     "exception": false,
     "start_time": "2022-03-31T14:26:19.548586",
     "status": "completed"
    },
    "tags": []
   },
   "source": [
    "# Read Data in and do head"
   ]
  },
  {
   "cell_type": "code",
   "execution_count": 3,
   "id": "cdabbc91",
   "metadata": {
    "execution": {
     "iopub.execute_input": "2022-03-31T14:26:19.738723Z",
     "iopub.status.busy": "2022-03-31T14:26:19.738067Z",
     "iopub.status.idle": "2022-03-31T14:26:19.777419Z",
     "shell.execute_reply": "2022-03-31T14:26:19.776920Z",
     "shell.execute_reply.started": "2022-03-31T14:20:18.837447Z"
    },
    "papermill": {
     "duration": 0.106505,
     "end_time": "2022-03-31T14:26:19.777522",
     "exception": false,
     "start_time": "2022-03-31T14:26:19.671017",
     "status": "completed"
    },
    "tags": []
   },
   "outputs": [
    {
     "data": {
      "text/html": [
       "<div>\n",
       "<style scoped>\n",
       "    .dataframe tbody tr th:only-of-type {\n",
       "        vertical-align: middle;\n",
       "    }\n",
       "\n",
       "    .dataframe tbody tr th {\n",
       "        vertical-align: top;\n",
       "    }\n",
       "\n",
       "    .dataframe thead th {\n",
       "        text-align: right;\n",
       "    }\n",
       "</style>\n",
       "<table border=\"1\" class=\"dataframe\">\n",
       "  <thead>\n",
       "    <tr style=\"text-align: right;\">\n",
       "      <th></th>\n",
       "      <th>sr</th>\n",
       "      <th>rr</th>\n",
       "      <th>t</th>\n",
       "      <th>lm</th>\n",
       "      <th>bo</th>\n",
       "      <th>rem</th>\n",
       "      <th>sr.1</th>\n",
       "      <th>hr</th>\n",
       "      <th>sl</th>\n",
       "    </tr>\n",
       "  </thead>\n",
       "  <tbody>\n",
       "    <tr>\n",
       "      <th>0</th>\n",
       "      <td>93.80</td>\n",
       "      <td>25.680</td>\n",
       "      <td>91.840</td>\n",
       "      <td>16.600</td>\n",
       "      <td>89.840</td>\n",
       "      <td>99.60</td>\n",
       "      <td>1.840</td>\n",
       "      <td>74.20</td>\n",
       "      <td>3</td>\n",
       "    </tr>\n",
       "    <tr>\n",
       "      <th>1</th>\n",
       "      <td>91.64</td>\n",
       "      <td>25.104</td>\n",
       "      <td>91.552</td>\n",
       "      <td>15.880</td>\n",
       "      <td>89.552</td>\n",
       "      <td>98.88</td>\n",
       "      <td>1.552</td>\n",
       "      <td>72.76</td>\n",
       "      <td>3</td>\n",
       "    </tr>\n",
       "    <tr>\n",
       "      <th>2</th>\n",
       "      <td>60.00</td>\n",
       "      <td>20.000</td>\n",
       "      <td>96.000</td>\n",
       "      <td>10.000</td>\n",
       "      <td>95.000</td>\n",
       "      <td>85.00</td>\n",
       "      <td>7.000</td>\n",
       "      <td>60.00</td>\n",
       "      <td>1</td>\n",
       "    </tr>\n",
       "    <tr>\n",
       "      <th>3</th>\n",
       "      <td>85.76</td>\n",
       "      <td>23.536</td>\n",
       "      <td>90.768</td>\n",
       "      <td>13.920</td>\n",
       "      <td>88.768</td>\n",
       "      <td>96.92</td>\n",
       "      <td>0.768</td>\n",
       "      <td>68.84</td>\n",
       "      <td>3</td>\n",
       "    </tr>\n",
       "    <tr>\n",
       "      <th>4</th>\n",
       "      <td>48.12</td>\n",
       "      <td>17.248</td>\n",
       "      <td>97.872</td>\n",
       "      <td>6.496</td>\n",
       "      <td>96.248</td>\n",
       "      <td>72.48</td>\n",
       "      <td>8.248</td>\n",
       "      <td>53.12</td>\n",
       "      <td>0</td>\n",
       "    </tr>\n",
       "  </tbody>\n",
       "</table>\n",
       "</div>"
      ],
      "text/plain": [
       "      sr      rr       t      lm      bo    rem   sr.1     hr  sl\n",
       "0  93.80  25.680  91.840  16.600  89.840  99.60  1.840  74.20   3\n",
       "1  91.64  25.104  91.552  15.880  89.552  98.88  1.552  72.76   3\n",
       "2  60.00  20.000  96.000  10.000  95.000  85.00  7.000  60.00   1\n",
       "3  85.76  23.536  90.768  13.920  88.768  96.92  0.768  68.84   3\n",
       "4  48.12  17.248  97.872   6.496  96.248  72.48  8.248  53.12   0"
      ]
     },
     "execution_count": 3,
     "metadata": {},
     "output_type": "execute_result"
    }
   ],
   "source": [
    "np.random.seed(42)\n",
    "dataset = pd.read_csv(\"../input/human-stress-detection-in-and-through-sleep/SaYoPillow.csv\")\n",
    "\n",
    "dataset.head()"
   ]
  },
  {
   "cell_type": "markdown",
   "id": "87f7fdad",
   "metadata": {
    "papermill": {
     "duration": 0.062438,
     "end_time": "2022-03-31T14:26:19.903589",
     "exception": false,
     "start_time": "2022-03-31T14:26:19.841151",
     "status": "completed"
    },
    "tags": []
   },
   "source": [
    "# Change names of columns\n"
   ]
  },
  {
   "cell_type": "code",
   "execution_count": 4,
   "id": "7be33cf8",
   "metadata": {
    "execution": {
     "iopub.execute_input": "2022-03-31T14:26:20.052228Z",
     "iopub.status.busy": "2022-03-31T14:26:20.051474Z",
     "iopub.status.idle": "2022-03-31T14:26:20.055218Z",
     "shell.execute_reply": "2022-03-31T14:26:20.054732Z",
     "shell.execute_reply.started": "2022-03-31T14:20:18.871410Z"
    },
    "papermill": {
     "duration": 0.089608,
     "end_time": "2022-03-31T14:26:20.055321",
     "exception": false,
     "start_time": "2022-03-31T14:26:19.965713",
     "status": "completed"
    },
    "tags": []
   },
   "outputs": [
    {
     "data": {
      "text/html": [
       "<div>\n",
       "<style scoped>\n",
       "    .dataframe tbody tr th:only-of-type {\n",
       "        vertical-align: middle;\n",
       "    }\n",
       "\n",
       "    .dataframe tbody tr th {\n",
       "        vertical-align: top;\n",
       "    }\n",
       "\n",
       "    .dataframe thead th {\n",
       "        text-align: right;\n",
       "    }\n",
       "</style>\n",
       "<table border=\"1\" class=\"dataframe\">\n",
       "  <thead>\n",
       "    <tr style=\"text-align: right;\">\n",
       "      <th></th>\n",
       "      <th>Snoring Range</th>\n",
       "      <th>Respiration Rate</th>\n",
       "      <th>Body Temp</th>\n",
       "      <th>Limb Movement</th>\n",
       "      <th>Blood Oxygen</th>\n",
       "      <th>Eye Movement</th>\n",
       "      <th>Sleeping Hours</th>\n",
       "      <th>Heart Rate</th>\n",
       "      <th>Stress Level</th>\n",
       "    </tr>\n",
       "  </thead>\n",
       "  <tbody>\n",
       "    <tr>\n",
       "      <th>0</th>\n",
       "      <td>93.80</td>\n",
       "      <td>25.680</td>\n",
       "      <td>91.840</td>\n",
       "      <td>16.600</td>\n",
       "      <td>89.840</td>\n",
       "      <td>99.60</td>\n",
       "      <td>1.840</td>\n",
       "      <td>74.20</td>\n",
       "      <td>3</td>\n",
       "    </tr>\n",
       "    <tr>\n",
       "      <th>1</th>\n",
       "      <td>91.64</td>\n",
       "      <td>25.104</td>\n",
       "      <td>91.552</td>\n",
       "      <td>15.880</td>\n",
       "      <td>89.552</td>\n",
       "      <td>98.88</td>\n",
       "      <td>1.552</td>\n",
       "      <td>72.76</td>\n",
       "      <td>3</td>\n",
       "    </tr>\n",
       "    <tr>\n",
       "      <th>2</th>\n",
       "      <td>60.00</td>\n",
       "      <td>20.000</td>\n",
       "      <td>96.000</td>\n",
       "      <td>10.000</td>\n",
       "      <td>95.000</td>\n",
       "      <td>85.00</td>\n",
       "      <td>7.000</td>\n",
       "      <td>60.00</td>\n",
       "      <td>1</td>\n",
       "    </tr>\n",
       "    <tr>\n",
       "      <th>3</th>\n",
       "      <td>85.76</td>\n",
       "      <td>23.536</td>\n",
       "      <td>90.768</td>\n",
       "      <td>13.920</td>\n",
       "      <td>88.768</td>\n",
       "      <td>96.92</td>\n",
       "      <td>0.768</td>\n",
       "      <td>68.84</td>\n",
       "      <td>3</td>\n",
       "    </tr>\n",
       "    <tr>\n",
       "      <th>4</th>\n",
       "      <td>48.12</td>\n",
       "      <td>17.248</td>\n",
       "      <td>97.872</td>\n",
       "      <td>6.496</td>\n",
       "      <td>96.248</td>\n",
       "      <td>72.48</td>\n",
       "      <td>8.248</td>\n",
       "      <td>53.12</td>\n",
       "      <td>0</td>\n",
       "    </tr>\n",
       "  </tbody>\n",
       "</table>\n",
       "</div>"
      ],
      "text/plain": [
       "   Snoring Range  Respiration Rate  Body Temp  Limb Movement  Blood Oxygen  \\\n",
       "0          93.80            25.680     91.840         16.600        89.840   \n",
       "1          91.64            25.104     91.552         15.880        89.552   \n",
       "2          60.00            20.000     96.000         10.000        95.000   \n",
       "3          85.76            23.536     90.768         13.920        88.768   \n",
       "4          48.12            17.248     97.872          6.496        96.248   \n",
       "\n",
       "   Eye Movement  Sleeping Hours  Heart Rate  Stress Level  \n",
       "0         99.60           1.840       74.20             3  \n",
       "1         98.88           1.552       72.76             3  \n",
       "2         85.00           7.000       60.00             1  \n",
       "3         96.92           0.768       68.84             3  \n",
       "4         72.48           8.248       53.12             0  "
      ]
     },
     "execution_count": 4,
     "metadata": {},
     "output_type": "execute_result"
    }
   ],
   "source": [
    "dataset = dataset.rename(columns={\"sr\" : \"Snoring Range\", \"rr\" : \"Respiration Rate\", \"t\": \"Body Temp\", \"lm\" : \"Limb Movement\",\n",
    "                       \"bo\" : \"Blood Oxygen\", \"rem\" : \"Eye Movement\", \"sr.1\" : \"Sleeping Hours\", \"hr\" : \"Heart Rate\", \"sl\" : \"Stress Level\"})\n",
    "\n",
    "dataset.head()"
   ]
  },
  {
   "cell_type": "markdown",
   "id": "c61a2249",
   "metadata": {
    "papermill": {
     "duration": 0.064389,
     "end_time": "2022-03-31T14:26:20.184431",
     "exception": false,
     "start_time": "2022-03-31T14:26:20.120042",
     "status": "completed"
    },
    "tags": []
   },
   "source": [
    "# Show distribution of the categories"
   ]
  },
  {
   "cell_type": "code",
   "execution_count": 5,
   "id": "4346a602",
   "metadata": {
    "execution": {
     "iopub.execute_input": "2022-03-31T14:26:20.397510Z",
     "iopub.status.busy": "2022-03-31T14:26:20.396966Z",
     "iopub.status.idle": "2022-03-31T14:26:20.604260Z",
     "shell.execute_reply": "2022-03-31T14:26:20.604765Z",
     "shell.execute_reply.started": "2022-03-31T14:20:18.894236Z"
    },
    "papermill": {
     "duration": 0.323217,
     "end_time": "2022-03-31T14:26:20.604924",
     "exception": false,
     "start_time": "2022-03-31T14:26:20.281707",
     "status": "completed"
    },
    "tags": []
   },
   "outputs": [
    {
     "data": {
      "text/plain": [
       "Text(0, 0.5, 'Counts')"
      ]
     },
     "execution_count": 5,
     "metadata": {},
     "output_type": "execute_result"
    },
    {
     "data": {
      "image/png": "[encoded data removed]",
      "text/plain": [
       "<Figure size 432x432 with 1 Axes>"
      ]
     },
     "metadata": {
      "needs_background": "light"
     },
     "output_type": "display_data"
    }
   ],
   "source": [
    "stress_0 = dataset[dataset[\"Stress Level\"] == 0]\n",
    "stress_1 = dataset[dataset[\"Stress Level\"] == 1]\n",
    "stress_2 = dataset[dataset[\"Stress Level\"] == 2]\n",
    "stress_3 = dataset[dataset[\"Stress Level\"] == 3]\n",
    "stress_4 = dataset[dataset[\"Stress Level\"] == 4]\n",
    "\n",
    "stress_level_categories = [\"Level 0\", \"Level 1\", \"Level 2\", \"Level 3\", \"Level 4\"]\n",
    "\n",
    "stress_level_distribution = [len(stress_0), len(stress_1), len(stress_2), len(stress_3), len(stress_4)]\n",
    "\n",
    "plt.figure(figsize=[6, 6])\n",
    "sns.barplot(x=stress_level_categories, y=stress_level_distribution)\n",
    "\n",
    "plt.title(\"Stress Level Categories and Their Counts\")\n",
    "plt.ylabel(\"Counts\")"
   ]
  },
  {
   "cell_type": "markdown",
   "id": "8e56c54a",
   "metadata": {
    "papermill": {
     "duration": 0.097387,
     "end_time": "2022-03-31T14:26:20.799401",
     "exception": false,
     "start_time": "2022-03-31T14:26:20.702014",
     "status": "completed"
    },
    "tags": []
   },
   "source": [
    "# Exploratory Data Analysis (plot average sleep for each category with seaborn barplot)"
   ]
  },
  {
   "cell_type": "code",
   "execution_count": 6,
   "id": "85bb28e9",
   "metadata": {
    "execution": {
     "iopub.execute_input": "2022-03-31T14:26:21.019158Z",
     "iopub.status.busy": "2022-03-31T14:26:21.014386Z",
     "iopub.status.idle": "2022-03-31T14:26:21.182712Z",
     "shell.execute_reply": "2022-03-31T14:26:21.182213Z",
     "shell.execute_reply.started": "2022-03-31T14:20:19.138095Z"
    },
    "papermill": {
     "duration": 0.285388,
     "end_time": "2022-03-31T14:26:21.182841",
     "exception": false,
     "start_time": "2022-03-31T14:26:20.897453",
     "status": "completed"
    },
    "tags": []
   },
   "outputs": [
    {
     "data": {
      "text/plain": [
       "Text(0, 0.5, 'Average Hours of Sleep')"
      ]
     },
     "execution_count": 6,
     "metadata": {},
     "output_type": "execute_result"
    },
    {
     "data": {
      "image/png": "[encoded data removed]",
      "text/plain": [
       "<Figure size 504x432 with 1 Axes>"
      ]
     },
     "metadata": {
      "needs_background": "light"
     },
     "output_type": "display_data"
    }
   ],
   "source": [
    "stress_0_sleep = np.mean(stress_0[\"Sleeping Hours\"])\n",
    "stress_1_sleep = np.mean(stress_1[\"Sleeping Hours\"])\n",
    "stress_2_sleep = np.mean(stress_2[\"Sleeping Hours\"])\n",
    "stress_3_sleep = np.mean(stress_3[\"Sleeping Hours\"])\n",
    "stress_4_sleep = np.mean(stress_4[\"Sleeping Hours\"])\n",
    "\n",
    "sleep_per_stress_level = [stress_0_sleep, stress_1_sleep, stress_2_sleep, stress_3_sleep, stress_4_sleep]\n",
    "\n",
    "plt.figure(figsize=[7, 6])\n",
    "plt.title(\"Average Hours Slept and Stress\")\n",
    "sns.barplot(x=stress_level_categories, y=sleep_per_stress_level)\n",
    "\n",
    "plt.ylabel(\"Average Hours of Sleep\")"
   ]
  },
  {
   "cell_type": "markdown",
   "id": "3fcaa8b0",
   "metadata": {
    "papermill": {
     "duration": 0.098746,
     "end_time": "2022-03-31T14:26:21.379569",
     "exception": false,
     "start_time": "2022-03-31T14:26:21.280823",
     "status": "completed"
    },
    "tags": []
   },
   "source": [
    "# Correlation heatmap sns.heatmap(df.corr())"
   ]
  },
  {
   "cell_type": "code",
   "execution_count": 7,
   "id": "70def75c",
   "metadata": {
    "execution": {
     "iopub.execute_input": "2022-03-31T14:26:21.515221Z",
     "iopub.status.busy": "2022-03-31T14:26:21.514557Z",
     "iopub.status.idle": "2022-03-31T14:26:22.115807Z",
     "shell.execute_reply": "2022-03-31T14:26:22.115340Z",
     "shell.execute_reply.started": "2022-03-31T14:20:19.382041Z"
    },
    "papermill": {
     "duration": 0.669495,
     "end_time": "2022-03-31T14:26:22.115920",
     "exception": false,
     "start_time": "2022-03-31T14:26:21.446425",
     "status": "completed"
    },
    "tags": []
   },
   "outputs": [
    {
     "data": {
      "text/plain": [
       "<AxesSubplot:>"
      ]
     },
     "execution_count": 7,
     "metadata": {},
     "output_type": "execute_result"
    },
    {
     "data": {
      "image/png": "[encoded data removed]",
      "text/plain": [
       "<Figure size 504x432 with 2 Axes>"
      ]
     },
     "metadata": {
      "needs_background": "light"
     },
     "output_type": "display_data"
    }
   ],
   "source": [
    "plt.figure(figsize=[7, 6])\n",
    "sns.heatmap(dataset.corr(), annot=True)"
   ]
  },
  {
   "cell_type": "markdown",
   "id": "69c1cd09",
   "metadata": {
    "papermill": {
     "duration": 0.067659,
     "end_time": "2022-03-31T14:26:22.251716",
     "exception": false,
     "start_time": "2022-03-31T14:26:22.184057",
     "status": "completed"
    },
    "tags": []
   },
   "source": [
    "# Snoring range, limb movement, and sleeping hours have the highest correlations, including both positive and negative. The paper mentioned snoring range being an important feature to use."
   ]
  },
  {
   "cell_type": "code",
   "execution_count": 8,
   "id": "e470f85f",
   "metadata": {
    "execution": {
     "iopub.execute_input": "2022-03-31T14:26:22.397135Z",
     "iopub.status.busy": "2022-03-31T14:26:22.396634Z",
     "iopub.status.idle": "2022-03-31T14:26:22.671470Z",
     "shell.execute_reply": "2022-03-31T14:26:22.671960Z",
     "shell.execute_reply.started": "2022-03-31T14:20:20.154380Z"
    },
    "papermill": {
     "duration": 0.351889,
     "end_time": "2022-03-31T14:26:22.672161",
     "exception": false,
     "start_time": "2022-03-31T14:26:22.320272",
     "status": "completed"
    },
    "tags": []
   },
   "outputs": [
    {
     "data": {
      "text/plain": [
       "<AxesSubplot:xlabel='Limb Movement', ylabel='Density'>"
      ]
     },
     "execution_count": 8,
     "metadata": {},
     "output_type": "execute_result"
    },
    {
     "data": {
      "image/png": "[encoded data removed]",
      "text/plain": [
       "<Figure size 504x432 with 1 Axes>"
      ]
     },
     "metadata": {
      "needs_background": "light"
     },
     "output_type": "display_data"
    }
   ],
   "source": [
    "plt.figure(figsize=(7, 6))\n",
    "sns.kdeplot(data=dataset, x=\"Limb Movement\", hue=\"Stress Level\")"
   ]
  },
  {
   "cell_type": "markdown",
   "id": "ff48eb9c",
   "metadata": {
    "papermill": {
     "duration": 0.068948,
     "end_time": "2022-03-31T14:26:22.820763",
     "exception": false,
     "start_time": "2022-03-31T14:26:22.751815",
     "status": "completed"
    },
    "tags": []
   },
   "source": [
    "# KDEPLOT shows high limb movement equals high stress."
   ]
  },
  {
   "cell_type": "code",
   "execution_count": 9,
   "id": "19da63c6",
   "metadata": {
    "execution": {
     "iopub.execute_input": "2022-03-31T14:26:22.979917Z",
     "iopub.status.busy": "2022-03-31T14:26:22.967608Z",
     "iopub.status.idle": "2022-03-31T14:26:23.121605Z",
     "shell.execute_reply": "2022-03-31T14:26:23.122073Z",
     "shell.execute_reply.started": "2022-03-31T14:20:20.478751Z"
    },
    "papermill": {
     "duration": 0.231369,
     "end_time": "2022-03-31T14:26:23.122250",
     "exception": false,
     "start_time": "2022-03-31T14:26:22.890881",
     "status": "completed"
    },
    "tags": []
   },
   "outputs": [
    {
     "data": {
      "text/plain": [
       "Text(0, 0.5, 'Body Temperature (F)')"
      ]
     },
     "execution_count": 9,
     "metadata": {},
     "output_type": "execute_result"
    },
    {
     "data": {
      "image/png": "[encoded data removed]",
      "text/plain": [
       "<Figure size 504x432 with 1 Axes>"
      ]
     },
     "metadata": {
      "needs_background": "light"
     },
     "output_type": "display_data"
    }
   ],
   "source": [
    "body_temps = [stress_0[\"Body Temp\"].mean(), stress_1[\"Body Temp\"].mean(), stress_2[\"Body Temp\"].mean(), stress_3[\"Body Temp\"].mean(), stress_4[\"Body Temp\"].mean()]\n",
    "\n",
    "\n",
    "plt.figure(figsize=[7, 6])\n",
    "plt.title(\"Body Temps and Stress Levels\")\n",
    "sns.barplot(x=stress_level_categories, y=body_temps)\n",
    "plt.ylabel(\"Body Temperature (F)\")"
   ]
  },
  {
   "cell_type": "markdown",
   "id": "a46bce3c",
   "metadata": {
    "papermill": {
     "duration": 0.06856,
     "end_time": "2022-03-31T14:26:23.261834",
     "exception": false,
     "start_time": "2022-03-31T14:26:23.193274",
     "status": "completed"
    },
    "tags": []
   },
   "source": [
    "# As stress increases, body temperature decreases."
   ]
  },
  {
   "cell_type": "markdown",
   "id": "fea782dd",
   "metadata": {
    "papermill": {
     "duration": 0.068169,
     "end_time": "2022-03-31T14:26:23.399200",
     "exception": false,
     "start_time": "2022-03-31T14:26:23.331031",
     "status": "completed"
    },
    "tags": []
   },
   "source": [
    "# "
   ]
  },
  {
   "cell_type": "markdown",
   "id": "dc136d2b",
   "metadata": {
    "papermill": {
     "duration": 0.068834,
     "end_time": "2022-03-31T14:26:23.538061",
     "exception": false,
     "start_time": "2022-03-31T14:26:23.469227",
     "status": "completed"
    },
    "tags": []
   },
   "source": [
    "# train test split to get X_train, X_test, y_train, y_test. Check distribution after split."
   ]
  },
  {
   "cell_type": "code",
   "execution_count": 10,
   "id": "5eea36dc",
   "metadata": {
    "execution": {
     "iopub.execute_input": "2022-03-31T14:26:23.683868Z",
     "iopub.status.busy": "2022-03-31T14:26:23.683174Z",
     "iopub.status.idle": "2022-03-31T14:26:23.876346Z",
     "shell.execute_reply": "2022-03-31T14:26:23.875920Z",
     "shell.execute_reply.started": "2022-03-31T14:20:20.656337Z"
    },
    "papermill": {
     "duration": 0.266742,
     "end_time": "2022-03-31T14:26:23.876457",
     "exception": false,
     "start_time": "2022-03-31T14:26:23.609715",
     "status": "completed"
    },
    "tags": []
   },
   "outputs": [],
   "source": [
    "from sklearn.model_selection import train_test_split\n",
    "\n",
    "np_dataset = dataset.to_numpy()\n",
    "all_x = np_dataset[:,0:8]\n",
    "all_y = np_dataset[:,8]\n",
    "\n",
    "features = [\"Snoring Rate\",\"Respiration Rate\",\"Body Temp\",\"Limb Movement\",\"Blood Oxygen\",\"Eye Movement\",\"Sleeping Hours\",\"Heart Rate\"]\n",
    "\n",
    "train_x, test_x, train_y, test_y = train_test_split(all_x, all_y, test_size=.33, random_state=1)"
   ]
  },
  {
   "cell_type": "markdown",
   "id": "af96e27b",
   "metadata": {
    "papermill": {
     "duration": 0.071014,
     "end_time": "2022-03-31T14:26:24.017600",
     "exception": false,
     "start_time": "2022-03-31T14:26:23.946586",
     "status": "completed"
    },
    "tags": []
   },
   "source": [
    "# Train RandomForest Classifier and Predict"
   ]
  },
  {
   "cell_type": "code",
   "execution_count": 11,
   "id": "0d2fcf61",
   "metadata": {
    "execution": {
     "iopub.execute_input": "2022-03-31T14:26:24.160843Z",
     "iopub.status.busy": "2022-03-31T14:26:24.158750Z",
     "iopub.status.idle": "2022-03-31T14:26:24.553856Z",
     "shell.execute_reply": "2022-03-31T14:26:24.553373Z",
     "shell.execute_reply.started": "2022-03-31T14:20:20.670978Z"
    },
    "papermill": {
     "duration": 0.466775,
     "end_time": "2022-03-31T14:26:24.553969",
     "exception": false,
     "start_time": "2022-03-31T14:26:24.087194",
     "status": "completed"
    },
    "tags": []
   },
   "outputs": [],
   "source": [
    "from sklearn.ensemble import RandomForestClassifier\n",
    "\n",
    "rf_start = time.time()\n",
    "RFmodel = RandomForestClassifier(random_state=1)\n",
    "RFmodel.fit(train_x, train_y)\n",
    "RF_pred_y = RFmodel.predict(test_x)\n",
    "rf_stop = time.time()"
   ]
  },
  {
   "cell_type": "markdown",
   "id": "6b6311d8",
   "metadata": {
    "papermill": {
     "duration": 0.069423,
     "end_time": "2022-03-31T14:26:24.695137",
     "exception": false,
     "start_time": "2022-03-31T14:26:24.625714",
     "status": "completed"
    },
    "tags": []
   },
   "source": [
    "# Train Gradient Boosting Classifier and Predict"
   ]
  },
  {
   "cell_type": "code",
   "execution_count": 12,
   "id": "2ac10048",
   "metadata": {
    "execution": {
     "iopub.execute_input": "2022-03-31T14:26:24.836061Z",
     "iopub.status.busy": "2022-03-31T14:26:24.835605Z",
     "iopub.status.idle": "2022-03-31T14:26:25.455419Z",
     "shell.execute_reply": "2022-03-31T14:26:25.454801Z",
     "shell.execute_reply.started": "2022-03-31T14:20:20.885206Z"
    },
    "papermill": {
     "duration": 0.691372,
     "end_time": "2022-03-31T14:26:25.455560",
     "exception": false,
     "start_time": "2022-03-31T14:26:24.764188",
     "status": "completed"
    },
    "tags": []
   },
   "outputs": [],
   "source": [
    "from sklearn.ensemble import GradientBoostingClassifier\n",
    "\n",
    "gbc_start = time.time()\n",
    "GBCmodel = GradientBoostingClassifier(random_state=1)\n",
    "GBCmodel.fit(train_x, train_y)\n",
    "GBC_pred_y = GBCmodel.predict(test_x)\n",
    "gbc_stop = time.time()"
   ]
  },
  {
   "cell_type": "markdown",
   "id": "04427a9f",
   "metadata": {
    "papermill": {
     "duration": 0.068826,
     "end_time": "2022-03-31T14:26:25.630221",
     "exception": false,
     "start_time": "2022-03-31T14:26:25.561395",
     "status": "completed"
    },
    "tags": []
   },
   "source": [
    "# Train XGBoost Classifier and Predict"
   ]
  },
  {
   "cell_type": "code",
   "execution_count": 13,
   "id": "a215a90d",
   "metadata": {
    "execution": {
     "iopub.execute_input": "2022-03-31T14:26:25.774744Z",
     "iopub.status.busy": "2022-03-31T14:26:25.772241Z",
     "iopub.status.idle": "2022-03-31T14:26:26.433945Z",
     "shell.execute_reply": "2022-03-31T14:26:26.434407Z",
     "shell.execute_reply.started": "2022-03-31T14:20:21.442621Z"
    },
    "papermill": {
     "duration": 0.73472,
     "end_time": "2022-03-31T14:26:26.434553",
     "exception": false,
     "start_time": "2022-03-31T14:26:25.699833",
     "status": "completed"
    },
    "tags": []
   },
   "outputs": [
    {
     "name": "stdout",
     "output_type": "stream",
     "text": [
      "[14:26:26] WARNING: ../src/learner.cc:1115: Starting in XGBoost 1.3.0, the default evaluation metric used with the objective 'multi:softprob' was changed from 'merror' to 'mlogloss'. Explicitly set eval_metric if you'd like to restore the old behavior.\n"
     ]
    }
   ],
   "source": [
    "import xgboost as xgb\n",
    "\n",
    "xgb_start = time.time()\n",
    "XGBmodel = xgb.XGBClassifier(random_state=1)\n",
    "XGBmodel.fit(train_x, train_y)\n",
    "XGB_pred_y = XGBmodel.predict(test_x)\n",
    "xgb_stop = time.time()"
   ]
  },
  {
   "cell_type": "markdown",
   "id": "a9882e71",
   "metadata": {
    "papermill": {
     "duration": 0.073134,
     "end_time": "2022-03-31T14:26:26.580965",
     "exception": false,
     "start_time": "2022-03-31T14:26:26.507831",
     "status": "completed"
    },
    "tags": []
   },
   "source": [
    "# Train MLP and Predict"
   ]
  },
  {
   "cell_type": "code",
   "execution_count": 14,
   "id": "a0b3a43d",
   "metadata": {
    "execution": {
     "iopub.execute_input": "2022-03-31T14:26:26.753504Z",
     "iopub.status.busy": "2022-03-31T14:26:26.752764Z",
     "iopub.status.idle": "2022-03-31T14:26:27.119746Z",
     "shell.execute_reply": "2022-03-31T14:26:27.119259Z",
     "shell.execute_reply.started": "2022-03-31T14:20:21.892342Z"
    },
    "papermill": {
     "duration": 0.450885,
     "end_time": "2022-03-31T14:26:27.119859",
     "exception": false,
     "start_time": "2022-03-31T14:26:26.668974",
     "status": "completed"
    },
    "tags": []
   },
   "outputs": [],
   "source": [
    "from sklearn.neural_network import MLPClassifier\n",
    "\n",
    "mlp_start = time.time()\n",
    "mlp_class = MLPClassifier(random_state=1)\n",
    "mlp_class.fit(train_x, train_y)\n",
    "MLP_pred_y = mlp_class.predict(test_x)\n",
    "mlp_stop = time.time()"
   ]
  },
  {
   "cell_type": "markdown",
   "id": "0dab4a1c",
   "metadata": {
    "papermill": {
     "duration": 0.069164,
     "end_time": "2022-03-31T14:26:27.258688",
     "exception": false,
     "start_time": "2022-03-31T14:26:27.189524",
     "status": "completed"
    },
    "tags": []
   },
   "source": [
    "# cross validation of models"
   ]
  },
  {
   "cell_type": "code",
   "execution_count": 15,
   "id": "9bee33f7",
   "metadata": {
    "execution": {
     "iopub.execute_input": "2022-03-31T14:26:27.406012Z",
     "iopub.status.busy": "2022-03-31T14:26:27.402370Z",
     "iopub.status.idle": "2022-03-31T14:26:37.823967Z",
     "shell.execute_reply": "2022-03-31T14:26:37.824504Z",
     "shell.execute_reply.started": "2022-03-31T14:20:22.358068Z"
    },
    "papermill": {
     "duration": 10.496721,
     "end_time": "2022-03-31T14:26:37.824691",
     "exception": false,
     "start_time": "2022-03-31T14:26:27.327970",
     "status": "completed"
    },
    "tags": []
   },
   "outputs": [
    {
     "name": "stdout",
     "output_type": "stream",
     "text": [
      "[14:26:31] WARNING: ../src/learner.cc:1115: Starting in XGBoost 1.3.0, the default evaluation metric used with the objective 'multi:softprob' was changed from 'merror' to 'mlogloss'. Explicitly set eval_metric if you'd like to restore the old behavior.\n",
      "[14:26:32] WARNING: ../src/learner.cc:1115: Starting in XGBoost 1.3.0, the default evaluation metric used with the objective 'multi:softprob' was changed from 'merror' to 'mlogloss'. Explicitly set eval_metric if you'd like to restore the old behavior.\n",
      "[14:26:32] WARNING: ../src/learner.cc:1115: Starting in XGBoost 1.3.0, the default evaluation metric used with the objective 'multi:softprob' was changed from 'merror' to 'mlogloss'. Explicitly set eval_metric if you'd like to restore the old behavior.\n",
      "[14:26:33] WARNING: ../src/learner.cc:1115: Starting in XGBoost 1.3.0, the default evaluation metric used with the objective 'multi:softprob' was changed from 'merror' to 'mlogloss'. Explicitly set eval_metric if you'd like to restore the old behavior.\n",
      "[14:26:34] WARNING: ../src/learner.cc:1115: Starting in XGBoost 1.3.0, the default evaluation metric used with the objective 'multi:softprob' was changed from 'merror' to 'mlogloss'. Explicitly set eval_metric if you'd like to restore the old behavior.\n",
      "[14:26:34] WARNING: ../src/learner.cc:1115: Starting in XGBoost 1.3.0, the default evaluation metric used with the objective 'multi:softprob' was changed from 'merror' to 'mlogloss'. Explicitly set eval_metric if you'd like to restore the old behavior.\n",
      "[14:26:34] WARNING: ../src/learner.cc:1115: Starting in XGBoost 1.3.0, the default evaluation metric used with the objective 'multi:softprob' was changed from 'merror' to 'mlogloss'. Explicitly set eval_metric if you'd like to restore the old behavior.\n",
      "[14:26:35] WARNING: ../src/learner.cc:1115: Starting in XGBoost 1.3.0, the default evaluation metric used with the objective 'multi:softprob' was changed from 'merror' to 'mlogloss'. Explicitly set eval_metric if you'd like to restore the old behavior.\n",
      "[14:26:35] WARNING: ../src/learner.cc:1115: Starting in XGBoost 1.3.0, the default evaluation metric used with the objective 'multi:softprob' was changed from 'merror' to 'mlogloss'. Explicitly set eval_metric if you'd like to restore the old behavior.\n",
      "[14:26:35] WARNING: ../src/learner.cc:1115: Starting in XGBoost 1.3.0, the default evaluation metric used with the objective 'multi:softprob' was changed from 'merror' to 'mlogloss'. Explicitly set eval_metric if you'd like to restore the old behavior.\n"
     ]
    }
   ],
   "source": [
    "from sklearn.model_selection import cross_validate\n",
    "\n",
    "rf_cross_val = cross_validate(estimator=RFmodel, X=test_x, y=test_y, cv=10)\n",
    "gbc_cross_val = cross_validate(estimator=GBCmodel, X=test_x, y=test_y, cv=10)\n",
    "xgb_cross_val = cross_validate(estimator=XGBmodel, X=test_x, y=test_y, cv=10)\n",
    "mlp_cross_val = cross_validate(estimator=mlp_class, X=test_x, y=test_y, cv=10)"
   ]
  },
  {
   "cell_type": "markdown",
   "id": "e8423299",
   "metadata": {
    "papermill": {
     "duration": 0.11042,
     "end_time": "2022-03-31T14:26:38.047451",
     "exception": false,
     "start_time": "2022-03-31T14:26:37.937031",
     "status": "completed"
    },
    "tags": []
   },
   "source": [
    "# Accuracies from Cross Validation"
   ]
  },
  {
   "cell_type": "code",
   "execution_count": 16,
   "id": "4ea9bb23",
   "metadata": {
    "execution": {
     "iopub.execute_input": "2022-03-31T14:26:38.270386Z",
     "iopub.status.busy": "2022-03-31T14:26:38.269775Z",
     "iopub.status.idle": "2022-03-31T14:26:38.273713Z",
     "shell.execute_reply": "2022-03-31T14:26:38.274260Z",
     "shell.execute_reply.started": "2022-03-31T14:20:33.939898Z"
    },
    "papermill": {
     "duration": 0.117696,
     "end_time": "2022-03-31T14:26:38.274415",
     "exception": false,
     "start_time": "2022-03-31T14:26:38.156719",
     "status": "completed"
    },
    "tags": []
   },
   "outputs": [],
   "source": [
    "RF_acc =  rf_cross_val[\"test_score\"].mean() * 100\n",
    "GBC_acc =  gbc_cross_val[\"test_score\"].mean() * 100\n",
    "XGB_acc =  xgb_cross_val[\"test_score\"].mean() * 100\n",
    "MLP_acc = mlp_cross_val[\"test_score\"].mean() * 100"
   ]
  },
  {
   "cell_type": "code",
   "execution_count": 17,
   "id": "91e53fb2",
   "metadata": {
    "execution": {
     "iopub.execute_input": "2022-03-31T14:26:38.499998Z",
     "iopub.status.busy": "2022-03-31T14:26:38.499348Z",
     "iopub.status.idle": "2022-03-31T14:26:38.502064Z",
     "shell.execute_reply": "2022-03-31T14:26:38.502587Z",
     "shell.execute_reply.started": "2022-03-31T14:20:33.946516Z"
    },
    "papermill": {
     "duration": 0.116421,
     "end_time": "2022-03-31T14:26:38.502760",
     "exception": false,
     "start_time": "2022-03-31T14:26:38.386339",
     "status": "completed"
    },
    "tags": []
   },
   "outputs": [],
   "source": [
    "from sklearn.metrics import accuracy_score"
   ]
  },
  {
   "cell_type": "markdown",
   "id": "51552e42",
   "metadata": {
    "papermill": {
     "duration": 0.113515,
     "end_time": "2022-03-31T14:26:38.727070",
     "exception": false,
     "start_time": "2022-03-31T14:26:38.613555",
     "status": "completed"
    },
    "tags": []
   },
   "source": [
    "# baseline of mode and random off of entire datset"
   ]
  },
  {
   "cell_type": "code",
   "execution_count": 18,
   "id": "e81ae1fa",
   "metadata": {
    "execution": {
     "iopub.execute_input": "2022-03-31T14:26:38.950175Z",
     "iopub.status.busy": "2022-03-31T14:26:38.949567Z",
     "iopub.status.idle": "2022-03-31T14:26:39.051195Z",
     "shell.execute_reply": "2022-03-31T14:26:39.050534Z",
     "shell.execute_reply.started": "2022-03-31T14:20:33.961243Z"
    },
    "papermill": {
     "duration": 0.213419,
     "end_time": "2022-03-31T14:26:39.051330",
     "exception": false,
     "start_time": "2022-03-31T14:26:38.837911",
     "status": "completed"
    },
    "tags": []
   },
   "outputs": [],
   "source": [
    "import random\n",
    "from scipy import stats\n",
    "\n",
    "random.randint(0,4)\n",
    "y_shape = np.array(all_y.shape)\n",
    "\n",
    "random_guess_baseline = np.sum(all_y == [random.randint(0,4) for i in range(all_y.shape[0])]) / all_y.shape[0] * 100\n",
    "mode_baseline = np.sum(all_y == [stats.mode(train_y)[0][0] for i in range(all_y.shape[0])]) / all_y.shape[0] * 100\n",
    "median_baseline = np.sum(all_y == [np.median(train_y) for i in range(all_y.shape[0])]) / all_y.shape[0] * 100"
   ]
  },
  {
   "cell_type": "code",
   "execution_count": 19,
   "id": "165540a0",
   "metadata": {
    "execution": {
     "iopub.execute_input": "2022-03-31T14:26:39.280430Z",
     "iopub.status.busy": "2022-03-31T14:26:39.279819Z",
     "iopub.status.idle": "2022-03-31T14:26:39.281017Z",
     "shell.execute_reply": "2022-03-31T14:26:39.281612Z",
     "shell.execute_reply.started": "2022-03-31T14:20:34.083560Z"
    },
    "papermill": {
     "duration": 0.119154,
     "end_time": "2022-03-31T14:26:39.281759",
     "exception": false,
     "start_time": "2022-03-31T14:26:39.162605",
     "status": "completed"
    },
    "tags": []
   },
   "outputs": [],
   "source": [
    "models = [\"Random Forest Classifier\", \"Gradient Boosting Classifier\", \"XGBoost Classifier\", \"MLP Classifier\", \"Random guessing\",\"Mode guessing\",\"Median guessing\"]\n",
    "accuracies = [RF_acc, GBC_acc, XGB_acc, MLP_acc, random_guess_baseline, mode_baseline, median_baseline]"
   ]
  },
  {
   "cell_type": "markdown",
   "id": "b9b3131a",
   "metadata": {
    "papermill": {
     "duration": 0.108638,
     "end_time": "2022-03-31T14:26:39.499302",
     "exception": false,
     "start_time": "2022-03-31T14:26:39.390664",
     "status": "completed"
    },
    "tags": []
   },
   "source": [
    "# plot Accuracies"
   ]
  },
  {
   "cell_type": "code",
   "execution_count": 20,
   "id": "997ec914",
   "metadata": {
    "execution": {
     "iopub.execute_input": "2022-03-31T14:26:39.723166Z",
     "iopub.status.busy": "2022-03-31T14:26:39.722462Z",
     "iopub.status.idle": "2022-03-31T14:26:39.940055Z",
     "shell.execute_reply": "2022-03-31T14:26:39.940538Z",
     "shell.execute_reply.started": "2022-03-31T14:20:34.091618Z"
    },
    "papermill": {
     "duration": 0.33192,
     "end_time": "2022-03-31T14:26:39.940702",
     "exception": false,
     "start_time": "2022-03-31T14:26:39.608782",
     "status": "completed"
    },
    "tags": []
   },
   "outputs": [
    {
     "data": {
      "image/png": "[encoded data removed]",
      "text/plain": [
       "<Figure size 1512x648 with 1 Axes>"
      ]
     },
     "metadata": {
      "needs_background": "light"
     },
     "output_type": "display_data"
    }
   ],
   "source": [
    "plt.figure(figsize=[21, 9])\n",
    "sns.barplot(x=models, y=accuracies)\n",
    "plt.title(\"Accuracy on testing data\", fontsize=30)\n",
    "plt.ylabel(\"Accuracy\", fontsize=22)\n",
    "plt.xlabel(\"Model\", fontsize=22)\n",
    "xlocs=[i+1 for i in range(0,10)]\n",
    "for i, j in enumerate(accuracies):\n",
    "    acc_pct = \"{:.2f}\".format(j)\n",
    "    plt.text(xlocs[i] - 1.1, j+1, str(acc_pct)+'%')"
   ]
  },
  {
   "cell_type": "markdown",
   "id": "fdf037a7",
   "metadata": {
    "papermill": {
     "duration": 0.11098,
     "end_time": "2022-03-31T14:26:40.162542",
     "exception": false,
     "start_time": "2022-03-31T14:26:40.051562",
     "status": "completed"
    },
    "tags": []
   },
   "source": [
    "# Feature Importances"
   ]
  },
  {
   "cell_type": "code",
   "execution_count": 21,
   "id": "a620eb8a",
   "metadata": {
    "execution": {
     "iopub.execute_input": "2022-03-31T14:26:40.337686Z",
     "iopub.status.busy": "2022-03-31T14:26:40.337091Z",
     "iopub.status.idle": "2022-03-31T14:26:40.341154Z",
     "shell.execute_reply": "2022-03-31T14:26:40.341572Z",
     "shell.execute_reply.started": "2022-03-31T14:20:34.400948Z"
    },
    "papermill": {
     "duration": 0.081339,
     "end_time": "2022-03-31T14:26:40.341717",
     "exception": false,
     "start_time": "2022-03-31T14:26:40.260378",
     "status": "completed"
    },
    "tags": []
   },
   "outputs": [],
   "source": [
    "def toString(list):\n",
    "    newList = []\n",
    "    for i in range(len(list)):\n",
    "        a = \"{:.4f}\".format(list[i])\n",
    "        if a == \"0.0000\":\n",
    "            continue\n",
    "        newList.insert(i, round(float(a) * 100, 2))\n",
    "    return newList"
   ]
  },
  {
   "cell_type": "code",
   "execution_count": 22,
   "id": "fe83edf9",
   "metadata": {
    "execution": {
     "iopub.execute_input": "2022-03-31T14:26:40.490702Z",
     "iopub.status.busy": "2022-03-31T14:26:40.490230Z",
     "iopub.status.idle": "2022-03-31T14:26:40.505357Z",
     "shell.execute_reply": "2022-03-31T14:26:40.505718Z",
     "shell.execute_reply.started": "2022-03-31T14:20:34.408590Z"
    },
    "papermill": {
     "duration": 0.091065,
     "end_time": "2022-03-31T14:26:40.505857",
     "exception": false,
     "start_time": "2022-03-31T14:26:40.414792",
     "status": "completed"
    },
    "tags": []
   },
   "outputs": [],
   "source": [
    "RF_importance = toString((RFmodel.feature_importances_).tolist())\n",
    "GBC_importance = toString((GBCmodel.feature_importances_).tolist())\n",
    "XGB_importance = toString((XGBmodel.feature_importances_).tolist())"
   ]
  },
  {
   "cell_type": "code",
   "execution_count": 23,
   "id": "eb0fe8f6",
   "metadata": {
    "execution": {
     "iopub.execute_input": "2022-03-31T14:26:40.672622Z",
     "iopub.status.busy": "2022-03-31T14:26:40.670658Z",
     "iopub.status.idle": "2022-03-31T14:26:40.821403Z",
     "shell.execute_reply": "2022-03-31T14:26:40.821994Z",
     "shell.execute_reply.started": "2022-03-31T14:20:34.442224Z"
    },
    "papermill": {
     "duration": 0.2423,
     "end_time": "2022-03-31T14:26:40.822167",
     "exception": false,
     "start_time": "2022-03-31T14:26:40.579867",
     "status": "completed"
    },
    "tags": []
   },
   "outputs": [
    {
     "data": {
      "image/png": "[encoded data removed]",
      "text/plain": [
       "<Figure size 360x1728 with 1 Axes>"
      ]
     },
     "metadata": {},
     "output_type": "display_data"
    }
   ],
   "source": [
    "fig, ax = plt.subplots(figsize=(5,24))\n",
    "ax.pie(RF_importance, labels=RF_importance)\n",
    "plt.title('Random Forest: Feature Importance')\n",
    "ax.legend(features[:len(RF_importance)], title='Features',loc='center right', bbox_to_anchor=(1, 0, .5, 1))\n",
    "plt.show()"
   ]
  },
  {
   "cell_type": "code",
   "execution_count": 24,
   "id": "137bda0f",
   "metadata": {
    "execution": {
     "iopub.execute_input": "2022-03-31T14:26:40.980656Z",
     "iopub.status.busy": "2022-03-31T14:26:40.980213Z",
     "iopub.status.idle": "2022-03-31T14:26:41.112946Z",
     "shell.execute_reply": "2022-03-31T14:26:41.113414Z",
     "shell.execute_reply.started": "2022-03-31T14:20:34.659421Z"
    },
    "papermill": {
     "duration": 0.205894,
     "end_time": "2022-03-31T14:26:41.113561",
     "exception": false,
     "start_time": "2022-03-31T14:26:40.907667",
     "status": "completed"
    },
    "tags": []
   },
   "outputs": [
    {
     "data": {
      "image/png": "[encoded data removed]",
      "text/plain": [
       "<Figure size 360x1728 with 1 Axes>"
      ]
     },
     "metadata": {},
     "output_type": "display_data"
    }
   ],
   "source": [
    "fig, ax = plt.subplots(figsize=(5,24))\n",
    "ax.pie(GBC_importance, labels=GBC_importance)\n",
    "plt.title('Gradient Boosting Classifier: Feature Importance')\n",
    "ax.legend(features[:len(GBC_importance)], title='Features',loc='center right', bbox_to_anchor=(1, 0, .5, 1))\n",
    "plt.show()"
   ]
  },
  {
   "cell_type": "code",
   "execution_count": 25,
   "id": "cde650c2",
   "metadata": {
    "execution": {
     "iopub.execute_input": "2022-03-31T14:26:41.280440Z",
     "iopub.status.busy": "2022-03-31T14:26:41.279918Z",
     "iopub.status.idle": "2022-03-31T14:26:41.359607Z",
     "shell.execute_reply": "2022-03-31T14:26:41.360157Z",
     "shell.execute_reply.started": "2022-03-31T14:20:34.889752Z"
    },
    "papermill": {
     "duration": 0.160438,
     "end_time": "2022-03-31T14:26:41.360317",
     "exception": false,
     "start_time": "2022-03-31T14:26:41.199879",
     "status": "completed"
    },
    "tags": []
   },
   "outputs": [
    {
     "data": {
      "image/png": "[encoded data removed]",
      "text/plain": [
       "<Figure size 360x1728 with 1 Axes>"
      ]
     },
     "metadata": {},
     "output_type": "display_data"
    }
   ],
   "source": [
    "fig, ax = plt.subplots(figsize=(5,24))\n",
    "ax.pie(XGB_importance, labels=XGB_importance)\n",
    "plt.title('XGBoost Classifier: Feature Importance')\n",
    "ax.legend(features[:len(XGB_importance)], title='Features',loc='center right', bbox_to_anchor=(1, 0, .5, 1))\n",
    "plt.show()"
   ]
  },
  {
   "cell_type": "markdown",
   "id": "58aa209e",
   "metadata": {
    "papermill": {
     "duration": 0.077396,
     "end_time": "2022-03-31T14:26:41.534635",
     "exception": false,
     "start_time": "2022-03-31T14:26:41.457239",
     "status": "completed"
    },
    "tags": []
   },
   "source": [
    "# Add synthetic data"
   ]
  },
  {
   "cell_type": "code",
   "execution_count": 26,
   "id": "fae10e3f",
   "metadata": {
    "execution": {
     "iopub.execute_input": "2022-03-31T14:26:41.694006Z",
     "iopub.status.busy": "2022-03-31T14:26:41.693543Z",
     "iopub.status.idle": "2022-03-31T14:27:08.214905Z",
     "shell.execute_reply": "2022-03-31T14:27:08.215567Z",
     "shell.execute_reply.started": "2022-03-31T14:20:35.032438Z"
    },
    "papermill": {
     "duration": 26.602423,
     "end_time": "2022-03-31T14:27:08.215729",
     "exception": false,
     "start_time": "2022-03-31T14:26:41.613306",
     "status": "completed"
    },
    "tags": []
   },
   "outputs": [],
   "source": [
    "from sdv.tabular import CTGAN\n",
    "\n",
    "synthetic = CTGAN()\n",
    "\n",
    "synthetic.fit(dataset)"
   ]
  },
  {
   "cell_type": "code",
   "execution_count": 27,
   "id": "62493973",
   "metadata": {
    "execution": {
     "iopub.execute_input": "2022-03-31T14:27:08.372019Z",
     "iopub.status.busy": "2022-03-31T14:27:08.371557Z",
     "iopub.status.idle": "2022-03-31T14:27:08.430976Z",
     "shell.execute_reply": "2022-03-31T14:27:08.430574Z",
     "shell.execute_reply.started": "2022-03-31T14:20:52.135593Z"
    },
    "papermill": {
     "duration": 0.138208,
     "end_time": "2022-03-31T14:27:08.431087",
     "exception": false,
     "start_time": "2022-03-31T14:27:08.292879",
     "status": "completed"
    },
    "tags": []
   },
   "outputs": [],
   "source": [
    "synth_data = synthetic.sample(num_rows=150)"
   ]
  },
  {
   "cell_type": "code",
   "execution_count": 28,
   "id": "de5b483a",
   "metadata": {
    "execution": {
     "iopub.execute_input": "2022-03-31T14:27:08.592284Z",
     "iopub.status.busy": "2022-03-31T14:27:08.591793Z",
     "iopub.status.idle": "2022-03-31T14:27:08.594491Z",
     "shell.execute_reply": "2022-03-31T14:27:08.594900Z",
     "shell.execute_reply.started": "2022-03-31T14:20:52.204040Z"
    },
    "papermill": {
     "duration": 0.087077,
     "end_time": "2022-03-31T14:27:08.595027",
     "exception": false,
     "start_time": "2022-03-31T14:27:08.507950",
     "status": "completed"
    },
    "tags": []
   },
   "outputs": [],
   "source": [
    "dataset_list = [dataset, synth_data]\n",
    "combined_synth_data = pd.concat(dataset_list)"
   ]
  },
  {
   "cell_type": "markdown",
   "id": "d34352c9",
   "metadata": {
    "papermill": {
     "duration": 0.115208,
     "end_time": "2022-03-31T14:27:08.798391",
     "exception": false,
     "start_time": "2022-03-31T14:27:08.683183",
     "status": "completed"
    },
    "tags": []
   },
   "source": [
    "# Only features will be Limb Movement, Snoring Range, and Sleep Hours. (See note below correlation heatmap.)"
   ]
  },
  {
   "cell_type": "code",
   "execution_count": 29,
   "id": "86d1ce24",
   "metadata": {
    "execution": {
     "iopub.execute_input": "2022-03-31T14:27:09.031248Z",
     "iopub.status.busy": "2022-03-31T14:27:09.029964Z",
     "iopub.status.idle": "2022-03-31T14:27:09.034245Z",
     "shell.execute_reply": "2022-03-31T14:27:09.034818Z",
     "shell.execute_reply.started": "2022-03-31T14:20:52.212875Z"
    },
    "papermill": {
     "duration": 0.121824,
     "end_time": "2022-03-31T14:27:09.034997",
     "exception": false,
     "start_time": "2022-03-31T14:27:08.913173",
     "status": "completed"
    },
    "tags": []
   },
   "outputs": [],
   "source": [
    "non_features = [\"Respiration Rate\", \"Body Temp\", \"Heart Rate\", \"Blood Oxygen\", \"Eye Movement\"]\n",
    "combined_synth_data.drop(non_features, axis=1, inplace=True)"
   ]
  },
  {
   "cell_type": "code",
   "execution_count": 30,
   "id": "d55cd7c9",
   "metadata": {
    "execution": {
     "iopub.execute_input": "2022-03-31T14:27:09.270759Z",
     "iopub.status.busy": "2022-03-31T14:27:09.270144Z",
     "iopub.status.idle": "2022-03-31T14:27:09.273484Z",
     "shell.execute_reply": "2022-03-31T14:27:09.274050Z",
     "shell.execute_reply.started": "2022-03-31T14:20:52.225097Z"
    },
    "papermill": {
     "duration": 0.123523,
     "end_time": "2022-03-31T14:27:09.274225",
     "exception": false,
     "start_time": "2022-03-31T14:27:09.150702",
     "status": "completed"
    },
    "tags": []
   },
   "outputs": [],
   "source": [
    "synth_features = combined_synth_data.columns[:-1]\n",
    "\n",
    "x_train, x_test, y_train, y_test = train_test_split(combined_synth_data[synth_features], combined_synth_data[\"Stress Level\"], random_state=1)"
   ]
  },
  {
   "cell_type": "markdown",
   "id": "d40f8ecb",
   "metadata": {
    "papermill": {
     "duration": 0.116161,
     "end_time": "2022-03-31T14:27:09.505195",
     "exception": false,
     "start_time": "2022-03-31T14:27:09.389034",
     "status": "completed"
    },
    "tags": []
   },
   "source": [
    "# Training and predicting with Random Forest"
   ]
  },
  {
   "cell_type": "code",
   "execution_count": 31,
   "id": "6416e909",
   "metadata": {
    "execution": {
     "iopub.execute_input": "2022-03-31T14:27:09.741394Z",
     "iopub.status.busy": "2022-03-31T14:27:09.740717Z",
     "iopub.status.idle": "2022-03-31T14:27:09.893307Z",
     "shell.execute_reply": "2022-03-31T14:27:09.892687Z",
     "shell.execute_reply.started": "2022-03-31T14:20:52.242639Z"
    },
    "papermill": {
     "duration": 0.272613,
     "end_time": "2022-03-31T14:27:09.893437",
     "exception": false,
     "start_time": "2022-03-31T14:27:09.620824",
     "status": "completed"
    },
    "tags": []
   },
   "outputs": [],
   "source": [
    "rf_start = time.time()\n",
    "RFmodel.fit(x_train, y_train)\n",
    "synth_rf_preds = RFmodel.predict(x_test)\n",
    "rf_stop = time.time()"
   ]
  },
  {
   "cell_type": "markdown",
   "id": "02e0a011",
   "metadata": {
    "papermill": {
     "duration": 0.117022,
     "end_time": "2022-03-31T14:27:10.126724",
     "exception": false,
     "start_time": "2022-03-31T14:27:10.009702",
     "status": "completed"
    },
    "tags": []
   },
   "source": [
    "# Training and predicting with Gradient Boosting Classifier"
   ]
  },
  {
   "cell_type": "code",
   "execution_count": 32,
   "id": "f8646b42",
   "metadata": {
    "execution": {
     "iopub.execute_input": "2022-03-31T14:27:10.366412Z",
     "iopub.status.busy": "2022-03-31T14:27:10.365738Z",
     "iopub.status.idle": "2022-03-31T14:27:11.071128Z",
     "shell.execute_reply": "2022-03-31T14:27:11.070560Z",
     "shell.execute_reply.started": "2022-03-31T14:20:52.468521Z"
    },
    "papermill": {
     "duration": 0.82749,
     "end_time": "2022-03-31T14:27:11.071268",
     "exception": false,
     "start_time": "2022-03-31T14:27:10.243778",
     "status": "completed"
    },
    "tags": []
   },
   "outputs": [],
   "source": [
    "gbc_start = time.time()\n",
    "GBCmodel.fit(x_train, y_train)\n",
    "synth_gbc_preds = GBCmodel.predict(x_test)\n",
    "gbc_stop = time.time()"
   ]
  },
  {
   "cell_type": "markdown",
   "id": "6559d597",
   "metadata": {
    "papermill": {
     "duration": 0.115781,
     "end_time": "2022-03-31T14:27:11.303513",
     "exception": false,
     "start_time": "2022-03-31T14:27:11.187732",
     "status": "completed"
    },
    "tags": []
   },
   "source": [
    "# Training and predicting with XGBoost Classifer"
   ]
  },
  {
   "cell_type": "code",
   "execution_count": 33,
   "id": "da83db90",
   "metadata": {
    "execution": {
     "iopub.execute_input": "2022-03-31T14:27:11.541290Z",
     "iopub.status.busy": "2022-03-31T14:27:11.540047Z",
     "iopub.status.idle": "2022-03-31T14:27:11.998092Z",
     "shell.execute_reply": "2022-03-31T14:27:11.998688Z",
     "shell.execute_reply.started": "2022-03-31T14:20:53.094304Z"
    },
    "papermill": {
     "duration": 0.57904,
     "end_time": "2022-03-31T14:27:11.998861",
     "exception": false,
     "start_time": "2022-03-31T14:27:11.419821",
     "status": "completed"
    },
    "tags": []
   },
   "outputs": [
    {
     "name": "stdout",
     "output_type": "stream",
     "text": [
      "[14:27:11] WARNING: ../src/learner.cc:1115: Starting in XGBoost 1.3.0, the default evaluation metric used with the objective 'multi:softprob' was changed from 'merror' to 'mlogloss'. Explicitly set eval_metric if you'd like to restore the old behavior.\n"
     ]
    }
   ],
   "source": [
    "xgb_start = time.time()\n",
    "XGBmodel.fit(x_train, y_train)\n",
    "synth_xgb_preds = XGBmodel.predict(x_test)\n",
    "xgb_stop = time.time()"
   ]
  },
  {
   "cell_type": "markdown",
   "id": "77a56efb",
   "metadata": {
    "papermill": {
     "duration": 0.113991,
     "end_time": "2022-03-31T14:27:12.228836",
     "exception": false,
     "start_time": "2022-03-31T14:27:12.114845",
     "status": "completed"
    },
    "tags": []
   },
   "source": [
    "# Training and predicting with MLP"
   ]
  },
  {
   "cell_type": "code",
   "execution_count": 34,
   "id": "0b877a75",
   "metadata": {
    "execution": {
     "iopub.execute_input": "2022-03-31T14:27:12.467286Z",
     "iopub.status.busy": "2022-03-31T14:27:12.466603Z",
     "iopub.status.idle": "2022-03-31T14:27:12.900036Z",
     "shell.execute_reply": "2022-03-31T14:27:12.900575Z",
     "shell.execute_reply.started": "2022-03-31T14:20:53.534193Z"
    },
    "papermill": {
     "duration": 0.556428,
     "end_time": "2022-03-31T14:27:12.900754",
     "exception": false,
     "start_time": "2022-03-31T14:27:12.344326",
     "status": "completed"
    },
    "tags": []
   },
   "outputs": [],
   "source": [
    "mlp_start = time.time()\n",
    "mlp_class.fit(x_train, y_train)\n",
    "synth_mlp_preds = mlp_class.predict(x_test)\n",
    "mlp_stop = time.time()"
   ]
  },
  {
   "cell_type": "markdown",
   "id": "09252e84",
   "metadata": {
    "papermill": {
     "duration": 0.115953,
     "end_time": "2022-03-31T14:27:13.133580",
     "exception": false,
     "start_time": "2022-03-31T14:27:13.017627",
     "status": "completed"
    },
    "tags": []
   },
   "source": [
    "# Cross Validation of the 4 models on the synthetic data"
   ]
  },
  {
   "cell_type": "code",
   "execution_count": 35,
   "id": "e33bb570",
   "metadata": {
    "execution": {
     "iopub.execute_input": "2022-03-31T14:27:13.326058Z",
     "iopub.status.busy": "2022-03-31T14:27:13.325574Z",
     "iopub.status.idle": "2022-03-31T14:27:22.395075Z",
     "shell.execute_reply": "2022-03-31T14:27:22.395453Z",
     "shell.execute_reply.started": "2022-03-31T14:20:54.047601Z"
    },
    "papermill": {
     "duration": 9.15027,
     "end_time": "2022-03-31T14:27:22.395594",
     "exception": false,
     "start_time": "2022-03-31T14:27:13.245324",
     "status": "completed"
    },
    "tags": []
   },
   "outputs": [
    {
     "name": "stdout",
     "output_type": "stream",
     "text": [
      "[14:27:17] WARNING: ../src/learner.cc:1115: Starting in XGBoost 1.3.0, the default evaluation metric used with the objective 'multi:softprob' was changed from 'merror' to 'mlogloss'. Explicitly set eval_metric if you'd like to restore the old behavior.\n",
      "[14:27:17] WARNING: ../src/learner.cc:1115: Starting in XGBoost 1.3.0, the default evaluation metric used with the objective 'multi:softprob' was changed from 'merror' to 'mlogloss'. Explicitly set eval_metric if you'd like to restore the old behavior.\n",
      "[14:27:18] WARNING: ../src/learner.cc:1115: Starting in XGBoost 1.3.0, the default evaluation metric used with the objective 'multi:softprob' was changed from 'merror' to 'mlogloss'. Explicitly set eval_metric if you'd like to restore the old behavior.\n",
      "[14:27:18] WARNING: ../src/learner.cc:1115: Starting in XGBoost 1.3.0, the default evaluation metric used with the objective 'multi:softprob' was changed from 'merror' to 'mlogloss'. Explicitly set eval_metric if you'd like to restore the old behavior.\n",
      "[14:27:18] WARNING: ../src/learner.cc:1115: Starting in XGBoost 1.3.0, the default evaluation metric used with the objective 'multi:softprob' was changed from 'merror' to 'mlogloss'. Explicitly set eval_metric if you'd like to restore the old behavior.\n",
      "[14:27:19] WARNING: ../src/learner.cc:1115: Starting in XGBoost 1.3.0, the default evaluation metric used with the objective 'multi:softprob' was changed from 'merror' to 'mlogloss'. Explicitly set eval_metric if you'd like to restore the old behavior.\n",
      "[14:27:19] WARNING: ../src/learner.cc:1115: Starting in XGBoost 1.3.0, the default evaluation metric used with the objective 'multi:softprob' was changed from 'merror' to 'mlogloss'. Explicitly set eval_metric if you'd like to restore the old behavior.\n",
      "[14:27:19] WARNING: ../src/learner.cc:1115: Starting in XGBoost 1.3.0, the default evaluation metric used with the objective 'multi:softprob' was changed from 'merror' to 'mlogloss'. Explicitly set eval_metric if you'd like to restore the old behavior.\n",
      "[14:27:20] WARNING: ../src/learner.cc:1115: Starting in XGBoost 1.3.0, the default evaluation metric used with the objective 'multi:softprob' was changed from 'merror' to 'mlogloss'. Explicitly set eval_metric if you'd like to restore the old behavior.\n",
      "[14:27:20] WARNING: ../src/learner.cc:1115: Starting in XGBoost 1.3.0, the default evaluation metric used with the objective 'multi:softprob' was changed from 'merror' to 'mlogloss'. Explicitly set eval_metric if you'd like to restore the old behavior.\n"
     ]
    }
   ],
   "source": [
    "rf_cross_val = cross_validate(estimator=RFmodel, X=x_test, y=y_test, cv=10)\n",
    "gbc_cross_val = cross_validate(estimator=GBCmodel, X=x_test, y=y_test, cv=10)\n",
    "xgb_cross_val = cross_validate(estimator=XGBmodel, X=x_test, y=y_test, cv=10)\n",
    "mlp_cross_val = cross_validate(estimator=mlp_class, X=x_test, y=y_test, cv=10)"
   ]
  },
  {
   "cell_type": "markdown",
   "id": "2f999554",
   "metadata": {
    "papermill": {
     "duration": 0.080075,
     "end_time": "2022-03-31T14:27:22.557285",
     "exception": false,
     "start_time": "2022-03-31T14:27:22.477210",
     "status": "completed"
    },
    "tags": []
   },
   "source": [
    "# Show table of models, accuracies, and runtimes"
   ]
  },
  {
   "cell_type": "code",
   "execution_count": 36,
   "id": "b8fd4e83",
   "metadata": {
    "execution": {
     "iopub.execute_input": "2022-03-31T14:27:22.722999Z",
     "iopub.status.busy": "2022-03-31T14:27:22.722450Z",
     "iopub.status.idle": "2022-03-31T14:27:22.734972Z",
     "shell.execute_reply": "2022-03-31T14:27:22.734584Z",
     "shell.execute_reply.started": "2022-03-31T14:21:04.949591Z"
    },
    "papermill": {
     "duration": 0.096604,
     "end_time": "2022-03-31T14:27:22.735080",
     "exception": false,
     "start_time": "2022-03-31T14:27:22.638476",
     "status": "completed"
    },
    "tags": []
   },
   "outputs": [
    {
     "data": {
      "text/html": [
       "<div>\n",
       "<style scoped>\n",
       "    .dataframe tbody tr th:only-of-type {\n",
       "        vertical-align: middle;\n",
       "    }\n",
       "\n",
       "    .dataframe tbody tr th {\n",
       "        vertical-align: top;\n",
       "    }\n",
       "\n",
       "    .dataframe thead th {\n",
       "        text-align: right;\n",
       "    }\n",
       "</style>\n",
       "<table border=\"1\" class=\"dataframe\">\n",
       "  <thead>\n",
       "    <tr style=\"text-align: right;\">\n",
       "      <th></th>\n",
       "      <th>Model</th>\n",
       "      <th>Accuracies %</th>\n",
       "      <th>Run Time (ms)</th>\n",
       "    </tr>\n",
       "  </thead>\n",
       "  <tbody>\n",
       "    <tr>\n",
       "      <th>0</th>\n",
       "      <td>Random Forest Classifier</td>\n",
       "      <td>86.13</td>\n",
       "      <td>147.86</td>\n",
       "    </tr>\n",
       "    <tr>\n",
       "      <th>1</th>\n",
       "      <td>Gradient Boost Classifier</td>\n",
       "      <td>84.63</td>\n",
       "      <td>704.32</td>\n",
       "    </tr>\n",
       "    <tr>\n",
       "      <th>2</th>\n",
       "      <td>XGBoost Classifier</td>\n",
       "      <td>85.63</td>\n",
       "      <td>456.07</td>\n",
       "    </tr>\n",
       "    <tr>\n",
       "      <th>3</th>\n",
       "      <td>MLP Classifier</td>\n",
       "      <td>84.11</td>\n",
       "      <td>433.87</td>\n",
       "    </tr>\n",
       "  </tbody>\n",
       "</table>\n",
       "</div>"
      ],
      "text/plain": [
       "                       Model  Accuracies %  Run Time (ms)\n",
       "0   Random Forest Classifier         86.13         147.86\n",
       "1  Gradient Boost Classifier         84.63         704.32\n",
       "2         XGBoost Classifier         85.63         456.07\n",
       "3             MLP Classifier         84.11         433.87"
      ]
     },
     "execution_count": 36,
     "metadata": {},
     "output_type": "execute_result"
    }
   ],
   "source": [
    "\n",
    "acc_runtime_table = pd.DataFrame({\n",
    "    \n",
    "    \"Model\" : [\"Random Forest Classifier\", \"Gradient Boost Classifier\", \"XGBoost Classifier\", \"MLP Classifier\"],\n",
    "    \"Accuracies %\" : [round(rf_cross_val[\"test_score\"].mean() * 100, 2), round(gbc_cross_val[\"test_score\"].mean() * 100, 2), round(xgb_cross_val[\"test_score\"].mean() * 100, 2), round(mlp_cross_val[\"test_score\"].mean() * 100, 2)],\n",
    "    \"Run Time (ms)\" : [round((rf_stop - rf_start) * 1000, 2), round((gbc_stop - gbc_start) * 1000, 2), round((xgb_stop - xgb_start) * 1000, 2), round((mlp_stop - mlp_start) * 1000, 2)]\n",
    "})\n",
    "\n",
    "acc_runtime_table"
   ]
  },
  {
   "cell_type": "markdown",
   "id": "fb4dfeee",
   "metadata": {
    "papermill": {
     "duration": 0.079743,
     "end_time": "2022-03-31T14:27:22.893548",
     "exception": false,
     "start_time": "2022-03-31T14:27:22.813805",
     "status": "completed"
    },
    "tags": []
   },
   "source": [
    "# Precision and Recall"
   ]
  },
  {
   "cell_type": "code",
   "execution_count": 37,
   "id": "029afd93",
   "metadata": {
    "execution": {
     "iopub.execute_input": "2022-03-31T14:27:23.057478Z",
     "iopub.status.busy": "2022-03-31T14:27:23.056926Z",
     "iopub.status.idle": "2022-03-31T14:27:23.227048Z",
     "shell.execute_reply": "2022-03-31T14:27:23.227535Z",
     "shell.execute_reply.started": "2022-03-31T14:24:13.635974Z"
    },
    "papermill": {
     "duration": 0.25438,
     "end_time": "2022-03-31T14:27:23.227710",
     "exception": false,
     "start_time": "2022-03-31T14:27:22.973330",
     "status": "completed"
    },
    "tags": []
   },
   "outputs": [
    {
     "data": {
      "image/png": "[encoded data removed]",
      "text/plain": [
       "<Figure size 1008x432 with 1 Axes>"
      ]
     },
     "metadata": {
      "needs_background": "light"
     },
     "output_type": "display_data"
    },
    {
     "name": "stdout",
     "output_type": "stream",
     "text": [
      "Preicison  85.98730158730159\n",
      "Recall  84.95845914313766\n",
      "\n",
      "Preicison  87.43615132160024\n",
      "Recall  86.60004601044274\n",
      "\n",
      "Preicison  88.5729009552539\n",
      "Recall  87.50960673395693\n",
      "\n",
      "Preicison  84.12915375940585\n",
      "Recall  83.80830488491227\n",
      "\n"
     ]
    }
   ],
   "source": [
    "from sklearn.metrics import precision_score\n",
    "from sklearn.metrics import recall_score\n",
    "\n",
    "RF_precision =  precision_score(y_test, synth_rf_preds, average='macro') * 100\n",
    "GBC_precision =  precision_score(y_test, synth_gbc_preds, average='macro') * 100\n",
    "XGB_precision =  precision_score(y_test, synth_xgb_preds, average='macro') * 100\n",
    "MLP_precision =  precision_score(y_test, synth_mlp_preds, average='macro') * 100\n",
    "\n",
    "RF_recall =  recall_score(y_test, synth_rf_preds, average='macro') * 100\n",
    "GBC_recall =  recall_score(y_test, synth_gbc_preds, average='macro') * 100\n",
    "XGB_recall =  recall_score(y_test, synth_xgb_preds, average='macro') * 100\n",
    "MLP_recall =  recall_score(y_test, synth_mlp_preds, average='macro') * 100\n",
    "\n",
    "names = [\"Random Forest Classifier\", \"Gradient Boosting Classifier\", \"XGBoost Classifier\", \"MLP Classifier\"]\n",
    "precision = [RF_precision, GBC_precision, XGB_precision, MLP_precision]\n",
    "recall = [RF_recall, GBC_recall, XGB_recall, MLP_recall]\n",
    "\n",
    "plt.figure(figsize=[14, 6])\n",
    "x_axis = np.arange(len(names))\n",
    "plt.bar(x_axis - 0.2, precision, 0.4, label = 'Precision')\n",
    "plt.bar(x_axis + 0.2, recall, 0.4, label = 'Recall')\n",
    "plt.xticks(x_axis, names)\n",
    "plt.xlabel('Models')\n",
    "plt.ylabel('Score')\n",
    "plt.title('Precision and Recall Scores')\n",
    "plt.legend()\n",
    "plt.show()\n",
    "\n",
    "for p, r in zip(precision, recall):\n",
    "    print('Preicison ', p)\n",
    "    print(\"Recall \", r)\n",
    "    print()"
   ]
  },
  {
   "cell_type": "markdown",
   "id": "f645c860",
   "metadata": {
    "papermill": {
     "duration": 0.121365,
     "end_time": "2022-03-31T14:27:23.430781",
     "exception": false,
     "start_time": "2022-03-31T14:27:23.309416",
     "status": "completed"
    },
    "tags": []
   },
   "source": [
    "# RandomForest was fastest and scored high each time. MLP scored inconsistently. "
   ]
  },
  {
   "cell_type": "markdown",
   "id": "5010d578",
   "metadata": {
    "papermill": {
     "duration": 0.121093,
     "end_time": "2022-03-31T14:27:23.673538",
     "exception": false,
     "start_time": "2022-03-31T14:27:23.552445",
     "status": "completed"
    },
    "tags": []
   },
   "source": [
    "# Hyperparameter Tuning"
   ]
  },
  {
   "cell_type": "code",
   "execution_count": null,
   "id": "d8347627",
   "metadata": {
    "papermill": {
     "duration": 0.123752,
     "end_time": "2022-03-31T14:27:23.918987",
     "exception": false,
     "start_time": "2022-03-31T14:27:23.795235",
     "status": "completed"
    },
    "tags": []
   },
   "outputs": [],
   "source": []
  },
  {
   "cell_type": "code",
   "execution_count": null,
   "id": "dea02883",
   "metadata": {
    "papermill": {
     "duration": 0.123922,
     "end_time": "2022-03-31T14:27:24.167409",
     "exception": false,
     "start_time": "2022-03-31T14:27:24.043487",
     "status": "completed"
    },
    "tags": []
   },
   "outputs": [],
   "source": []
  },
  {
   "cell_type": "code",
   "execution_count": null,
   "id": "6f8238de",
   "metadata": {
    "papermill": {
     "duration": 0.122588,
     "end_time": "2022-03-31T14:27:24.413942",
     "exception": false,
     "start_time": "2022-03-31T14:27:24.291354",
     "status": "completed"
    },
    "tags": []
   },
   "outputs": [],
   "source": []
  },
  {
   "cell_type": "code",
   "execution_count": null,
   "id": "13e3e8f4",
   "metadata": {
    "papermill": {
     "duration": 0.122038,
     "end_time": "2022-03-31T14:27:24.658393",
     "exception": false,
     "start_time": "2022-03-31T14:27:24.536355",
     "status": "completed"
    },
    "tags": []
   },
   "outputs": [],
   "source": []
  },
  {
   "cell_type": "markdown",
   "id": "4f104ab9",
   "metadata": {
    "papermill": {
     "duration": 0.121349,
     "end_time": "2022-03-31T14:27:24.902760",
     "exception": false,
     "start_time": "2022-03-31T14:27:24.781411",
     "status": "completed"
    },
    "tags": []
   },
   "source": [
    "# Figure out best model and do confusion matrix"
   ]
  },
  {
   "cell_type": "code",
   "execution_count": null,
   "id": "7ff1905a",
   "metadata": {
    "papermill": {
     "duration": 0.122963,
     "end_time": "2022-03-31T14:27:25.148625",
     "exception": false,
     "start_time": "2022-03-31T14:27:25.025662",
     "status": "completed"
    },
    "tags": []
   },
   "outputs": [],
   "source": []
  },
  {
   "cell_type": "markdown",
   "id": "aeb38fe8",
   "metadata": {
    "papermill": {
     "duration": 0.12234,
     "end_time": "2022-03-31T14:27:25.393625",
     "exception": false,
     "start_time": "2022-03-31T14:27:25.271285",
     "status": "completed"
    },
    "tags": []
   },
   "source": [
    "# Feature importance to see what sleep features matter"
   ]
  },
  {
   "cell_type": "code",
   "execution_count": null,
   "id": "2c1c0bbf",
   "metadata": {
    "papermill": {
     "duration": 0.122376,
     "end_time": "2022-03-31T14:27:25.639022",
     "exception": false,
     "start_time": "2022-03-31T14:27:25.516646",
     "status": "completed"
    },
    "tags": []
   },
   "outputs": [],
   "source": []
  }
 ],
 "metadata": {
  "kernelspec": {
   "display_name": "Python 3",
   "language": "python",
   "name": "python3"
  },
  "language_info": {
   "codemirror_mode": {
    "name": "ipython",
    "version": 3
   },
   "file_extension": ".py",
   "mimetype": "text/x-python",
   "name": "python",
   "nbconvert_exporter": "python",
   "pygments_lexer": "ipython3",
   "version": "3.7.12"
  },
  "papermill": {
   "default_parameters": {},
   "duration": 96.228766,
   "end_time": "2022-03-31T14:27:26.571609",
   "environment_variables": {},
   "exception": null,
   "input_path": "__notebook__.ipynb",
   "output_path": "__notebook__.ipynb",
   "parameters": {},
   "start_time": "2022-03-31T14:25:50.342843",
   "version": "2.3.3"
  }
 },
 "nbformat": 4,
 "nbformat_minor": 5
}
